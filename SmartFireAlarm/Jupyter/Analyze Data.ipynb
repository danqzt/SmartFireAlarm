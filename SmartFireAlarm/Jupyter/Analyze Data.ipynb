{
 "cells": [
  {
   "cell_type": "markdown",
   "metadata": {},
   "source": [
    "# ANALYZE DATA\r\n",
    "(numerical and categorical distribution, box plot segmentation and correlation matrix)"
   ]
  },
  {
   "cell_type": "code",
   "execution_count": 1,
   "metadata": {},
   "source": [
    "#r \"nuget:Microsoft.ML,1.5.2\"\r\n",
    "using XPlot.Plotly;\r\n",
    "using System.Linq;\r\n",
    "using Microsoft.ML;\r\n",
    "using Microsoft.ML.Data;"
   ],
   "outputs": []
  },
  {
   "cell_type": "markdown",
   "metadata": {},
   "source": [
    "### Load data models from Models.csx file "
   ]
  },
  {
   "cell_type": "code",
   "execution_count": 1,
   "metadata": {},
   "source": [
    "#load \"C:\\Users\\dcost\\source\\repos\\SmartFireAlarm\\SmartFireAlarm\\Jupyter\\Models.csx\""
   ],
   "outputs": []
  },
  {
   "cell_type": "markdown",
   "metadata": {},
   "source": [
    "### Initialize the ML context (we need it for building the data and training pipelines)  "
   ]
  },
  {
   "cell_type": "code",
   "execution_count": 1,
   "metadata": {},
   "source": [
    "MLContext mlContext = new MLContext(seed: 123);"
   ],
   "outputs": []
  },
  {
   "cell_type": "markdown",
   "metadata": {},
   "source": [
    "### Load data from csv file into a dataview"
   ]
  },
  {
   "cell_type": "code",
   "execution_count": 1,
   "metadata": {},
   "source": [
    "const string DATASET_PATH = \"./sensors_data.csv\";\r\n",
    "IDataView data = mlContext.Data.LoadFromTextFile<ModelInput>(\r\n",
    "    path: DATASET_PATH,\r\n",
    "    hasHeader: true,\r\n",
    "    separatorChar: ',');"
   ],
   "outputs": []
  },
  {
   "cell_type": "markdown",
   "metadata": {},
   "source": [
    "### Shuffle and split data to _trainingData_ and _testingData_ by a fraction of 0.2"
   ]
  },
  {
   "cell_type": "code",
   "execution_count": 1,
   "metadata": {},
   "source": [
    "var shuffledData = mlContext.Data.ShuffleRows(data, seed: 0);\r\n",
    "var split = mlContext.Data.TrainTestSplit(shuffledData, testFraction: 0.2);\r\n",
    "var trainingData = split.TrainSet;\r\n",
    "var testingData = split.TestSet;"
   ],
   "outputs": []
  },
  {
   "cell_type": "markdown",
   "metadata": {},
   "source": [
    "### Extract features"
   ]
  },
  {
   "cell_type": "code",
   "execution_count": 1,
   "metadata": {},
   "source": [
    "var features = mlContext.Data.CreateEnumerable<ModelInput>(trainingData, true);\r\n",
    "var sources = features.Select(f => f.Source);\r\n",
    "var temperatures = features.Select(f => f.Temperature);\r\n",
    "var luminosities = features.Select(f => f.Luminosity);\r\n",
    "var infrareds = features.Select(f => f.Infrared);\r\n",
    "var distances = features.Select(f => f.Distance);\r\n",
    "var hours = features.Select(f => DateTime.Parse(f.CreatedAt).Hour);\r\n",
    "var days = features.Select(f => DateTime.Parse(f.CreatedAt).DayOfYear);"
   ],
   "outputs": []
  },
  {
   "cell_type": "markdown",
   "metadata": {},
   "source": [
    "## 1. Numerical Distribution"
   ]
  },
  {
   "cell_type": "code",
   "execution_count": 1,
   "metadata": {},
   "source": [
    "var histogramsDiagram = Chart.Plot(new[] {\r\n",
    "    new Graph.Histogram { x = temperatures, name = \"Temperature\" },\r\n",
    "    new Graph.Histogram { x = luminosities, name = \"Luminosity\" },\r\n",
    "    new Graph.Histogram { x = infrareds, name = \"Infrared\" },\r\n",
    "    new Graph.Histogram { x = distances, name = \"Distance\" },\r\n",
    "    new Graph.Histogram { x = hours, name = \"Hour\" },\r\n",
    "    new Graph.Histogram { x = days, name = \"Day\" }\r\n",
    "});\r\n",
    "\r\n",
    "var layout = new Layout.Layout()\r\n",
    "{\r\n",
    "    title = \"Numerical distribution\"\r\n",
    "};\r\n",
    "histogramsDiagram.WithLayout(layout);\r\n",
    "\r\n",
    "display(histogramsDiagram);"
   ],
   "outputs": [
    {
     "output_type": "execute_result",
     "data": {
      "text/html": "<div id=\"06d55487-13b9-45ca-bd3d-5bfed9e0f235\" style=\"width: 900px; height: 500px;\"></div>\r\n<script type=\"text/javascript\">\r\n\r\nvar renderPlotly = function() {\r\n    var xplotRequire = require.config({context:'xplot-3.0.1',paths:{plotly:'https://cdn.plot.ly/plotly-1.49.2.min'}}) || require;\r\n    xplotRequire(['plotly'], function(Plotly) {\r\n\n            var data = [{\"type\":\"histogram\",\"x\":[23.96,47.32,25.09,56.03,32.18,23.28,53.12,27.34,24.77,32.18,32.18,25.09,26.38,32.18,32.18,94.05,37.01,32.5,24.77,30.24,37.98,25.41,32.18,25.09,25.09,48.94,24.14,24.44,31.21,28.63,37.33,23.63,27.34,25.09,32.5,31.86,24.63,27.34,32.18,27.34,25.09,32.18,32.18,31.21,32.18,31.86,24.77,50.87,24.77,27.34,23.48,27.67,32.18,36.69,26.38,115.0,32.18,32.18,31.21,30.24,23.28,119.51,24.44,56.03,32.5,24.44,24.77,32.18,25.09,32.18,27.34,32.5,23.8,32.5,24.44,32.5,25.09,32.18,31.21,24.12,32.5,31.86,32.18,36.37,36.37,32.18,27.67,25.09,25.09,53.77,99.53,23.63,25.89,64.05,32.5,31.86,32.5,32.18,23.8,109.52,25.09,35.08,24.44,153.35,32.18,27.34,33.47,102.43,23.28,24.14,24.63,32.5,25.63,23.96,27.34,23.48,27.34,32.5,90.83,27.67,32.18,32.5,32.18,23.8,90.83,96.63,24.77,32.18,30.89,27.67,24.82,64.05,24.77,32.18,25.09,64.05,24.44,32.5,32.18,32.5,25.09,29.92,95.02,25.09,100.82,32.18,32.18,34.11,43.13,27.99,32.5,31.21,36.37,30.24,41.2,25.63,25.09,31.21,23.63,89.22,23.48,31.53,27.34,31.86,99.53,32.5,32.5,32.5,32.18,45.07,23.28,24.86,32.5,24.77,29.92,32.18,109.2,23.63,30.24,32.18,27.67,23.28,27.67,24.77,23.63,32.5,32.5,86.96,30.24,47.97,24.44,30.24,34.43,32.18,25.09,32.18,32.18,25.09,27.34,24.44,30.24,36.37,27.34,32.18,25.09,30.24,25.41,31.86,25.09,60.21,24.44,32.18,33.79,32.18,29.92,36.37,32.18,95.34,30.89,32.18,27.34,47.97,25.09,73.43,24.44,29.92,27.34,24.44,32.18,24.77,36.04,25.09,25.09,32.18,32.18,27.34,32.18,24.77,32.5,24.44,32.18,32.18,30.24,24.38,37.01,32.18,31.86,31.21,32.5,28.96,32.18,34.76,32.18,31.21,32.5,25.09,27.34,32.18,31.21,32.18,32.18,24.63,32.5,23.48,35.08,32.18,24.77,24.44,32.5,27.34,32.18,31.21,88.9,35.72,25.09,64.28,24.77,24.44,32.18,30.24,31.86,23.48,25.09,23.48,30.24,30.24,24.44,31.21,27.34,32.18,25.09,32.5,36.69,29.92,32.5,32.5,32.18,24.12,24.44,81.81,30.24,27.34,24.12,31.21,32.18,25.09,32.18,23.63,32.18,32.5,34.11,32.5,32.5,32.18,32.18,32.18,32.5,23.96,107.59,32.5,27.34,24.44,24.44,64.96,30.24,32.18,33.14,25.09,32.5,25.09,32.18,32.18,32.18,30.24,26.7,31.86,23.28,32.18,32.18,31.21,24.14,24.63,32.5,32.18,34.43,25.09,32.18,32.18,31.21,32.5,32.18,34.11,32.18,23.28,31.86,23.63,31.21,36.37,32.18,109.52,25.09,27.67,23.28,32.18,32.18,25.41,24.44,32.18,32.18,108.55,96.31,24.44,36.37,27.67,30.24,26.38,32.18,25.41,27.34,34.11,32.18,67.63,32.5,25.09,32.5,32.18,32.18,26.38,65.05,23.8,47.32,27.67,24.77,24.77,31.86,32.5,32.5,32.5,30.24,82.77,32.18,25.09,31.21,32.5,32.18,31.53,23.96,25.09,30.24,49.26,24.44,24.77,32.18,31.21,32.18,32.5,30.89,32.18,24.44,32.18,24.44,25.09,35.08,32.5,24.77,33.14,30.24,32.18,32.18,34.11,31.86,23.48,25.41,34.43,32.18,31.53,24.77,25.09,32.18,32.18,30.24,32.18,23.96,30.24,25.09,25.09,32.18,24.44,70.85,24.28,74.07,64.38,91.15,25.41,24.44,23.28,26.38,92.12,32.5,52.16,24.12,24.38,24.44,24.31,24.63,36.04,76.65,24.31,24.44,32.18,24.14,32.18,32.5,25.09,32.18,34.76,25.41,46.68,25.09,32.18,35.72,25.09,24.63,110.49,25.09,24.63,25.09,24.12,25.09,32.5,30.24,32.18,25.57,23.48,74.72,25.09,76.65,24.12,27.99,32.18,30.57,32.18,24.63,32.5,32.18,31.21,24.31,30.24,32.18,25.89,31.86,32.18,32.18,32.5,73.11,32.5,25.09,24.77,30.24,33.47,24.77,32.18,32.18,32.18,30.24,30.24,25.09,24.77,23.63,32.5,25.41,32.5,32.5,32.18,32.18,56.99,31.86,24.12,30.24,32.18,24.77,32.18,23.28,30.24,30.24,23.48,32.5,32.18,25.21,32.18,94.05,27.34,32.5,81.48,50.87,32.18,23.63,30.24,32.5,98.24,31.86,25.09,24.77,89.54,32.18,24.14,24.77,23.96,30.24,23.28,44.75,32.5,26.38,32.18,24.77,32.5,32.18,27.34,88.9,25.09,32.5,24.77,98.24,32.18,63.12,23.48,32.18,55.7,25.09,32.18,24.44,32.82,32.18,23.48,27.34,24.92,24.44,24.77,65.37,32.5,32.18,31.21,30.24,52.8,25.09,97.28,31.53,32.5,27.34,32.18,36.69,27.34,32.18,30.24,25.14,32.5,32.5,24.77,32.18,32.18,30.24,27.67,25.41,132.4,24.77,27.34,24.28,31.86,84.71,32.18,30.24,25.09,25.41,32.18,75.68,29.92],\"name\":\"Temperature\"},{\"type\":\"histogram\",\"x\":[4.1,100.0,12.11,100.0,11.72,45.51,100.0,70.31,18.55,5.86,27.05,35.16,21.09,5.08,64.16,100.0,100.0,100.0,60.94,28.52,100.0,35.06,5.37,11.91,11.91,100.0,100.0,26.56,32.42,74.9,100.0,4.1,70.02,12.6,52.83,56.35,4.0,71.48,100.0,74.32,11.91,4.49,52.05,77.83,78.81,50.39,63.96,100.0,11.91,73.73,83.59,76.17,27.25,100.0,21.0,100.0,4.39,6.25,48.83,64.16,39.94,100.0,26.46,100.0,28.32,95.61,12.5,69.53,11.82,39.55,73.63,100.0,88.67,83.01,25.49,85.16,12.5,42.58,63.77,84.77,56.74,60.16,6.64,100.0,100.0,4.39,73.05,11.04,12.01,100.0,100.0,4.1,34.18,97.46,79.79,66.8,25.0,22.85,65.62,100.0,35.45,100.0,84.77,100.0,5.86,71.97,100.0,100.0,30.47,40.82,4.2,73.14,4.1,7.71,73.54,95.31,73.54,85.84,100.0,73.24,35.35,61.33,6.25,61.91,100.0,100.0,11.82,71.48,73.44,71.78,6.54,82.32,86.23,4.79,12.3,66.8,25.98,72.07,31.74,16.11,12.6,30.18,100.0,35.94,100.0,4.59,17.19,100.0,100.0,74.51,28.52,69.14,100.0,29.1,100.0,4.2,11.82,70.7,4.1,100.0,90.33,71.09,74.61,68.75,100.0,36.82,74.41,54.39,5.66,100.0,60.25,7.03,100.0,26.46,30.08,41.6,100.0,4.2,26.56,30.08,73.24,26.46,73.63,25.59,5.47,91.31,36.82,100.0,33.89,100.0,100.0,27.05,100.0,6.15,12.11,4.49,8.59,12.11,73.63,25.98,29.3,100.0,75.29,24.9,11.13,21.97,11.82,100.0,12.11,100.0,25.88,19.73,100.0,6.25,20.61,100.0,54.39,100.0,26.76,4.98,72.95,100.0,12.3,100.0,26.46,33.01,70.31,25.78,6.64,12.6,100.0,34.86,12.11,7.32,4.98,74.61,6.25,69.14,52.44,26.56,4.98,4.88,31.64,19.73,100.0,14.55,42.68,87.5,73.93,6.54,4.49,9.47,97.56,34.67,59.57,35.16,71.97,57.81,74.9,4.88,6.25,4.1,60.55,84.67,100.0,38.67,36.62,25.98,100.0,74.32,6.05,59.08,100.0,100.0,12.4,100.0,83.3,67.58,55.86,11.72,60.06,87.6,12.11,83.69,26.17,11.13,25.68,5.47,72.27,5.96,12.4,57.03,100.0,25.39,12.6,100.0,6.15,69.14,25.49,100.0,44.53,71.48,54.79,58.69,18.16,12.21,4.98,4.1,100.0,4.59,100.0,72.66,83.69,68.46,5.18,4.49,86.33,10.64,100.0,22.75,72.95,24.41,63.18,100.0,23.83,12.5,100.0,11.91,85.84,34.86,6.64,5.96,18.46,27.34,19.14,100.0,69.04,6.35,4.69,37.99,50.29,4.1,52.83,7.03,100.0,12.99,6.64,73.54,42.58,50.88,6.93,82.81,5.18,61.62,65.82,4.3,56.64,100.0,6.54,100.0,35.84,75.0,100.0,4.2,15.04,11.33,25.49,55.37,48.24,100.0,100.0,25.78,100.0,76.17,35.94,22.75,4.69,36.52,69.82,100.0,6.64,100.0,79.69,35.74,100.0,42.97,5.76,18.36,100.0,66.41,100.0,73.05,26.46,13.96,68.46,95.31,37.89,4.59,41.89,100.0,4.88,12.4,60.16,88.38,6.54,68.07,9.08,12.3,31.35,100.0,26.46,36.62,33.11,72.27,5.27,42.29,52.44,50.0,82.32,29.79,12.6,12.01,100.0,50.78,64.06,100.0,30.96,6.64,24.61,100.0,4.69,93.16,36.52,100.0,6.84,86.72,12.21,12.11,54.3,35.64,41.31,5.08,8.98,10.25,12.21,11.33,6.05,12.4,100.0,100.0,100.0,100.0,100.0,9.28,83.5,66.5,18.07,100.0,98.14,100.0,25.88,18.26,25.88,18.75,5.37,100.0,100.0,3.91,25.98,65.72,42.87,33.59,5.96,12.3,5.76,100.0,11.91,100.0,12.11,100.0,100.0,12.3,4.1,100.0,35.94,4.1,35.84,81.54,13.18,91.41,20.51,50.29,100.0,87.6,100.0,13.09,100.0,24.9,74.51,5.27,25.78,7.62,4.1,72.75,78.91,33.89,37.99,46.29,30.96,24.51,27.93,48.54,46.19,69.24,100.0,72.07,12.21,14.06,24.32,100.0,18.55,4.39,6.74,72.66,44.53,18.65,12.11,94.43,4.3,63.96,11.43,100.0,64.94,4.2,100.0,100.0,9.57,77.05,33.59,4.69,88.38,95.02,57.32,31.64,29.2,84.77,31.54,4.98,33.69,6.64,100.0,72.27,48.83,100.0,100.0,4.39,4.1,55.57,56.93,100.0,29.39,12.11,64.06,100.0,5.18,62.4,81.35,59.18,32.71,86.91,88.77,34.47,21.97,4.3,89.26,60.64,11.04,73.34,100.0,11.91,54.88,82.13,100.0,61.13,100.0,84.18,5.57,100.0,12.6,32.23,25.39,100.0,58.2,79.0,75.78,45.7,26.46,12.3,100.0,54.69,4.1,55.08,32.81,100.0,35.74,100.0,59.86,82.81,70.7,7.13,100.0,71.88,4.79,11.52,48.05,76.76,54.79,12.5,6.05,5.37,26.27,73.63,35.06,100.0,25.59,75.29,6.54,53.61,100.0,6.45,34.77,35.45,36.52,32.23,100.0,14.36],\"name\":\"Luminosity\"},{\"type\":\"histogram\",\"x\":[0.0,94.34,0.0,92.29,15.43,0.0,93.95,0.0,0.0,0.0,93.55,95.31,94.34,0.0,0.0,49.71,92.87,0.0,0.0,25.68,94.53,95.12,0.0,0.0,0.0,93.26,0.0,0.0,0.0,0.0,95.41,0.0,0.0,0.0,0.0,0.0,0.0,0.0,0.0,0.0,0.0,0.0,0.0,0.0,0.0,0.0,0.0,95.12,0.0,0.0,0.0,0.0,94.04,95.41,51.56,43.85,0.0,0.0,0.0,85.45,0.0,95.8,0.0,95.31,0.0,0.0,0.0,0.0,0.0,0.0,0.0,0.0,0.0,0.0,0.0,0.0,0.0,0.0,0.0,0.0,0.0,0.0,0.0,0.0,95.21,0.0,0.0,0.0,0.0,95.21,42.97,0.0,95.51,96.0,0.0,0.0,33.89,93.65,0.0,49.22,94.92,94.04,0.0,94.82,0.0,0.0,95.41,93.65,0.0,0.0,0.0,0.0,0.0,0.0,0.0,0.0,0.0,0.0,92.48,0.0,30.86,0.0,0.0,0.0,93.65,45.9,0.0,0.0,0.0,0.0,0.0,95.21,0.0,0.0,0.0,86.72,0.0,0.0,43.75,30.86,0.0,26.07,42.38,94.92,95.61,0.0,28.71,92.38,92.97,0.0,43.85,0.0,94.92,39.06,0.0,0.0,0.0,0.0,0.0,93.07,0.0,0.0,0.0,0.0,42.97,0.0,0.0,0.0,0.0,95.41,0.0,0.0,93.36,0.0,31.93,0.0,4.92,0.0,23.24,49.22,0.0,0.0,0.0,0.0,0.0,0.0,0.0,39.26,23.24,93.26,0.0,33.2,0.0,0.0,0.0,0.0,2.44,0.0,0.0,0.0,60.55,95.12,0.0,37.5,0.0,91.8,0.0,0.0,0.0,95.21,0.0,0.0,93.55,0.0,32.32,94.92,0.0,94.73,94.14,0.0,0.0,94.43,0.0,95.31,0.0,34.28,0.0,0.0,0.0,0.0,92.77,94.92,0.0,0.0,0.0,0.0,0.0,0.0,0.0,0.0,0.0,0.0,0.1,95.21,94.53,0.0,0.0,0.0,0.0,0.0,0.0,0.0,0.0,0.0,0.0,95.31,0.0,0.0,0.0,0.0,0.0,0.0,0.0,0.0,93.55,20.61,95.41,0.0,0.0,0.0,0.0,0.0,95.41,95.31,0.0,96.78,0.0,0.0,0.0,15.53,0.0,0.0,0.0,0.0,46.29,49.02,0.0,0.0,0.0,0.0,0.0,0.0,92.58,31.64,76.46,95.21,0.0,0.0,0.0,93.65,27.73,0.0,0.0,0.0,0.0,0.0,0.0,0.0,94.53,0.0,0.0,0.0,0.0,0.0,0.0,0.0,0.0,0.0,3.46,89.94,0.0,0.0,0.0,95.7,27.44,18.75,95.21,0.0,0.0,94.92,0.0,0.0,93.55,35.84,93.36,0.0,0.0,0.0,0.0,0.0,0.0,0.0,21.78,0.0,0.0,0.0,0.0,0.0,0.0,57.81,0.0,0.0,0.0,0.0,0.0,0.0,0.0,93.55,0.0,49.22,95.41,0.0,0.0,0.0,68.55,0.0,0.0,0.0,0.0,93.16,91.41,0.0,93.16,0.0,11.72,93.55,0.0,95.41,0.0,0.0,0.0,0.0,0.0,95.02,0.0,0.0,0.0,11.72,92.97,0.0,95.31,0.0,0.0,0.0,0.0,0.0,71.09,0.0,12.5,94.14,0.0,0.0,0.0,0.0,0.0,0.0,0.0,0.0,32.32,95.02,0.0,95.41,0.0,0.0,0.0,0.0,0.0,0.0,0.0,49.61,0.0,0.0,91.5,0.0,0.0,0.0,38.18,0.0,28.81,94.43,0.0,0.0,95.41,93.95,0.0,0.0,0.0,0.0,0.0,26.95,13.87,0.0,0.0,49.12,0.0,0.0,0.0,0.0,95.31,95.9,94.34,96.48,95.51,0.0,0.0,0.0,25.0,94.43,0.0,94.53,0.0,94.04,0.0,0.0,0.0,67.09,95.31,0.0,0.0,0.0,0.0,0.0,0.0,0.0,0.0,94.04,0.0,0.0,0.0,0.0,91.7,0.0,0.0,5.02,94.92,0.0,95.41,0.0,0.0,0.0,31.84,0.0,96.48,0.0,95.02,0.0,93.36,0.0,0.0,0.0,29.3,0.0,0.0,0.0,0.0,0.0,0.0,25.68,48.63,93.75,0.0,26.37,0.0,0.0,93.46,0.0,0.0,0.0,30.57,92.58,0.0,0.0,0.0,0.0,10.74,36.72,0.0,0.0,0.0,0.0,0.0,0.0,0.0,0.0,0.0,0.0,0.0,0.0,36.82,0.0,0.0,0.0,0.0,42.19,21.88,0.0,81.64,0.0,94.63,0.0,49.71,0.0,0.0,93.46,95.31,0.0,0.0,50.68,0.0,94.34,0.0,0.0,0.0,95.31,0.0,0.0,0.0,0.0,12.11,0.0,94.92,92.38,72.27,0.0,0.0,0.0,0.0,0.0,42.38,0.0,0.0,0.0,50.68,0.0,95.51,0.0,0.0,94.82,0.0,46.09,0.0,95.02,0.0,0.0,0.0,0.0,0.0,0.0,93.16,0.0,0.0,0.0,22.56,0.0,95.12,93.26,0.0,0.0,0.0,0.0,95.21,0.0,0.0,1.95,0.0,0.0,0.0,0.0,0.0,0.0,32.42,0.0,95.12,41.31,0.0,0.0,0.0,0.0,95.51,0.0,0.0,94.92,95.21,30.86,94.63,43.16],\"name\":\"Infrared\"},{\"type\":\"histogram\",\"x\":[154.09,41.55,400.0,400.0,60.87,12.08,400.0,194.26,400.0,400.0,60.14,194.23,152.74,78.02,64.48,193.64,400.0,400.0,78.83,57.68,400.0,193.43,400.0,400.0,77.33,7.56,7.13,193.75,23.01,193.44,6.76,154.09,193.76,400.0,400.0,61.91,154.5,193.37,57.64,194.3,83.96,75.33,50.82,58.82,19.25,26.73,242.96,400.0,400.0,125.81,394.32,194.3,400.0,400.0,400.0,195.19,63.57,400.0,60.7,60.02,155.79,345.43,193.75,400.0,30.7,69.64,60.24,61.2,77.05,56.85,129.92,66.92,325.6,24.47,194.64,66.31,400.0,58.1,400.0,67.14,35.34,28.38,89.87,400.0,400.0,400.0,193.34,400.0,71.82,400.0,237.28,156.16,400.0,155.75,64.22,400.0,56.2,61.23,13.86,194.44,193.33,400.0,66.15,400.0,400.0,170.5,400.0,4.19,154.91,8.79,154.91,64.25,153.6,155.39,193.84,73.24,193.84,62.4,42.0,193.4,400.0,22.83,400.0,400.0,152.82,193.11,400.0,13.73,24.32,194.28,400.0,400.0,66.11,89.66,86.1,5.12,194.64,66.73,400.0,61.79,76.37,400.0,194.23,193.4,45.92,72.21,60.36,7.16,72.25,182.04,52.37,400.0,46.4,400.0,59.4,154.49,400.0,400.0,155.38,400.0,11.61,400.0,146.28,27.28,237.28,400.0,57.95,59.16,75.56,400.0,10.11,400.0,400.0,194.58,60.96,61.0,4.28,155.3,60.46,400.0,193.4,155.8,193.39,195.03,155.35,64.26,23.36,193.34,61.67,46.13,10.78,400.0,400.0,400.0,400.0,400.0,60.75,400.0,129.92,194.66,400.0,59.09,193.44,400.0,77.03,60.46,14.01,400.0,73.87,43.15,193.79,400.0,43.89,400.0,59.7,42.18,400.0,7.9,400.0,75.65,195.93,48.57,400.0,400.0,193.73,17.91,194.26,193.69,61.62,91.63,7.91,193.4,92.82,29.68,19.46,146.28,400.0,322.63,50.44,193.75,73.51,400.0,400.0,21.85,400.0,400.0,61.78,61.45,66.92,18.78,74.86,70.31,19.49,400.0,21.35,194.23,170.5,61.76,20.44,24.53,76.22,400.0,63.72,95.86,400.0,59.0,194.16,194.64,56.06,194.3,74.18,61.92,400.0,400.0,400.0,155.74,64.68,366.69,400.0,400.0,61.42,318.49,400.0,63.88,57.48,61.88,194.61,60.47,194.25,70.74,400.0,400.0,70.73,60.43,53.76,400.0,74.23,350.8,194.64,60.81,58.95,193.37,321.3,22.4,107.1,96.35,28.04,154.06,7.96,400.0,400.0,400.0,58.3,28.33,76.24,400.0,400.0,154.98,4.28,56.2,195.93,193.72,366.22,153.66,59.15,59.74,400.0,83.75,400.0,193.4,76.97,70.36,400.0,60.11,154.04,20.1,10.39,400.0,400.0,400.0,8.52,155.35,400.0,400.0,61.46,97.13,400.0,70.2,19.6,52.51,23.32,53.59,33.7,10.37,400.0,154.9,400.0,7.52,82.61,194.44,194.55,194.69,6.39,71.72,59.97,14.38,193.73,63.61,22.17,400.0,9.47,194.62,46.56,194.3,62.67,154.04,75.87,194.03,194.2,400.0,75.12,49.92,65.26,193.76,400.0,400.0,78.88,400.0,400.0,290.37,5.85,193.34,194.58,89.89,60.77,400.0,400.0,400.0,57.2,6.25,400.0,400.0,60.46,400.0,78.08,59.49,154.89,400.0,60.4,56.17,193.73,194.16,400.0,400.0,400.0,47.8,24.33,43.43,400.0,61.57,89.11,90.06,400.0,400.0,301.72,55.43,57.5,73.76,61.26,44.79,75.16,73.86,194.03,400.0,400.0,400.0,400.0,82.12,52.13,400.0,400.0,68.01,154.51,57.06,90.17,93.64,78.93,400.0,153.62,152.3,400.0,154.99,346.16,93.85,68.91,11.26,5.06,154.87,65.32,400.0,195.05,154.89,193.78,153.61,156.23,6.76,41.3,5.13,194.66,400.0,6.79,22.17,400.0,400.0,400.0,10.77,13.28,400.0,400.0,400.0,41.84,88.66,155.74,5.73,193.4,153.67,194.55,37.69,400.0,66.28,400.0,400.0,152.28,343.57,400.0,400.0,400.0,193.25,182.04,66.38,57.5,400.0,400.0,348.63,400.0,400.0,154.1,400.0,60.05,18.08,25.62,54.62,50.02,65.89,345.92,64.47,91.58,97.01,59.85,8.4,400.0,66.49,400.0,400.0,55.44,60.04,400.0,68.61,154.92,64.98,400.0,65.28,17.1,400.0,16.5,51.01,59.47,67.24,400.0,65.37,218.91,400.0,9.62,400.0,57.16,399.49,400.0,400.0,19.56,75.72,193.64,194.25,400.0,400.0,400.0,76.43,154.15,400.0,400.0,153.63,60.21,400.0,71.52,400.0,72.81,8.8,73.78,9.34,400.0,6.14,400.0,56.79,152.37,70.24,67.07,66.07,400.0,193.83,193.35,76.89,400.0,66.19,196.29,400.0,400.0,369.19,400.0,400.0,89.71,56.59,194.58,400.0,61.42,399.53,193.93,6.45,193.75,79.42,59.14,58.89,66.13,64.37,400.0,57.4,193.72,400.0,25.22,55.49,153.31,74.44,69.47,192.26,400.0,54.18,9.89,65.67,59.11,82.07,57.05,34.18,400.0,193.39,193.43,195.23,195.03,193.44,153.22,60.21,6.34,65.68,400.0,193.33,193.32,57.72,65.17,60.86],\"name\":\"Distance\"},{\"type\":\"histogram\",\"x\":[21,9,10,8,12,10,21,19,18,19,12,22,13,11,8,19,21,9,15,12,8,22,19,10,10,9,18,15,23,19,21,21,19,7,23,11,10,19,8,18,10,11,9,8,11,23,10,7,10,21,14,18,12,21,13,19,10,19,23,12,10,21,15,7,23,17,7,8,10,12,18,11,16,23,15,11,10,23,23,17,23,23,19,12,21,10,19,10,10,7,22,11,18,11,11,23,8,12,10,19,22,8,16,21,10,18,21,21,10,18,10,11,21,15,18,15,19,11,8,18,12,11,11,14,11,22,10,11,23,19,19,11,16,19,10,11,15,11,12,12,10,12,10,8,7,19,12,8,21,19,8,8,8,12,11,21,10,23,18,21,14,8,18,23,19,23,9,12,11,21,10,19,21,22,12,23,19,21,12,10,19,10,19,22,18,11,9,10,12,7,14,8,11,19,10,11,12,10,19,18,8,21,21,8,10,12,10,8,10,7,18,10,7,11,12,8,9,9,10,11,19,8,10,9,22,12,18,10,10,7,21,8,10,19,19,19,11,10,9,22,10,19,12,21,21,10,12,8,11,15,19,10,9,23,9,8,19,9,8,19,11,18,11,15,8,8,22,22,12,19,11,23,21,21,10,11,16,10,8,12,11,15,10,17,8,12,10,8,19,10,10,9,21,12,8,21,19,10,18,21,12,18,14,8,10,10,19,11,8,19,9,23,12,9,11,11,11,15,19,8,21,15,10,11,12,12,21,10,11,22,19,11,12,8,13,8,10,10,19,23,18,10,8,19,11,10,10,11,8,8,19,9,19,10,8,18,8,21,11,22,22,19,10,10,12,10,10,9,9,8,21,10,7,19,12,13,11,22,18,9,10,12,11,10,9,9,11,13,7,10,7,21,15,7,8,9,8,9,8,9,11,7,8,9,11,8,15,10,12,8,15,8,9,8,19,9,23,23,17,10,7,10,7,12,10,12,10,10,12,7,19,16,8,21,19,23,10,10,9,12,10,19,15,12,10,10,11,10,11,21,7,11,21,10,17,10,13,11,11,21,22,21,22,13,10,21,7,18,15,11,18,9,10,10,10,21,10,12,10,12,8,7,10,19,22,10,8,17,10,11,12,23,21,15,8,10,7,18,18,10,12,10,10,12,8,23,10,12,8,19,23,8,9,11,7,11,10,7,12,8,15,11,19,11,8,10,10,17,18,11,10,11,11,19,11,9,8,18,8,11,14,11,10,8,12,16,12,19,19,11,22,18,23,8,7,11,18,8,11,11,23,10,10,9,19,18,16,10,10,10,21,12,13,11,17,11,10,18,10,10,9,16,10,9,21,14,10,8,10,8,18,7,8,15,10,10,22,10,8,23,11,8,12,11,10,8,23,12,19,19,21,19,19,8,21,11,12,10,10,19,10,21,8,19,15,19,21,23,11,10,8,8,10,8,21,12],\"name\":\"Hour\"},{\"type\":\"histogram\",\"x\":[155,94,94,94,124,34,155,63,63,155,124,63,34,216,185,63,155,124,3,124,94,63,155,94,94,94,3,63,185,63,155,155,63,94,185,124,34,63,185,63,94,216,124,185,124,185,3,94,94,63,3,63,124,155,34,63,216,155,185,124,34,155,63,94,185,3,94,185,94,124,63,124,3,185,63,124,94,185,185,3,185,185,155,124,155,216,63,94,94,94,63,34,3,34,124,185,185,124,3,63,63,94,3,155,216,63,155,155,34,3,34,124,155,34,63,3,63,124,94,63,124,124,216,3,34,63,94,124,185,63,155,34,3,155,94,34,63,124,124,124,94,124,63,63,94,155,124,94,155,63,185,185,94,124,124,155,94,185,34,155,3,185,63,185,63,185,124,124,216,155,34,155,155,63,124,185,155,155,124,185,63,34,63,63,34,124,124,63,124,94,3,185,124,155,94,216,124,94,63,63,185,155,63,185,94,124,94,185,94,94,63,216,94,216,124,94,124,94,63,216,63,94,94,94,63,124,63,63,216,94,155,63,94,155,155,63,216,3,124,63,216,155,124,155,155,216,124,185,124,34,155,216,124,185,124,63,63,124,185,155,216,34,124,3,94,185,63,63,124,63,216,185,155,155,94,34,3,3,185,124,124,3,94,3,185,124,63,185,63,216,94,124,155,124,185,155,155,3,63,155,124,63,3,185,216,94,155,34,94,155,124,185,124,124,216,216,124,34,155,185,63,63,3,34,124,124,155,94,124,63,155,216,124,185,34,185,34,216,155,185,3,34,185,155,124,94,216,124,185,185,155,124,155,34,185,34,185,155,216,63,63,63,34,216,124,94,63,124,124,94,155,63,94,63,124,34,216,63,63,124,216,124,124,63,124,124,216,34,94,3,94,63,63,94,185,124,185,124,185,94,216,94,185,124,216,185,34,94,124,94,63,63,124,185,155,124,185,185,3,185,94,94,94,124,3,124,185,216,124,94,155,3,63,155,155,185,94,94,124,124,185,155,34,124,94,94,216,94,34,155,94,34,155,94,3,34,34,34,124,155,63,155,63,34,34,155,94,34,63,124,3,124,216,94,216,155,94,124,94,124,94,94,34,155,63,34,63,3,94,124,124,185,155,3,94,94,94,63,63,216,124,216,34,124,185,185,34,124,185,155,185,185,124,124,94,124,94,94,124,94,63,216,155,124,185,185,94,3,34,124,94,124,124,155,124,124,185,3,185,216,3,124,34,185,124,3,124,155,155,216,63,63,185,94,94,216,34,185,124,34,185,94,3,94,155,3,3,34,185,34,155,124,34,216,3,124,216,63,63,94,124,3,63,124,155,3,216,94,94,185,63,94,185,3,63,34,63,94,94,185,216,185,124,124,63,94,185,124,63,155,155,63,155,185,155,124,124,94,216,155,185,63,63,63,63,63,155,185,34,216,185,63,63,185,155,124],\"name\":\"Day\"}];\n            var layout = {\"title\":\"Numerical distribution\"};\n            Plotly.newPlot('06d55487-13b9-45ca-bd3d-5bfed9e0f235', data, layout);\n        \r\n});\r\n};\r\nif ((typeof(require) !==  typeof(Function)) || (typeof(require.config) !== typeof(Function))) {\r\n    var script = document.createElement(\"script\"); \r\n    script.setAttribute(\"src\", \"https://cdnjs.cloudflare.com/ajax/libs/require.js/2.3.6/require.min.js\");\r\n    script.onload = function(){\r\n        renderPlotly();\r\n    };\r\n    document.getElementsByTagName(\"head\")[0].appendChild(script); \r\n}\r\nelse {\r\n    renderPlotly();\r\n}\r\n</script>\r\n"
     },
     "execution_count": 1,
     "metadata": {}
    }
   ]
  },
  {
   "cell_type": "markdown",
   "metadata": {},
   "source": [
    "## 2. Categorical Distribution"
   ]
  },
  {
   "cell_type": "code",
   "execution_count": 1,
   "metadata": {},
   "source": [
    "var categoriesHistogram = Chart.Plot(\r\n",
    "    new Graph.Histogram { x = sources }\r\n",
    ");\r\n",
    "\r\n",
    "var layout = new Layout.Layout()\r\n",
    "{\r\n",
    "    title = \"Categorical distribution\"\r\n",
    "};\r\n",
    "categoriesHistogram.WithLayout(layout);\r\n",
    "\r\n",
    "display(categoriesHistogram);"
   ],
   "outputs": [
    {
     "output_type": "execute_result",
     "data": {
      "text/html": "<div id=\"0edd4299-76c5-4834-aac6-ce5d1af9f8a1\" style=\"width: 900px; height: 500px;\"></div>\r\n<script type=\"text/javascript\">\r\n\r\nvar renderPlotly = function() {\r\n    var xplotRequire = require.config({context:'xplot-3.0.1',paths:{plotly:'https://cdn.plot.ly/plotly-1.49.2.min'}}) || require;\r\n    xplotRequire(['plotly'], function(Plotly) {\r\n\n            var data = [{\"type\":\"histogram\",\"x\":[\"Day\",\"Lighter\",\"Day\",\"Lighter\",\"Infrared\",\"FlashLight\",\"Lighter\",\"FlashLight\",\"Day\",\"Day\",\"Infrared\",\"Infrared\",\"Infrared\",\"Day\",\"FlashLight\",\"Lighter\",\"Lighter\",\"FlashLight\",\"FlashLight\",\"Infrared\",\"Lighter\",\"Infrared\",\"Day\",\"Day\",\"Day\",\"Lighter\",\"FlashLight\",\"Day\",\"FlashLight\",\"FlashLight\",\"Lighter\",\"Day\",\"FlashLight\",\"Day\",\"FlashLight\",\"FlashLight\",\"Day\",\"FlashLight\",\"FlashLight\",\"FlashLight\",\"Day\",\"Day\",\"FlashLight\",\"FlashLight\",\"FlashLight\",\"FlashLight\",\"FlashLight\",\"Lighter\",\"Day\",\"FlashLight\",\"FlashLight\",\"FlashLight\",\"Infrared\",\"Lighter\",\"Infrared\",\"Lighter\",\"Day\",\"Day\",\"FlashLight\",\"Infrared\",\"FlashLight\",\"Lighter\",\"Day\",\"Lighter\",\"FlashLight\",\"FlashLight\",\"Day\",\"FlashLight\",\"Day\",\"FlashLight\",\"FlashLight\",\"FlashLight\",\"FlashLight\",\"FlashLight\",\"Day\",\"FlashLight\",\"Day\",\"FlashLight\",\"FlashLight\",\"FlashLight\",\"FlashLight\",\"FlashLight\",\"Day\",\"FlashLight\",\"Lighter\",\"Day\",\"FlashLight\",\"Day\",\"Day\",\"Lighter\",\"Lighter\",\"Day\",\"Infrared\",\"Lighter\",\"FlashLight\",\"FlashLight\",\"Infrared\",\"Infrared\",\"FlashLight\",\"Lighter\",\"Infrared\",\"Lighter\",\"FlashLight\",\"Lighter\",\"Day\",\"FlashLight\",\"Lighter\",\"Lighter\",\"FlashLight\",\"FlashLight\",\"Day\",\"FlashLight\",\"Day\",\"FlashLight\",\"FlashLight\",\"FlashLight\",\"FlashLight\",\"FlashLight\",\"Lighter\",\"FlashLight\",\"Infrared\",\"FlashLight\",\"Day\",\"FlashLight\",\"Lighter\",\"Lighter\",\"Day\",\"FlashLight\",\"FlashLight\",\"FlashLight\",\"Day\",\"Lighter\",\"FlashLight\",\"Day\",\"Day\",\"Lighter\",\"Day\",\"FlashLight\",\"Infrared\",\"Infrared\",\"Day\",\"Infrared\",\"Lighter\",\"Infrared\",\"Lighter\",\"Day\",\"Infrared\",\"Lighter\",\"Lighter\",\"FlashLight\",\"Infrared\",\"FlashLight\",\"Lighter\",\"Infrared\",\"FlashLight\",\"Day\",\"Day\",\"FlashLight\",\"Day\",\"Lighter\",\"FlashLight\",\"FlashLight\",\"FlashLight\",\"FlashLight\",\"Lighter\",\"FlashLight\",\"FlashLight\",\"FlashLight\",\"Day\",\"Lighter\",\"FlashLight\",\"Day\",\"Lighter\",\"Day\",\"Infrared\",\"FlashLight\",\"Lighter\",\"Day\",\"Infrared\",\"Infrared\",\"FlashLight\",\"FlashLight\",\"FlashLight\",\"Day\",\"Day\",\"FlashLight\",\"FlashLight\",\"Lighter\",\"Infrared\",\"Lighter\",\"FlashLight\",\"Infrared\",\"FlashLight\",\"Day\",\"Day\",\"Day\",\"Infrared\",\"Day\",\"FlashLight\",\"Day\",\"Infrared\",\"Lighter\",\"FlashLight\",\"Infrared\",\"Day\",\"Infrared\",\"Day\",\"FlashLight\",\"Day\",\"Lighter\",\"Day\",\"Day\",\"Lighter\",\"Day\",\"Infrared\",\"Lighter\",\"FlashLight\",\"Lighter\",\"Infrared\",\"Day\",\"FlashLight\",\"Lighter\",\"Day\",\"Lighter\",\"Day\",\"Infrared\",\"FlashLight\",\"Day\",\"Day\",\"Day\",\"Lighter\",\"Infrared\",\"Day\",\"Day\",\"Day\",\"FlashLight\",\"Day\",\"FlashLight\",\"FlashLight\",\"Day\",\"Day\",\"Day\",\"Infrared\",\"Infrared\",\"Lighter\",\"Day\",\"FlashLight\",\"FlashLight\",\"FlashLight\",\"FlashLight\",\"Day\",\"Day\",\"FlashLight\",\"FlashLight\",\"FlashLight\",\"Infrared\",\"FlashLight\",\"FlashLight\",\"FlashLight\",\"Day\",\"Day\",\"Day\",\"FlashLight\",\"FlashLight\",\"Lighter\",\"Infrared\",\"Infrared\",\"Day\",\"FlashLight\",\"FlashLight\",\"Day\",\"FlashLight\",\"Lighter\",\"Lighter\",\"Day\",\"Lighter\",\"FlashLight\",\"FlashLight\",\"FlashLight\",\"Infrared\",\"FlashLight\",\"FlashLight\",\"Day\",\"FlashLight\",\"Infrared\",\"Infrared\",\"Day\",\"FlashLight\",\"FlashLight\",\"Day\",\"Day\",\"FlashLight\",\"Lighter\",\"Infrared\",\"Infrared\",\"Lighter\",\"Day\",\"FlashLight\",\"Day\",\"Lighter\",\"Infrared\",\"FlashLight\",\"FlashLight\",\"FlashLight\",\"Day\",\"Day\",\"Day\",\"Day\",\"Lighter\",\"Day\",\"FlashLight\",\"FlashLight\",\"FlashLight\",\"FlashLight\",\"Day\",\"Day\",\"FlashLight\",\"FlashLight\",\"Lighter\",\"Infrared\",\"FlashLight\",\"Day\",\"FlashLight\",\"Lighter\",\"Infrared\",\"Infrared\",\"Lighter\",\"Day\",\"FlashLight\",\"Infrared\",\"Day\",\"Day\",\"Infrared\",\"Infrared\",\"Infrared\",\"FlashLight\",\"FlashLight\",\"Day\",\"Day\",\"FlashLight\",\"FlashLight\",\"Day\",\"Infrared\",\"Day\",\"FlashLight\",\"Day\",\"Day\",\"FlashLight\",\"FlashLight\",\"Infrared\",\"Day\",\"FlashLight\",\"Day\",\"FlashLight\",\"FlashLight\",\"Day\",\"FlashLight\",\"Lighter\",\"Day\",\"Lighter\",\"Infrared\",\"FlashLight\",\"FlashLight\",\"Day\",\"Infrared\",\"Day\",\"Day\",\"FlashLight\",\"FlashLight\",\"Lighter\",\"Lighter\",\"Day\",\"Lighter\",\"FlashLight\",\"Infrared\",\"Infrared\",\"Day\",\"Infrared\",\"FlashLight\",\"FlashLight\",\"Day\",\"FlashLight\",\"FlashLight\",\"Infrared\",\"FlashLight\",\"FlashLight\",\"Day\",\"Infrared\",\"Lighter\",\"FlashLight\",\"Lighter\",\"FlashLight\",\"Day\",\"Day\",\"FlashLight\",\"FlashLight\",\"Infrared\",\"Day\",\"Infrared\",\"Lighter\",\"Day\",\"Day\",\"FlashLight\",\"FlashLight\",\"Day\",\"FlashLight\",\"FlashLight\",\"Day\",\"Infrared\",\"Lighter\",\"Day\",\"Infrared\",\"FlashLight\",\"FlashLight\",\"Day\",\"FlashLight\",\"FlashLight\",\"FlashLight\",\"FlashLight\",\"Infrared\",\"Day\",\"Day\",\"Lighter\",\"FlashLight\",\"FlashLight\",\"FlashLight\",\"Infrared\",\"Day\",\"Infrared\",\"Lighter\",\"Day\",\"FlashLight\",\"Infrared\",\"Lighter\",\"Day\",\"FlashLight\",\"Day\",\"Day\",\"Day\",\"Infrared\",\"Infrared\",\"Day\",\"FlashLight\",\"Infrared\",\"Day\",\"Day\",\"Day\",\"Day\",\"Lighter\",\"Lighter\",\"Lighter\",\"Lighter\",\"Lighter\",\"Day\",\"FlashLight\",\"FlashLight\",\"Infrared\",\"Lighter\",\"FlashLight\",\"Lighter\",\"Day\",\"Infrared\",\"Day\",\"Infrared\",\"Day\",\"Lighter\",\"Lighter\",\"Day\",\"Day\",\"FlashLight\",\"FlashLight\",\"FlashLight\",\"Day\",\"Day\",\"Day\",\"Lighter\",\"Day\",\"FlashLight\",\"Day\",\"FlashLight\",\"Lighter\",\"Day\",\"Day\",\"Lighter\",\"Infrared\",\"Day\",\"Infrared\",\"FlashLight\",\"Day\",\"FlashLight\",\"Infrared\",\"FlashLight\",\"Lighter\",\"FlashLight\",\"Lighter\",\"Day\",\"Lighter\",\"Day\",\"FlashLight\",\"Day\",\"Infrared\",\"Day\",\"Day\",\"FlashLight\",\"FlashLight\",\"FlashLight\",\"FlashLight\",\"Infrared\",\"Infrared\",\"Infrared\",\"FlashLight\",\"Infrared\",\"FlashLight\",\"FlashLight\",\"Lighter\",\"FlashLight\",\"Day\",\"Day\",\"Infrared\",\"Lighter\",\"Day\",\"Day\",\"Day\",\"FlashLight\",\"Infrared\",\"Infrared\",\"Day\",\"FlashLight\",\"Day\",\"FlashLight\",\"Day\",\"FlashLight\",\"FlashLight\",\"Day\",\"FlashLight\",\"FlashLight\",\"FlashLight\",\"FlashLight\",\"Infrared\",\"Day\",\"FlashLight\",\"FlashLight\",\"FlashLight\",\"Infrared\",\"Infrared\",\"FlashLight\",\"Infrared\",\"Day\",\"Infrared\",\"Day\",\"Lighter\",\"FlashLight\",\"FlashLight\",\"Lighter\",\"Lighter\",\"Day\",\"Day\",\"Infrared\",\"FlashLight\",\"Lighter\",\"FlashLight\",\"Day\",\"FlashLight\",\"Lighter\",\"Day\",\"FlashLight\",\"FlashLight\",\"FlashLight\",\"Infrared\",\"FlashLight\",\"Lighter\",\"Infrared\",\"Infrared\",\"Day\",\"FlashLight\",\"FlashLight\",\"Day\",\"FlashLight\",\"Lighter\",\"Day\",\"FlashLight\",\"FlashLight\",\"Lighter\",\"FlashLight\",\"Lighter\",\"FlashLight\",\"Day\",\"Lighter\",\"Day\",\"Infrared\",\"Day\",\"Lighter\",\"FlashLight\",\"FlashLight\",\"FlashLight\",\"FlashLight\",\"Day\",\"Day\",\"Lighter\",\"FlashLight\",\"Day\",\"FlashLight\",\"Infrared\",\"FlashLight\",\"Infrared\",\"Lighter\",\"FlashLight\",\"FlashLight\",\"FlashLight\",\"Day\",\"Lighter\",\"FlashLight\",\"Day\",\"Infrared\",\"FlashLight\",\"FlashLight\",\"FlashLight\",\"Day\",\"Day\",\"Day\",\"Infrared\",\"FlashLight\",\"Infrared\",\"Lighter\",\"Day\",\"FlashLight\",\"FlashLight\",\"FlashLight\",\"Lighter\",\"Day\",\"Infrared\",\"Infrared\",\"Infrared\",\"Infrared\",\"Lighter\",\"Infrared\"]}];\n            var layout = {\"title\":\"Categorical distribution\"};\n            Plotly.newPlot('0edd4299-76c5-4834-aac6-ce5d1af9f8a1', data, layout);\n        \r\n});\r\n};\r\nif ((typeof(require) !==  typeof(Function)) || (typeof(require.config) !== typeof(Function))) {\r\n    var script = document.createElement(\"script\"); \r\n    script.setAttribute(\"src\", \"https://cdnjs.cloudflare.com/ajax/libs/require.js/2.3.6/require.min.js\");\r\n    script.onload = function(){\r\n        renderPlotly();\r\n    };\r\n    document.getElementsByTagName(\"head\")[0].appendChild(script); \r\n}\r\nelse {\r\n    renderPlotly();\r\n}\r\n</script>\r\n"
     },
     "execution_count": 1,
     "metadata": {}
    }
   ]
  },
  {
   "cell_type": "code",
   "execution_count": 1,
   "metadata": {},
   "source": [
    "var testingFeatures = mlContext.Data.CreateEnumerable<ModelInput>(testingData, true);\r\n",
    "var testingSources = testingFeatures.Select(f => f.Source);\r\n",
    "\r\n",
    "var categoriesHistogram = Chart.Plot(\r\n",
    "    new Graph.Histogram { x = testingSources }\r\n",
    ");\r\n",
    "\r\n",
    "var layout = new Layout.Layout()\r\n",
    "{\r\n",
    "    title = \"Categorical distribution (for testing data)\"\r\n",
    "};\r\n",
    "categoriesHistogram.WithLayout(layout);\r\n",
    "\r\n",
    "display(categoriesHistogram);"
   ],
   "outputs": [
    {
     "output_type": "execute_result",
     "data": {
      "text/html": "<div id=\"70254fbb-be67-4d06-8966-14151b42c80c\" style=\"width: 900px; height: 500px;\"></div>\r\n<script type=\"text/javascript\">\r\n\r\nvar renderPlotly = function() {\r\n    var xplotRequire = require.config({context:'xplot-3.0.1',paths:{plotly:'https://cdn.plot.ly/plotly-1.49.2.min'}}) || require;\r\n    xplotRequire(['plotly'], function(Plotly) {\r\n\n            var data = [{\"type\":\"histogram\",\"x\":[\"FlashLight\",\"FlashLight\",\"Day\",\"Lighter\",\"Infrared\",\"Lighter\",\"FlashLight\",\"Lighter\",\"Day\",\"FlashLight\",\"FlashLight\",\"Infrared\",\"Day\",\"FlashLight\",\"Day\",\"FlashLight\",\"Day\",\"FlashLight\",\"Infrared\",\"Day\",\"FlashLight\",\"FlashLight\",\"Infrared\",\"FlashLight\",\"Day\",\"Lighter\",\"Lighter\",\"FlashLight\",\"Day\",\"Day\",\"FlashLight\",\"Lighter\",\"Infrared\",\"Lighter\",\"FlashLight\",\"FlashLight\",\"FlashLight\",\"Day\",\"FlashLight\",\"FlashLight\",\"FlashLight\",\"Infrared\",\"Infrared\",\"Day\",\"FlashLight\",\"FlashLight\",\"FlashLight\",\"Infrared\",\"Lighter\",\"FlashLight\",\"Day\",\"Infrared\",\"Infrared\",\"Day\",\"Lighter\",\"FlashLight\",\"FlashLight\",\"Lighter\",\"Day\",\"Day\",\"Day\",\"FlashLight\",\"FlashLight\",\"Infrared\",\"Day\",\"FlashLight\",\"FlashLight\",\"Day\",\"Lighter\",\"Infrared\",\"Day\",\"Day\",\"Infrared\",\"Lighter\",\"Day\",\"FlashLight\",\"Lighter\",\"FlashLight\",\"Lighter\",\"FlashLight\",\"Infrared\",\"Infrared\",\"FlashLight\",\"FlashLight\",\"Infrared\",\"FlashLight\",\"Day\",\"Lighter\",\"Day\",\"Lighter\",\"Infrared\",\"FlashLight\",\"Day\",\"FlashLight\",\"FlashLight\",\"Day\",\"Infrared\",\"Infrared\",\"Infrared\",\"FlashLight\",\"Day\",\"FlashLight\",\"FlashLight\",\"Lighter\",\"Lighter\",\"Day\",\"Day\",\"Day\",\"Day\",\"FlashLight\",\"Day\",\"Infrared\",\"Lighter\",\"Day\",\"Lighter\",\"Day\",\"FlashLight\",\"Infrared\",\"FlashLight\",\"Day\",\"FlashLight\",\"FlashLight\",\"Day\",\"Infrared\",\"FlashLight\",\"FlashLight\",\"Day\",\"Infrared\",\"Lighter\",\"Day\",\"Day\",\"FlashLight\",\"FlashLight\",\"Day\",\"Day\",\"Lighter\",\"FlashLight\",\"FlashLight\",\"FlashLight\",\"Day\",\"FlashLight\",\"FlashLight\",\"Infrared\",\"Day\",\"Day\",\"FlashLight\",\"Lighter\",\"FlashLight\",\"Infrared\",\"FlashLight\",\"Lighter\",\"FlashLight\",\"Lighter\",\"Lighter\",\"Infrared\",\"Day\",\"Day\",\"Infrared\",\"Lighter\",\"FlashLight\",\"Lighter\",\"Day\",\"Infrared\",\"FlashLight\",\"FlashLight\",\"FlashLight\",\"FlashLight\"]}];\n            var layout = {\"title\":\"Categorical distribution (for testing data)\"};\n            Plotly.newPlot('70254fbb-be67-4d06-8966-14151b42c80c', data, layout);\n        \r\n});\r\n};\r\nif ((typeof(require) !==  typeof(Function)) || (typeof(require.config) !== typeof(Function))) {\r\n    var script = document.createElement(\"script\"); \r\n    script.setAttribute(\"src\", \"https://cdnjs.cloudflare.com/ajax/libs/require.js/2.3.6/require.min.js\");\r\n    script.onload = function(){\r\n        renderPlotly();\r\n    };\r\n    document.getElementsByTagName(\"head\")[0].appendChild(script); \r\n}\r\nelse {\r\n    renderPlotly();\r\n}\r\n</script>\r\n"
     },
     "execution_count": 1,
     "metadata": {}
    }
   ]
  },
  {
   "cell_type": "markdown",
   "metadata": {},
   "source": [
    "## 3. Box Plot Segmentation"
   ]
  },
  {
   "cell_type": "code",
   "execution_count": 1,
   "metadata": {},
   "source": [
    "var segmentationDiagram = Chart.Plot(new[] {\r\n",
    "    new Graph.Box { y = temperatures, name = \"Temperature\" },\r\n",
    "    new Graph.Box { y = luminosities, name = \"Luminosity\" },\r\n",
    "    new Graph.Box { y = infrareds, name = \"Infrared\" },\r\n",
    "    new Graph.Box { y = distances, name = \"Distance\" },\r\n",
    "    new Graph.Box { y = hours, name = \"Hour of Day\" },\r\n",
    "    new Graph.Box { y = days, name = \"Day of Year\" }\r\n",
    "});\r\n",
    "\r\n",
    "var layout = new Layout.Layout()\r\n",
    "{\r\n",
    "    title = \"Box plot segmentation\"\r\n",
    "};\r\n",
    "segmentationDiagram.WithLayout(layout);\r\n",
    "\r\n",
    "display(segmentationDiagram);"
   ],
   "outputs": [
    {
     "output_type": "execute_result",
     "data": {
      "text/html": "<div id=\"620980bd-e901-4727-80fa-109284a07a48\" style=\"width: 900px; height: 500px;\"></div>\r\n<script type=\"text/javascript\">\r\n\r\nvar renderPlotly = function() {\r\n    var xplotRequire = require.config({context:'xplot-3.0.1',paths:{plotly:'https://cdn.plot.ly/plotly-1.49.2.min'}}) || require;\r\n    xplotRequire(['plotly'], function(Plotly) {\r\n\n            var data = [{\"type\":\"box\",\"y\":[23.96,47.32,25.09,56.03,32.18,23.28,53.12,27.34,24.77,32.18,32.18,25.09,26.38,32.18,32.18,94.05,37.01,32.5,24.77,30.24,37.98,25.41,32.18,25.09,25.09,48.94,24.14,24.44,31.21,28.63,37.33,23.63,27.34,25.09,32.5,31.86,24.63,27.34,32.18,27.34,25.09,32.18,32.18,31.21,32.18,31.86,24.77,50.87,24.77,27.34,23.48,27.67,32.18,36.69,26.38,115.0,32.18,32.18,31.21,30.24,23.28,119.51,24.44,56.03,32.5,24.44,24.77,32.18,25.09,32.18,27.34,32.5,23.8,32.5,24.44,32.5,25.09,32.18,31.21,24.12,32.5,31.86,32.18,36.37,36.37,32.18,27.67,25.09,25.09,53.77,99.53,23.63,25.89,64.05,32.5,31.86,32.5,32.18,23.8,109.52,25.09,35.08,24.44,153.35,32.18,27.34,33.47,102.43,23.28,24.14,24.63,32.5,25.63,23.96,27.34,23.48,27.34,32.5,90.83,27.67,32.18,32.5,32.18,23.8,90.83,96.63,24.77,32.18,30.89,27.67,24.82,64.05,24.77,32.18,25.09,64.05,24.44,32.5,32.18,32.5,25.09,29.92,95.02,25.09,100.82,32.18,32.18,34.11,43.13,27.99,32.5,31.21,36.37,30.24,41.2,25.63,25.09,31.21,23.63,89.22,23.48,31.53,27.34,31.86,99.53,32.5,32.5,32.5,32.18,45.07,23.28,24.86,32.5,24.77,29.92,32.18,109.2,23.63,30.24,32.18,27.67,23.28,27.67,24.77,23.63,32.5,32.5,86.96,30.24,47.97,24.44,30.24,34.43,32.18,25.09,32.18,32.18,25.09,27.34,24.44,30.24,36.37,27.34,32.18,25.09,30.24,25.41,31.86,25.09,60.21,24.44,32.18,33.79,32.18,29.92,36.37,32.18,95.34,30.89,32.18,27.34,47.97,25.09,73.43,24.44,29.92,27.34,24.44,32.18,24.77,36.04,25.09,25.09,32.18,32.18,27.34,32.18,24.77,32.5,24.44,32.18,32.18,30.24,24.38,37.01,32.18,31.86,31.21,32.5,28.96,32.18,34.76,32.18,31.21,32.5,25.09,27.34,32.18,31.21,32.18,32.18,24.63,32.5,23.48,35.08,32.18,24.77,24.44,32.5,27.34,32.18,31.21,88.9,35.72,25.09,64.28,24.77,24.44,32.18,30.24,31.86,23.48,25.09,23.48,30.24,30.24,24.44,31.21,27.34,32.18,25.09,32.5,36.69,29.92,32.5,32.5,32.18,24.12,24.44,81.81,30.24,27.34,24.12,31.21,32.18,25.09,32.18,23.63,32.18,32.5,34.11,32.5,32.5,32.18,32.18,32.18,32.5,23.96,107.59,32.5,27.34,24.44,24.44,64.96,30.24,32.18,33.14,25.09,32.5,25.09,32.18,32.18,32.18,30.24,26.7,31.86,23.28,32.18,32.18,31.21,24.14,24.63,32.5,32.18,34.43,25.09,32.18,32.18,31.21,32.5,32.18,34.11,32.18,23.28,31.86,23.63,31.21,36.37,32.18,109.52,25.09,27.67,23.28,32.18,32.18,25.41,24.44,32.18,32.18,108.55,96.31,24.44,36.37,27.67,30.24,26.38,32.18,25.41,27.34,34.11,32.18,67.63,32.5,25.09,32.5,32.18,32.18,26.38,65.05,23.8,47.32,27.67,24.77,24.77,31.86,32.5,32.5,32.5,30.24,82.77,32.18,25.09,31.21,32.5,32.18,31.53,23.96,25.09,30.24,49.26,24.44,24.77,32.18,31.21,32.18,32.5,30.89,32.18,24.44,32.18,24.44,25.09,35.08,32.5,24.77,33.14,30.24,32.18,32.18,34.11,31.86,23.48,25.41,34.43,32.18,31.53,24.77,25.09,32.18,32.18,30.24,32.18,23.96,30.24,25.09,25.09,32.18,24.44,70.85,24.28,74.07,64.38,91.15,25.41,24.44,23.28,26.38,92.12,32.5,52.16,24.12,24.38,24.44,24.31,24.63,36.04,76.65,24.31,24.44,32.18,24.14,32.18,32.5,25.09,32.18,34.76,25.41,46.68,25.09,32.18,35.72,25.09,24.63,110.49,25.09,24.63,25.09,24.12,25.09,32.5,30.24,32.18,25.57,23.48,74.72,25.09,76.65,24.12,27.99,32.18,30.57,32.18,24.63,32.5,32.18,31.21,24.31,30.24,32.18,25.89,31.86,32.18,32.18,32.5,73.11,32.5,25.09,24.77,30.24,33.47,24.77,32.18,32.18,32.18,30.24,30.24,25.09,24.77,23.63,32.5,25.41,32.5,32.5,32.18,32.18,56.99,31.86,24.12,30.24,32.18,24.77,32.18,23.28,30.24,30.24,23.48,32.5,32.18,25.21,32.18,94.05,27.34,32.5,81.48,50.87,32.18,23.63,30.24,32.5,98.24,31.86,25.09,24.77,89.54,32.18,24.14,24.77,23.96,30.24,23.28,44.75,32.5,26.38,32.18,24.77,32.5,32.18,27.34,88.9,25.09,32.5,24.77,98.24,32.18,63.12,23.48,32.18,55.7,25.09,32.18,24.44,32.82,32.18,23.48,27.34,24.92,24.44,24.77,65.37,32.5,32.18,31.21,30.24,52.8,25.09,97.28,31.53,32.5,27.34,32.18,36.69,27.34,32.18,30.24,25.14,32.5,32.5,24.77,32.18,32.18,30.24,27.67,25.41,132.4,24.77,27.34,24.28,31.86,84.71,32.18,30.24,25.09,25.41,32.18,75.68,29.92],\"name\":\"Temperature\"},{\"type\":\"box\",\"y\":[4.1,100.0,12.11,100.0,11.72,45.51,100.0,70.31,18.55,5.86,27.05,35.16,21.09,5.08,64.16,100.0,100.0,100.0,60.94,28.52,100.0,35.06,5.37,11.91,11.91,100.0,100.0,26.56,32.42,74.9,100.0,4.1,70.02,12.6,52.83,56.35,4.0,71.48,100.0,74.32,11.91,4.49,52.05,77.83,78.81,50.39,63.96,100.0,11.91,73.73,83.59,76.17,27.25,100.0,21.0,100.0,4.39,6.25,48.83,64.16,39.94,100.0,26.46,100.0,28.32,95.61,12.5,69.53,11.82,39.55,73.63,100.0,88.67,83.01,25.49,85.16,12.5,42.58,63.77,84.77,56.74,60.16,6.64,100.0,100.0,4.39,73.05,11.04,12.01,100.0,100.0,4.1,34.18,97.46,79.79,66.8,25.0,22.85,65.62,100.0,35.45,100.0,84.77,100.0,5.86,71.97,100.0,100.0,30.47,40.82,4.2,73.14,4.1,7.71,73.54,95.31,73.54,85.84,100.0,73.24,35.35,61.33,6.25,61.91,100.0,100.0,11.82,71.48,73.44,71.78,6.54,82.32,86.23,4.79,12.3,66.8,25.98,72.07,31.74,16.11,12.6,30.18,100.0,35.94,100.0,4.59,17.19,100.0,100.0,74.51,28.52,69.14,100.0,29.1,100.0,4.2,11.82,70.7,4.1,100.0,90.33,71.09,74.61,68.75,100.0,36.82,74.41,54.39,5.66,100.0,60.25,7.03,100.0,26.46,30.08,41.6,100.0,4.2,26.56,30.08,73.24,26.46,73.63,25.59,5.47,91.31,36.82,100.0,33.89,100.0,100.0,27.05,100.0,6.15,12.11,4.49,8.59,12.11,73.63,25.98,29.3,100.0,75.29,24.9,11.13,21.97,11.82,100.0,12.11,100.0,25.88,19.73,100.0,6.25,20.61,100.0,54.39,100.0,26.76,4.98,72.95,100.0,12.3,100.0,26.46,33.01,70.31,25.78,6.64,12.6,100.0,34.86,12.11,7.32,4.98,74.61,6.25,69.14,52.44,26.56,4.98,4.88,31.64,19.73,100.0,14.55,42.68,87.5,73.93,6.54,4.49,9.47,97.56,34.67,59.57,35.16,71.97,57.81,74.9,4.88,6.25,4.1,60.55,84.67,100.0,38.67,36.62,25.98,100.0,74.32,6.05,59.08,100.0,100.0,12.4,100.0,83.3,67.58,55.86,11.72,60.06,87.6,12.11,83.69,26.17,11.13,25.68,5.47,72.27,5.96,12.4,57.03,100.0,25.39,12.6,100.0,6.15,69.14,25.49,100.0,44.53,71.48,54.79,58.69,18.16,12.21,4.98,4.1,100.0,4.59,100.0,72.66,83.69,68.46,5.18,4.49,86.33,10.64,100.0,22.75,72.95,24.41,63.18,100.0,23.83,12.5,100.0,11.91,85.84,34.86,6.64,5.96,18.46,27.34,19.14,100.0,69.04,6.35,4.69,37.99,50.29,4.1,52.83,7.03,100.0,12.99,6.64,73.54,42.58,50.88,6.93,82.81,5.18,61.62,65.82,4.3,56.64,100.0,6.54,100.0,35.84,75.0,100.0,4.2,15.04,11.33,25.49,55.37,48.24,100.0,100.0,25.78,100.0,76.17,35.94,22.75,4.69,36.52,69.82,100.0,6.64,100.0,79.69,35.74,100.0,42.97,5.76,18.36,100.0,66.41,100.0,73.05,26.46,13.96,68.46,95.31,37.89,4.59,41.89,100.0,4.88,12.4,60.16,88.38,6.54,68.07,9.08,12.3,31.35,100.0,26.46,36.62,33.11,72.27,5.27,42.29,52.44,50.0,82.32,29.79,12.6,12.01,100.0,50.78,64.06,100.0,30.96,6.64,24.61,100.0,4.69,93.16,36.52,100.0,6.84,86.72,12.21,12.11,54.3,35.64,41.31,5.08,8.98,10.25,12.21,11.33,6.05,12.4,100.0,100.0,100.0,100.0,100.0,9.28,83.5,66.5,18.07,100.0,98.14,100.0,25.88,18.26,25.88,18.75,5.37,100.0,100.0,3.91,25.98,65.72,42.87,33.59,5.96,12.3,5.76,100.0,11.91,100.0,12.11,100.0,100.0,12.3,4.1,100.0,35.94,4.1,35.84,81.54,13.18,91.41,20.51,50.29,100.0,87.6,100.0,13.09,100.0,24.9,74.51,5.27,25.78,7.62,4.1,72.75,78.91,33.89,37.99,46.29,30.96,24.51,27.93,48.54,46.19,69.24,100.0,72.07,12.21,14.06,24.32,100.0,18.55,4.39,6.74,72.66,44.53,18.65,12.11,94.43,4.3,63.96,11.43,100.0,64.94,4.2,100.0,100.0,9.57,77.05,33.59,4.69,88.38,95.02,57.32,31.64,29.2,84.77,31.54,4.98,33.69,6.64,100.0,72.27,48.83,100.0,100.0,4.39,4.1,55.57,56.93,100.0,29.39,12.11,64.06,100.0,5.18,62.4,81.35,59.18,32.71,86.91,88.77,34.47,21.97,4.3,89.26,60.64,11.04,73.34,100.0,11.91,54.88,82.13,100.0,61.13,100.0,84.18,5.57,100.0,12.6,32.23,25.39,100.0,58.2,79.0,75.78,45.7,26.46,12.3,100.0,54.69,4.1,55.08,32.81,100.0,35.74,100.0,59.86,82.81,70.7,7.13,100.0,71.88,4.79,11.52,48.05,76.76,54.79,12.5,6.05,5.37,26.27,73.63,35.06,100.0,25.59,75.29,6.54,53.61,100.0,6.45,34.77,35.45,36.52,32.23,100.0,14.36],\"name\":\"Luminosity\"},{\"type\":\"box\",\"y\":[0.0,94.34,0.0,92.29,15.43,0.0,93.95,0.0,0.0,0.0,93.55,95.31,94.34,0.0,0.0,49.71,92.87,0.0,0.0,25.68,94.53,95.12,0.0,0.0,0.0,93.26,0.0,0.0,0.0,0.0,95.41,0.0,0.0,0.0,0.0,0.0,0.0,0.0,0.0,0.0,0.0,0.0,0.0,0.0,0.0,0.0,0.0,95.12,0.0,0.0,0.0,0.0,94.04,95.41,51.56,43.85,0.0,0.0,0.0,85.45,0.0,95.8,0.0,95.31,0.0,0.0,0.0,0.0,0.0,0.0,0.0,0.0,0.0,0.0,0.0,0.0,0.0,0.0,0.0,0.0,0.0,0.0,0.0,0.0,95.21,0.0,0.0,0.0,0.0,95.21,42.97,0.0,95.51,96.0,0.0,0.0,33.89,93.65,0.0,49.22,94.92,94.04,0.0,94.82,0.0,0.0,95.41,93.65,0.0,0.0,0.0,0.0,0.0,0.0,0.0,0.0,0.0,0.0,92.48,0.0,30.86,0.0,0.0,0.0,93.65,45.9,0.0,0.0,0.0,0.0,0.0,95.21,0.0,0.0,0.0,86.72,0.0,0.0,43.75,30.86,0.0,26.07,42.38,94.92,95.61,0.0,28.71,92.38,92.97,0.0,43.85,0.0,94.92,39.06,0.0,0.0,0.0,0.0,0.0,93.07,0.0,0.0,0.0,0.0,42.97,0.0,0.0,0.0,0.0,95.41,0.0,0.0,93.36,0.0,31.93,0.0,4.92,0.0,23.24,49.22,0.0,0.0,0.0,0.0,0.0,0.0,0.0,39.26,23.24,93.26,0.0,33.2,0.0,0.0,0.0,0.0,2.44,0.0,0.0,0.0,60.55,95.12,0.0,37.5,0.0,91.8,0.0,0.0,0.0,95.21,0.0,0.0,93.55,0.0,32.32,94.92,0.0,94.73,94.14,0.0,0.0,94.43,0.0,95.31,0.0,34.28,0.0,0.0,0.0,0.0,92.77,94.92,0.0,0.0,0.0,0.0,0.0,0.0,0.0,0.0,0.0,0.0,0.1,95.21,94.53,0.0,0.0,0.0,0.0,0.0,0.0,0.0,0.0,0.0,0.0,95.31,0.0,0.0,0.0,0.0,0.0,0.0,0.0,0.0,93.55,20.61,95.41,0.0,0.0,0.0,0.0,0.0,95.41,95.31,0.0,96.78,0.0,0.0,0.0,15.53,0.0,0.0,0.0,0.0,46.29,49.02,0.0,0.0,0.0,0.0,0.0,0.0,92.58,31.64,76.46,95.21,0.0,0.0,0.0,93.65,27.73,0.0,0.0,0.0,0.0,0.0,0.0,0.0,94.53,0.0,0.0,0.0,0.0,0.0,0.0,0.0,0.0,0.0,3.46,89.94,0.0,0.0,0.0,95.7,27.44,18.75,95.21,0.0,0.0,94.92,0.0,0.0,93.55,35.84,93.36,0.0,0.0,0.0,0.0,0.0,0.0,0.0,21.78,0.0,0.0,0.0,0.0,0.0,0.0,57.81,0.0,0.0,0.0,0.0,0.0,0.0,0.0,93.55,0.0,49.22,95.41,0.0,0.0,0.0,68.55,0.0,0.0,0.0,0.0,93.16,91.41,0.0,93.16,0.0,11.72,93.55,0.0,95.41,0.0,0.0,0.0,0.0,0.0,95.02,0.0,0.0,0.0,11.72,92.97,0.0,95.31,0.0,0.0,0.0,0.0,0.0,71.09,0.0,12.5,94.14,0.0,0.0,0.0,0.0,0.0,0.0,0.0,0.0,32.32,95.02,0.0,95.41,0.0,0.0,0.0,0.0,0.0,0.0,0.0,49.61,0.0,0.0,91.5,0.0,0.0,0.0,38.18,0.0,28.81,94.43,0.0,0.0,95.41,93.95,0.0,0.0,0.0,0.0,0.0,26.95,13.87,0.0,0.0,49.12,0.0,0.0,0.0,0.0,95.31,95.9,94.34,96.48,95.51,0.0,0.0,0.0,25.0,94.43,0.0,94.53,0.0,94.04,0.0,0.0,0.0,67.09,95.31,0.0,0.0,0.0,0.0,0.0,0.0,0.0,0.0,94.04,0.0,0.0,0.0,0.0,91.7,0.0,0.0,5.02,94.92,0.0,95.41,0.0,0.0,0.0,31.84,0.0,96.48,0.0,95.02,0.0,93.36,0.0,0.0,0.0,29.3,0.0,0.0,0.0,0.0,0.0,0.0,25.68,48.63,93.75,0.0,26.37,0.0,0.0,93.46,0.0,0.0,0.0,30.57,92.58,0.0,0.0,0.0,0.0,10.74,36.72,0.0,0.0,0.0,0.0,0.0,0.0,0.0,0.0,0.0,0.0,0.0,0.0,36.82,0.0,0.0,0.0,0.0,42.19,21.88,0.0,81.64,0.0,94.63,0.0,49.71,0.0,0.0,93.46,95.31,0.0,0.0,50.68,0.0,94.34,0.0,0.0,0.0,95.31,0.0,0.0,0.0,0.0,12.11,0.0,94.92,92.38,72.27,0.0,0.0,0.0,0.0,0.0,42.38,0.0,0.0,0.0,50.68,0.0,95.51,0.0,0.0,94.82,0.0,46.09,0.0,95.02,0.0,0.0,0.0,0.0,0.0,0.0,93.16,0.0,0.0,0.0,22.56,0.0,95.12,93.26,0.0,0.0,0.0,0.0,95.21,0.0,0.0,1.95,0.0,0.0,0.0,0.0,0.0,0.0,32.42,0.0,95.12,41.31,0.0,0.0,0.0,0.0,95.51,0.0,0.0,94.92,95.21,30.86,94.63,43.16],\"name\":\"Infrared\"},{\"type\":\"box\",\"y\":[154.09,41.55,400.0,400.0,60.87,12.08,400.0,194.26,400.0,400.0,60.14,194.23,152.74,78.02,64.48,193.64,400.0,400.0,78.83,57.68,400.0,193.43,400.0,400.0,77.33,7.56,7.13,193.75,23.01,193.44,6.76,154.09,193.76,400.0,400.0,61.91,154.5,193.37,57.64,194.3,83.96,75.33,50.82,58.82,19.25,26.73,242.96,400.0,400.0,125.81,394.32,194.3,400.0,400.0,400.0,195.19,63.57,400.0,60.7,60.02,155.79,345.43,193.75,400.0,30.7,69.64,60.24,61.2,77.05,56.85,129.92,66.92,325.6,24.47,194.64,66.31,400.0,58.1,400.0,67.14,35.34,28.38,89.87,400.0,400.0,400.0,193.34,400.0,71.82,400.0,237.28,156.16,400.0,155.75,64.22,400.0,56.2,61.23,13.86,194.44,193.33,400.0,66.15,400.0,400.0,170.5,400.0,4.19,154.91,8.79,154.91,64.25,153.6,155.39,193.84,73.24,193.84,62.4,42.0,193.4,400.0,22.83,400.0,400.0,152.82,193.11,400.0,13.73,24.32,194.28,400.0,400.0,66.11,89.66,86.1,5.12,194.64,66.73,400.0,61.79,76.37,400.0,194.23,193.4,45.92,72.21,60.36,7.16,72.25,182.04,52.37,400.0,46.4,400.0,59.4,154.49,400.0,400.0,155.38,400.0,11.61,400.0,146.28,27.28,237.28,400.0,57.95,59.16,75.56,400.0,10.11,400.0,400.0,194.58,60.96,61.0,4.28,155.3,60.46,400.0,193.4,155.8,193.39,195.03,155.35,64.26,23.36,193.34,61.67,46.13,10.78,400.0,400.0,400.0,400.0,400.0,60.75,400.0,129.92,194.66,400.0,59.09,193.44,400.0,77.03,60.46,14.01,400.0,73.87,43.15,193.79,400.0,43.89,400.0,59.7,42.18,400.0,7.9,400.0,75.65,195.93,48.57,400.0,400.0,193.73,17.91,194.26,193.69,61.62,91.63,7.91,193.4,92.82,29.68,19.46,146.28,400.0,322.63,50.44,193.75,73.51,400.0,400.0,21.85,400.0,400.0,61.78,61.45,66.92,18.78,74.86,70.31,19.49,400.0,21.35,194.23,170.5,61.76,20.44,24.53,76.22,400.0,63.72,95.86,400.0,59.0,194.16,194.64,56.06,194.3,74.18,61.92,400.0,400.0,400.0,155.74,64.68,366.69,400.0,400.0,61.42,318.49,400.0,63.88,57.48,61.88,194.61,60.47,194.25,70.74,400.0,400.0,70.73,60.43,53.76,400.0,74.23,350.8,194.64,60.81,58.95,193.37,321.3,22.4,107.1,96.35,28.04,154.06,7.96,400.0,400.0,400.0,58.3,28.33,76.24,400.0,400.0,154.98,4.28,56.2,195.93,193.72,366.22,153.66,59.15,59.74,400.0,83.75,400.0,193.4,76.97,70.36,400.0,60.11,154.04,20.1,10.39,400.0,400.0,400.0,8.52,155.35,400.0,400.0,61.46,97.13,400.0,70.2,19.6,52.51,23.32,53.59,33.7,10.37,400.0,154.9,400.0,7.52,82.61,194.44,194.55,194.69,6.39,71.72,59.97,14.38,193.73,63.61,22.17,400.0,9.47,194.62,46.56,194.3,62.67,154.04,75.87,194.03,194.2,400.0,75.12,49.92,65.26,193.76,400.0,400.0,78.88,400.0,400.0,290.37,5.85,193.34,194.58,89.89,60.77,400.0,400.0,400.0,57.2,6.25,400.0,400.0,60.46,400.0,78.08,59.49,154.89,400.0,60.4,56.17,193.73,194.16,400.0,400.0,400.0,47.8,24.33,43.43,400.0,61.57,89.11,90.06,400.0,400.0,301.72,55.43,57.5,73.76,61.26,44.79,75.16,73.86,194.03,400.0,400.0,400.0,400.0,82.12,52.13,400.0,400.0,68.01,154.51,57.06,90.17,93.64,78.93,400.0,153.62,152.3,400.0,154.99,346.16,93.85,68.91,11.26,5.06,154.87,65.32,400.0,195.05,154.89,193.78,153.61,156.23,6.76,41.3,5.13,194.66,400.0,6.79,22.17,400.0,400.0,400.0,10.77,13.28,400.0,400.0,400.0,41.84,88.66,155.74,5.73,193.4,153.67,194.55,37.69,400.0,66.28,400.0,400.0,152.28,343.57,400.0,400.0,400.0,193.25,182.04,66.38,57.5,400.0,400.0,348.63,400.0,400.0,154.1,400.0,60.05,18.08,25.62,54.62,50.02,65.89,345.92,64.47,91.58,97.01,59.85,8.4,400.0,66.49,400.0,400.0,55.44,60.04,400.0,68.61,154.92,64.98,400.0,65.28,17.1,400.0,16.5,51.01,59.47,67.24,400.0,65.37,218.91,400.0,9.62,400.0,57.16,399.49,400.0,400.0,19.56,75.72,193.64,194.25,400.0,400.0,400.0,76.43,154.15,400.0,400.0,153.63,60.21,400.0,71.52,400.0,72.81,8.8,73.78,9.34,400.0,6.14,400.0,56.79,152.37,70.24,67.07,66.07,400.0,193.83,193.35,76.89,400.0,66.19,196.29,400.0,400.0,369.19,400.0,400.0,89.71,56.59,194.58,400.0,61.42,399.53,193.93,6.45,193.75,79.42,59.14,58.89,66.13,64.37,400.0,57.4,193.72,400.0,25.22,55.49,153.31,74.44,69.47,192.26,400.0,54.18,9.89,65.67,59.11,82.07,57.05,34.18,400.0,193.39,193.43,195.23,195.03,193.44,153.22,60.21,6.34,65.68,400.0,193.33,193.32,57.72,65.17,60.86],\"name\":\"Distance\"},{\"type\":\"box\",\"y\":[21,9,10,8,12,10,21,19,18,19,12,22,13,11,8,19,21,9,15,12,8,22,19,10,10,9,18,15,23,19,21,21,19,7,23,11,10,19,8,18,10,11,9,8,11,23,10,7,10,21,14,18,12,21,13,19,10,19,23,12,10,21,15,7,23,17,7,8,10,12,18,11,16,23,15,11,10,23,23,17,23,23,19,12,21,10,19,10,10,7,22,11,18,11,11,23,8,12,10,19,22,8,16,21,10,18,21,21,10,18,10,11,21,15,18,15,19,11,8,18,12,11,11,14,11,22,10,11,23,19,19,11,16,19,10,11,15,11,12,12,10,12,10,8,7,19,12,8,21,19,8,8,8,12,11,21,10,23,18,21,14,8,18,23,19,23,9,12,11,21,10,19,21,22,12,23,19,21,12,10,19,10,19,22,18,11,9,10,12,7,14,8,11,19,10,11,12,10,19,18,8,21,21,8,10,12,10,8,10,7,18,10,7,11,12,8,9,9,10,11,19,8,10,9,22,12,18,10,10,7,21,8,10,19,19,19,11,10,9,22,10,19,12,21,21,10,12,8,11,15,19,10,9,23,9,8,19,9,8,19,11,18,11,15,8,8,22,22,12,19,11,23,21,21,10,11,16,10,8,12,11,15,10,17,8,12,10,8,19,10,10,9,21,12,8,21,19,10,18,21,12,18,14,8,10,10,19,11,8,19,9,23,12,9,11,11,11,15,19,8,21,15,10,11,12,12,21,10,11,22,19,11,12,8,13,8,10,10,19,23,18,10,8,19,11,10,10,11,8,8,19,9,19,10,8,18,8,21,11,22,22,19,10,10,12,10,10,9,9,8,21,10,7,19,12,13,11,22,18,9,10,12,11,10,9,9,11,13,7,10,7,21,15,7,8,9,8,9,8,9,11,7,8,9,11,8,15,10,12,8,15,8,9,8,19,9,23,23,17,10,7,10,7,12,10,12,10,10,12,7,19,16,8,21,19,23,10,10,9,12,10,19,15,12,10,10,11,10,11,21,7,11,21,10,17,10,13,11,11,21,22,21,22,13,10,21,7,18,15,11,18,9,10,10,10,21,10,12,10,12,8,7,10,19,22,10,8,17,10,11,12,23,21,15,8,10,7,18,18,10,12,10,10,12,8,23,10,12,8,19,23,8,9,11,7,11,10,7,12,8,15,11,19,11,8,10,10,17,18,11,10,11,11,19,11,9,8,18,8,11,14,11,10,8,12,16,12,19,19,11,22,18,23,8,7,11,18,8,11,11,23,10,10,9,19,18,16,10,10,10,21,12,13,11,17,11,10,18,10,10,9,16,10,9,21,14,10,8,10,8,18,7,8,15,10,10,22,10,8,23,11,8,12,11,10,8,23,12,19,19,21,19,19,8,21,11,12,10,10,19,10,21,8,19,15,19,21,23,11,10,8,8,10,8,21,12],\"name\":\"Hour of Day\"},{\"type\":\"box\",\"y\":[155,94,94,94,124,34,155,63,63,155,124,63,34,216,185,63,155,124,3,124,94,63,155,94,94,94,3,63,185,63,155,155,63,94,185,124,34,63,185,63,94,216,124,185,124,185,3,94,94,63,3,63,124,155,34,63,216,155,185,124,34,155,63,94,185,3,94,185,94,124,63,124,3,185,63,124,94,185,185,3,185,185,155,124,155,216,63,94,94,94,63,34,3,34,124,185,185,124,3,63,63,94,3,155,216,63,155,155,34,3,34,124,155,34,63,3,63,124,94,63,124,124,216,3,34,63,94,124,185,63,155,34,3,155,94,34,63,124,124,124,94,124,63,63,94,155,124,94,155,63,185,185,94,124,124,155,94,185,34,155,3,185,63,185,63,185,124,124,216,155,34,155,155,63,124,185,155,155,124,185,63,34,63,63,34,124,124,63,124,94,3,185,124,155,94,216,124,94,63,63,185,155,63,185,94,124,94,185,94,94,63,216,94,216,124,94,124,94,63,216,63,94,94,94,63,124,63,63,216,94,155,63,94,155,155,63,216,3,124,63,216,155,124,155,155,216,124,185,124,34,155,216,124,185,124,63,63,124,185,155,216,34,124,3,94,185,63,63,124,63,216,185,155,155,94,34,3,3,185,124,124,3,94,3,185,124,63,185,63,216,94,124,155,124,185,155,155,3,63,155,124,63,3,185,216,94,155,34,94,155,124,185,124,124,216,216,124,34,155,185,63,63,3,34,124,124,155,94,124,63,155,216,124,185,34,185,34,216,155,185,3,34,185,155,124,94,216,124,185,185,155,124,155,34,185,34,185,155,216,63,63,63,34,216,124,94,63,124,124,94,155,63,94,63,124,34,216,63,63,124,216,124,124,63,124,124,216,34,94,3,94,63,63,94,185,124,185,124,185,94,216,94,185,124,216,185,34,94,124,94,63,63,124,185,155,124,185,185,3,185,94,94,94,124,3,124,185,216,124,94,155,3,63,155,155,185,94,94,124,124,185,155,34,124,94,94,216,94,34,155,94,34,155,94,3,34,34,34,124,155,63,155,63,34,34,155,94,34,63,124,3,124,216,94,216,155,94,124,94,124,94,94,34,155,63,34,63,3,94,124,124,185,155,3,94,94,94,63,63,216,124,216,34,124,185,185,34,124,185,155,185,185,124,124,94,124,94,94,124,94,63,216,155,124,185,185,94,3,34,124,94,124,124,155,124,124,185,3,185,216,3,124,34,185,124,3,124,155,155,216,63,63,185,94,94,216,34,185,124,34,185,94,3,94,155,3,3,34,185,34,155,124,34,216,3,124,216,63,63,94,124,3,63,124,155,3,216,94,94,185,63,94,185,3,63,34,63,94,94,185,216,185,124,124,63,94,185,124,63,155,155,63,155,185,155,124,124,94,216,155,185,63,63,63,63,63,155,185,34,216,185,63,63,185,155,124],\"name\":\"Day of Year\"}];\n            var layout = {\"title\":\"Box plot segmentation\"};\n            Plotly.newPlot('620980bd-e901-4727-80fa-109284a07a48', data, layout);\n        \r\n});\r\n};\r\nif ((typeof(require) !==  typeof(Function)) || (typeof(require.config) !== typeof(Function))) {\r\n    var script = document.createElement(\"script\"); \r\n    script.setAttribute(\"src\", \"https://cdnjs.cloudflare.com/ajax/libs/require.js/2.3.6/require.min.js\");\r\n    script.onload = function(){\r\n        renderPlotly();\r\n    };\r\n    document.getElementsByTagName(\"head\")[0].appendChild(script); \r\n}\r\nelse {\r\n    renderPlotly();\r\n}\r\n</script>\r\n"
     },
     "execution_count": 1,
     "metadata": {}
    }
   ]
  },
  {
   "cell_type": "markdown",
   "metadata": {},
   "source": [
    "## 4. Correlation Matrix"
   ]
  },
  {
   "cell_type": "code",
   "execution_count": 1,
   "metadata": {},
   "source": [
    "#r \"nuget:MathNet.Numerics\""
   ],
   "outputs": []
  },
  {
   "cell_type": "code",
   "execution_count": 1,
   "metadata": {},
   "source": [
    "#load \"C:\\Users\\dcost\\source\\repos\\SmartFireAlarm\\SmartFireAlarm\\Jupyter\\Helpers.csx\""
   ],
   "outputs": []
  },
  {
   "cell_type": "code",
   "execution_count": 1,
   "metadata": {},
   "source": [
    "var featureColumns = new string[] { \"Temperature\", \"Luminosity\", \"Infrared\", \"Distance\", \"Hour\", \"Day\" };\r\n",
    "\r\n",
    "var featureMatrix = new List<List<double>>();\r\n",
    "\r\n",
    "featureMatrix.Add(temperatures.Select(Convert.ToDouble).ToList());\r\n",
    "featureMatrix.Add(luminosities.Select(Convert.ToDouble).ToList());\r\n",
    "featureMatrix.Add(infrareds.Select(Convert.ToDouble).ToList());\r\n",
    "featureMatrix.Add(distances.Select(Convert.ToDouble).ToList());\r\n",
    "featureMatrix.Add(hours.Select(Convert.ToDouble).ToList());\r\n",
    "featureMatrix.Add(days.Select(Convert.ToDouble).ToList());\r\n",
    "\r\n",
    "var correlationMatrix = Chart.Plot(\r\n",
    "    new Graph.Heatmap \r\n",
    "    {\r\n",
    "        x = featureColumns,\r\n",
    "        y = featureColumns.Reverse(),\r\n",
    "        z = Helpers.GetPearsonCorrelation(featureMatrix),\r\n",
    "        zmin = -1,\r\n",
    "        zmax = 1\r\n",
    "    }\r\n",
    ");\r\n",
    "\r\n",
    "var layout = new Layout.Layout()\r\n",
    "{\r\n",
    "    autosize = \"true\", \r\n",
    "    margin =  new Graph.Margin{ l = 90 }, // fix left margin to accomodate longer labels\r\n",
    "    title = \"Features Correlation Matrix\"\r\n",
    "};\r\n",
    "correlationMatrix.WithLayout(layout);\r\n",
    "display(correlationMatrix);"
   ],
   "outputs": [
    {
     "output_type": "execute_result",
     "data": {
      "text/html": "<div id=\"5d5dfa02-ed75-401c-8a80-ffc31f704aed\" style=\"width: 900px; height: 500px;\"></div>\r\n<script type=\"text/javascript\">\r\n\r\nvar renderPlotly = function() {\r\n    var xplotRequire = require.config({context:'xplot-3.0.1',paths:{plotly:'https://cdn.plot.ly/plotly-1.49.2.min'}}) || require;\r\n    xplotRequire(['plotly'], function(Plotly) {\r\n\n            var data = [{\"type\":\"heatmap\",\"z\":[[0.04742847702380561,0.035039105053846185,0.04175573703457397,0.45983295935254087,0.4846788682143226,1.0],[-0.24027145713629017,0.06898130114582184,-0.007132956903212761,0.39215350407373806,1.0,0.4846788682143226],[-0.04658102265801865,-0.02937870469319249,0.07125922463950662,1.0,0.39215350407373806,0.45983295935254087],[0.035557731654376264,0.005700798651398078,1.0,0.07125922463950662,-0.007132956903212761,0.04175573703457397],[-0.027431176557048225,1.0,0.005700798651398078,-0.02937870469319249,0.06898130114582184,0.035039105053846185],[1.0,-0.027431176557048225,0.035557731654376264,-0.04658102265801865,-0.24027145713629017,0.04742847702380561]],\"x\":[\"Temperature\",\"Luminosity\",\"Infrared\",\"Distance\",\"Hour\",\"Day\"],\"y\":[\"Day\",\"Hour\",\"Distance\",\"Infrared\",\"Luminosity\",\"Temperature\"],\"zmin\":-1.0,\"zmax\":1.0}];\n            var layout = {\"title\":\"Features Correlation Matrix\",\"autosize\":\"true\",\"margin\":{\"l\":90.0}};\n            Plotly.newPlot('5d5dfa02-ed75-401c-8a80-ffc31f704aed', data, layout);\n        \r\n});\r\n};\r\nif ((typeof(require) !==  typeof(Function)) || (typeof(require.config) !== typeof(Function))) {\r\n    var script = document.createElement(\"script\"); \r\n    script.setAttribute(\"src\", \"https://cdnjs.cloudflare.com/ajax/libs/require.js/2.3.6/require.min.js\");\r\n    script.onload = function(){\r\n        renderPlotly();\r\n    };\r\n    document.getElementsByTagName(\"head\")[0].appendChild(script); \r\n}\r\nelse {\r\n    renderPlotly();\r\n}\r\n</script>\r\n"
     },
     "execution_count": 1,
     "metadata": {}
    }
   ]
  },
  {
   "cell_type": "code",
   "execution_count": 1,
   "metadata": {},
   "source": [
    ""
   ],
   "outputs": []
  }
 ],
 "metadata": {
  "kernelspec": {
   "display_name": ".NET (C#)",
   "language": "C#",
   "name": ".net-csharp"
  },
  "language_info": {
   "file_extension": ".cs",
   "mimetype": "text/x-csharp",
   "name": "C#",
   "pygments_lexer": "csharp",
   "version": "8.0"
  }
 },
 "nbformat": 4,
 "nbformat_minor": 4
}