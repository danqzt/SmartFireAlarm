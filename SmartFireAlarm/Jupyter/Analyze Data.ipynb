{
 "cells": [
  {
   "cell_type": "markdown",
   "metadata": {},
   "source": [
    "# ANALYZE DATA\n",
    "### (numerical and categorical distribution, box plot segmentation and correlation matrix)"
   ]
  },
  {
   "cell_type": "code",
   "execution_count": 1,
   "metadata": {},
   "outputs": [
    {
     "data": {
      "text/html": [
       "\r\n",
       "<div>\r\n",
       "    <div id='dotnet-interactive-this-cell-26980.7eff043c986b474b9087b17d55d72730' style='display: none'>\r\n",
       "        The below script needs to be able to find the current output cell; this is an easy method to get it.\r\n",
       "    </div>\r\n",
       "    <script type='text/javascript'>\r\n",
       "// ensure `require` is available globally\r\n",
       "if (typeof require !== typeof Function || typeof require.config !== typeof Function) {\r\n",
       "    let require_script = document.createElement('script');\r\n",
       "    require_script.setAttribute('src', 'https://cdnjs.cloudflare.com/ajax/libs/require.js/2.3.6/require.min.js');\r\n",
       "    require_script.setAttribute('type', 'text/javascript');\r\n",
       "    require_script.onload = function () {\r\n",
       "        loadDotnetInteractiveApi();\r\n",
       "    };\r\n",
       "\r\n",
       "    document.getElementsByTagName('head')[0].appendChild(require_script);\r\n",
       "}\r\n",
       "else {\r\n",
       "    loadDotnetInteractiveApi();\r\n",
       "}\r\n",
       "\r\n",
       "async function probeAddresses(probingAddresses) {\r\n",
       "    function timeout(ms, promise) {\r\n",
       "        return new Promise(function (resolve, reject) {\r\n",
       "            setTimeout(function () {\r\n",
       "                reject(new Error('timeout'))\r\n",
       "            }, ms)\r\n",
       "            promise.then(resolve, reject)\r\n",
       "        })\r\n",
       "    }\r\n",
       "\r\n",
       "    if (Array.isArray(probingAddresses)) {\r\n",
       "        for (let i = 0; i < probingAddresses.length; i++) {\r\n",
       "\r\n",
       "            let rootUrl = probingAddresses[i];\r\n",
       "\r\n",
       "            if (!rootUrl.endsWith('/')) {\r\n",
       "                rootUrl = `${rootUrl}/`;\r\n",
       "            }\r\n",
       "\r\n",
       "            try {\r\n",
       "                let response = await timeout(1000, fetch(`${rootUrl}discovery`, {\r\n",
       "                    method: 'POST',\r\n",
       "                    cache: 'no-cache',\r\n",
       "                    mode: 'cors',\r\n",
       "                    timeout: 1000,\r\n",
       "                    headers: {\r\n",
       "                        'Content-Type': 'text/plain'\r\n",
       "                    },\r\n",
       "                    body: probingAddresses[i]\r\n",
       "                }));\r\n",
       "\r\n",
       "                if (response.status == 200) {\r\n",
       "                    return rootUrl;\r\n",
       "                }\r\n",
       "            }\r\n",
       "            catch (e) { }\r\n",
       "        }\r\n",
       "    }\r\n",
       "}\r\n",
       "\r\n",
       "function loadDotnetInteractiveApi() {\r\n",
       "    probeAddresses([\"http://192.168.178.17:1000/\", \"http://127.0.0.1:1000/\"])\r\n",
       "        .then((root) => {\r\n",
       "            // use probing to find host url and api resources\r\n",
       "            // load interactive helpers and language services\r\n",
       "            let dotnetInteractiveRequire = require.config({\r\n",
       "                context: '26980.7eff043c986b474b9087b17d55d72730',\r\n",
       "                paths: {\r\n",
       "                    'dotnet-interactive': `${root}resources`\r\n",
       "                }\r\n",
       "            }) || require;\r\n",
       "\r\n",
       "            let dotnetInteractiveExtensionsRequire = require.config({\r\n",
       "                context: '26980.7eff043c986b474b9087b17d55d72730',\r\n",
       "                paths: {\r\n",
       "                    'dotnet-interactive-extensions': `${root}extensions`\r\n",
       "                }\r\n",
       "            }) || require;\r\n",
       "\r\n",
       "            if (!window.dotnetInteractiveRequire) {\r\n",
       "                window.dotnetInteractiveRequire = dotnetInteractiveRequire;\r\n",
       "            }\r\n",
       "\r\n",
       "            if (!window.dotnetInteractiveExtensionsRequire) {\r\n",
       "                window.dotnetInteractiveExtensionsRequire = dotnetInteractiveExtensionsRequire;\r\n",
       "            }\r\n",
       "\r\n",
       "            window.getExtensionRequire = function(extensionName, extensionCacheBuster) {\r\n",
       "                let paths = {};\r\n",
       "                paths[extensionName] = `${root}extensions/${extensionName}/resources/`;\r\n",
       "                \r\n",
       "                let internalRequire = require.config({\r\n",
       "                    context: extensionCacheBuster,\r\n",
       "                    paths: paths,\r\n",
       "                    urlArgs: `cacheBuster=${extensionCacheBuster}`\r\n",
       "                    }) || require;\r\n",
       "\r\n",
       "                return internalRequire\r\n",
       "            };\r\n",
       "        \r\n",
       "            dotnetInteractiveRequire([\r\n",
       "                    'dotnet-interactive/dotnet-interactive'\r\n",
       "                ],\r\n",
       "                function (dotnet) {\r\n",
       "                    dotnet.init(window);\r\n",
       "                },\r\n",
       "                function (error) {\r\n",
       "                    console.log(error);\r\n",
       "                }\r\n",
       "            );\r\n",
       "        })\r\n",
       "        .catch(error => {console.log(error);});\r\n",
       "    }\r\n",
       "    </script>\r\n",
       "</div>"
      ]
     },
     "metadata": {},
     "output_type": "display_data"
    },
    {
     "data": {
      "text/plain": [
       "Installed package Microsoft.ML version 1.5.1"
      ]
     },
     "metadata": {},
     "output_type": "display_data"
    }
   ],
   "source": [
    "#r \"nuget:Microsoft.ML,1.5.1\"\n",
    "using XPlot.Plotly;\n",
    "using System.Linq;\n",
    "using Microsoft.ML;\n",
    "using Microsoft.ML.Data;"
   ]
  },
  {
   "cell_type": "markdown",
   "metadata": {},
   "source": [
    "#### Load data models from Models.csx file "
   ]
  },
  {
   "cell_type": "code",
   "execution_count": 2,
   "metadata": {},
   "outputs": [],
   "source": [
    "#load \"C:\\Users\\dcost\\source\\repos\\SmartFireAlarm\\SmartFireAlarm\\Jupyter\\Models.csx\""
   ]
  },
  {
   "cell_type": "markdown",
   "metadata": {},
   "source": [
    "#### Initialize the ML context (we need it for building the data and training pipelines)  "
   ]
  },
  {
   "cell_type": "code",
   "execution_count": 3,
   "metadata": {},
   "outputs": [],
   "source": [
    "MLContext mlContext = new MLContext(seed: 1);"
   ]
  },
  {
   "cell_type": "markdown",
   "metadata": {},
   "source": [
    "#### Load data from csv file into a dataview"
   ]
  },
  {
   "cell_type": "code",
   "execution_count": 4,
   "metadata": {},
   "outputs": [],
   "source": [
    "const string DATASET_PATH = \"./sensors_data.csv\";\n",
    "IDataView data = mlContext.Data.LoadFromTextFile<ModelInput>(\n",
    "    path: DATASET_PATH,\n",
    "    hasHeader: true,\n",
    "    separatorChar: ',');"
   ]
  },
  {
   "cell_type": "markdown",
   "metadata": {},
   "source": [
    "#### Shuffle and split data to _trainingData_ and _testingData_ by a fraction of 0.2"
   ]
  },
  {
   "cell_type": "code",
   "execution_count": 5,
   "metadata": {},
   "outputs": [],
   "source": [
    "var shuffledData = mlContext.Data.ShuffleRows(data, seed: 0);\n",
    "var split = mlContext.Data.TrainTestSplit(shuffledData, testFraction: 0.2);\n",
    "var trainingData = split.TrainSet;\n",
    "var testingData = split.TestSet;"
   ]
  },
  {
   "cell_type": "markdown",
   "metadata": {},
   "source": [
    "#### Extract features"
   ]
  },
  {
   "cell_type": "code",
   "execution_count": 6,
   "metadata": {},
   "outputs": [],
   "source": [
    "var features = mlContext.Data.CreateEnumerable<ModelInput>(trainingData, true);\n",
    "var sources = features.Select(f => f.Source);\n",
    "var temperatures = features.Select(f => f.Temperature);\n",
    "var luminosities = features.Select(f => f.Luminosity);\n",
    "var infrareds = features.Select(f => f.Infrared);\n",
    "var distances = features.Select(f => f.Distance);\n",
    "var hours = features.Select(f => DateTime.Parse(f.CreatedAt).Hour);\n",
    "var days = features.Select(f => DateTime.Parse(f.CreatedAt).DayOfYear);"
   ]
  },
  {
   "cell_type": "markdown",
   "metadata": {},
   "source": [
    "# 1. Numerical Distribution"
   ]
  },
  {
   "cell_type": "code",
   "execution_count": 8,
   "metadata": {},
   "outputs": [
    {
     "data": {
      "text/html": [
       "<div id=\"6bafdbb1-2ee8-4455-80ec-b20117376e4e\" style=\"width: 900px; height: 500px;\"></div>\r\n",
       "<script type=\"text/javascript\">\r\n",
       "\r\n",
       "var renderPlotly = function() {\r\n",
       "    var xplotRequire = require.config({context:'xplot-3.0.1',paths:{plotly:'https://cdn.plot.ly/plotly-1.49.2.min'}}) || require;\r\n",
       "    xplotRequire(['plotly'], function(Plotly) {\r\n",
       "\n",
       "            var data = [{\"type\":\"histogram\",\"x\":[24.82,23.96,47.32,25.09,56.03,32.18,23.28,53.12,27.34,24.77,25.09,25.09,26.38,32.18,32.18,94.05,37.01,32.5,24.77,30.24,132.4,37.98,25.41,25.89,32.18,25.09,48.94,24.14,24.44,23.63,66.98,25.09,32.5,31.86,24.63,27.34,32.18,27.34,25.09,32.18,31.21,31.86,24.77,50.87,24.77,27.34,23.48,25.09,26.38,24.28,115.0,28.63,32.18,32.18,30.24,23.28,24.44,56.03,32.5,24.77,32.18,25.09,32.18,27.34,32.5,23.8,32.5,24.44,32.5,32.18,31.21,24.12,32.5,31.86,32.18,36.37,36.37,27.67,25.09,24.77,32.82,53.77,23.63,32.5,32.18,25.89,64.05,32.18,32.5,32.5,32.18,23.8,109.52,25.09,24.44,27.34,30.89,153.35,27.34,32.18,33.47,102.43,23.28,24.14,24.63,25.63,23.96,25.09,27.34,88.25,23.48,27.34,32.5,90.83,27.67,32.18,32.5,32.18,23.8,35.4,27.34,96.63,27.67,24.44,64.05,24.77,32.18,64.05,32.18,32.5,27.67,32.18,87.29,25.09,29.92,100.82,32.18,55.7,34.11,43.13,32.5,36.37,30.24,31.53,41.2,25.09,23.28,31.21,32.5,23.63,89.22,31.86,99.53,32.5,32.5,32.5,32.18,45.07,23.28,32.5,32.18,29.92,23.28,32.18,109.2,23.63,30.24,30.24,32.18,29.92,27.67,23.28,25.09,27.67,24.77,31.53,23.63,32.82,31.86,32.5,32.5,29.92,86.96,30.24,68.59,52.8,24.44,30.24,23.63,32.18,32.18,32.18,25.09,27.34,24.44,30.24,36.37,27.34,32.18,32.18,25.09,30.24,31.86,25.09,60.21,32.18,38.95,33.79,27.34,29.92,36.37,32.18,95.34,23.48,32.18,27.34,73.43,24.44,27.34,24.44,32.18,24.77,36.04,25.09,25.09,32.18,32.18,27.34,32.18,32.5,24.44,24.6,32.18,32.18,30.24,24.38,37.01,24.44,32.18,31.86,31.21,32.5,24.28,28.96,32.18,34.76,32.18,24.12,31.21,32.5,31.86,25.09,32.5,24.44,32.18,31.21,32.18,32.18,24.63,32.5,23.48,32.18,24.77,25.09,157.22,32.18,32.5,27.34,32.18,31.21,88.9,35.72,25.09,64.28,24.77,24.77,24.44,32.18,30.24,31.86,25.09,23.48,30.24,24.44,31.21,32.18,25.09,29.92,32.5,32.5,32.18,24.44,35.4,24.44,81.81,27.34,24.12,31.21,32.18,32.18,23.63,32.5,69.56,34.11,32.5,32.5,32.18,32.18,32.18,115.0,23.96,107.59,32.5,27.34,24.44,24.44,29.92,64.96,24.14,33.14,25.09,32.5,25.09,32.18,30.24,26.7,23.28,32.18,32.18,31.21,24.77,24.14,30.89,24.63,32.5,32.18,32.18,32.18,31.21,32.5,27.67,32.18,34.11,32.18,23.28,31.86,23.63,31.21,36.37,32.18,109.52,61.83,25.09,50.55,25.89,32.5,32.18,25.41,24.44,32.18,32.5,108.55,96.31,36.37,24.44,27.67,30.24,31.21,32.18,26.38,32.18,31.86,25.41,27.34,24.63,34.11,32.18,67.63,32.5,25.09,32.18,31.86,32.18,26.38,24.12,65.05,23.8,47.32,27.67,24.77,24.77,31.86,32.5,32.5,32.5,30.24,82.77,32.18,95.66,32.5,32.18,31.53,25.09,30.24,49.26,24.44,24.77,31.21,36.04,32.18,32.5,30.89,32.18,24.44,32.18,25.09,24.12,35.08,32.5,24.77,24.77,24.44,24.44,33.14,25.09,29.6,30.24,32.18,32.18,34.11,42.81,31.86,23.48,32.18,25.41,34.43,32.18,31.53,24.77,101.79,25.09,32.18,32.18,30.24,32.18,23.96,30.24,24.12,25.09,32.5,32.18,30.24,23.28,70.85,24.28,74.07,64.38,25.41,24.44,23.28,26.38,92.12,32.5,52.16,32.5,24.12,24.38,24.44,24.63,32.5,24.31,32.18,32.18,24.14,32.18,25.09,32.18,34.76,25.41,46.68,25.09,31.86,35.72,24.63,110.49,32.18,24.63,30.24,25.09,24.12,32.18,30.24,32.18,25.09,23.48,74.72,25.09,27.67,76.65,24.12,27.99,32.18,30.57,32.18,24.63,32.5,31.21,32.18,24.31,32.18,31.86,32.18,64.92,32.5,25.09,24.77,30.24,24.77,24.77,32.18,32.5,32.18,27.34,32.18,30.24,24.77,30.24,27.67,26.38,24.77,23.63,32.5,25.41,32.5,32.5,32.18,32.18,32.18,56.99,31.86,24.12,30.24,24.77,24.77,31.86,30.24,32.18,30.24,23.48,32.5,25.21,30.24,27.34,32.5,81.48,50.87,32.18,23.63,32.5,98.24,27.34,31.86,25.09,24.77,89.54,90.19,24.14,23.96,30.24,23.28,44.75,96.63,32.18,24.77,32.5,32.18,61.5,27.34,88.9,25.09,32.5,24.77,98.24,32.18,63.12,23.48,32.18,25.09,32.18,24.44,32.82,32.18,23.48,27.34,24.92,24.44,24.77,65.37,32.18,24.44,31.21,30.24,25.09,97.28,31.53,31.86,27.34,36.69,27.34,30.24,25.14,32.18,34.43,32.5,24.77,32.18,32.18,32.18,30.24,27.67,25.41,132.4,27.34,24.28,31.86,31.86,32.18,30.24,25.09,25.41,75.68,29.92],\"name\":\"Temperature\"},{\"type\":\"histogram\",\"x\":[50.49,4.1,100.0,12.11,100.0,11.72,45.51,100.0,70.31,18.55,12.79,35.16,21.09,5.08,64.16,100.0,100.0,100.0,60.94,28.52,100.0,100.0,35.06,25.59,5.37,11.91,100.0,100.0,26.56,4.1,100.0,12.6,52.83,56.35,4.0,71.48,100.0,74.32,11.91,52.05,77.83,50.39,63.96,100.0,11.91,73.73,83.59,12.3,21.0,14.45,100.0,74.9,4.39,6.25,58.69,39.94,26.46,100.0,28.32,12.5,69.53,11.82,39.55,73.63,100.0,88.67,83.01,25.49,85.16,42.58,63.77,84.77,56.74,60.16,6.64,100.0,100.0,73.05,12.01,12.5,89.06,100.0,4.1,27.44,4.1,34.18,97.46,32.23,79.79,25.0,22.85,65.62,100.0,35.45,84.77,70.7,24.41,100.0,71.97,52.64,100.0,100.0,30.47,40.82,4.2,4.1,7.71,12.11,73.54,100.0,95.31,73.54,85.84,100.0,73.24,35.35,61.33,6.25,61.91,100.0,71.88,100.0,71.78,25.88,82.32,86.23,4.79,66.8,6.15,72.07,75.59,31.74,100.0,35.94,35.06,100.0,4.59,100.0,100.0,100.0,28.52,100.0,29.1,78.03,100.0,11.82,55.57,70.7,88.28,4.1,100.0,68.75,100.0,36.82,74.41,54.39,5.66,100.0,60.25,100.0,4.39,30.08,54.1,41.6,100.0,4.2,54.2,26.56,30.08,30.08,73.24,26.46,12.01,73.63,25.59,71.58,5.47,64.55,83.69,91.31,36.82,23.63,100.0,33.89,100.0,100.0,100.0,27.05,4.1,6.15,4.49,8.59,12.11,73.63,25.98,29.3,100.0,75.29,35.94,24.9,11.13,21.97,100.0,12.11,100.0,19.73,100.0,100.0,73.83,20.61,100.0,54.39,100.0,92.77,4.98,72.95,100.0,26.46,70.31,25.78,6.64,12.6,100.0,34.86,12.11,7.32,5.86,74.61,6.25,52.44,26.56,6.05,4.98,4.88,31.64,19.73,100.0,24.41,14.55,42.68,87.5,73.93,6.35,6.54,4.49,9.47,97.56,79.49,34.67,59.57,4.2,35.16,34.67,89.55,57.81,74.9,4.88,6.25,4.1,60.55,84.67,38.67,36.62,12.89,100.0,25.49,100.0,74.32,6.05,59.08,100.0,100.0,12.4,100.0,83.3,11.43,67.58,55.86,11.72,60.06,12.11,83.69,26.17,25.68,5.47,5.96,12.4,25.39,12.6,100.0,6.15,25.49,100.0,11.72,100.0,73.34,54.79,58.69,18.16,4.98,4.1,4.59,100.0,100.0,72.66,83.69,68.46,5.18,4.49,100.0,10.64,100.0,22.75,72.95,24.41,63.18,27.44,100.0,100.0,100.0,11.91,85.84,34.86,18.46,27.34,19.14,69.04,6.35,4.69,37.99,87.11,50.29,26.86,4.1,52.83,7.03,6.64,73.54,42.58,50.88,71.78,6.93,82.81,5.18,61.62,65.82,4.3,56.64,100.0,6.54,100.0,100.0,35.84,100.0,27.83,75.78,15.04,11.33,25.49,55.37,85.84,100.0,100.0,100.0,25.49,76.17,35.94,36.33,38.96,22.75,4.69,48.54,36.52,69.82,4.1,100.0,6.64,100.0,79.69,35.74,42.97,85.06,5.76,18.36,100.0,100.0,66.41,100.0,73.05,26.46,13.96,68.46,95.31,37.89,4.59,41.89,100.0,4.88,100.0,88.38,6.54,68.07,12.3,31.35,100.0,26.46,36.62,72.27,100.0,5.27,42.29,52.44,50.0,82.32,29.79,12.01,24.9,100.0,50.78,64.06,17.48,25.39,80.27,100.0,10.94,10.06,30.96,6.64,24.61,100.0,100.0,4.69,93.16,4.98,36.52,100.0,6.84,86.72,12.21,100.0,12.11,54.3,35.64,41.31,5.08,8.98,10.25,25.88,12.21,64.84,6.05,29.69,9.08,100.0,100.0,100.0,100.0,9.28,83.5,66.5,18.07,100.0,98.14,100.0,61.62,25.88,18.26,25.88,5.37,90.04,3.91,6.84,12.89,42.87,33.59,12.3,5.76,100.0,11.91,100.0,12.11,49.12,100.0,4.1,100.0,25.1,4.1,21.78,35.84,81.54,100.0,20.51,50.29,11.91,87.6,100.0,13.09,75.59,100.0,24.9,74.51,5.27,25.78,7.62,4.1,72.75,33.89,6.64,37.99,30.96,27.93,46.19,100.0,72.07,12.21,14.06,24.32,68.85,18.55,4.39,43.65,6.74,73.73,72.66,44.53,13.48,18.65,75.0,21.58,94.43,4.3,63.96,11.43,100.0,64.94,4.2,100.0,5.08,100.0,9.57,77.05,33.59,10.74,88.38,45.12,31.64,55.08,29.2,84.77,53.52,33.69,5.18,72.27,48.83,100.0,100.0,4.39,4.1,56.93,100.0,70.02,29.39,12.11,64.06,100.0,100.0,62.4,59.18,32.71,86.91,88.77,100.0,4.3,89.26,60.64,11.04,100.0,73.34,100.0,11.91,54.88,82.13,100.0,61.13,100.0,84.18,5.57,12.6,32.23,25.39,100.0,58.2,79.0,75.78,45.7,26.46,12.3,100.0,4.1,25.49,55.08,32.81,35.74,100.0,59.86,4.98,70.7,100.0,71.88,11.52,48.05,80.57,100.0,54.79,12.5,6.05,5.37,17.68,26.27,73.63,35.06,100.0,75.29,6.54,53.61,57.52,6.45,34.77,35.45,36.52,100.0,14.36],\"name\":\"Luminosity\"},{\"type\":\"histogram\",\"x\":[0.0,0.0,94.34,0.0,92.29,15.43,0.0,93.95,0.0,0.0,0.0,95.31,94.34,0.0,0.0,49.71,92.87,0.0,0.0,25.68,41.31,94.53,95.12,94.63,0.0,0.0,93.26,0.0,0.0,0.0,93.07,0.0,0.0,0.0,0.0,0.0,0.0,0.0,0.0,0.0,0.0,0.0,0.0,95.12,0.0,0.0,0.0,0.0,51.56,0.0,43.85,0.0,0.0,0.0,92.97,0.0,0.0,95.31,0.0,0.0,0.0,0.0,0.0,0.0,0.0,0.0,0.0,0.0,0.0,0.0,0.0,0.0,0.0,0.0,0.0,0.0,95.21,0.0,0.0,0.0,0.0,95.21,0.0,33.69,0.0,95.51,96.0,0.0,0.0,33.89,93.65,0.0,49.22,94.92,0.0,0.0,93.75,94.82,0.0,0.0,95.41,93.65,0.0,0.0,0.0,0.0,0.0,0.0,0.0,42.38,0.0,0.0,0.0,92.48,0.0,30.86,0.0,0.0,0.0,95.31,0.0,45.9,0.0,0.0,95.21,0.0,0.0,86.72,0.0,0.0,0.0,43.75,93.85,94.92,2.93,95.61,0.0,94.92,92.38,92.97,43.85,94.92,39.06,0.0,0.0,0.0,0.0,0.0,0.0,0.0,93.07,0.0,42.97,0.0,0.0,0.0,0.0,95.41,0.0,93.36,0.0,31.93,0.0,0.0,4.92,0.0,0.0,23.24,49.22,26.95,0.0,0.0,0.0,0.0,0.0,0.0,0.0,0.0,0.0,0.0,0.0,29.69,39.26,23.24,94.92,0.0,0.0,33.2,0.0,0.0,0.0,2.44,0.0,0.0,0.0,60.55,95.12,0.0,86.04,37.5,0.0,91.8,0.0,0.0,95.21,0.0,95.12,93.55,0.0,32.32,94.92,0.0,94.73,0.0,0.0,0.0,95.31,0.0,0.0,0.0,0.0,0.0,92.77,94.92,0.0,0.0,0.0,0.0,0.0,0.0,0.0,0.0,0.0,0.0,0.1,95.21,94.53,0.0,0.0,0.0,0.0,0.0,0.0,0.0,0.0,0.0,0.0,0.0,0.0,0.0,0.0,95.31,0.0,0.0,0.0,0.0,0.0,0.0,0.0,0.0,0.0,20.61,95.41,0.0,94.53,31.15,0.0,0.0,0.0,0.0,95.41,95.31,0.0,96.78,0.0,0.0,0.0,0.0,15.53,0.0,0.0,0.0,46.29,0.0,0.0,0.0,0.0,31.64,76.46,95.21,0.0,0.0,92.68,0.0,93.65,0.0,0.0,0.0,0.0,0.0,0.0,0.0,94.63,0.0,0.0,0.0,0.0,0.0,0.0,43.85,0.0,3.46,89.94,0.0,0.0,0.0,24.22,95.7,0.0,95.21,0.0,0.0,94.92,93.55,35.84,93.36,0.0,0.0,0.0,0.0,0.0,0.0,94.24,0.0,21.78,0.0,0.0,0.0,0.0,57.81,0.0,0.0,0.0,0.0,0.0,0.0,0.0,0.0,93.55,0.0,49.22,91.02,95.41,91.21,93.07,0.0,68.55,0.0,0.0,0.0,0.0,93.16,91.41,93.16,0.0,0.0,11.72,14.94,16.31,93.55,0.0,0.0,95.41,0.0,0.0,0.0,0.0,0.0,0.0,95.02,0.0,0.0,0.0,11.72,0.0,92.97,0.0,95.31,0.0,0.0,0.0,0.0,0.0,71.09,0.0,12.5,94.14,0.0,42.97,0.0,0.0,0.0,0.0,32.32,95.02,0.0,95.41,0.0,91.89,0.0,0.0,0.0,0.0,0.0,49.61,0.0,0.0,91.5,0.0,0.0,0.0,0.0,0.0,0.0,0.0,26.17,38.18,0.0,28.81,94.43,93.26,0.0,0.0,0.0,95.41,93.95,0.0,0.0,0.0,45.9,0.0,0.0,26.95,13.87,0.0,0.0,49.12,0.0,0.0,0.0,0.0,46.88,0.0,95.31,95.9,94.34,96.48,0.0,0.0,0.0,25.0,94.43,0.0,94.53,0.0,0.0,94.04,0.0,0.0,0.0,0.0,0.0,41.31,0.0,0.0,0.0,0.0,94.04,0.0,0.0,0.0,0.0,91.7,0.0,5.02,0.0,0.0,65.92,95.41,0.0,95.31,31.84,0.0,0.0,0.0,95.02,0.0,0.0,93.36,0.0,0.0,0.0,29.3,0.0,0.0,0.0,0.0,0.0,0.0,48.63,0.0,0.0,96.09,0.0,0.0,0.0,30.57,0.0,0.0,0.0,0.0,0.0,0.0,0.0,10.74,0.0,36.72,0.0,70.51,0.0,0.0,0.0,0.0,0.0,0.0,0.0,0.0,0.0,0.0,0.0,0.0,36.82,0.0,0.0,0.0,42.19,94.34,21.88,0.0,0.0,94.63,0.0,0.0,0.0,93.46,95.31,0.0,0.0,0.0,94.34,0.0,0.0,0.0,0.0,95.31,95.41,0.0,0.0,12.11,0.0,94.92,45.9,0.0,0.0,0.0,0.0,95.21,0.0,42.38,0.0,0.0,0.0,50.68,0.0,95.51,0.0,0.0,0.0,46.09,0.0,95.02,0.0,0.0,0.0,0.0,0.0,0.0,93.16,0.0,0.0,0.0,22.56,95.12,93.26,0.0,0.0,0.0,95.21,0.0,1.95,0.0,0.0,94.43,0.0,0.0,0.0,0.0,0.0,32.42,0.0,95.12,41.31,0.0,0.0,0.0,0.0,0.0,0.0,94.92,95.21,94.63,43.16],\"name\":\"Infrared\"},{\"type\":\"histogram\",\"x\":[8.84,154.09,41.55,400.0,400.0,60.87,12.08,400.0,194.26,400.0,88.81,194.23,152.74,78.02,64.48,193.64,400.0,400.0,78.83,57.68,195.23,400.0,193.43,19.84,400.0,77.33,7.56,7.13,193.75,154.09,400.0,400.0,400.0,61.91,154.5,193.37,57.64,194.3,83.96,50.82,58.82,26.73,242.96,400.0,400.0,125.81,394.32,96.48,400.0,17.49,195.19,193.44,63.57,400.0,59.69,155.79,193.75,400.0,30.7,60.24,61.2,77.05,56.85,129.92,66.92,325.6,24.47,194.64,66.31,58.1,400.0,67.14,35.34,28.38,89.87,400.0,400.0,193.34,71.82,400.0,54.26,400.0,156.16,400.0,67.74,400.0,155.75,31.24,64.22,56.2,61.23,13.86,194.44,193.33,66.15,153.31,20.09,400.0,170.5,59.05,400.0,4.19,154.91,8.79,154.91,153.6,155.39,400.0,193.84,193.37,73.24,193.84,62.4,42.0,193.4,400.0,22.83,400.0,400.0,400.0,192.26,193.11,194.28,193.79,400.0,66.11,89.66,5.12,400.0,66.73,193.34,400.0,154.46,193.4,19.5,45.92,72.21,42.46,7.16,72.25,52.37,46.4,400.0,57.68,59.4,400.0,156.15,400.0,60.42,155.38,400.0,27.28,237.28,400.0,57.95,59.16,75.56,400.0,10.11,400.0,75.51,60.96,156.99,61.0,4.28,155.3,55.05,60.46,400.0,400.0,193.4,155.8,79.72,193.39,195.03,400.0,155.35,54.29,22.42,64.26,23.36,61.05,193.34,61.67,42.18,56.12,10.78,400.0,154.13,400.0,400.0,60.75,400.0,129.92,194.66,400.0,59.09,193.44,57.69,400.0,77.03,60.46,400.0,73.87,43.15,400.0,400.0,43.89,194.31,59.7,42.18,400.0,7.9,73.64,75.65,195.93,400.0,193.73,194.26,193.69,61.62,91.63,7.91,193.4,92.82,29.68,77.67,146.28,400.0,50.44,193.75,154.49,73.51,400.0,400.0,21.85,400.0,193.72,400.0,61.78,61.45,66.92,154.08,18.78,74.86,70.31,19.49,317.08,400.0,21.35,67.0,194.23,49.57,68.42,61.76,20.44,24.53,76.22,400.0,63.72,95.86,59.0,194.16,88.66,60.76,400.0,56.06,194.3,74.18,61.92,400.0,400.0,400.0,155.74,64.68,88.91,366.69,400.0,400.0,61.42,400.0,63.88,57.48,194.61,60.47,70.74,400.0,60.43,53.76,400.0,74.23,194.64,69.76,400.0,60.81,193.83,321.3,22.4,107.1,28.04,154.06,400.0,7.91,400.0,400.0,58.3,28.33,76.24,400.0,195.19,154.98,4.28,56.2,195.93,193.72,366.22,400.0,153.66,7.48,400.0,83.75,400.0,193.4,400.0,60.11,154.04,10.39,400.0,400.0,400.0,68.15,8.52,400.0,155.35,400.0,400.0,400.0,70.2,19.6,52.51,194.28,23.32,53.59,33.7,10.37,400.0,154.9,400.0,7.52,82.61,194.44,400.0,194.55,400.0,19.04,400.0,59.97,14.38,193.73,63.61,66.43,400.0,9.47,46.56,193.75,194.3,62.67,58.61,55.94,154.04,75.87,61.12,194.03,194.2,154.51,400.0,75.12,49.92,65.26,193.76,400.0,25.27,78.88,400.0,364.7,400.0,290.37,5.85,193.34,194.58,89.89,60.77,400.0,400.0,400.0,57.2,6.25,400.0,194.15,400.0,78.08,59.49,400.0,60.4,56.17,193.73,194.16,400.0,400.0,400.0,47.8,24.33,43.43,400.0,61.57,90.06,193.25,400.0,400.0,301.72,400.0,194.58,400.0,55.43,82.69,57.48,57.5,73.76,61.26,44.79,5.8,75.16,73.86,78.92,194.03,400.0,400.0,400.0,400.0,194.48,82.12,52.13,400.0,400.0,68.01,154.51,57.06,195.05,90.17,400.0,78.93,400.0,14.8,153.62,152.3,400.0,154.99,93.85,68.91,11.26,5.06,154.87,65.32,400.0,25.47,195.05,154.89,193.78,156.23,64.47,5.13,28.69,59.06,6.79,22.17,400.0,400.0,10.77,13.28,400.0,400.0,400.0,41.84,155.74,5.73,400.0,153.67,400.0,194.55,37.69,42.94,400.0,400.0,400.0,343.57,400.0,400.0,193.34,400.0,193.25,182.04,66.38,57.5,400.0,400.0,348.63,400.0,65.42,154.1,60.05,25.62,50.02,400.0,64.47,91.58,97.01,59.85,382.72,400.0,66.49,15.9,400.0,125.81,400.0,55.44,90.42,60.04,194.69,153.16,68.61,154.92,64.98,400.0,65.28,17.1,400.0,16.5,75.81,51.01,59.47,67.24,400.0,6.13,218.91,400.0,400.0,400.0,57.16,399.49,400.0,19.56,400.0,194.25,400.0,400.0,400.0,76.43,154.15,400.0,153.63,193.76,60.21,400.0,71.52,400.0,400.0,8.8,9.34,400.0,6.14,400.0,193.11,70.24,67.07,66.07,400.0,7.1,193.83,193.35,76.89,400.0,66.19,196.29,400.0,400.0,369.19,400.0,89.71,56.59,194.58,400.0,61.42,399.53,193.93,6.45,193.75,79.42,59.14,66.13,193.75,64.37,400.0,193.72,400.0,25.22,75.63,153.31,69.47,192.26,54.18,9.89,400.0,44.04,59.11,82.07,57.05,34.18,59.21,400.0,193.39,193.43,195.23,193.44,153.22,60.21,400.0,65.68,400.0,193.33,193.32,65.17,60.86],\"name\":\"Distance\"},{\"type\":\"histogram\",\"x\":[18,21,9,10,8,12,10,21,19,18,7,22,13,11,8,19,21,9,15,12,22,8,22,18,19,10,9,18,15,21,8,7,23,11,10,19,8,18,10,9,8,23,10,7,10,21,14,10,13,15,19,18,10,19,8,10,15,7,23,7,8,10,12,18,11,16,23,15,11,23,23,17,23,23,19,12,21,19,10,10,12,7,11,8,11,18,11,23,11,8,12,10,19,22,16,18,10,21,18,8,21,21,10,18,10,21,15,10,18,10,15,19,11,8,18,12,11,11,14,21,18,22,19,15,11,16,19,11,10,11,21,12,13,8,12,7,19,7,8,21,8,8,12,8,11,10,10,23,9,18,21,23,19,23,9,12,11,21,10,21,10,12,10,23,19,21,8,12,10,12,19,10,10,19,22,8,18,12,8,11,9,12,10,12,8,12,14,8,18,19,11,12,10,19,18,8,21,21,12,8,10,12,8,10,7,10,8,7,18,12,8,9,9,15,11,19,9,22,18,10,10,7,21,8,10,19,10,19,11,9,22,10,10,19,12,21,21,18,10,12,8,11,21,15,19,10,9,14,23,9,10,8,9,16,9,8,19,11,18,11,15,8,22,7,21,12,12,19,11,23,21,21,10,11,16,10,10,8,12,11,10,17,8,10,8,10,10,12,8,21,19,18,21,10,21,19,14,8,10,19,11,19,7,9,23,12,9,11,11,22,15,19,8,21,15,10,12,11,18,21,10,11,22,12,8,13,10,10,19,23,16,18,10,10,8,19,10,11,8,8,18,19,9,19,10,8,18,8,21,11,22,21,22,8,19,9,12,10,10,9,11,8,21,7,15,19,12,12,10,13,11,23,22,18,10,9,10,12,11,10,9,23,11,13,14,7,10,7,21,15,7,8,9,8,9,8,9,11,10,9,11,8,10,12,8,15,8,8,8,19,9,23,23,17,10,10,15,7,12,10,7,15,18,12,10,12,10,10,12,7,7,19,16,11,8,21,19,23,10,10,10,9,12,10,19,15,12,15,10,10,11,8,15,11,21,7,11,10,17,10,13,11,11,21,23,22,21,22,10,11,18,19,12,18,9,10,10,21,10,12,10,23,8,10,19,9,10,8,8,17,8,12,23,10,15,8,10,19,7,18,18,10,12,10,10,12,23,11,10,8,23,9,11,11,10,7,12,10,15,11,11,19,19,11,8,10,10,18,13,17,18,11,10,11,11,19,11,11,9,8,18,8,10,14,23,8,21,12,16,9,19,8,18,23,8,7,11,18,11,11,18,23,10,10,9,9,18,10,10,10,21,19,11,17,11,10,8,18,10,10,9,16,10,9,21,14,10,10,8,18,7,8,15,10,10,22,10,8,11,18,8,12,10,8,23,19,19,21,19,8,21,9,7,12,10,10,19,23,10,21,8,19,19,21,23,8,10,8,8,10,21,12],\"name\":\"Hour\"},{\"type\":\"histogram\",\"x\":[3,155,94,94,94,124,34,155,63,63,94,63,34,216,185,63,155,124,3,124,63,94,63,3,155,94,94,3,63,155,94,94,185,124,34,63,185,63,94,124,185,185,3,94,94,63,3,94,34,34,63,63,216,155,185,34,63,94,185,94,185,94,124,63,124,3,185,63,124,185,185,3,185,185,155,124,155,63,94,94,124,94,34,185,216,3,34,185,124,185,124,3,63,63,3,63,63,155,63,185,155,155,34,3,34,155,34,94,63,63,3,63,124,94,63,124,124,216,3,155,63,63,63,63,34,3,155,34,216,124,63,124,34,63,124,94,155,94,94,155,185,94,124,185,124,94,34,185,124,34,155,185,63,185,124,124,216,155,34,155,216,124,34,185,155,155,185,124,185,124,63,34,94,63,63,185,34,124,185,124,124,124,63,124,94,124,3,185,34,155,216,124,94,63,63,185,155,63,124,185,94,124,185,94,94,216,94,94,63,124,94,124,94,3,216,63,94,63,63,63,216,94,155,63,94,155,216,63,216,124,63,34,216,155,124,155,155,63,216,124,185,124,155,34,155,216,124,3,185,124,216,63,124,3,124,185,155,216,34,124,3,185,63,94,155,124,124,63,216,185,155,155,94,34,3,94,3,185,124,124,94,3,185,63,185,216,94,124,185,155,155,63,155,94,155,63,3,185,216,155,34,155,94,124,185,124,124,216,216,63,34,155,185,63,63,3,124,34,3,155,94,124,63,124,185,34,34,216,155,185,3,3,63,34,185,155,216,124,185,185,63,155,124,155,34,185,34,185,155,216,63,155,63,94,155,124,124,94,63,124,124,94,155,94,63,63,124,124,185,34,216,185,63,63,34,124,216,124,124,63,124,185,216,34,3,94,3,94,63,63,94,185,124,185,124,185,94,216,63,124,216,185,94,124,94,63,63,185,94,155,124,185,185,3,185,94,63,94,124,3,94,63,3,124,94,124,185,216,124,94,94,155,3,216,63,155,155,185,94,63,94,124,124,185,155,34,124,63,94,124,216,185,34,34,155,94,34,94,3,34,34,34,124,155,185,63,155,63,34,124,34,155,124,3,124,94,216,155,94,124,94,185,94,34,155,124,34,185,63,3,94,124,185,94,3,94,94,63,94,63,63,216,124,216,34,124,185,216,34,185,185,124,34,124,94,94,124,3,63,216,124,155,63,124,185,94,185,63,34,3,34,124,94,124,124,155,124,216,124,185,3,185,94,3,185,185,155,124,3,124,155,185,63,185,94,94,216,34,124,34,63,185,94,3,94,94,3,34,185,34,155,63,216,3,124,216,94,63,63,94,124,3,63,124,155,3,216,94,185,63,94,185,3,63,34,63,94,94,216,63,185,124,63,94,185,155,63,155,63,185,155,124,94,124,94,216,155,185,185,63,63,63,63,155,185,185,216,185,63,63,155,124],\"name\":\"Day\"}];\n",
       "            var layout = {\"title\":\"Numerical distribution\"};\n",
       "            Plotly.newPlot('6bafdbb1-2ee8-4455-80ec-b20117376e4e', data, layout);\n",
       "        \r\n",
       "});\r\n",
       "};\r\n",
       "if ((typeof(require) !==  typeof(Function)) || (typeof(require.config) !== typeof(Function))) {\r\n",
       "    var script = document.createElement(\"script\"); \r\n",
       "    script.setAttribute(\"src\", \"https://cdnjs.cloudflare.com/ajax/libs/require.js/2.3.6/require.min.js\");\r\n",
       "    script.onload = function(){\r\n",
       "        renderPlotly();\r\n",
       "    };\r\n",
       "    document.getElementsByTagName(\"head\")[0].appendChild(script); \r\n",
       "}\r\n",
       "else {\r\n",
       "    renderPlotly();\r\n",
       "}\r\n",
       "</script>\r\n"
      ]
     },
     "metadata": {},
     "output_type": "display_data"
    }
   ],
   "source": [
    "var histogramsDiagram = Chart.Plot(new[] {\n",
    "    new Graph.Histogram { x = temperatures, name = \"Temperature\" },\n",
    "    new Graph.Histogram { x = luminosities, name = \"Luminosity\" },\n",
    "    new Graph.Histogram { x = infrareds, name = \"Infrared\" },\n",
    "    new Graph.Histogram { x = distances, name = \"Distance\" },\n",
    "    new Graph.Histogram { x = hours, name = \"Hour\" },\n",
    "    new Graph.Histogram { x = days, name = \"Day\" }\n",
    "});\n",
    "\n",
    "var layout = new Layout.Layout()\n",
    "{\n",
    "    title = \"Numerical distribution\"\n",
    "};\n",
    "histogramsDiagram.WithLayout(layout);\n",
    "\n",
    "display(histogramsDiagram);"
   ]
  },
  {
   "cell_type": "markdown",
   "metadata": {},
   "source": [
    "# 2. Categorical Distribution"
   ]
  },
  {
   "cell_type": "code",
   "execution_count": 9,
   "metadata": {},
   "outputs": [
    {
     "data": {
      "text/html": [
       "<div id=\"2af4b09e-62dc-41fd-bbd6-5f126a671900\" style=\"width: 900px; height: 500px;\"></div>\r\n",
       "<script type=\"text/javascript\">\r\n",
       "\r\n",
       "var renderPlotly = function() {\r\n",
       "    var xplotRequire = require.config({context:'xplot-3.0.1',paths:{plotly:'https://cdn.plot.ly/plotly-1.49.2.min'}}) || require;\r\n",
       "    xplotRequire(['plotly'], function(Plotly) {\r\n",
       "\n",
       "            var data = [{\"type\":\"histogram\",\"x\":[\"FlashLight\",\"Day\",\"Lighter\",\"Day\",\"Lighter\",\"Infrared\",\"FlashLight\",\"Lighter\",\"FlashLight\",\"Day\",\"Day\",\"Infrared\",\"Infrared\",\"Day\",\"FlashLight\",\"Lighter\",\"Lighter\",\"FlashLight\",\"FlashLight\",\"Infrared\",\"Lighter\",\"Lighter\",\"Infrared\",\"Infrared\",\"Day\",\"Day\",\"Lighter\",\"FlashLight\",\"Day\",\"Day\",\"Lighter\",\"Day\",\"FlashLight\",\"FlashLight\",\"Day\",\"FlashLight\",\"FlashLight\",\"FlashLight\",\"Day\",\"FlashLight\",\"FlashLight\",\"FlashLight\",\"FlashLight\",\"Lighter\",\"Day\",\"FlashLight\",\"FlashLight\",\"Day\",\"Infrared\",\"FlashLight\",\"Lighter\",\"FlashLight\",\"Day\",\"Day\",\"Infrared\",\"FlashLight\",\"Day\",\"Lighter\",\"FlashLight\",\"Day\",\"FlashLight\",\"Day\",\"FlashLight\",\"FlashLight\",\"FlashLight\",\"FlashLight\",\"FlashLight\",\"Day\",\"FlashLight\",\"FlashLight\",\"FlashLight\",\"FlashLight\",\"FlashLight\",\"FlashLight\",\"Day\",\"FlashLight\",\"Lighter\",\"FlashLight\",\"Day\",\"Day\",\"FlashLight\",\"Lighter\",\"Day\",\"Infrared\",\"Day\",\"Infrared\",\"Lighter\",\"FlashLight\",\"FlashLight\",\"Infrared\",\"Infrared\",\"FlashLight\",\"Lighter\",\"Infrared\",\"FlashLight\",\"FlashLight\",\"Infrared\",\"Lighter\",\"FlashLight\",\"FlashLight\",\"Lighter\",\"Lighter\",\"FlashLight\",\"FlashLight\",\"Day\",\"Day\",\"FlashLight\",\"Day\",\"FlashLight\",\"Lighter\",\"FlashLight\",\"FlashLight\",\"FlashLight\",\"Lighter\",\"FlashLight\",\"Infrared\",\"FlashLight\",\"Day\",\"FlashLight\",\"Lighter\",\"FlashLight\",\"Lighter\",\"FlashLight\",\"Day\",\"Lighter\",\"FlashLight\",\"Day\",\"Lighter\",\"Day\",\"FlashLight\",\"FlashLight\",\"Infrared\",\"Lighter\",\"Infrared\",\"Infrared\",\"Lighter\",\"Day\",\"Lighter\",\"Lighter\",\"Lighter\",\"Infrared\",\"Lighter\",\"Infrared\",\"FlashLight\",\"FlashLight\",\"Day\",\"FlashLight\",\"FlashLight\",\"FlashLight\",\"Day\",\"Lighter\",\"FlashLight\",\"Lighter\",\"FlashLight\",\"FlashLight\",\"FlashLight\",\"Day\",\"Lighter\",\"FlashLight\",\"Lighter\",\"Day\",\"Infrared\",\"FlashLight\",\"FlashLight\",\"Lighter\",\"Day\",\"Infrared\",\"Infrared\",\"Infrared\",\"Infrared\",\"FlashLight\",\"FlashLight\",\"Day\",\"FlashLight\",\"Day\",\"FlashLight\",\"Day\",\"FlashLight\",\"FlashLight\",\"FlashLight\",\"FlashLight\",\"Infrared\",\"Lighter\",\"Infrared\",\"Lighter\",\"FlashLight\",\"FlashLight\",\"Infrared\",\"Day\",\"Day\",\"Day\",\"Infrared\",\"Day\",\"FlashLight\",\"Day\",\"Infrared\",\"Lighter\",\"FlashLight\",\"Infrared\",\"Infrared\",\"Day\",\"Infrared\",\"FlashLight\",\"Day\",\"Lighter\",\"Day\",\"Lighter\",\"Lighter\",\"FlashLight\",\"Infrared\",\"Lighter\",\"FlashLight\",\"Lighter\",\"FlashLight\",\"Day\",\"FlashLight\",\"Lighter\",\"Day\",\"FlashLight\",\"Day\",\"Day\",\"Day\",\"Lighter\",\"Infrared\",\"Day\",\"Day\",\"Day\",\"FlashLight\",\"Day\",\"FlashLight\",\"Day\",\"Day\",\"Day\",\"Day\",\"Infrared\",\"Infrared\",\"Lighter\",\"Day\",\"Day\",\"FlashLight\",\"FlashLight\",\"FlashLight\",\"FlashLight\",\"FlashLight\",\"Day\",\"Day\",\"FlashLight\",\"FlashLight\",\"FlashLight\",\"FlashLight\",\"Day\",\"Infrared\",\"FlashLight\",\"FlashLight\",\"FlashLight\",\"FlashLight\",\"Day\",\"Day\",\"Day\",\"FlashLight\",\"FlashLight\",\"Infrared\",\"Infrared\",\"Day\",\"Lighter\",\"Infrared\",\"FlashLight\",\"FlashLight\",\"Day\",\"FlashLight\",\"Lighter\",\"Lighter\",\"Day\",\"Lighter\",\"FlashLight\",\"Day\",\"FlashLight\",\"FlashLight\",\"Infrared\",\"FlashLight\",\"Day\",\"FlashLight\",\"Infrared\",\"Day\",\"FlashLight\",\"Day\",\"Day\",\"Infrared\",\"Infrared\",\"Lighter\",\"Day\",\"Day\",\"Lighter\",\"Day\",\"Lighter\",\"FlashLight\",\"FlashLight\",\"FlashLight\",\"Day\",\"Day\",\"Day\",\"Day\",\"Lighter\",\"FlashLight\",\"FlashLight\",\"FlashLight\",\"FlashLight\",\"Day\",\"Day\",\"Lighter\",\"FlashLight\",\"Lighter\",\"Infrared\",\"FlashLight\",\"Day\",\"FlashLight\",\"Infrared\",\"Lighter\",\"FlashLight\",\"Lighter\",\"Day\",\"FlashLight\",\"Infrared\",\"Infrared\",\"Infrared\",\"Infrared\",\"FlashLight\",\"Day\",\"Day\",\"FlashLight\",\"FlashLight\",\"FlashLight\",\"Infrared\",\"Day\",\"Infrared\",\"Day\",\"Day\",\"FlashLight\",\"FlashLight\",\"Infrared\",\"FlashLight\",\"Day\",\"FlashLight\",\"Day\",\"FlashLight\",\"FlashLight\",\"Day\",\"FlashLight\",\"Lighter\",\"Day\",\"Lighter\",\"Lighter\",\"Infrared\",\"Lighter\",\"Infrared\",\"FlashLight\",\"Infrared\",\"Day\",\"Day\",\"FlashLight\",\"FlashLight\",\"Lighter\",\"Lighter\",\"Lighter\",\"Day\",\"FlashLight\",\"Infrared\",\"Infrared\",\"Infrared\",\"Infrared\",\"Day\",\"FlashLight\",\"Infrared\",\"FlashLight\",\"Day\",\"FlashLight\",\"Day\",\"FlashLight\",\"FlashLight\",\"Infrared\",\"FlashLight\",\"FlashLight\",\"Day\",\"Infrared\",\"FlashLight\",\"Lighter\",\"FlashLight\",\"Lighter\",\"FlashLight\",\"Day\",\"Day\",\"FlashLight\",\"FlashLight\",\"Infrared\",\"Day\",\"Infrared\",\"Lighter\",\"Day\",\"Lighter\",\"FlashLight\",\"Day\",\"FlashLight\",\"Day\",\"Infrared\",\"Lighter\",\"Day\",\"Infrared\",\"FlashLight\",\"Lighter\",\"Day\",\"FlashLight\",\"FlashLight\",\"FlashLight\",\"FlashLight\",\"Infrared\",\"Day\",\"Day\",\"Lighter\",\"FlashLight\",\"FlashLight\",\"Day\",\"Day\",\"FlashLight\",\"FlashLight\",\"Day\",\"Infrared\",\"Infrared\",\"Day\",\"Infrared\",\"Lighter\",\"Lighter\",\"Day\",\"FlashLight\",\"Day\",\"Infrared\",\"Lighter\",\"Day\",\"FlashLight\",\"Day\",\"Lighter\",\"Day\",\"Day\",\"Infrared\",\"Infrared\",\"Day\",\"FlashLight\",\"Infrared\",\"Day\",\"Day\",\"FlashLight\",\"Day\",\"Infrared\",\"FlashLight\",\"Lighter\",\"Lighter\",\"Lighter\",\"Lighter\",\"Day\",\"FlashLight\",\"FlashLight\",\"Infrared\",\"Lighter\",\"FlashLight\",\"Lighter\",\"FlashLight\",\"Day\",\"Infrared\",\"Day\",\"Day\",\"FlashLight\",\"Day\",\"Day\",\"Infrared\",\"FlashLight\",\"FlashLight\",\"Day\",\"Day\",\"Lighter\",\"Day\",\"FlashLight\",\"Day\",\"FlashLight\",\"Lighter\",\"Day\",\"Lighter\",\"Day\",\"Day\",\"Infrared\",\"Infrared\",\"FlashLight\",\"Lighter\",\"Infrared\",\"FlashLight\",\"Day\",\"FlashLight\",\"Lighter\",\"Day\",\"FlashLight\",\"Lighter\",\"Day\",\"FlashLight\",\"Day\",\"Infrared\",\"Day\",\"Day\",\"FlashLight\",\"FlashLight\",\"Day\",\"FlashLight\",\"Infrared\",\"FlashLight\",\"FlashLight\",\"Lighter\",\"FlashLight\",\"Day\",\"Day\",\"Infrared\",\"FlashLight\",\"Day\",\"Day\",\"FlashLight\",\"Day\",\"FlashLight\",\"FlashLight\",\"Infrared\",\"Day\",\"Infrared\",\"FlashLight\",\"Infrared\",\"FlashLight\",\"Day\",\"FlashLight\",\"Day\",\"FlashLight\",\"FlashLight\",\"Day\",\"FlashLight\",\"Day\",\"FlashLight\",\"FlashLight\",\"FlashLight\",\"Infrared\",\"Day\",\"FlashLight\",\"FlashLight\",\"Infrared\",\"Lighter\",\"Infrared\",\"FlashLight\",\"FlashLight\",\"Infrared\",\"Infrared\",\"FlashLight\",\"FlashLight\",\"Lighter\",\"Lighter\",\"Day\",\"Day\",\"FlashLight\",\"Lighter\",\"FlashLight\",\"FlashLight\",\"Day\",\"FlashLight\",\"Lighter\",\"Lighter\",\"FlashLight\",\"FlashLight\",\"Infrared\",\"FlashLight\",\"Lighter\",\"Lighter\",\"Day\",\"FlashLight\",\"FlashLight\",\"Day\",\"Lighter\",\"FlashLight\",\"Lighter\",\"Day\",\"FlashLight\",\"FlashLight\",\"Lighter\",\"FlashLight\",\"Lighter\",\"FlashLight\",\"Day\",\"Day\",\"Infrared\",\"Day\",\"Lighter\",\"FlashLight\",\"FlashLight\",\"FlashLight\",\"FlashLight\",\"Day\",\"Day\",\"Lighter\",\"Day\",\"Day\",\"FlashLight\",\"Infrared\",\"Infrared\",\"Lighter\",\"FlashLight\",\"Day\",\"FlashLight\",\"Lighter\",\"FlashLight\",\"Infrared\",\"FlashLight\",\"FlashLight\",\"Lighter\",\"FlashLight\",\"Day\",\"Day\",\"Day\",\"FlashLight\",\"Infrared\",\"FlashLight\",\"Infrared\",\"Lighter\",\"FlashLight\",\"FlashLight\",\"FlashLight\",\"FlashLight\",\"Day\",\"Infrared\",\"Infrared\",\"Infrared\",\"Lighter\",\"Infrared\"]}];\n",
       "            var layout = {\"title\":\"Categorical distribution\"};\n",
       "            Plotly.newPlot('2af4b09e-62dc-41fd-bbd6-5f126a671900', data, layout);\n",
       "        \r\n",
       "});\r\n",
       "};\r\n",
       "if ((typeof(require) !==  typeof(Function)) || (typeof(require.config) !== typeof(Function))) {\r\n",
       "    var script = document.createElement(\"script\"); \r\n",
       "    script.setAttribute(\"src\", \"https://cdnjs.cloudflare.com/ajax/libs/require.js/2.3.6/require.min.js\");\r\n",
       "    script.onload = function(){\r\n",
       "        renderPlotly();\r\n",
       "    };\r\n",
       "    document.getElementsByTagName(\"head\")[0].appendChild(script); \r\n",
       "}\r\n",
       "else {\r\n",
       "    renderPlotly();\r\n",
       "}\r\n",
       "</script>\r\n"
      ]
     },
     "metadata": {},
     "output_type": "display_data"
    }
   ],
   "source": [
    "var categoriesHistogram = Chart.Plot(\n",
    "    new Graph.Histogram { x = sources }\n",
    ");\n",
    "\n",
    "var layout = new Layout.Layout()\n",
    "{\n",
    "    title = \"Categorical distribution\"\n",
    "};\n",
    "categoriesHistogram.WithLayout(layout);\n",
    "\n",
    "display(categoriesHistogram);"
   ]
  },
  {
   "cell_type": "code",
   "execution_count": 10,
   "metadata": {},
   "outputs": [
    {
     "data": {
      "text/html": [
       "<div id=\"b345618b-5db1-46ea-a64e-1b02d1975faa\" style=\"width: 900px; height: 500px;\"></div>\r\n",
       "<script type=\"text/javascript\">\r\n",
       "\r\n",
       "var renderPlotly = function() {\r\n",
       "    var xplotRequire = require.config({context:'xplot-3.0.1',paths:{plotly:'https://cdn.plot.ly/plotly-1.49.2.min'}}) || require;\r\n",
       "    xplotRequire(['plotly'], function(Plotly) {\r\n",
       "\n",
       "            var data = [{\"type\":\"histogram\",\"x\":[\"FlashLight\",\"Day\",\"Infrared\",\"Day\",\"FlashLight\",\"FlashLight\",\"Lighter\",\"FlashLight\",\"Day\",\"FlashLight\",\"FlashLight\",\"Lighter\",\"FlashLight\",\"Infrared\",\"Lighter\",\"FlashLight\",\"Infrared\",\"Day\",\"Lighter\",\"FlashLight\",\"FlashLight\",\"Day\",\"Day\",\"Day\",\"Day\",\"FlashLight\",\"Lighter\",\"FlashLight\",\"Lighter\",\"Day\",\"FlashLight\",\"Lighter\",\"Day\",\"FlashLight\",\"FlashLight\",\"Day\",\"Day\",\"Day\",\"Infrared\",\"Day\",\"Infrared\",\"Lighter\",\"Infrared\",\"FlashLight\",\"FlashLight\",\"Day\",\"FlashLight\",\"FlashLight\",\"FlashLight\",\"Day\",\"FlashLight\",\"Day\",\"FlashLight\",\"Lighter\",\"FlashLight\",\"Day\",\"Infrared\",\"Day\",\"Day\",\"Day\",\"Day\",\"Infrared\",\"Lighter\",\"Day\",\"Lighter\",\"Infrared\",\"Day\",\"FlashLight\",\"Infrared\",\"FlashLight\",\"Lighter\",\"Day\",\"Day\",\"Infrared\",\"FlashLight\",\"Infrared\",\"FlashLight\",\"FlashLight\",\"Lighter\",\"FlashLight\",\"Infrared\",\"FlashLight\",\"Day\",\"Lighter\",\"FlashLight\",\"FlashLight\",\"FlashLight\",\"Infrared\",\"Infrared\",\"Infrared\",\"Day\",\"Day\",\"FlashLight\",\"FlashLight\",\"Day\",\"Day\",\"Day\",\"FlashLight\",\"FlashLight\",\"Day\",\"Day\",\"FlashLight\",\"FlashLight\",\"Day\",\"Infrared\",\"FlashLight\",\"Day\",\"FlashLight\",\"FlashLight\",\"FlashLight\",\"Day\",\"Day\",\"Day\",\"Day\",\"Day\",\"Lighter\",\"Infrared\",\"Lighter\",\"Lighter\",\"Day\",\"FlashLight\",\"Day\",\"FlashLight\",\"FlashLight\",\"Day\",\"Infrared\",\"Day\",\"FlashLight\",\"Day\",\"Lighter\",\"FlashLight\",\"FlashLight\",\"Infrared\",\"Infrared\",\"Day\",\"Infrared\",\"FlashLight\",\"Lighter\",\"Lighter\",\"FlashLight\",\"Day\",\"Day\",\"FlashLight\",\"FlashLight\",\"Infrared\",\"Day\",\"Day\",\"Lighter\",\"Infrared\",\"Day\",\"FlashLight\",\"FlashLight\",\"Infrared\",\"Infrared\",\"Lighter\",\"Infrared\",\"FlashLight\",\"FlashLight\",\"Infrared\",\"FlashLight\",\"Day\",\"Lighter\",\"Day\",\"FlashLight\",\"Day\",\"Infrared\",\"FlashLight\",\"Day\",\"Lighter\",\"FlashLight\",\"Infrared\"]}];\n",
       "            var layout = {\"title\":\"Categorical distribution (for testing data)\"};\n",
       "            Plotly.newPlot('b345618b-5db1-46ea-a64e-1b02d1975faa', data, layout);\n",
       "        \r\n",
       "});\r\n",
       "};\r\n",
       "if ((typeof(require) !==  typeof(Function)) || (typeof(require.config) !== typeof(Function))) {\r\n",
       "    var script = document.createElement(\"script\"); \r\n",
       "    script.setAttribute(\"src\", \"https://cdnjs.cloudflare.com/ajax/libs/require.js/2.3.6/require.min.js\");\r\n",
       "    script.onload = function(){\r\n",
       "        renderPlotly();\r\n",
       "    };\r\n",
       "    document.getElementsByTagName(\"head\")[0].appendChild(script); \r\n",
       "}\r\n",
       "else {\r\n",
       "    renderPlotly();\r\n",
       "}\r\n",
       "</script>\r\n"
      ]
     },
     "metadata": {},
     "output_type": "display_data"
    }
   ],
   "source": [
    "var testingFeatures = mlContext.Data.CreateEnumerable<ModelInput>(testingData, true);\n",
    "var testingSources = testingFeatures.Select(f => f.Source);\n",
    "\n",
    "var categoriesHistogram = Chart.Plot(\n",
    "    new Graph.Histogram { x = testingSources }\n",
    ");\n",
    "\n",
    "var layout = new Layout.Layout()\n",
    "{\n",
    "    title = \"Categorical distribution (for testing data)\"\n",
    "};\n",
    "categoriesHistogram.WithLayout(layout);\n",
    "\n",
    "display(categoriesHistogram);"
   ]
  },
  {
   "cell_type": "markdown",
   "metadata": {},
   "source": [
    "# 3. Box Plot Segmentation"
   ]
  },
  {
   "cell_type": "code",
   "execution_count": 11,
   "metadata": {},
   "outputs": [
    {
     "data": {
      "text/html": [
       "<div id=\"64b850e3-a7db-40fb-80ca-beedd5b6e0bf\" style=\"width: 900px; height: 500px;\"></div>\r\n",
       "<script type=\"text/javascript\">\r\n",
       "\r\n",
       "var renderPlotly = function() {\r\n",
       "    var xplotRequire = require.config({context:'xplot-3.0.1',paths:{plotly:'https://cdn.plot.ly/plotly-1.49.2.min'}}) || require;\r\n",
       "    xplotRequire(['plotly'], function(Plotly) {\r\n",
       "\n",
       "            var data = [{\"type\":\"box\",\"y\":[24.82,23.96,47.32,25.09,56.03,32.18,23.28,53.12,27.34,24.77,25.09,25.09,26.38,32.18,32.18,94.05,37.01,32.5,24.77,30.24,132.4,37.98,25.41,25.89,32.18,25.09,48.94,24.14,24.44,23.63,66.98,25.09,32.5,31.86,24.63,27.34,32.18,27.34,25.09,32.18,31.21,31.86,24.77,50.87,24.77,27.34,23.48,25.09,26.38,24.28,115.0,28.63,32.18,32.18,30.24,23.28,24.44,56.03,32.5,24.77,32.18,25.09,32.18,27.34,32.5,23.8,32.5,24.44,32.5,32.18,31.21,24.12,32.5,31.86,32.18,36.37,36.37,27.67,25.09,24.77,32.82,53.77,23.63,32.5,32.18,25.89,64.05,32.18,32.5,32.5,32.18,23.8,109.52,25.09,24.44,27.34,30.89,153.35,27.34,32.18,33.47,102.43,23.28,24.14,24.63,25.63,23.96,25.09,27.34,88.25,23.48,27.34,32.5,90.83,27.67,32.18,32.5,32.18,23.8,35.4,27.34,96.63,27.67,24.44,64.05,24.77,32.18,64.05,32.18,32.5,27.67,32.18,87.29,25.09,29.92,100.82,32.18,55.7,34.11,43.13,32.5,36.37,30.24,31.53,41.2,25.09,23.28,31.21,32.5,23.63,89.22,31.86,99.53,32.5,32.5,32.5,32.18,45.07,23.28,32.5,32.18,29.92,23.28,32.18,109.2,23.63,30.24,30.24,32.18,29.92,27.67,23.28,25.09,27.67,24.77,31.53,23.63,32.82,31.86,32.5,32.5,29.92,86.96,30.24,68.59,52.8,24.44,30.24,23.63,32.18,32.18,32.18,25.09,27.34,24.44,30.24,36.37,27.34,32.18,32.18,25.09,30.24,31.86,25.09,60.21,32.18,38.95,33.79,27.34,29.92,36.37,32.18,95.34,23.48,32.18,27.34,73.43,24.44,27.34,24.44,32.18,24.77,36.04,25.09,25.09,32.18,32.18,27.34,32.18,32.5,24.44,24.6,32.18,32.18,30.24,24.38,37.01,24.44,32.18,31.86,31.21,32.5,24.28,28.96,32.18,34.76,32.18,24.12,31.21,32.5,31.86,25.09,32.5,24.44,32.18,31.21,32.18,32.18,24.63,32.5,23.48,32.18,24.77,25.09,157.22,32.18,32.5,27.34,32.18,31.21,88.9,35.72,25.09,64.28,24.77,24.77,24.44,32.18,30.24,31.86,25.09,23.48,30.24,24.44,31.21,32.18,25.09,29.92,32.5,32.5,32.18,24.44,35.4,24.44,81.81,27.34,24.12,31.21,32.18,32.18,23.63,32.5,69.56,34.11,32.5,32.5,32.18,32.18,32.18,115.0,23.96,107.59,32.5,27.34,24.44,24.44,29.92,64.96,24.14,33.14,25.09,32.5,25.09,32.18,30.24,26.7,23.28,32.18,32.18,31.21,24.77,24.14,30.89,24.63,32.5,32.18,32.18,32.18,31.21,32.5,27.67,32.18,34.11,32.18,23.28,31.86,23.63,31.21,36.37,32.18,109.52,61.83,25.09,50.55,25.89,32.5,32.18,25.41,24.44,32.18,32.5,108.55,96.31,36.37,24.44,27.67,30.24,31.21,32.18,26.38,32.18,31.86,25.41,27.34,24.63,34.11,32.18,67.63,32.5,25.09,32.18,31.86,32.18,26.38,24.12,65.05,23.8,47.32,27.67,24.77,24.77,31.86,32.5,32.5,32.5,30.24,82.77,32.18,95.66,32.5,32.18,31.53,25.09,30.24,49.26,24.44,24.77,31.21,36.04,32.18,32.5,30.89,32.18,24.44,32.18,25.09,24.12,35.08,32.5,24.77,24.77,24.44,24.44,33.14,25.09,29.6,30.24,32.18,32.18,34.11,42.81,31.86,23.48,32.18,25.41,34.43,32.18,31.53,24.77,101.79,25.09,32.18,32.18,30.24,32.18,23.96,30.24,24.12,25.09,32.5,32.18,30.24,23.28,70.85,24.28,74.07,64.38,25.41,24.44,23.28,26.38,92.12,32.5,52.16,32.5,24.12,24.38,24.44,24.63,32.5,24.31,32.18,32.18,24.14,32.18,25.09,32.18,34.76,25.41,46.68,25.09,31.86,35.72,24.63,110.49,32.18,24.63,30.24,25.09,24.12,32.18,30.24,32.18,25.09,23.48,74.72,25.09,27.67,76.65,24.12,27.99,32.18,30.57,32.18,24.63,32.5,31.21,32.18,24.31,32.18,31.86,32.18,64.92,32.5,25.09,24.77,30.24,24.77,24.77,32.18,32.5,32.18,27.34,32.18,30.24,24.77,30.24,27.67,26.38,24.77,23.63,32.5,25.41,32.5,32.5,32.18,32.18,32.18,56.99,31.86,24.12,30.24,24.77,24.77,31.86,30.24,32.18,30.24,23.48,32.5,25.21,30.24,27.34,32.5,81.48,50.87,32.18,23.63,32.5,98.24,27.34,31.86,25.09,24.77,89.54,90.19,24.14,23.96,30.24,23.28,44.75,96.63,32.18,24.77,32.5,32.18,61.5,27.34,88.9,25.09,32.5,24.77,98.24,32.18,63.12,23.48,32.18,25.09,32.18,24.44,32.82,32.18,23.48,27.34,24.92,24.44,24.77,65.37,32.18,24.44,31.21,30.24,25.09,97.28,31.53,31.86,27.34,36.69,27.34,30.24,25.14,32.18,34.43,32.5,24.77,32.18,32.18,32.18,30.24,27.67,25.41,132.4,27.34,24.28,31.86,31.86,32.18,30.24,25.09,25.41,75.68,29.92],\"name\":\"Temperature\"},{\"type\":\"box\",\"y\":[50.49,4.1,100.0,12.11,100.0,11.72,45.51,100.0,70.31,18.55,12.79,35.16,21.09,5.08,64.16,100.0,100.0,100.0,60.94,28.52,100.0,100.0,35.06,25.59,5.37,11.91,100.0,100.0,26.56,4.1,100.0,12.6,52.83,56.35,4.0,71.48,100.0,74.32,11.91,52.05,77.83,50.39,63.96,100.0,11.91,73.73,83.59,12.3,21.0,14.45,100.0,74.9,4.39,6.25,58.69,39.94,26.46,100.0,28.32,12.5,69.53,11.82,39.55,73.63,100.0,88.67,83.01,25.49,85.16,42.58,63.77,84.77,56.74,60.16,6.64,100.0,100.0,73.05,12.01,12.5,89.06,100.0,4.1,27.44,4.1,34.18,97.46,32.23,79.79,25.0,22.85,65.62,100.0,35.45,84.77,70.7,24.41,100.0,71.97,52.64,100.0,100.0,30.47,40.82,4.2,4.1,7.71,12.11,73.54,100.0,95.31,73.54,85.84,100.0,73.24,35.35,61.33,6.25,61.91,100.0,71.88,100.0,71.78,25.88,82.32,86.23,4.79,66.8,6.15,72.07,75.59,31.74,100.0,35.94,35.06,100.0,4.59,100.0,100.0,100.0,28.52,100.0,29.1,78.03,100.0,11.82,55.57,70.7,88.28,4.1,100.0,68.75,100.0,36.82,74.41,54.39,5.66,100.0,60.25,100.0,4.39,30.08,54.1,41.6,100.0,4.2,54.2,26.56,30.08,30.08,73.24,26.46,12.01,73.63,25.59,71.58,5.47,64.55,83.69,91.31,36.82,23.63,100.0,33.89,100.0,100.0,100.0,27.05,4.1,6.15,4.49,8.59,12.11,73.63,25.98,29.3,100.0,75.29,35.94,24.9,11.13,21.97,100.0,12.11,100.0,19.73,100.0,100.0,73.83,20.61,100.0,54.39,100.0,92.77,4.98,72.95,100.0,26.46,70.31,25.78,6.64,12.6,100.0,34.86,12.11,7.32,5.86,74.61,6.25,52.44,26.56,6.05,4.98,4.88,31.64,19.73,100.0,24.41,14.55,42.68,87.5,73.93,6.35,6.54,4.49,9.47,97.56,79.49,34.67,59.57,4.2,35.16,34.67,89.55,57.81,74.9,4.88,6.25,4.1,60.55,84.67,38.67,36.62,12.89,100.0,25.49,100.0,74.32,6.05,59.08,100.0,100.0,12.4,100.0,83.3,11.43,67.58,55.86,11.72,60.06,12.11,83.69,26.17,25.68,5.47,5.96,12.4,25.39,12.6,100.0,6.15,25.49,100.0,11.72,100.0,73.34,54.79,58.69,18.16,4.98,4.1,4.59,100.0,100.0,72.66,83.69,68.46,5.18,4.49,100.0,10.64,100.0,22.75,72.95,24.41,63.18,27.44,100.0,100.0,100.0,11.91,85.84,34.86,18.46,27.34,19.14,69.04,6.35,4.69,37.99,87.11,50.29,26.86,4.1,52.83,7.03,6.64,73.54,42.58,50.88,71.78,6.93,82.81,5.18,61.62,65.82,4.3,56.64,100.0,6.54,100.0,100.0,35.84,100.0,27.83,75.78,15.04,11.33,25.49,55.37,85.84,100.0,100.0,100.0,25.49,76.17,35.94,36.33,38.96,22.75,4.69,48.54,36.52,69.82,4.1,100.0,6.64,100.0,79.69,35.74,42.97,85.06,5.76,18.36,100.0,100.0,66.41,100.0,73.05,26.46,13.96,68.46,95.31,37.89,4.59,41.89,100.0,4.88,100.0,88.38,6.54,68.07,12.3,31.35,100.0,26.46,36.62,72.27,100.0,5.27,42.29,52.44,50.0,82.32,29.79,12.01,24.9,100.0,50.78,64.06,17.48,25.39,80.27,100.0,10.94,10.06,30.96,6.64,24.61,100.0,100.0,4.69,93.16,4.98,36.52,100.0,6.84,86.72,12.21,100.0,12.11,54.3,35.64,41.31,5.08,8.98,10.25,25.88,12.21,64.84,6.05,29.69,9.08,100.0,100.0,100.0,100.0,9.28,83.5,66.5,18.07,100.0,98.14,100.0,61.62,25.88,18.26,25.88,5.37,90.04,3.91,6.84,12.89,42.87,33.59,12.3,5.76,100.0,11.91,100.0,12.11,49.12,100.0,4.1,100.0,25.1,4.1,21.78,35.84,81.54,100.0,20.51,50.29,11.91,87.6,100.0,13.09,75.59,100.0,24.9,74.51,5.27,25.78,7.62,4.1,72.75,33.89,6.64,37.99,30.96,27.93,46.19,100.0,72.07,12.21,14.06,24.32,68.85,18.55,4.39,43.65,6.74,73.73,72.66,44.53,13.48,18.65,75.0,21.58,94.43,4.3,63.96,11.43,100.0,64.94,4.2,100.0,5.08,100.0,9.57,77.05,33.59,10.74,88.38,45.12,31.64,55.08,29.2,84.77,53.52,33.69,5.18,72.27,48.83,100.0,100.0,4.39,4.1,56.93,100.0,70.02,29.39,12.11,64.06,100.0,100.0,62.4,59.18,32.71,86.91,88.77,100.0,4.3,89.26,60.64,11.04,100.0,73.34,100.0,11.91,54.88,82.13,100.0,61.13,100.0,84.18,5.57,12.6,32.23,25.39,100.0,58.2,79.0,75.78,45.7,26.46,12.3,100.0,4.1,25.49,55.08,32.81,35.74,100.0,59.86,4.98,70.7,100.0,71.88,11.52,48.05,80.57,100.0,54.79,12.5,6.05,5.37,17.68,26.27,73.63,35.06,100.0,75.29,6.54,53.61,57.52,6.45,34.77,35.45,36.52,100.0,14.36],\"name\":\"Luminosity\"},{\"type\":\"box\",\"y\":[0.0,0.0,94.34,0.0,92.29,15.43,0.0,93.95,0.0,0.0,0.0,95.31,94.34,0.0,0.0,49.71,92.87,0.0,0.0,25.68,41.31,94.53,95.12,94.63,0.0,0.0,93.26,0.0,0.0,0.0,93.07,0.0,0.0,0.0,0.0,0.0,0.0,0.0,0.0,0.0,0.0,0.0,0.0,95.12,0.0,0.0,0.0,0.0,51.56,0.0,43.85,0.0,0.0,0.0,92.97,0.0,0.0,95.31,0.0,0.0,0.0,0.0,0.0,0.0,0.0,0.0,0.0,0.0,0.0,0.0,0.0,0.0,0.0,0.0,0.0,0.0,95.21,0.0,0.0,0.0,0.0,95.21,0.0,33.69,0.0,95.51,96.0,0.0,0.0,33.89,93.65,0.0,49.22,94.92,0.0,0.0,93.75,94.82,0.0,0.0,95.41,93.65,0.0,0.0,0.0,0.0,0.0,0.0,0.0,42.38,0.0,0.0,0.0,92.48,0.0,30.86,0.0,0.0,0.0,95.31,0.0,45.9,0.0,0.0,95.21,0.0,0.0,86.72,0.0,0.0,0.0,43.75,93.85,94.92,2.93,95.61,0.0,94.92,92.38,92.97,43.85,94.92,39.06,0.0,0.0,0.0,0.0,0.0,0.0,0.0,93.07,0.0,42.97,0.0,0.0,0.0,0.0,95.41,0.0,93.36,0.0,31.93,0.0,0.0,4.92,0.0,0.0,23.24,49.22,26.95,0.0,0.0,0.0,0.0,0.0,0.0,0.0,0.0,0.0,0.0,0.0,29.69,39.26,23.24,94.92,0.0,0.0,33.2,0.0,0.0,0.0,2.44,0.0,0.0,0.0,60.55,95.12,0.0,86.04,37.5,0.0,91.8,0.0,0.0,95.21,0.0,95.12,93.55,0.0,32.32,94.92,0.0,94.73,0.0,0.0,0.0,95.31,0.0,0.0,0.0,0.0,0.0,92.77,94.92,0.0,0.0,0.0,0.0,0.0,0.0,0.0,0.0,0.0,0.0,0.1,95.21,94.53,0.0,0.0,0.0,0.0,0.0,0.0,0.0,0.0,0.0,0.0,0.0,0.0,0.0,0.0,95.31,0.0,0.0,0.0,0.0,0.0,0.0,0.0,0.0,0.0,20.61,95.41,0.0,94.53,31.15,0.0,0.0,0.0,0.0,95.41,95.31,0.0,96.78,0.0,0.0,0.0,0.0,15.53,0.0,0.0,0.0,46.29,0.0,0.0,0.0,0.0,31.64,76.46,95.21,0.0,0.0,92.68,0.0,93.65,0.0,0.0,0.0,0.0,0.0,0.0,0.0,94.63,0.0,0.0,0.0,0.0,0.0,0.0,43.85,0.0,3.46,89.94,0.0,0.0,0.0,24.22,95.7,0.0,95.21,0.0,0.0,94.92,93.55,35.84,93.36,0.0,0.0,0.0,0.0,0.0,0.0,94.24,0.0,21.78,0.0,0.0,0.0,0.0,57.81,0.0,0.0,0.0,0.0,0.0,0.0,0.0,0.0,93.55,0.0,49.22,91.02,95.41,91.21,93.07,0.0,68.55,0.0,0.0,0.0,0.0,93.16,91.41,93.16,0.0,0.0,11.72,14.94,16.31,93.55,0.0,0.0,95.41,0.0,0.0,0.0,0.0,0.0,0.0,95.02,0.0,0.0,0.0,11.72,0.0,92.97,0.0,95.31,0.0,0.0,0.0,0.0,0.0,71.09,0.0,12.5,94.14,0.0,42.97,0.0,0.0,0.0,0.0,32.32,95.02,0.0,95.41,0.0,91.89,0.0,0.0,0.0,0.0,0.0,49.61,0.0,0.0,91.5,0.0,0.0,0.0,0.0,0.0,0.0,0.0,26.17,38.18,0.0,28.81,94.43,93.26,0.0,0.0,0.0,95.41,93.95,0.0,0.0,0.0,45.9,0.0,0.0,26.95,13.87,0.0,0.0,49.12,0.0,0.0,0.0,0.0,46.88,0.0,95.31,95.9,94.34,96.48,0.0,0.0,0.0,25.0,94.43,0.0,94.53,0.0,0.0,94.04,0.0,0.0,0.0,0.0,0.0,41.31,0.0,0.0,0.0,0.0,94.04,0.0,0.0,0.0,0.0,91.7,0.0,5.02,0.0,0.0,65.92,95.41,0.0,95.31,31.84,0.0,0.0,0.0,95.02,0.0,0.0,93.36,0.0,0.0,0.0,29.3,0.0,0.0,0.0,0.0,0.0,0.0,48.63,0.0,0.0,96.09,0.0,0.0,0.0,30.57,0.0,0.0,0.0,0.0,0.0,0.0,0.0,10.74,0.0,36.72,0.0,70.51,0.0,0.0,0.0,0.0,0.0,0.0,0.0,0.0,0.0,0.0,0.0,0.0,36.82,0.0,0.0,0.0,42.19,94.34,21.88,0.0,0.0,94.63,0.0,0.0,0.0,93.46,95.31,0.0,0.0,0.0,94.34,0.0,0.0,0.0,0.0,95.31,95.41,0.0,0.0,12.11,0.0,94.92,45.9,0.0,0.0,0.0,0.0,95.21,0.0,42.38,0.0,0.0,0.0,50.68,0.0,95.51,0.0,0.0,0.0,46.09,0.0,95.02,0.0,0.0,0.0,0.0,0.0,0.0,93.16,0.0,0.0,0.0,22.56,95.12,93.26,0.0,0.0,0.0,95.21,0.0,1.95,0.0,0.0,94.43,0.0,0.0,0.0,0.0,0.0,32.42,0.0,95.12,41.31,0.0,0.0,0.0,0.0,0.0,0.0,94.92,95.21,94.63,43.16],\"name\":\"Infrared\"},{\"type\":\"box\",\"y\":[8.84,154.09,41.55,400.0,400.0,60.87,12.08,400.0,194.26,400.0,88.81,194.23,152.74,78.02,64.48,193.64,400.0,400.0,78.83,57.68,195.23,400.0,193.43,19.84,400.0,77.33,7.56,7.13,193.75,154.09,400.0,400.0,400.0,61.91,154.5,193.37,57.64,194.3,83.96,50.82,58.82,26.73,242.96,400.0,400.0,125.81,394.32,96.48,400.0,17.49,195.19,193.44,63.57,400.0,59.69,155.79,193.75,400.0,30.7,60.24,61.2,77.05,56.85,129.92,66.92,325.6,24.47,194.64,66.31,58.1,400.0,67.14,35.34,28.38,89.87,400.0,400.0,193.34,71.82,400.0,54.26,400.0,156.16,400.0,67.74,400.0,155.75,31.24,64.22,56.2,61.23,13.86,194.44,193.33,66.15,153.31,20.09,400.0,170.5,59.05,400.0,4.19,154.91,8.79,154.91,153.6,155.39,400.0,193.84,193.37,73.24,193.84,62.4,42.0,193.4,400.0,22.83,400.0,400.0,400.0,192.26,193.11,194.28,193.79,400.0,66.11,89.66,5.12,400.0,66.73,193.34,400.0,154.46,193.4,19.5,45.92,72.21,42.46,7.16,72.25,52.37,46.4,400.0,57.68,59.4,400.0,156.15,400.0,60.42,155.38,400.0,27.28,237.28,400.0,57.95,59.16,75.56,400.0,10.11,400.0,75.51,60.96,156.99,61.0,4.28,155.3,55.05,60.46,400.0,400.0,193.4,155.8,79.72,193.39,195.03,400.0,155.35,54.29,22.42,64.26,23.36,61.05,193.34,61.67,42.18,56.12,10.78,400.0,154.13,400.0,400.0,60.75,400.0,129.92,194.66,400.0,59.09,193.44,57.69,400.0,77.03,60.46,400.0,73.87,43.15,400.0,400.0,43.89,194.31,59.7,42.18,400.0,7.9,73.64,75.65,195.93,400.0,193.73,194.26,193.69,61.62,91.63,7.91,193.4,92.82,29.68,77.67,146.28,400.0,50.44,193.75,154.49,73.51,400.0,400.0,21.85,400.0,193.72,400.0,61.78,61.45,66.92,154.08,18.78,74.86,70.31,19.49,317.08,400.0,21.35,67.0,194.23,49.57,68.42,61.76,20.44,24.53,76.22,400.0,63.72,95.86,59.0,194.16,88.66,60.76,400.0,56.06,194.3,74.18,61.92,400.0,400.0,400.0,155.74,64.68,88.91,366.69,400.0,400.0,61.42,400.0,63.88,57.48,194.61,60.47,70.74,400.0,60.43,53.76,400.0,74.23,194.64,69.76,400.0,60.81,193.83,321.3,22.4,107.1,28.04,154.06,400.0,7.91,400.0,400.0,58.3,28.33,76.24,400.0,195.19,154.98,4.28,56.2,195.93,193.72,366.22,400.0,153.66,7.48,400.0,83.75,400.0,193.4,400.0,60.11,154.04,10.39,400.0,400.0,400.0,68.15,8.52,400.0,155.35,400.0,400.0,400.0,70.2,19.6,52.51,194.28,23.32,53.59,33.7,10.37,400.0,154.9,400.0,7.52,82.61,194.44,400.0,194.55,400.0,19.04,400.0,59.97,14.38,193.73,63.61,66.43,400.0,9.47,46.56,193.75,194.3,62.67,58.61,55.94,154.04,75.87,61.12,194.03,194.2,154.51,400.0,75.12,49.92,65.26,193.76,400.0,25.27,78.88,400.0,364.7,400.0,290.37,5.85,193.34,194.58,89.89,60.77,400.0,400.0,400.0,57.2,6.25,400.0,194.15,400.0,78.08,59.49,400.0,60.4,56.17,193.73,194.16,400.0,400.0,400.0,47.8,24.33,43.43,400.0,61.57,90.06,193.25,400.0,400.0,301.72,400.0,194.58,400.0,55.43,82.69,57.48,57.5,73.76,61.26,44.79,5.8,75.16,73.86,78.92,194.03,400.0,400.0,400.0,400.0,194.48,82.12,52.13,400.0,400.0,68.01,154.51,57.06,195.05,90.17,400.0,78.93,400.0,14.8,153.62,152.3,400.0,154.99,93.85,68.91,11.26,5.06,154.87,65.32,400.0,25.47,195.05,154.89,193.78,156.23,64.47,5.13,28.69,59.06,6.79,22.17,400.0,400.0,10.77,13.28,400.0,400.0,400.0,41.84,155.74,5.73,400.0,153.67,400.0,194.55,37.69,42.94,400.0,400.0,400.0,343.57,400.0,400.0,193.34,400.0,193.25,182.04,66.38,57.5,400.0,400.0,348.63,400.0,65.42,154.1,60.05,25.62,50.02,400.0,64.47,91.58,97.01,59.85,382.72,400.0,66.49,15.9,400.0,125.81,400.0,55.44,90.42,60.04,194.69,153.16,68.61,154.92,64.98,400.0,65.28,17.1,400.0,16.5,75.81,51.01,59.47,67.24,400.0,6.13,218.91,400.0,400.0,400.0,57.16,399.49,400.0,19.56,400.0,194.25,400.0,400.0,400.0,76.43,154.15,400.0,153.63,193.76,60.21,400.0,71.52,400.0,400.0,8.8,9.34,400.0,6.14,400.0,193.11,70.24,67.07,66.07,400.0,7.1,193.83,193.35,76.89,400.0,66.19,196.29,400.0,400.0,369.19,400.0,89.71,56.59,194.58,400.0,61.42,399.53,193.93,6.45,193.75,79.42,59.14,66.13,193.75,64.37,400.0,193.72,400.0,25.22,75.63,153.31,69.47,192.26,54.18,9.89,400.0,44.04,59.11,82.07,57.05,34.18,59.21,400.0,193.39,193.43,195.23,193.44,153.22,60.21,400.0,65.68,400.0,193.33,193.32,65.17,60.86],\"name\":\"Distance\"},{\"type\":\"box\",\"y\":[18,21,9,10,8,12,10,21,19,18,7,22,13,11,8,19,21,9,15,12,22,8,22,18,19,10,9,18,15,21,8,7,23,11,10,19,8,18,10,9,8,23,10,7,10,21,14,10,13,15,19,18,10,19,8,10,15,7,23,7,8,10,12,18,11,16,23,15,11,23,23,17,23,23,19,12,21,19,10,10,12,7,11,8,11,18,11,23,11,8,12,10,19,22,16,18,10,21,18,8,21,21,10,18,10,21,15,10,18,10,15,19,11,8,18,12,11,11,14,21,18,22,19,15,11,16,19,11,10,11,21,12,13,8,12,7,19,7,8,21,8,8,12,8,11,10,10,23,9,18,21,23,19,23,9,12,11,21,10,21,10,12,10,23,19,21,8,12,10,12,19,10,10,19,22,8,18,12,8,11,9,12,10,12,8,12,14,8,18,19,11,12,10,19,18,8,21,21,12,8,10,12,8,10,7,10,8,7,18,12,8,9,9,15,11,19,9,22,18,10,10,7,21,8,10,19,10,19,11,9,22,10,10,19,12,21,21,18,10,12,8,11,21,15,19,10,9,14,23,9,10,8,9,16,9,8,19,11,18,11,15,8,22,7,21,12,12,19,11,23,21,21,10,11,16,10,10,8,12,11,10,17,8,10,8,10,10,12,8,21,19,18,21,10,21,19,14,8,10,19,11,19,7,9,23,12,9,11,11,22,15,19,8,21,15,10,12,11,18,21,10,11,22,12,8,13,10,10,19,23,16,18,10,10,8,19,10,11,8,8,18,19,9,19,10,8,18,8,21,11,22,21,22,8,19,9,12,10,10,9,11,8,21,7,15,19,12,12,10,13,11,23,22,18,10,9,10,12,11,10,9,23,11,13,14,7,10,7,21,15,7,8,9,8,9,8,9,11,10,9,11,8,10,12,8,15,8,8,8,19,9,23,23,17,10,10,15,7,12,10,7,15,18,12,10,12,10,10,12,7,7,19,16,11,8,21,19,23,10,10,10,9,12,10,19,15,12,15,10,10,11,8,15,11,21,7,11,10,17,10,13,11,11,21,23,22,21,22,10,11,18,19,12,18,9,10,10,21,10,12,10,23,8,10,19,9,10,8,8,17,8,12,23,10,15,8,10,19,7,18,18,10,12,10,10,12,23,11,10,8,23,9,11,11,10,7,12,10,15,11,11,19,19,11,8,10,10,18,13,17,18,11,10,11,11,19,11,11,9,8,18,8,10,14,23,8,21,12,16,9,19,8,18,23,8,7,11,18,11,11,18,23,10,10,9,9,18,10,10,10,21,19,11,17,11,10,8,18,10,10,9,16,10,9,21,14,10,10,8,18,7,8,15,10,10,22,10,8,11,18,8,12,10,8,23,19,19,21,19,8,21,9,7,12,10,10,19,23,10,21,8,19,19,21,23,8,10,8,8,10,21,12],\"name\":\"Hour of Day\"},{\"type\":\"box\",\"y\":[3,155,94,94,94,124,34,155,63,63,94,63,34,216,185,63,155,124,3,124,63,94,63,3,155,94,94,3,63,155,94,94,185,124,34,63,185,63,94,124,185,185,3,94,94,63,3,94,34,34,63,63,216,155,185,34,63,94,185,94,185,94,124,63,124,3,185,63,124,185,185,3,185,185,155,124,155,63,94,94,124,94,34,185,216,3,34,185,124,185,124,3,63,63,3,63,63,155,63,185,155,155,34,3,34,155,34,94,63,63,3,63,124,94,63,124,124,216,3,155,63,63,63,63,34,3,155,34,216,124,63,124,34,63,124,94,155,94,94,155,185,94,124,185,124,94,34,185,124,34,155,185,63,185,124,124,216,155,34,155,216,124,34,185,155,155,185,124,185,124,63,34,94,63,63,185,34,124,185,124,124,124,63,124,94,124,3,185,34,155,216,124,94,63,63,185,155,63,124,185,94,124,185,94,94,216,94,94,63,124,94,124,94,3,216,63,94,63,63,63,216,94,155,63,94,155,216,63,216,124,63,34,216,155,124,155,155,63,216,124,185,124,155,34,155,216,124,3,185,124,216,63,124,3,124,185,155,216,34,124,3,185,63,94,155,124,124,63,216,185,155,155,94,34,3,94,3,185,124,124,94,3,185,63,185,216,94,124,185,155,155,63,155,94,155,63,3,185,216,155,34,155,94,124,185,124,124,216,216,63,34,155,185,63,63,3,124,34,3,155,94,124,63,124,185,34,34,216,155,185,3,3,63,34,185,155,216,124,185,185,63,155,124,155,34,185,34,185,155,216,63,155,63,94,155,124,124,94,63,124,124,94,155,94,63,63,124,124,185,34,216,185,63,63,34,124,216,124,124,63,124,185,216,34,3,94,3,94,63,63,94,185,124,185,124,185,94,216,63,124,216,185,94,124,94,63,63,185,94,155,124,185,185,3,185,94,63,94,124,3,94,63,3,124,94,124,185,216,124,94,94,155,3,216,63,155,155,185,94,63,94,124,124,185,155,34,124,63,94,124,216,185,34,34,155,94,34,94,3,34,34,34,124,155,185,63,155,63,34,124,34,155,124,3,124,94,216,155,94,124,94,185,94,34,155,124,34,185,63,3,94,124,185,94,3,94,94,63,94,63,63,216,124,216,34,124,185,216,34,185,185,124,34,124,94,94,124,3,63,216,124,155,63,124,185,94,185,63,34,3,34,124,94,124,124,155,124,216,124,185,3,185,94,3,185,185,155,124,3,124,155,185,63,185,94,94,216,34,124,34,63,185,94,3,94,94,3,34,185,34,155,63,216,3,124,216,94,63,63,94,124,3,63,124,155,3,216,94,185,63,94,185,3,63,34,63,94,94,216,63,185,124,63,94,185,155,63,155,63,185,155,124,94,124,94,216,155,185,185,63,63,63,63,155,185,185,216,185,63,63,155,124],\"name\":\"Day of Year\"}];\n",
       "            var layout = {\"title\":\"Box plot segmentation\"};\n",
       "            Plotly.newPlot('64b850e3-a7db-40fb-80ca-beedd5b6e0bf', data, layout);\n",
       "        \r\n",
       "});\r\n",
       "};\r\n",
       "if ((typeof(require) !==  typeof(Function)) || (typeof(require.config) !== typeof(Function))) {\r\n",
       "    var script = document.createElement(\"script\"); \r\n",
       "    script.setAttribute(\"src\", \"https://cdnjs.cloudflare.com/ajax/libs/require.js/2.3.6/require.min.js\");\r\n",
       "    script.onload = function(){\r\n",
       "        renderPlotly();\r\n",
       "    };\r\n",
       "    document.getElementsByTagName(\"head\")[0].appendChild(script); \r\n",
       "}\r\n",
       "else {\r\n",
       "    renderPlotly();\r\n",
       "}\r\n",
       "</script>\r\n"
      ]
     },
     "metadata": {},
     "output_type": "display_data"
    }
   ],
   "source": [
    "var segmentationDiagram = Chart.Plot(new[] {\n",
    "    new Graph.Box { y = temperatures, name = \"Temperature\" },\n",
    "    new Graph.Box { y = luminosities, name = \"Luminosity\" },\n",
    "    new Graph.Box { y = infrareds, name = \"Infrared\" },\n",
    "    new Graph.Box { y = distances, name = \"Distance\" },\n",
    "    new Graph.Box { y = hours, name = \"Hour of Day\" },\n",
    "    new Graph.Box { y = days, name = \"Day of Year\" }\n",
    "});\n",
    "\n",
    "var layout = new Layout.Layout()\n",
    "{\n",
    "    title = \"Box plot segmentation\"\n",
    "};\n",
    "segmentationDiagram.WithLayout(layout);\n",
    "\n",
    "display(segmentationDiagram);"
   ]
  },
  {
   "cell_type": "markdown",
   "metadata": {},
   "source": [
    "# 4. Correlation Matrix"
   ]
  },
  {
   "cell_type": "code",
   "execution_count": 12,
   "metadata": {},
   "outputs": [
    {
     "data": {
      "text/plain": [
       "Installed package MathNet.Numerics version 4.12.0"
      ]
     },
     "metadata": {},
     "output_type": "display_data"
    }
   ],
   "source": [
    "#r \"nuget:MathNet.Numerics\""
   ]
  },
  {
   "cell_type": "code",
   "execution_count": 13,
   "metadata": {},
   "outputs": [
    {
     "name": "stderr",
     "output_type": "stream",
     "text": [
      "\r\n",
      "warning CS1701: Assuming assembly reference 'Microsoft.AspNetCore.Html.Abstractions, Version=2.2.0.0, Culture=neutral, PublicKeyToken=adb9793829ddae60' used by 'Microsoft.DotNet.Interactive.Formatting' matches identity 'Microsoft.AspNetCore.Html.Abstractions, Version=3.1.7.0, Culture=neutral, PublicKeyToken=adb9793829ddae60' of 'Microsoft.AspNetCore.Html.Abstractions', you may need to supply runtime policy\r\n",
      "\r\n"
     ]
    }
   ],
   "source": [
    "#load \"C:\\Users\\dcost\\source\\repos\\SmartFireAlarm\\SmartFireAlarm\\Jupyter\\Helpers.csx\""
   ]
  },
  {
   "cell_type": "code",
   "execution_count": 14,
   "metadata": {},
   "outputs": [
    {
     "data": {
      "text/html": [
       "<div id=\"9e24b26b-6c57-4919-8f3f-b456a7218ec7\" style=\"width: 900px; height: 500px;\"></div>\r\n",
       "<script type=\"text/javascript\">\r\n",
       "\r\n",
       "var renderPlotly = function() {\r\n",
       "    var xplotRequire = require.config({context:'xplot-3.0.1',paths:{plotly:'https://cdn.plot.ly/plotly-1.49.2.min'}}) || require;\r\n",
       "    xplotRequire(['plotly'], function(Plotly) {\r\n",
       "\n",
       "            var data = [{\"type\":\"heatmap\",\"z\":[[0.03864832718682582,0.03381222732027014,0.04288091487856916,0.4580911620076949,0.49580439802850657,1.0],[-0.24749378645656184,0.07924889261111168,0.024735131570401504,0.3993061991761758,1.0,0.49580439802850657],[-0.04506406343369005,-0.055248810770920635,0.10171542306368517,1.0,0.3993061991761758,0.4580911620076949],[0.023190028948004676,0.008163491216724989,1.0,0.10171542306368517,0.024735131570401504,0.04288091487856916],[-0.04701397908264149,1.0,0.008163491216724989,-0.055248810770920635,0.07924889261111168,0.03381222732027014],[1.0,-0.04701397908264149,0.023190028948004676,-0.04506406343369005,-0.24749378645656184,0.03864832718682582]],\"x\":[\"Temperature\",\"Luminosity\",\"Infrared\",\"Distance\",\"Hour\",\"Day\"],\"y\":[\"Day\",\"Hour\",\"Distance\",\"Infrared\",\"Luminosity\",\"Temperature\"],\"zmin\":-1.0,\"zmax\":1.0}];\n",
       "            var layout = {\"title\":\"Features Correlation Matrix\",\"autosize\":\"true\",\"margin\":{\"l\":90.0}};\n",
       "            Plotly.newPlot('9e24b26b-6c57-4919-8f3f-b456a7218ec7', data, layout);\n",
       "        \r\n",
       "});\r\n",
       "};\r\n",
       "if ((typeof(require) !==  typeof(Function)) || (typeof(require.config) !== typeof(Function))) {\r\n",
       "    var script = document.createElement(\"script\"); \r\n",
       "    script.setAttribute(\"src\", \"https://cdnjs.cloudflare.com/ajax/libs/require.js/2.3.6/require.min.js\");\r\n",
       "    script.onload = function(){\r\n",
       "        renderPlotly();\r\n",
       "    };\r\n",
       "    document.getElementsByTagName(\"head\")[0].appendChild(script); \r\n",
       "}\r\n",
       "else {\r\n",
       "    renderPlotly();\r\n",
       "}\r\n",
       "</script>\r\n"
      ]
     },
     "metadata": {},
     "output_type": "display_data"
    }
   ],
   "source": [
    "var featureColumns = new string[] { \"Temperature\", \"Luminosity\", \"Infrared\", \"Distance\", \"Hour\", \"Day\" };\n",
    "\n",
    "var featureMatrix = new List<List<double>>();\n",
    "\n",
    "featureMatrix.Add(temperatures.Select(Convert.ToDouble).ToList());\n",
    "featureMatrix.Add(luminosities.Select(Convert.ToDouble).ToList());\n",
    "featureMatrix.Add(infrareds.Select(Convert.ToDouble).ToList());\n",
    "featureMatrix.Add(distances.Select(Convert.ToDouble).ToList());\n",
    "featureMatrix.Add(hours.Select(Convert.ToDouble).ToList());\n",
    "featureMatrix.Add(days.Select(Convert.ToDouble).ToList());\n",
    "\n",
    "var correlationMatrix = Chart.Plot(\n",
    "    new Graph.Heatmap \n",
    "    {\n",
    "        x = featureColumns,\n",
    "        y = featureColumns.Reverse(),\n",
    "        z = Helpers.GetPearsonCorrelation(featureMatrix),\n",
    "        zmin = -1,\n",
    "        zmax = 1\n",
    "    }\n",
    ");\n",
    "\n",
    "var layout = new Layout.Layout()\n",
    "{\n",
    "    autosize = \"true\", \n",
    "    margin =  new Graph.Margin{ l = 90 }, // fix left margin to accomodate longer labels\n",
    "    title = \"Features Correlation Matrix\"\n",
    "};\n",
    "correlationMatrix.WithLayout(layout);\n",
    "display(correlationMatrix);"
   ]
  },
  {
   "cell_type": "code",
   "execution_count": null,
   "metadata": {},
   "outputs": [],
   "source": []
  }
 ],
 "metadata": {
  "kernelspec": {
   "display_name": ".NET (C#)",
   "language": "C#",
   "name": ".net-csharp"
  },
  "language_info": {
   "file_extension": ".cs",
   "mimetype": "text/x-csharp",
   "name": "C#",
   "pygments_lexer": "csharp",
   "version": "8.0"
  }
 },
 "nbformat": 4,
 "nbformat_minor": 4
}
