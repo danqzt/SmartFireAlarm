{
 "cells": [
  {
   "cell_type": "markdown",
   "metadata": {},
   "source": [
    "# B. Explore data with data frames"
   ]
  },
  {
   "cell_type": "markdown",
   "metadata": {},
   "source": [
    "### Install packages / import namespaces"
   ]
  },
  {
   "cell_type": "code",
   "execution_count": 1,
   "metadata": {},
   "outputs": [
    {
     "data": {
      "text/html": [
       "<script type=\"text/javascript\">#!javascript\r\n",
       "if ((typeof(requirejs) !==  typeof(Function)) || (typeof(requirejs.config) !== typeof(Function))) { \r\n",
       "    let script = document.createElement(\"script\"); \r\n",
       "    script.setAttribute(\"src\", \"https://cdnjs.cloudflare.com/ajax/libs/require.js/2.3.6/require.min.js\"); \r\n",
       "    script.onload = function(){\r\n",
       "        loadDotnetInteractiveApi();\r\n",
       "    };\r\n",
       "    document.getElementsByTagName(\"head\")[0].appendChild(script); \r\n",
       "}\r\n",
       "else {\r\n",
       "    loadDotnetInteractiveApi();\r\n",
       "}\r\n",
       "\r\n",
       "function loadDotnetInteractiveApi(){\r\n",
       "    let apiRequire = requirejs.config({context:\"dotnet-interactive.21656.64007\",paths:{dotnetInteractive:\"http://localhost:64007/resources/dotnet-interactive\"}});\r\n",
       "    apiRequire(['dotnetInteractive'], \r\n",
       "    function(api) {       \r\n",
       "        api.createDotnetInteractiveClient(\"http://localhost:64007/\", window);\r\n",
       "    },\r\n",
       "    function(error){\r\n",
       "        console.log(error);\r\n",
       "    });\r\n",
       "}</script>"
      ]
     },
     "metadata": {},
     "output_type": "display_data"
    },
    {
     "data": {
      "text/html": [
       "Installed package Microsoft.ML version 1.4.0"
      ]
     },
     "metadata": {},
     "output_type": "display_data"
    }
   ],
   "source": [
    "#r \"nuget:Microsoft.ML,1.5.0-preview2\"\n",
    "using XPlot.Plotly;\n",
    "using System.Linq;\n",
    "using Microsoft.ML;\n",
    "using Microsoft.ML.Data;"
   ]
  },
  {
   "cell_type": "code",
   "execution_count": 2,
   "metadata": {},
   "outputs": [
    {
     "data": {
      "text/html": [
       "Installed package Microsoft.Data.Analysis version 0.4.0"
      ]
     },
     "metadata": {},
     "output_type": "display_data"
    }
   ],
   "source": [
    "#r \"nuget:Microsoft.Data.Analysis\"\n",
    "using Microsoft.AspNetCore.Html;\n",
    "using Microsoft.Data.Analysis;"
   ]
  },
  {
   "cell_type": "code",
   "execution_count": 3,
   "metadata": {},
   "outputs": [],
   "source": [
    "#load \"C:\\Users\\dcost\\source\\repos\\SmartFireAlarm\\SmartFireAlarm\\Jupyter\\Formatters.cs\"\n",
    "    \n",
    "var categories = new string[] { \"FlashLight\", \"Infrared\", \"Day\", \"Lighter\" };\n",
    "Formatters.Load(categories);"
   ]
  },
  {
   "cell_type": "markdown",
   "metadata": {},
   "source": [
    "### Load data into data frame"
   ]
  },
  {
   "cell_type": "code",
   "execution_count": 4,
   "metadata": {},
   "outputs": [
    {
     "data": {
      "text/html": [
       "<table><thead><th><i>index</i></th><th>Temperature</th><th>Luminosity</th><th>Infrared</th><th>Distance</th><th>CreatedAt</th><th>Source</th></thead><tbody><tr><td>0</td><td>24.77</td><td>63.96</td><td>0</td><td>242.96</td><td>01/03/2020 10:22:01</td><td>FlashLight</td></tr><tr><td>1</td><td>24.77</td><td>64.06</td><td>0</td><td>301.72</td><td>01/03/2020 10:22:02</td><td>FlashLight</td></tr><tr><td>2</td><td>24.77</td><td>64.06</td><td>0</td><td>71.52</td><td>01/03/2020 10:22:03</td><td>FlashLight</td></tr><tr><td>3</td><td>24.44</td><td>63.18</td><td>0</td><td>366.22</td><td>01/03/2020 10:22:04</td><td>FlashLight</td></tr><tr><td>4</td><td>24.12</td><td>69.14</td><td>0</td><td>350.8</td><td>01/03/2020 10:22:05</td><td>FlashLight</td></tr><tr><td>5</td><td>23.8</td><td>65.62</td><td>0</td><td>13.86</td><td>01/03/2020 10:22:06</td><td>FlashLight</td></tr><tr><td>6</td><td>23.8</td><td>66.41</td><td>0</td><td>290.37</td><td>01/03/2020 10:22:07</td><td>FlashLight</td></tr><tr><td>7</td><td>24.77</td><td>68.85</td><td>0</td><td>382.72</td><td>01/03/2020 10:22:08</td><td>FlashLight</td></tr><tr><td>8</td><td>24.77</td><td>69.14</td><td>0</td><td>322.63</td><td>01/03/2020 10:22:09</td><td>FlashLight</td></tr><tr><td>9</td><td>24.44</td><td>67.58</td><td>0</td><td>366.69</td><td>01/03/2020 10:22:10</td><td>FlashLight</td></tr></tbody></table>"
      ]
     },
     "execution_count": 4,
     "metadata": {},
     "output_type": "execute_result"
    }
   ],
   "source": [
    "const string DATASET_PATH = \"./sensors_data.csv\";\n",
    "var dataFrame = DataFrame.LoadCsv(DATASET_PATH);\n",
    "dataFrame"
   ]
  },
  {
   "cell_type": "code",
   "execution_count": 5,
   "metadata": {},
   "outputs": [
    {
     "data": {
      "text/html": [
       "<table><thead><th><i>index</i></th><th>Description</th><th>Temperature</th><th>Luminosity</th><th>Infrared</th><th>Distance</th></thead><tbody><tr><td>0</td><td>Length (excluding null values)</td><td>803</td><td>803</td><td>803</td><td>803</td></tr><tr><td>1</td><td>Max</td><td>157.22</td><td>100</td><td>96.78</td><td>400</td></tr><tr><td>2</td><td>Min</td><td>23.28</td><td>3.91</td><td>0</td><td>4.19</td></tr><tr><td>3</td><td>Mean</td><td>35.101135</td><td>49.95586</td><td>23.036049</td><td>185.35147</td></tr></tbody></table>"
      ]
     },
     "execution_count": 5,
     "metadata": {},
     "output_type": "execute_result"
    }
   ],
   "source": [
    "dataFrame.Description()"
   ]
  },
  {
   "cell_type": "code",
   "execution_count": 6,
   "metadata": {},
   "outputs": [
    {
     "data": {
      "text/html": [
       "<table><thead><th><i>index</i></th><th>Info</th><th>Temperature</th><th>Luminosity</th><th>Infrared</th><th>Distance</th><th>CreatedAt</th><th>Source</th></thead><tbody><tr><td>0</td><td>DataType</td><td>System.Single</td><td>System.Single</td><td>System.Single</td><td>System.Single</td><td>System.String</td><td>System.String</td></tr><tr><td>1</td><td>Length (excluding null values)</td><td>803</td><td>803</td><td>803</td><td>803</td><td>803</td><td>803</td></tr></tbody></table>"
      ]
     },
     "execution_count": 6,
     "metadata": {},
     "output_type": "execute_result"
    }
   ],
   "source": [
    "dataFrame.Info()"
   ]
  },
  {
   "cell_type": "code",
   "execution_count": 7,
   "metadata": {},
   "outputs": [
    {
     "data": {
      "text/html": [
       "<table><thead><th><i>index</i></th><th>Source</th><th>Temperature</th><th>Luminosity</th><th>Infrared</th><th>Distance</th><th>CreatedAt</th></thead><tbody><tr><td>0</td><td>FlashLight</td><td>301</td><td>301</td><td>301</td><td>301</td><td>301</td></tr><tr><td>1</td><td>Infrared</td><td>135</td><td>135</td><td>135</td><td>135</td><td>135</td></tr><tr><td>2</td><td>Day</td><td>234</td><td>234</td><td>234</td><td>234</td><td>234</td></tr><tr><td>3</td><td>Lighter</td><td>133</td><td>133</td><td>133</td><td>133</td><td>133</td></tr></tbody></table>"
      ]
     },
     "execution_count": 7,
     "metadata": {},
     "output_type": "execute_result"
    }
   ],
   "source": [
    "var sources = dataFrame.GroupBy(\"Source\").Count();\n",
    "sources"
   ]
  }
 ],
 "metadata": {
  "kernelspec": {
   "display_name": ".NET (C#)",
   "language": "C#",
   "name": ".net-csharp"
  },
  "language_info": {
   "file_extension": ".cs",
   "mimetype": "text/x-csharp",
   "name": "C#",
   "pygments_lexer": "csharp",
   "version": "8.0"
  }
 },
 "nbformat": 4,
 "nbformat_minor": 4
}
