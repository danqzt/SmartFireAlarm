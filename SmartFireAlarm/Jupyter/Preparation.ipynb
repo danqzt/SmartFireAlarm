{
 "cells": [
  {
   "cell_type": "markdown",
   "metadata": {},
   "source": [
    "# C. PREPARE DATA\n",
    "## (build data preparation pipeline and training pipeline)"
   ]
  },
  {
   "cell_type": "markdown",
   "metadata": {},
   "source": [
    "#### Install packages / import namespaces"
   ]
  },
  {
   "cell_type": "code",
   "execution_count": 1,
   "metadata": {},
   "outputs": [
    {
     "data": {
      "text/html": [
       "<script type=\"text/javascript\">#!javascript\r\n",
       "if ((typeof(requirejs) !==  typeof(Function)) || (typeof(requirejs.config) !== typeof(Function))) { \r\n",
       "    let script = document.createElement(\"script\"); \r\n",
       "    script.setAttribute(\"src\", \"https://cdnjs.cloudflare.com/ajax/libs/require.js/2.3.6/require.min.js\"); \r\n",
       "    script.onload = function(){\r\n",
       "        loadDotnetInteractiveApi();\r\n",
       "    };\r\n",
       "    document.getElementsByTagName(\"head\")[0].appendChild(script); \r\n",
       "}\r\n",
       "else {\r\n",
       "    loadDotnetInteractiveApi();\r\n",
       "}\r\n",
       "\r\n",
       "function loadDotnetInteractiveApi(){\r\n",
       "    let apiRequire = requirejs.config({context:\"dotnet-interactive.11052.55542\",paths:{dotnetInteractive:\"http://localhost:55542/resources/dotnet-interactive\"}});\r\n",
       "    apiRequire(['dotnetInteractive'], \r\n",
       "    function(api) {       \r\n",
       "        api.createDotnetInteractiveClient(\"http://localhost:55542/\", window);\r\n",
       "    },\r\n",
       "    function(error){\r\n",
       "        console.log(error);\r\n",
       "    });\r\n",
       "}</script>"
      ]
     },
     "metadata": {},
     "output_type": "display_data"
    },
    {
     "data": {
      "text/html": [
       "Installed package Microsoft.ML version 1.5.0-preview2"
      ]
     },
     "metadata": {},
     "output_type": "display_data"
    }
   ],
   "source": [
    "#r \"nuget:Microsoft.ML,1.5.0-preview2\"\n",
    "using XPlot.Plotly;\n",
    "using System.Linq;\n",
    "using Microsoft.ML;\n",
    "using Microsoft.ML.Data;"
   ]
  },
  {
   "cell_type": "markdown",
   "metadata": {},
   "source": [
    "# 1. LOAD DATA"
   ]
  },
  {
   "cell_type": "markdown",
   "metadata": {},
   "source": [
    "#### Load data models from Models.cs file "
   ]
  },
  {
   "cell_type": "code",
   "execution_count": 2,
   "metadata": {},
   "outputs": [],
   "source": [
    "#load \"C:\\Users\\dcost\\source\\repos\\SmartFireAlarm\\SmartFireAlarm\\Jupyter\\Models.cs\""
   ]
  },
  {
   "cell_type": "markdown",
   "metadata": {},
   "source": [
    "#### Initialize the ML context (we need it for building the data and training pipelines)  "
   ]
  },
  {
   "cell_type": "code",
   "execution_count": 3,
   "metadata": {},
   "outputs": [],
   "source": [
    "MLContext mlContext = new MLContext(0);"
   ]
  },
  {
   "cell_type": "markdown",
   "metadata": {},
   "source": [
    "#### Load data from csv file into a dataview"
   ]
  },
  {
   "cell_type": "code",
   "execution_count": 4,
   "metadata": {},
   "outputs": [],
   "source": [
    "const string DATASET_PATH = \"./sensors_data.csv\";\n",
    "IDataView data = mlContext.Data.LoadFromTextFile<ModelInput>(\n",
    "    path: DATASET_PATH,\n",
    "    hasHeader: true,\n",
    "    separatorChar: ',');"
   ]
  },
  {
   "cell_type": "markdown",
   "metadata": {},
   "source": [
    "#### Shuffle and split data to _trainingData_ and _testingData_ by a fraction of 0.2"
   ]
  },
  {
   "cell_type": "code",
   "execution_count": 5,
   "metadata": {},
   "outputs": [],
   "source": [
    "var shuffledData = mlContext.Data.ShuffleRows(data, seed: 0);\n",
    "var split = mlContext.Data.TrainTestSplit(shuffledData, testFraction: 0.2);\n",
    "var trainingData = split.TrainSet;\n",
    "var testingData = split.TestSet;"
   ]
  },
  {
   "cell_type": "markdown",
   "metadata": {},
   "source": [
    "\n",
    "#### Convert data to collection (examine data)"
   ]
  },
  {
   "cell_type": "code",
   "execution_count": 6,
   "metadata": {},
   "outputs": [
    {
     "data": {
      "text/html": [
       "<table><thead><tr><th><i>index</i></th><th>Temperature</th><th>Luminosity</th><th>Infrared</th><th>Distance</th><th>CreatedAt</th><th>Source</th></tr></thead><tbody><tr><td>0</td><td>24.82</td><td>50.49</td><td>0</td><td>8.84</td><td>01/03/2020 18:22:56</td><td>FlashLight</td></tr><tr><td>1</td><td>23.96</td><td>4.1</td><td>0</td><td>154.09</td><td>06/03/2020 21:31:55</td><td>Day</td></tr><tr><td>2</td><td>32.5</td><td>72.27</td><td>0</td><td>66.87</td><td>05/03/2020 11:29:22</td><td>FlashLight</td></tr><tr><td>3</td><td>47.32</td><td>100</td><td>94.34</td><td>41.55</td><td>04/03/2020 9:28:24</td><td>Lighter</td></tr><tr><td>4</td><td>25.09</td><td>12.11</td><td>0</td><td>400</td><td>04/03/2020 10:26:18</td><td>Day</td></tr><tr><td>5</td><td>56.03</td><td>100</td><td>92.29</td><td>400</td><td>04/03/2020 8:27:51</td><td>Lighter</td></tr><tr><td>6</td><td>32.18</td><td>11.72</td><td>15.43</td><td>60.87</td><td>05/03/2020 12:30:21</td><td>Infrared</td></tr><tr><td>7</td><td>23.28</td><td>45.51</td><td>0</td><td>12.08</td><td>02/03/2020 10:23:51</td><td>FlashLight</td></tr><tr><td>8</td><td>27.34</td><td>70.31</td><td>0</td><td>194.26</td><td>03/03/2020 19:24:48</td><td>FlashLight</td></tr><tr><td>9</td><td>24.77</td><td>18.55</td><td>0</td><td>400</td><td>03/03/2020 18:25:00</td><td>Day</td></tr></tbody></table>"
      ]
     },
     "metadata": {},
     "output_type": "display_data"
    }
   ],
   "source": [
    "var features = mlContext.Data.CreateEnumerable<ModelInput>(trainingData, true);\n",
    "\n",
    "display(features.Take(10));"
   ]
  },
  {
   "cell_type": "markdown",
   "metadata": {},
   "source": [
    "#### Categorical distribution"
   ]
  },
  {
   "cell_type": "code",
   "execution_count": 7,
   "metadata": {},
   "outputs": [],
   "source": [
    "var sources = features.Select(f => f.Source);\n",
    "var temperatures = features.Select(f => f.Temperature);\n",
    "var luminosities = features.Select(f => f.Luminosity);\n",
    "var infrareds = features.Select(f => f.Infrared);\n",
    "var distances = features.Select(f => f.Distance);\n",
    "var hours = features.Select(f => DateTime.Parse(f.CreatedAt).Hour);\n",
    "var days = features.Select(f => DateTime.Parse(f.CreatedAt).DayOfYear);"
   ]
  },
  {
   "cell_type": "code",
   "execution_count": 8,
   "metadata": {},
   "outputs": [
    {
     "data": {
      "text/html": [
       "<div id=\"7bd51f3b-26c2-4851-8526-d10e3379f079\" style=\"width: 900px; height: 500px;\"></div>\r\n",
       "<script type=\"text/javascript\">\r\n",
       "\r\n",
       "var renderPlotly = function() {\r\n",
       "    var xplotRequire = requirejs.config({context:'xplot-3.0.1',paths:{plotly:'https://cdn.plot.ly/plotly-1.49.2.min'}});\r\n",
       "    xplotRequire(['plotly'], function(Plotly) {\r\n",
       "\n",
       "            var data = [{\"type\":\"histogram\",\"x\":[\"FlashLight\",\"Day\",\"FlashLight\",\"Lighter\",\"Day\",\"Lighter\",\"Infrared\",\"FlashLight\",\"FlashLight\",\"Day\",\"Day\",\"Day\",\"Infrared\",\"Infrared\",\"Day\",\"Lighter\",\"Lighter\",\"FlashLight\",\"FlashLight\",\"Infrared\",\"Lighter\",\"Infrared\",\"Day\",\"Day\",\"Lighter\",\"FlashLight\",\"Day\",\"FlashLight\",\"Lighter\",\"Day\",\"FlashLight\",\"Lighter\",\"FlashLight\",\"FlashLight\",\"FlashLight\",\"Day\",\"Day\",\"FlashLight\",\"FlashLight\",\"FlashLight\",\"Lighter\",\"Lighter\",\"Day\",\"FlashLight\",\"FlashLight\",\"FlashLight\",\"Lighter\",\"Day\",\"Infrared\",\"FlashLight\",\"Lighter\",\"Day\",\"FlashLight\",\"Infrared\",\"Day\",\"Lighter\",\"FlashLight\",\"FlashLight\",\"Day\",\"Day\",\"FlashLight\",\"FlashLight\",\"FlashLight\",\"FlashLight\",\"FlashLight\",\"Day\",\"FlashLight\",\"Day\",\"FlashLight\",\"FlashLight\",\"FlashLight\",\"FlashLight\",\"FlashLight\",\"Lighter\",\"Day\",\"Day\",\"FlashLight\",\"Day\",\"FlashLight\",\"Day\",\"Day\",\"FlashLight\",\"Lighter\",\"Infrared\",\"Day\",\"Infrared\",\"Lighter\",\"FlashLight\",\"FlashLight\",\"FlashLight\",\"Infrared\",\"Infrared\",\"FlashLight\",\"Lighter\",\"Infrared\",\"Lighter\",\"FlashLight\",\"FlashLight\",\"Infrared\",\"Lighter\",\"Day\",\"Lighter\",\"Lighter\",\"Day\",\"FlashLight\",\"FlashLight\",\"Day\",\"FlashLight\",\"Lighter\",\"FlashLight\",\"FlashLight\",\"FlashLight\",\"Lighter\",\"FlashLight\",\"Infrared\",\"FlashLight\",\"FlashLight\",\"Lighter\",\"Day\",\"FlashLight\",\"FlashLight\",\"Day\",\"Lighter\",\"Day\",\"Lighter\",\"Day\",\"FlashLight\",\"FlashLight\",\"Infrared\",\"Lighter\",\"Infrared\",\"Day\",\"Infrared\",\"Lighter\",\"Infrared\",\"Lighter\",\"Day\",\"Lighter\",\"Lighter\",\"Infrared\",\"FlashLight\",\"Lighter\",\"Infrared\",\"FlashLight\",\"FlashLight\",\"Day\",\"FlashLight\",\"FlashLight\",\"FlashLight\",\"Day\",\"Lighter\",\"FlashLight\",\"FlashLight\",\"FlashLight\",\"Lighter\",\"FlashLight\",\"FlashLight\",\"FlashLight\",\"Day\",\"Lighter\",\"FlashLight\",\"Day\",\"Lighter\",\"Day\",\"FlashLight\",\"Day\",\"Infrared\",\"FlashLight\",\"FlashLight\",\"FlashLight\",\"Lighter\",\"Day\",\"Infrared\",\"Infrared\",\"FlashLight\",\"FlashLight\",\"Day\",\"FlashLight\",\"Day\",\"FlashLight\",\"Day\",\"FlashLight\",\"Infrared\",\"Infrared\",\"Lighter\",\"FlashLight\",\"FlashLight\",\"Infrared\",\"Day\",\"FlashLight\",\"Day\",\"Day\",\"Infrared\",\"Day\",\"FlashLight\",\"Day\",\"Infrared\",\"Lighter\",\"Infrared\",\"Infrared\",\"Infrared\",\"Day\",\"Day\",\"Day\",\"Lighter\",\"Day\",\"Lighter\",\"Lighter\",\"Day\",\"FlashLight\",\"Lighter\",\"Day\",\"FlashLight\",\"Lighter\",\"Lighter\",\"Day\",\"Infrared\",\"FlashLight\",\"Day\",\"Day\",\"Day\",\"Day\",\"FlashLight\",\"FlashLight\",\"Day\",\"Day\",\"Day\",\"Day\",\"Infrared\",\"Infrared\",\"Lighter\",\"Day\",\"FlashLight\",\"FlashLight\",\"FlashLight\",\"FlashLight\",\"Day\",\"FlashLight\",\"FlashLight\",\"FlashLight\",\"Infrared\",\"FlashLight\",\"Day\",\"Infrared\",\"FlashLight\",\"FlashLight\",\"FlashLight\",\"FlashLight\",\"FlashLight\",\"Day\",\"Lighter\",\"Infrared\",\"Day\",\"Lighter\",\"Day\",\"Infrared\",\"FlashLight\",\"Day\",\"FlashLight\",\"Lighter\",\"Lighter\",\"Day\",\"Lighter\",\"FlashLight\",\"Day\",\"Day\",\"FlashLight\",\"FlashLight\",\"Infrared\",\"FlashLight\",\"Infrared\",\"FlashLight\",\"Day\",\"FlashLight\",\"Infrared\",\"Infrared\",\"Day\",\"FlashLight\",\"FlashLight\",\"Day\",\"Day\",\"FlashLight\",\"Lighter\",\"Infrared\",\"Infrared\",\"Lighter\",\"FlashLight\",\"Day\",\"Day\",\"Lighter\",\"FlashLight\",\"Infrared\",\"FlashLight\",\"FlashLight\",\"FlashLight\",\"Day\",\"Day\",\"Day\",\"Day\",\"Lighter\",\"Day\",\"FlashLight\",\"FlashLight\",\"FlashLight\",\"FlashLight\",\"Day\",\"FlashLight\",\"Lighter\",\"FlashLight\",\"FlashLight\",\"Infrared\",\"Infrared\",\"FlashLight\",\"Lighter\",\"FlashLight\",\"Infrared\",\"Infrared\",\"Lighter\",\"Day\",\"Infrared\",\"Day\",\"Day\",\"Infrared\",\"Infrared\",\"FlashLight\",\"Day\",\"Day\",\"FlashLight\",\"FlashLight\",\"Infrared\",\"Day\",\"Day\",\"FlashLight\",\"Day\",\"Day\",\"FlashLight\",\"Infrared\",\"FlashLight\",\"Day\",\"FlashLight\",\"Day\",\"FlashLight\",\"Lighter\",\"Day\",\"Lighter\",\"Day\",\"Day\",\"Infrared\",\"Lighter\",\"Infrared\",\"FlashLight\",\"FlashLight\",\"Day\",\"Infrared\",\"Day\",\"Day\",\"Day\",\"FlashLight\",\"FlashLight\",\"FlashLight\",\"FlashLight\",\"Lighter\",\"Lighter\",\"Day\",\"FlashLight\",\"Infrared\",\"Infrared\",\"Infrared\",\"Infrared\",\"Infrared\",\"Day\",\"FlashLight\",\"Infrared\",\"Day\",\"FlashLight\",\"FlashLight\",\"Infrared\",\"FlashLight\",\"FlashLight\",\"Day\",\"Infrared\",\"FlashLight\",\"Lighter\",\"FlashLight\",\"FlashLight\",\"Day\",\"Day\",\"FlashLight\",\"FlashLight\",\"Infrared\",\"Infrared\",\"Lighter\",\"Day\",\"Lighter\",\"Day\",\"FlashLight\",\"FlashLight\",\"Day\",\"FlashLight\",\"FlashLight\",\"Day\",\"Infrared\",\"Lighter\",\"Day\",\"FlashLight\",\"FlashLight\",\"Day\",\"FlashLight\",\"FlashLight\",\"Day\",\"Infrared\",\"Day\",\"Day\",\"Lighter\",\"FlashLight\",\"FlashLight\",\"Day\",\"Day\",\"FlashLight\",\"FlashLight\",\"Day\",\"Infrared\",\"Infrared\",\"Day\",\"Infrared\",\"Lighter\",\"Lighter\",\"Day\",\"FlashLight\",\"Day\",\"Infrared\",\"Lighter\",\"Day\",\"FlashLight\",\"Day\",\"Lighter\",\"Day\",\"Day\",\"Infrared\",\"Infrared\",\"FlashLight\",\"Infrared\",\"Day\",\"Day\",\"Day\",\"FlashLight\",\"Day\",\"Day\",\"Infrared\",\"FlashLight\",\"Lighter\",\"Lighter\",\"Lighter\",\"Lighter\",\"Day\",\"Day\",\"FlashLight\",\"Day\",\"Infrared\",\"Day\",\"Infrared\",\"Day\",\"FlashLight\",\"Lighter\",\"FlashLight\",\"Day\",\"Infrared\",\"Day\",\"Lighter\",\"Day\",\"FlashLight\",\"Day\",\"FlashLight\",\"FlashLight\",\"Lighter\",\"Day\",\"Infrared\",\"Day\",\"Infrared\",\"Infrared\",\"Day\",\"FlashLight\",\"Day\",\"Infrared\",\"FlashLight\",\"Day\",\"Lighter\",\"FlashLight\",\"Lighter\",\"Day\",\"FlashLight\",\"Lighter\",\"FlashLight\",\"Infrared\",\"Day\",\"Day\",\"FlashLight\",\"FlashLight\",\"Day\",\"FlashLight\",\"Infrared\",\"Infrared\",\"Day\",\"FlashLight\",\"FlashLight\",\"FlashLight\",\"Lighter\",\"Lighter\",\"FlashLight\",\"Day\",\"Infrared\",\"FlashLight\",\"Day\",\"Day\",\"FlashLight\",\"Day\",\"FlashLight\",\"Infrared\",\"FlashLight\",\"Infrared\",\"FlashLight\",\"Infrared\",\"FlashLight\",\"Day\",\"FlashLight\",\"Day\",\"FlashLight\",\"FlashLight\",\"Day\",\"FlashLight\",\"Day\",\"FlashLight\",\"FlashLight\",\"FlashLight\",\"Day\",\"Day\",\"FlashLight\",\"FlashLight\",\"FlashLight\",\"Infrared\",\"Lighter\",\"Infrared\",\"FlashLight\",\"Day\",\"Infrared\",\"Infrared\",\"Day\",\"Lighter\",\"FlashLight\",\"Lighter\",\"Lighter\",\"Day\",\"Infrared\",\"FlashLight\",\"Lighter\",\"FlashLight\",\"Day\",\"FlashLight\",\"Lighter\",\"FlashLight\",\"FlashLight\",\"FlashLight\",\"FlashLight\",\"Infrared\",\"FlashLight\",\"Lighter\",\"Infrared\",\"Lighter\",\"Infrared\",\"Day\",\"FlashLight\",\"FlashLight\",\"Lighter\",\"FlashLight\",\"Lighter\",\"Day\",\"FlashLight\",\"FlashLight\",\"Lighter\",\"FlashLight\",\"Lighter\",\"FlashLight\",\"Day\",\"Lighter\",\"Day\",\"Day\",\"Lighter\",\"FlashLight\",\"FlashLight\",\"FlashLight\",\"Infrared\",\"Day\",\"Day\",\"Lighter\",\"FlashLight\",\"Day\",\"Day\",\"FlashLight\",\"Infrared\",\"FlashLight\",\"Infrared\",\"FlashLight\",\"Day\",\"Day\",\"Lighter\",\"Lighter\",\"Day\",\"Infrared\",\"FlashLight\",\"FlashLight\",\"Day\",\"Infrared\",\"FlashLight\",\"FlashLight\",\"Day\",\"Day\",\"Day\",\"FlashLight\",\"Infrared\",\"FlashLight\",\"Infrared\",\"Lighter\",\"FlashLight\",\"FlashLight\",\"FlashLight\",\"Lighter\",\"FlashLight\",\"Day\",\"Infrared\",\"Infrared\",\"Infrared\",\"Lighter\",\"Infrared\"]}];\n",
       "            var layout = {\"title\":\"Categories distribution\"};\n",
       "            Plotly.newPlot('7bd51f3b-26c2-4851-8526-d10e3379f079', data, layout);\n",
       "        \r\n",
       "});\r\n",
       "};\r\n",
       "if ((typeof(requirejs) !==  typeof(Function)) || (typeof(requirejs.config) !== typeof(Function))) { \r\n",
       "    var script = document.createElement(\"script\"); \r\n",
       "    script.setAttribute(\"src\", \"https://cdnjs.cloudflare.com/ajax/libs/require.js/2.3.6/require.min.js\"); \r\n",
       "    script.onload = function(){\r\n",
       "        renderPlotly();\r\n",
       "    };\r\n",
       "    document.getElementsByTagName(\"head\")[0].appendChild(script); \r\n",
       "}\r\n",
       "else {\r\n",
       "    renderPlotly();\r\n",
       "}\r\n",
       "</script>\r\n"
      ]
     },
     "metadata": {},
     "output_type": "display_data"
    }
   ],
   "source": [
    "var categoriesHistogram = Chart.Plot(\n",
    "    new Graph.Histogram { x = sources }\n",
    ");\n",
    "\n",
    "var layout = new Layout.Layout()\n",
    "{\n",
    "    title = \"Categories distribution\"\n",
    "};\n",
    "categoriesHistogram.WithLayout(layout);\n",
    "\n",
    "display(categoriesHistogram);"
   ]
  },
  {
   "cell_type": "markdown",
   "metadata": {},
   "source": [
    "#### Numerical distribution"
   ]
  },
  {
   "cell_type": "code",
   "execution_count": 9,
   "metadata": {},
   "outputs": [
    {
     "data": {
      "text/html": [
       "<div id=\"61fa7ad1-e8ce-4d3a-9114-ffaa52572f46\" style=\"width: 900px; height: 500px;\"></div>\r\n",
       "<script type=\"text/javascript\">\r\n",
       "\r\n",
       "var renderPlotly = function() {\r\n",
       "    var xplotRequire = requirejs.config({context:'xplot-3.0.1',paths:{plotly:'https://cdn.plot.ly/plotly-1.49.2.min'}});\r\n",
       "    xplotRequire(['plotly'], function(Plotly) {\r\n",
       "\n",
       "            var data = [{\"type\":\"histogram\",\"x\":[24.82,23.96,32.5,47.32,25.09,56.03,32.18,23.28,27.34,24.77,25.09,32.18,32.18,25.09,32.18,94.05,37.01,32.5,24.77,30.24,37.98,25.41,32.18,25.09,48.94,24.14,24.44,31.21,37.33,23.63,27.34,66.98,31.86,27.34,32.18,25.09,32.18,32.18,31.21,24.77,58.6,50.87,24.77,27.34,23.48,27.67,36.69,25.09,26.38,24.28,115.0,32.18,31.21,30.24,24.44,56.03,32.5,24.44,24.77,25.09,32.18,32.5,25.14,23.8,32.5,24.44,32.5,25.09,31.21,24.12,32.5,31.86,36.37,36.37,32.18,24.44,27.67,25.09,32.18,25.09,24.77,32.82,53.77,32.5,32.18,25.89,64.05,32.18,32.5,31.86,32.5,32.18,23.8,109.52,25.09,35.08,24.44,27.34,30.89,153.35,32.18,33.47,102.43,24.63,32.5,23.96,25.09,27.34,88.25,23.48,27.34,32.5,90.83,27.67,32.18,23.8,27.34,90.83,24.77,32.18,30.89,24.44,64.05,25.09,64.05,32.18,32.5,27.67,32.18,87.29,32.5,25.09,29.92,95.02,25.09,100.82,32.18,55.7,34.11,32.5,31.21,36.37,30.24,31.53,41.2,25.63,23.28,31.21,32.5,23.63,89.22,23.48,31.53,31.86,99.53,32.5,32.5,32.5,32.18,45.07,23.28,24.86,32.5,32.18,32.5,24.77,29.92,27.34,23.28,32.18,109.2,23.63,30.24,32.18,27.67,23.28,25.09,27.67,24.77,31.53,23.63,32.82,29.92,30.24,47.97,52.8,24.44,30.24,23.63,34.43,32.18,25.09,32.18,25.09,27.34,24.44,30.24,36.37,32.18,32.5,30.24,32.5,25.41,25.09,60.21,24.44,38.95,33.79,32.18,32.18,95.34,32.18,27.34,47.97,36.37,24.44,29.92,27.34,24.44,32.18,32.18,32.18,27.34,24.77,24.44,24.6,32.18,32.18,30.24,24.38,37.01,32.18,31.21,32.5,24.28,28.96,32.18,32.18,24.12,31.21,30.24,32.5,31.86,25.09,27.34,32.5,24.44,32.18,31.21,32.18,35.08,24.77,25.09,157.22,24.44,32.18,32.5,32.18,31.21,88.9,35.72,25.09,64.28,24.77,24.5,24.77,24.44,32.18,30.24,31.86,32.5,23.48,25.09,23.48,30.24,30.24,24.44,31.21,27.34,32.18,25.09,32.5,36.69,29.92,32.5,32.5,24.12,24.44,24.44,81.81,27.34,30.24,27.34,24.12,31.21,32.18,25.09,32.18,23.63,32.18,32.5,34.11,32.5,32.5,32.18,32.18,30.89,115.0,32.5,23.96,32.5,30.24,27.34,64.96,24.14,30.24,32.18,33.14,25.09,25.09,32.18,32.18,32.18,26.7,31.86,32.18,32.18,31.21,24.14,30.89,24.63,32.18,34.43,25.09,32.18,32.18,32.5,27.67,32.18,23.28,23.63,31.21,36.37,32.18,109.52,24.63,32.18,25.09,50.55,25.89,32.5,27.67,32.18,32.18,25.41,32.5,24.44,32.18,32.18,32.18,32.5,96.31,36.37,24.44,27.67,25.89,30.24,31.21,32.18,26.38,32.18,31.86,25.41,32.18,67.63,32.5,25.09,32.5,31.86,32.18,26.38,24.12,65.05,23.8,27.67,24.77,24.77,31.86,32.5,32.5,30.24,82.77,32.18,95.66,25.09,31.21,32.5,32.18,31.53,23.96,25.09,30.24,49.26,24.44,32.18,31.21,32.18,30.89,32.18,32.18,32.18,24.44,24.12,35.08,32.5,24.77,24.77,24.44,24.44,33.14,25.09,29.6,30.24,32.18,32.18,34.11,42.81,31.86,23.48,32.18,25.41,34.43,32.18,31.53,24.77,101.79,25.09,32.18,32.18,30.24,23.96,30.24,24.12,25.09,25.09,32.5,32.18,24.44,30.24,23.28,70.85,24.28,74.07,64.38,25.09,25.41,32.5,24.12,24.38,24.44,24.31,24.63,32.5,76.65,32.18,32.18,32.18,32.5,34.76,25.41,46.68,25.09,31.86,32.18,35.72,24.63,25.09,24.63,30.24,25.09,25.09,32.5,32.18,30.24,32.18,25.09,25.57,23.48,74.72,25.09,27.67,76.65,27.99,30.57,32.18,24.63,32.5,31.21,32.18,24.31,32.18,25.89,24.77,31.86,32.18,32.5,73.11,64.92,32.5,25.09,30.24,24.77,24.77,32.18,32.5,32.18,27.34,30.24,27.34,30.24,27.67,26.38,24.77,23.63,32.5,25.41,32.5,32.5,32.18,32.18,32.18,56.99,31.86,24.12,32.18,24.77,24.77,31.86,23.28,30.24,32.18,30.24,23.48,32.18,25.21,30.24,32.18,94.05,32.5,81.48,50.87,32.18,30.24,32.5,98.24,27.34,25.09,24.77,90.19,24.14,24.77,23.96,25.82,30.24,23.28,44.75,32.5,96.63,26.38,32.18,24.77,32.5,61.5,27.34,88.9,25.09,32.5,24.77,98.24,32.18,63.12,23.48,32.18,55.7,25.09,24.44,32.82,32.18,23.48,27.34,26.38,24.44,24.77,65.37,32.5,32.18,24.44,31.21,30.24,52.8,25.09,31.53,31.86,32.18,36.69,85.67,32.18,30.24,32.5,32.18,24.77,32.18,32.18,32.5,24.77,32.18,32.18,32.18,30.24,27.67,25.41,132.4,27.34,24.28,31.86,84.71,32.5,32.18,30.24,25.09,25.41,75.68,29.92]}];\n",
       "            var layout = {\"title\":\"Temperature histogram\"};\n",
       "            Plotly.newPlot('61fa7ad1-e8ce-4d3a-9114-ffaa52572f46', data, layout);\n",
       "        \r\n",
       "});\r\n",
       "};\r\n",
       "if ((typeof(requirejs) !==  typeof(Function)) || (typeof(requirejs.config) !== typeof(Function))) { \r\n",
       "    var script = document.createElement(\"script\"); \r\n",
       "    script.setAttribute(\"src\", \"https://cdnjs.cloudflare.com/ajax/libs/require.js/2.3.6/require.min.js\"); \r\n",
       "    script.onload = function(){\r\n",
       "        renderPlotly();\r\n",
       "    };\r\n",
       "    document.getElementsByTagName(\"head\")[0].appendChild(script); \r\n",
       "}\r\n",
       "else {\r\n",
       "    renderPlotly();\r\n",
       "}\r\n",
       "</script>\r\n"
      ]
     },
     "metadata": {},
     "output_type": "display_data"
    }
   ],
   "source": [
    "var temperaturesHistogram = Chart.Plot(\n",
    "    new Graph.Histogram { x = temperatures }\n",
    ");\n",
    "\n",
    "var layout = new Layout.Layout()\n",
    "{\n",
    "    title = \"Temperature histogram\"\n",
    "};\n",
    "temperaturesHistogram.WithLayout(layout);\n",
    "\n",
    "display(temperaturesHistogram);"
   ]
  },
  {
   "cell_type": "code",
   "execution_count": 10,
   "metadata": {},
   "outputs": [
    {
     "data": {
      "text/html": [
       "<div id=\"bf8941e2-617e-4448-ab30-aeaad15e2c82\" style=\"width: 900px; height: 500px;\"></div>\r\n",
       "<script type=\"text/javascript\">\r\n",
       "\r\n",
       "var renderPlotly = function() {\r\n",
       "    var xplotRequire = requirejs.config({context:'xplot-3.0.1',paths:{plotly:'https://cdn.plot.ly/plotly-1.49.2.min'}});\r\n",
       "    xplotRequire(['plotly'], function(Plotly) {\r\n",
       "\n",
       "            var data = [{\"type\":\"histogram\",\"x\":[50.49,4.1,72.27,100.0,12.11,100.0,11.72,45.51,70.31,18.55,12.79,5.86,27.05,35.16,5.08,100.0,100.0,100.0,60.94,28.52,100.0,35.06,5.37,11.91,100.0,100.0,26.56,32.42,100.0,4.1,70.02,100.0,56.35,71.48,100.0,11.91,4.49,52.05,77.83,63.96,100.0,100.0,11.91,73.73,83.59,76.17,100.0,12.3,21.0,14.45,100.0,6.25,48.83,64.16,26.46,100.0,28.32,95.61,12.5,11.82,39.55,100.0,49.32,88.67,83.01,25.49,85.16,12.5,63.77,84.77,56.74,60.16,100.0,100.0,4.39,25.88,73.05,11.04,37.11,12.01,12.5,89.06,100.0,27.44,4.1,34.18,97.46,32.23,79.79,66.8,25.0,22.85,65.62,100.0,35.45,100.0,84.77,70.7,24.41,100.0,5.86,100.0,100.0,4.2,73.14,7.71,12.11,73.54,100.0,95.31,73.54,85.84,100.0,73.24,35.35,61.91,71.88,100.0,11.82,71.48,73.44,25.88,82.32,12.3,66.8,6.15,72.07,75.59,31.74,100.0,16.11,12.6,30.18,100.0,35.94,100.0,4.59,100.0,100.0,28.52,69.14,100.0,29.1,78.03,100.0,4.2,55.57,70.7,88.28,4.1,100.0,90.33,71.09,68.75,100.0,36.82,74.41,54.39,5.66,100.0,60.25,7.03,100.0,4.39,94.14,26.46,30.08,74.02,54.1,41.6,100.0,4.2,54.2,30.08,73.24,26.46,12.01,73.63,25.59,71.58,5.47,64.55,23.63,33.89,100.0,100.0,100.0,27.05,4.1,100.0,6.15,12.11,8.59,12.11,73.63,25.98,29.3,100.0,35.94,28.81,21.97,4.49,11.82,12.11,100.0,25.88,100.0,100.0,6.25,54.39,100.0,4.98,72.95,100.0,100.0,26.46,33.01,70.31,25.78,7.32,4.98,5.86,74.61,69.14,26.56,6.05,4.98,4.88,31.64,19.73,100.0,14.55,87.5,73.93,6.35,6.54,4.49,97.56,79.49,34.67,63.96,59.57,4.2,35.16,71.97,34.67,89.55,57.81,74.9,6.25,100.0,36.62,12.89,100.0,25.98,25.49,100.0,6.05,59.08,100.0,100.0,12.4,100.0,83.3,8.11,11.43,67.58,55.86,11.72,60.06,19.34,87.6,12.11,83.69,26.17,11.13,25.68,5.47,72.27,5.96,12.4,57.03,100.0,25.39,12.6,100.0,69.14,25.49,11.72,100.0,73.34,44.53,71.48,54.79,58.69,18.16,12.21,4.98,4.1,100.0,4.59,100.0,72.66,83.69,68.46,4.49,74.41,100.0,86.33,10.64,22.75,41.7,72.95,100.0,100.0,23.83,12.5,100.0,11.91,34.86,6.64,5.96,18.46,19.14,100.0,6.35,4.69,37.99,50.29,26.86,4.1,7.03,100.0,12.99,6.64,73.54,50.88,71.78,6.93,61.62,4.3,56.64,100.0,6.54,100.0,4.2,6.35,35.84,100.0,27.83,75.78,75.0,4.2,15.04,11.33,19.43,25.49,55.37,48.24,58.2,85.84,100.0,100.0,25.49,76.17,24.9,35.94,36.33,38.96,22.75,4.69,48.54,36.52,6.64,100.0,79.69,35.74,100.0,85.06,5.76,18.36,100.0,100.0,66.41,73.05,26.46,13.96,68.46,95.31,37.89,41.89,100.0,4.88,100.0,12.4,60.16,88.38,6.54,68.07,9.08,12.3,31.35,100.0,26.46,33.11,72.27,5.27,52.44,50.0,4.3,29.79,12.6,24.9,100.0,50.78,64.06,17.48,25.39,80.27,100.0,10.94,10.06,30.96,6.64,24.61,100.0,100.0,4.69,93.16,4.98,36.52,100.0,6.84,86.72,12.21,100.0,12.11,54.3,35.64,41.31,8.98,10.25,25.88,12.21,11.33,64.84,6.05,12.4,29.69,9.08,100.0,100.0,100.0,100.0,12.01,9.28,98.14,25.88,18.26,25.88,18.75,5.37,90.04,100.0,65.72,6.84,12.89,5.96,100.0,11.91,100.0,12.11,49.12,100.0,100.0,4.1,35.94,4.1,21.78,35.84,13.18,91.41,5.76,20.51,50.29,11.91,100.0,87.6,100.0,13.09,75.59,100.0,74.51,25.78,7.62,4.1,72.75,33.89,6.64,37.99,30.96,24.51,12.4,27.93,46.19,69.24,100.0,100.0,72.07,12.21,24.32,68.85,18.55,4.39,43.65,6.74,73.73,44.53,73.83,18.65,75.0,21.58,94.43,4.3,63.96,11.43,100.0,64.94,4.2,100.0,5.08,100.0,9.57,77.05,4.69,10.74,88.38,45.12,57.32,31.64,55.08,29.2,84.77,4.98,33.69,5.18,6.64,100.0,48.83,100.0,100.0,4.39,55.57,56.93,100.0,70.02,12.11,64.06,100.0,62.4,81.35,59.18,48.05,32.71,86.91,88.77,34.47,100.0,21.97,4.3,89.26,60.64,100.0,73.34,100.0,11.91,54.88,82.13,100.0,61.13,100.0,84.18,5.57,100.0,12.6,25.39,100.0,58.2,79.0,75.78,23.44,26.46,12.3,100.0,54.69,4.1,25.49,55.08,32.81,100.0,35.74,59.86,4.98,7.13,100.0,100.0,4.79,11.52,76.76,80.57,8.2,29.59,42.29,54.79,12.5,6.05,5.37,17.68,26.27,73.63,35.06,100.0,75.29,6.54,53.61,100.0,100.0,6.45,34.77,35.45,36.52,100.0,14.36]}];\n",
       "            var layout = {\"title\":\"Luminosity histogram\"};\n",
       "            Plotly.newPlot('bf8941e2-617e-4448-ab30-aeaad15e2c82', data, layout);\n",
       "        \r\n",
       "});\r\n",
       "};\r\n",
       "if ((typeof(requirejs) !==  typeof(Function)) || (typeof(requirejs.config) !== typeof(Function))) { \r\n",
       "    var script = document.createElement(\"script\"); \r\n",
       "    script.setAttribute(\"src\", \"https://cdnjs.cloudflare.com/ajax/libs/require.js/2.3.6/require.min.js\"); \r\n",
       "    script.onload = function(){\r\n",
       "        renderPlotly();\r\n",
       "    };\r\n",
       "    document.getElementsByTagName(\"head\")[0].appendChild(script); \r\n",
       "}\r\n",
       "else {\r\n",
       "    renderPlotly();\r\n",
       "}\r\n",
       "</script>\r\n"
      ]
     },
     "metadata": {},
     "output_type": "display_data"
    }
   ],
   "source": [
    "var luminositiesHistogram = Chart.Plot(\n",
    "    new Graph.Histogram { x = luminosities }\n",
    ");\n",
    "\n",
    "var layout = new Layout.Layout()\n",
    "{\n",
    "    title = \"Luminosity histogram\"\n",
    "};\n",
    "luminositiesHistogram.WithLayout(layout);\n",
    "\n",
    "display(luminositiesHistogram);"
   ]
  },
  {
   "cell_type": "code",
   "execution_count": 11,
   "metadata": {},
   "outputs": [
    {
     "data": {
      "text/html": [
       "<div id=\"3424cdf1-5375-4679-b77d-db94b3333aae\" style=\"width: 900px; height: 500px;\"></div>\r\n",
       "<script type=\"text/javascript\">\r\n",
       "\r\n",
       "var renderPlotly = function() {\r\n",
       "    var xplotRequire = requirejs.config({context:'xplot-3.0.1',paths:{plotly:'https://cdn.plot.ly/plotly-1.49.2.min'}});\r\n",
       "    xplotRequire(['plotly'], function(Plotly) {\r\n",
       "\n",
       "            var data = [{\"type\":\"histogram\",\"x\":[0.0,0.0,0.0,94.34,0.0,92.29,15.43,0.0,0.0,0.0,0.0,0.0,93.55,95.31,0.0,49.71,92.87,0.0,0.0,25.68,94.53,95.12,0.0,0.0,93.26,0.0,0.0,0.0,95.41,0.0,0.0,93.07,0.0,0.0,0.0,0.0,0.0,0.0,0.0,0.0,95.21,95.12,0.0,0.0,0.0,0.0,95.41,0.0,51.56,0.0,43.85,0.0,0.0,85.45,0.0,95.31,0.0,0.0,0.0,0.0,0.0,0.0,0.0,0.0,0.0,0.0,0.0,0.0,0.0,0.0,0.0,0.0,0.0,95.21,0.0,0.0,0.0,0.0,0.0,0.0,0.0,0.0,95.21,33.69,0.0,95.51,96.0,0.0,0.0,0.0,33.89,93.65,0.0,49.22,94.92,94.04,0.0,0.0,93.75,94.82,0.0,95.41,93.65,0.0,0.0,0.0,0.0,0.0,42.38,0.0,0.0,0.0,92.48,0.0,30.86,0.0,0.0,93.65,0.0,0.0,0.0,0.0,95.21,0.0,86.72,0.0,0.0,0.0,43.75,93.85,30.86,0.0,26.07,42.38,94.92,95.61,0.0,94.92,92.38,43.85,0.0,94.92,39.06,0.0,0.0,0.0,0.0,0.0,0.0,0.0,93.07,0.0,0.0,0.0,42.97,0.0,0.0,0.0,0.0,95.41,0.0,0.0,93.36,0.0,0.0,0.0,31.93,0.0,0.0,0.0,4.92,0.0,0.0,49.22,0.0,0.0,0.0,0.0,0.0,0.0,0.0,0.0,29.69,23.24,93.26,0.0,0.0,33.2,0.0,0.0,0.0,0.0,2.44,0.0,0.0,0.0,60.55,95.12,86.04,8.98,91.8,0.0,0.0,0.0,95.21,0.0,95.12,93.55,0.0,0.0,94.73,0.0,0.0,94.43,93.65,0.0,34.28,0.0,0.0,0.0,0.0,0.0,0.0,0.0,0.0,0.0,0.0,0.0,0.1,95.21,94.53,0.0,0.0,0.0,0.0,0.0,0.0,0.0,0.0,0.0,93.46,0.0,0.0,95.31,0.0,0.0,0.0,0.0,0.0,0.0,93.55,95.41,0.0,94.53,0.0,31.15,0.0,0.0,0.0,95.41,95.31,0.0,96.78,0.0,0.0,0.0,0.0,0.0,15.53,0.0,91.31,0.0,0.0,0.0,46.29,49.02,0.0,0.0,0.0,0.0,0.0,0.0,92.58,31.64,76.46,95.21,0.0,0.0,0.0,93.65,0.0,27.73,0.0,0.0,0.0,0.0,0.0,0.0,0.0,94.53,0.0,0.0,0.0,0.0,0.0,0.0,0.0,43.85,0.0,0.0,89.94,93.65,0.0,95.7,0.0,27.44,18.75,95.21,0.0,94.92,0.0,0.0,93.55,93.36,0.0,0.0,0.0,0.0,0.0,94.24,0.0,0.0,0.0,0.0,0.0,0.0,57.81,0.0,0.0,0.0,0.0,0.0,93.55,0.0,49.22,0.0,0.0,95.41,91.21,93.07,0.0,0.0,0.0,68.55,0.0,0.0,0.0,0.0,0.0,0.0,0.0,91.41,93.16,0.0,0.0,77.83,11.72,14.94,16.31,93.55,0.0,0.0,95.41,0.0,0.0,0.0,95.02,0.0,0.0,0.0,11.72,0.0,92.97,0.0,0.0,0.0,0.0,0.0,0.0,71.09,12.5,94.14,0.0,42.97,0.0,0.0,0.0,0.0,0.0,0.0,0.0,32.32,95.02,0.0,0.0,0.0,0.0,0.0,0.0,0.0,49.61,0.0,0.0,91.5,0.0,0.0,0.0,0.0,0.0,0.0,0.0,26.17,38.18,0.0,28.81,94.43,93.26,0.0,0.0,0.0,95.41,93.95,0.0,0.0,0.0,45.9,0.0,0.0,26.95,13.87,0.0,49.12,0.0,0.0,0.0,0.0,0.0,0.0,46.88,0.0,95.31,95.9,94.34,96.48,0.0,0.0,0.0,0.0,94.04,0.0,0.0,0.0,0.0,95.31,0.0,0.0,41.31,0.0,94.04,0.0,0.0,0.0,0.0,0.0,91.7,0.0,94.92,0.0,65.92,95.41,0.0,0.0,0.0,31.84,0.0,0.0,96.48,0.0,95.02,0.0,0.0,93.36,0.0,29.3,0.0,0.0,0.0,0.0,0.0,0.0,48.63,93.75,0.0,0.0,0.0,0.0,93.46,96.09,0.0,0.0,30.57,0.0,0.0,0.0,0.0,0.0,0.0,10.74,0.0,36.72,0.0,70.51,0.0,0.0,0.0,0.0,0.0,0.0,0.0,0.0,0.0,0.0,0.0,0.0,0.0,0.0,0.0,0.0,0.0,42.19,94.34,21.88,0.0,0.0,94.63,0.0,0.0,49.71,0.0,93.46,95.31,0.0,50.68,0.0,94.34,0.0,0.0,0.0,95.41,0.0,0.0,0.0,0.0,12.11,0.0,94.92,92.38,45.9,72.27,0.0,0.0,0.0,95.21,0.0,42.38,0.0,0.0,0.0,50.68,0.0,95.51,0.0,0.0,94.82,0.0,0.0,95.02,0.0,0.0,0.0,93.95,0.0,0.0,93.16,0.0,0.0,0.0,0.0,22.56,0.0,95.12,0.0,0.0,0.0,95.21,92.38,0.0,1.95,0.0,0.0,0.0,43.85,0.0,0.0,0.0,0.0,0.0,0.0,32.42,0.0,95.12,41.31,0.0,0.0,0.0,95.51,0.0,0.0,0.0,94.92,95.21,94.63,43.16]}];\n",
       "            var layout = {\"title\":\"Infrared histogram\"};\n",
       "            Plotly.newPlot('3424cdf1-5375-4679-b77d-db94b3333aae', data, layout);\n",
       "        \r\n",
       "});\r\n",
       "};\r\n",
       "if ((typeof(requirejs) !==  typeof(Function)) || (typeof(requirejs.config) !== typeof(Function))) { \r\n",
       "    var script = document.createElement(\"script\"); \r\n",
       "    script.setAttribute(\"src\", \"https://cdnjs.cloudflare.com/ajax/libs/require.js/2.3.6/require.min.js\"); \r\n",
       "    script.onload = function(){\r\n",
       "        renderPlotly();\r\n",
       "    };\r\n",
       "    document.getElementsByTagName(\"head\")[0].appendChild(script); \r\n",
       "}\r\n",
       "else {\r\n",
       "    renderPlotly();\r\n",
       "}\r\n",
       "</script>\r\n"
      ]
     },
     "metadata": {},
     "output_type": "display_data"
    }
   ],
   "source": [
    "var infraredsHistogram = Chart.Plot(\n",
    "    new Graph.Histogram { x = infrareds }\n",
    ");\n",
    "\n",
    "var layout = new Layout.Layout()\n",
    "{\n",
    "    title = \"Infrared histogram\"\n",
    "};\n",
    "infraredsHistogram.WithLayout(layout);\n",
    "\n",
    "display(infraredsHistogram);"
   ]
  },
  {
   "cell_type": "code",
   "execution_count": 12,
   "metadata": {},
   "outputs": [
    {
     "data": {
      "text/html": [
       "<div id=\"d302ca71-d54e-4a92-b96b-0f8d2d2502f5\" style=\"width: 900px; height: 500px;\"></div>\r\n",
       "<script type=\"text/javascript\">\r\n",
       "\r\n",
       "var renderPlotly = function() {\r\n",
       "    var xplotRequire = requirejs.config({context:'xplot-3.0.1',paths:{plotly:'https://cdn.plot.ly/plotly-1.49.2.min'}});\r\n",
       "    xplotRequire(['plotly'], function(Plotly) {\r\n",
       "\n",
       "            var data = [{\"type\":\"histogram\",\"x\":[8.84,154.09,66.87,41.55,400.0,400.0,60.87,12.08,194.26,400.0,88.81,400.0,60.14,194.23,78.02,193.64,400.0,400.0,78.83,57.68,400.0,193.43,400.0,400.0,7.56,7.13,193.75,23.01,6.76,154.09,193.76,400.0,61.91,193.37,57.64,83.96,75.33,50.82,58.82,242.96,400.0,400.0,400.0,125.81,394.32,194.3,400.0,96.48,400.0,17.49,195.19,400.0,60.7,60.02,193.75,400.0,30.7,69.64,60.24,77.05,56.85,66.92,9.84,325.6,24.47,194.64,66.31,400.0,400.0,67.14,35.34,28.38,400.0,400.0,400.0,193.78,193.34,400.0,49.91,71.82,400.0,54.26,400.0,400.0,67.74,400.0,155.75,31.24,64.22,400.0,56.2,61.23,13.86,194.44,193.33,400.0,66.15,153.31,20.09,400.0,400.0,400.0,4.19,154.91,64.25,155.39,400.0,193.84,193.37,73.24,193.84,62.4,42.0,193.4,400.0,400.0,192.26,152.82,400.0,13.73,24.32,193.79,400.0,86.1,5.12,400.0,66.73,193.34,400.0,154.46,61.79,76.37,400.0,194.23,193.4,45.92,72.21,42.46,7.16,52.37,400.0,46.4,400.0,57.68,59.4,154.49,156.15,400.0,60.42,155.38,400.0,11.61,400.0,27.28,237.28,400.0,57.95,59.16,75.56,400.0,10.11,400.0,400.0,75.51,49.1,194.58,60.96,194.3,156.99,61.0,4.28,155.3,55.05,400.0,193.4,155.8,79.72,193.39,195.03,400.0,155.35,54.29,61.05,61.67,46.13,56.12,10.78,400.0,154.13,400.0,400.0,400.0,60.75,400.0,129.92,194.66,400.0,59.09,57.69,56.18,60.46,51.67,14.01,73.87,43.15,193.79,400.0,43.89,400.0,400.0,7.9,75.65,195.93,48.57,400.0,193.73,17.91,194.26,193.69,29.68,19.46,77.67,146.28,322.63,193.75,154.49,73.51,400.0,400.0,21.85,400.0,400.0,61.45,66.92,154.08,18.78,74.86,19.49,317.08,400.0,400.0,21.35,67.0,194.23,170.5,49.57,68.42,61.76,20.44,76.22,400.0,194.16,88.66,60.76,194.64,400.0,56.06,74.18,61.92,400.0,400.0,400.0,155.74,64.68,400.0,88.91,366.69,400.0,400.0,61.42,400.0,318.49,400.0,63.88,57.48,61.88,194.61,60.47,194.25,70.74,400.0,400.0,70.73,60.43,53.76,400.0,350.8,194.64,400.0,60.81,193.83,58.95,193.37,321.3,22.4,107.1,96.35,28.04,154.06,7.96,400.0,400.0,400.0,58.3,28.33,400.0,400.0,195.19,400.0,154.98,56.2,400.0,195.93,153.66,7.48,59.15,59.74,400.0,83.75,193.4,76.97,70.36,400.0,154.04,20.1,400.0,400.0,400.0,8.52,400.0,155.35,400.0,61.46,97.13,400.0,70.2,52.51,194.28,23.32,10.37,154.9,400.0,7.52,82.61,194.44,153.65,400.0,194.55,400.0,19.04,400.0,194.69,71.72,59.97,14.38,49.02,193.73,63.61,22.17,20.8,66.43,9.47,46.56,193.75,194.3,400.0,62.67,58.61,55.94,154.04,75.87,61.12,194.03,75.12,49.92,65.26,193.76,400.0,25.27,78.88,400.0,364.7,400.0,290.37,193.34,194.58,89.89,60.77,400.0,400.0,57.2,6.25,400.0,194.15,400.0,60.46,400.0,78.08,59.49,154.89,400.0,60.4,56.17,193.73,400.0,400.0,400.0,24.33,43.43,67.65,61.57,89.11,193.25,400.0,400.0,301.72,400.0,194.58,400.0,55.43,82.69,57.48,57.5,73.76,61.26,44.79,5.8,75.16,73.86,78.92,194.03,400.0,400.0,400.0,400.0,194.48,82.12,52.13,400.0,400.0,154.51,57.06,195.05,90.17,93.64,400.0,78.93,400.0,400.0,14.8,153.62,152.3,400.0,154.99,79.96,93.85,65.32,195.05,154.89,193.78,153.61,156.23,64.47,41.3,400.0,28.69,59.06,400.0,10.77,13.28,400.0,400.0,400.0,400.0,41.84,155.74,193.4,153.67,400.0,194.55,400.0,66.28,65.73,400.0,400.0,400.0,152.28,343.57,400.0,400.0,193.34,400.0,182.04,57.5,400.0,400.0,348.63,400.0,65.42,154.1,60.05,18.08,400.0,25.62,50.02,65.89,345.92,400.0,64.47,91.58,59.85,382.72,400.0,66.49,15.9,400.0,125.81,55.44,194.31,60.04,194.69,153.16,68.61,154.92,64.98,400.0,65.28,17.1,400.0,16.5,75.81,51.01,59.47,67.24,65.37,6.13,218.91,400.0,9.62,400.0,400.0,57.16,399.49,400.0,19.56,400.0,75.72,193.64,400.0,400.0,400.0,76.43,400.0,400.0,153.63,193.76,400.0,71.52,400.0,8.8,73.78,9.34,9.85,400.0,6.14,400.0,56.79,193.11,152.37,70.24,67.07,66.07,7.1,193.83,193.35,76.89,400.0,66.19,196.29,400.0,400.0,369.19,400.0,400.0,89.71,194.58,400.0,61.42,399.53,193.93,5.11,193.75,79.42,59.14,58.89,66.13,193.75,64.37,400.0,57.4,193.72,25.22,75.63,74.44,69.47,40.68,400.0,54.18,65.67,400.0,70.65,400.0,25.41,59.11,82.07,57.05,34.18,59.21,400.0,193.39,193.43,195.23,193.44,153.22,60.21,6.34,400.0,65.68,400.0,193.33,193.32,65.17,60.86]}];\n",
       "            var layout = {\"title\":\"Distance histogram\"};\n",
       "            Plotly.newPlot('d302ca71-d54e-4a92-b96b-0f8d2d2502f5', data, layout);\n",
       "        \r\n",
       "});\r\n",
       "};\r\n",
       "if ((typeof(requirejs) !==  typeof(Function)) || (typeof(requirejs.config) !== typeof(Function))) { \r\n",
       "    var script = document.createElement(\"script\"); \r\n",
       "    script.setAttribute(\"src\", \"https://cdnjs.cloudflare.com/ajax/libs/require.js/2.3.6/require.min.js\"); \r\n",
       "    script.onload = function(){\r\n",
       "        renderPlotly();\r\n",
       "    };\r\n",
       "    document.getElementsByTagName(\"head\")[0].appendChild(script); \r\n",
       "}\r\n",
       "else {\r\n",
       "    renderPlotly();\r\n",
       "}\r\n",
       "</script>\r\n"
      ]
     },
     "metadata": {},
     "output_type": "display_data"
    }
   ],
   "source": [
    "var distancesHistogram = Chart.Plot(\n",
    "    new Graph.Histogram { x = distances }\n",
    ");\n",
    "\n",
    "var layout = new Layout.Layout()\n",
    "{\n",
    "    title = \"Distance histogram\"\n",
    "};\n",
    "distancesHistogram.WithLayout(layout);\n",
    "\n",
    "display(distancesHistogram);"
   ]
  },
  {
   "cell_type": "code",
   "execution_count": 13,
   "metadata": {},
   "outputs": [
    {
     "data": {
      "text/html": [
       "<div id=\"768f2566-10cc-451b-843d-099b53027d19\" style=\"width: 900px; height: 500px;\"></div>\r\n",
       "<script type=\"text/javascript\">\r\n",
       "\r\n",
       "var renderPlotly = function() {\r\n",
       "    var xplotRequire = requirejs.config({context:'xplot-3.0.1',paths:{plotly:'https://cdn.plot.ly/plotly-1.49.2.min'}});\r\n",
       "    xplotRequire(['plotly'], function(Plotly) {\r\n",
       "\n",
       "            var data = [{\"type\":\"histogram\",\"x\":[18,21,11,9,10,8,12,10,19,18,7,19,12,22,11,19,21,9,15,12,8,22,19,10,9,18,15,23,21,21,19,8,11,19,8,10,11,9,8,10,7,7,10,21,14,18,21,10,13,15,19,19,23,12,15,7,23,17,7,10,12,11,21,16,23,15,11,10,23,17,23,23,12,21,10,15,19,10,9,10,10,12,7,8,11,18,11,23,11,23,8,12,10,19,22,8,16,18,10,21,10,21,21,10,11,15,10,18,10,15,19,11,8,18,12,14,18,11,10,11,23,15,11,10,11,10,11,21,12,13,12,10,12,10,8,7,19,7,8,8,8,8,12,8,11,21,10,23,9,18,21,14,8,23,19,23,9,12,11,21,10,19,21,10,9,22,12,10,10,23,19,21,8,10,19,10,10,19,22,8,18,12,12,12,7,12,14,8,18,11,19,10,12,10,19,18,8,21,12,8,12,9,10,10,7,18,8,7,11,9,9,11,19,8,7,22,12,18,10,19,19,10,19,10,22,10,10,19,12,21,21,10,8,11,21,15,19,9,14,23,8,9,10,8,19,9,16,9,8,11,8,22,7,21,22,12,12,11,23,21,21,10,11,16,19,10,10,8,12,11,8,15,10,17,8,12,10,8,19,10,10,9,21,12,8,21,10,18,10,21,19,12,18,14,8,10,10,19,11,8,19,9,23,12,9,11,8,22,11,15,8,8,21,11,18,12,12,21,10,22,19,11,12,13,8,10,19,23,18,10,10,19,11,10,10,11,8,18,19,10,18,8,21,11,22,10,19,22,8,19,9,19,10,12,10,9,10,9,9,9,11,21,7,15,19,18,12,12,10,13,11,23,22,10,12,11,10,9,23,11,13,14,7,10,21,15,7,8,9,8,8,9,11,10,7,8,9,11,8,15,10,12,8,15,9,8,19,23,23,11,10,7,15,7,12,10,7,15,18,12,10,12,10,10,12,7,7,19,16,11,8,21,19,23,10,10,10,9,12,10,15,12,15,10,10,10,11,10,8,15,11,21,7,11,10,10,11,22,21,22,13,10,11,7,11,19,12,10,21,10,12,10,23,12,8,10,22,10,8,8,10,11,10,12,23,10,21,15,8,10,19,7,18,12,10,10,12,23,11,10,8,19,10,23,9,11,7,11,11,10,12,10,15,11,11,19,19,8,19,10,18,13,17,18,11,10,11,11,19,11,11,9,8,18,11,10,14,23,10,8,21,12,16,19,19,8,11,22,23,8,7,11,8,11,11,18,10,10,9,18,16,10,21,10,10,21,12,19,13,11,17,11,8,18,10,10,9,16,10,9,21,14,10,8,10,18,7,8,15,10,13,22,10,8,23,11,18,8,12,11,10,23,19,19,21,8,19,8,11,9,7,8,9,12,10,10,19,23,10,21,8,19,19,21,23,11,12,10,8,8,10,21,12]}];\n",
       "            var layout = {\"title\":\"Hour histogram\"};\n",
       "            Plotly.newPlot('768f2566-10cc-451b-843d-099b53027d19', data, layout);\n",
       "        \r\n",
       "});\r\n",
       "};\r\n",
       "if ((typeof(requirejs) !==  typeof(Function)) || (typeof(requirejs.config) !== typeof(Function))) { \r\n",
       "    var script = document.createElement(\"script\"); \r\n",
       "    script.setAttribute(\"src\", \"https://cdnjs.cloudflare.com/ajax/libs/require.js/2.3.6/require.min.js\"); \r\n",
       "    script.onload = function(){\r\n",
       "        renderPlotly();\r\n",
       "    };\r\n",
       "    document.getElementsByTagName(\"head\")[0].appendChild(script); \r\n",
       "}\r\n",
       "else {\r\n",
       "    renderPlotly();\r\n",
       "}\r\n",
       "</script>\r\n"
      ]
     },
     "metadata": {},
     "output_type": "display_data"
    }
   ],
   "source": [
    "var hoursHistogram = Chart.Plot(\n",
    "    new Graph.Histogram { x = hours }\n",
    ");\n",
    "\n",
    "var layout = new Layout.Layout()\n",
    "{\n",
    "    title = \"Hour histogram\"\n",
    "};\n",
    "hoursHistogram.WithLayout(layout);\n",
    "\n",
    "display(hoursHistogram);"
   ]
  },
  {
   "cell_type": "code",
   "execution_count": 14,
   "metadata": {},
   "outputs": [
    {
     "data": {
      "text/html": [
       "<div id=\"9061ca31-1474-43ac-a46a-db2517f15ec1\" style=\"width: 900px; height: 500px;\"></div>\r\n",
       "<script type=\"text/javascript\">\r\n",
       "\r\n",
       "var renderPlotly = function() {\r\n",
       "    var xplotRequire = requirejs.config({context:'xplot-3.0.1',paths:{plotly:'https://cdn.plot.ly/plotly-1.49.2.min'}});\r\n",
       "    xplotRequire(['plotly'], function(Plotly) {\r\n",
       "\n",
       "            var data = [{\"type\":\"histogram\",\"x\":[3,155,124,94,94,94,124,34,63,63,94,155,124,63,216,63,155,124,3,124,94,63,155,94,94,3,63,185,155,155,63,94,124,63,185,94,216,124,185,3,94,94,94,63,3,63,155,94,34,34,63,155,185,124,63,94,185,3,94,94,124,124,155,3,185,63,124,94,185,3,185,185,124,155,216,63,63,94,124,94,94,124,94,185,216,3,34,185,124,185,185,124,3,63,63,94,3,63,63,155,216,155,155,34,124,34,94,63,63,3,63,124,94,63,124,3,63,34,94,124,185,63,34,94,34,216,124,63,124,34,124,94,124,63,63,94,155,94,94,185,185,94,124,185,124,155,34,185,124,34,155,3,185,185,63,185,124,124,216,155,34,155,155,216,124,63,124,63,34,185,155,155,185,185,63,34,94,63,63,185,34,124,124,124,94,124,3,185,34,124,155,94,124,94,63,63,185,155,124,185,124,124,94,94,94,63,94,94,216,124,94,216,63,94,94,63,124,63,63,155,155,216,63,3,63,34,216,155,124,155,155,216,185,124,155,34,155,124,3,185,185,124,216,63,63,124,3,124,185,216,94,63,94,155,63,124,124,216,185,155,155,94,34,3,155,94,3,185,124,124,185,3,94,3,185,124,63,185,63,216,94,124,155,124,185,155,3,63,94,155,63,124,63,3,185,216,94,155,34,94,155,124,185,124,124,216,185,63,124,34,185,185,63,34,3,124,124,155,94,63,155,216,124,34,185,216,155,185,3,63,34,155,124,94,216,124,185,63,155,34,34,185,155,216,63,34,155,63,94,155,124,63,216,124,94,124,63,124,124,124,124,155,94,63,63,3,124,124,185,34,216,185,63,216,124,124,63,124,185,216,34,3,94,3,63,63,94,185,124,185,185,94,216,63,94,185,124,216,185,34,94,124,94,63,124,185,155,185,185,216,185,94,63,94,124,3,94,63,3,124,94,124,185,216,124,94,94,155,3,216,63,155,155,185,94,63,94,124,124,185,34,124,63,94,94,124,216,94,185,34,34,155,94,34,94,94,124,63,155,63,34,34,124,94,124,155,124,216,155,94,124,94,185,124,94,34,63,34,185,63,94,124,216,124,185,94,155,3,94,94,63,94,63,124,216,34,124,185,216,34,185,155,94,185,124,124,94,34,124,94,124,3,63,216,124,155,63,185,63,185,63,34,3,34,124,94,124,124,155,124,216,124,185,3,216,94,3,185,34,185,155,124,3,155,155,185,216,63,185,94,94,216,185,124,34,63,94,3,94,3,3,34,155,185,34,155,124,63,34,216,3,124,94,63,63,94,124,3,63,124,155,3,216,94,94,63,94,185,3,63,34,63,94,94,185,216,63,185,124,124,63,185,155,155,155,94,155,185,124,124,94,185,124,124,94,216,155,185,185,63,63,63,63,155,185,34,124,216,185,63,63,155,124]}];\n",
       "            var layout = {\"title\":\"Day histogram\"};\n",
       "            Plotly.newPlot('9061ca31-1474-43ac-a46a-db2517f15ec1', data, layout);\n",
       "        \r\n",
       "});\r\n",
       "};\r\n",
       "if ((typeof(requirejs) !==  typeof(Function)) || (typeof(requirejs.config) !== typeof(Function))) { \r\n",
       "    var script = document.createElement(\"script\"); \r\n",
       "    script.setAttribute(\"src\", \"https://cdnjs.cloudflare.com/ajax/libs/require.js/2.3.6/require.min.js\"); \r\n",
       "    script.onload = function(){\r\n",
       "        renderPlotly();\r\n",
       "    };\r\n",
       "    document.getElementsByTagName(\"head\")[0].appendChild(script); \r\n",
       "}\r\n",
       "else {\r\n",
       "    renderPlotly();\r\n",
       "}\r\n",
       "</script>\r\n"
      ]
     },
     "metadata": {},
     "output_type": "display_data"
    }
   ],
   "source": [
    "var daysHistogram = Chart.Plot(\n",
    "    new Graph.Histogram { x = days }\n",
    ");\n",
    "\n",
    "var layout = new Layout.Layout()\n",
    "{\n",
    "    title = \"Day histogram\"\n",
    "};\n",
    "daysHistogram.WithLayout(layout);\n",
    "\n",
    "display(daysHistogram);"
   ]
  },
  {
   "cell_type": "markdown",
   "metadata": {},
   "source": [
    "#### All vs All "
   ]
  },
  {
   "cell_type": "code",
   "execution_count": 15,
   "metadata": {},
   "outputs": [
    {
     "data": {
      "text/html": [
       "<div id=\"9b78379e-d70a-4133-ba17-13406a8cf5bc\" style=\"width: 900px; height: 500px;\"></div>\r\n",
       "<script type=\"text/javascript\">\r\n",
       "\r\n",
       "var renderPlotly = function() {\r\n",
       "    var xplotRequire = requirejs.config({context:'xplot-3.0.1',paths:{plotly:'https://cdn.plot.ly/plotly-1.49.2.min'}});\r\n",
       "    xplotRequire(['plotly'], function(Plotly) {\r\n",
       "\n",
       "            var data = [{\"type\":\"scatter\",\"x\":[24.82,23.96,32.5,47.32,25.09,56.03,32.18,23.28,27.34,24.77,25.09,32.18,32.18,25.09,32.18,94.05,37.01,32.5,24.77,30.24,37.98,25.41,32.18,25.09,48.94,24.14,24.44,31.21,37.33,23.63,27.34,66.98,31.86,27.34,32.18,25.09,32.18,32.18,31.21,24.77,58.6,50.87,24.77,27.34,23.48,27.67,36.69,25.09,26.38,24.28,115.0,32.18,31.21,30.24,24.44,56.03,32.5,24.44,24.77,25.09,32.18,32.5,25.14,23.8,32.5,24.44,32.5,25.09,31.21,24.12,32.5,31.86,36.37,36.37,32.18,24.44,27.67,25.09,32.18,25.09,24.77,32.82,53.77,32.5,32.18,25.89,64.05,32.18,32.5,31.86,32.5,32.18,23.8,109.52,25.09,35.08,24.44,27.34,30.89,153.35,32.18,33.47,102.43,24.63,32.5,23.96,25.09,27.34,88.25,23.48,27.34,32.5,90.83,27.67,32.18,23.8,27.34,90.83,24.77,32.18,30.89,24.44,64.05,25.09,64.05,32.18,32.5,27.67,32.18,87.29,32.5,25.09,29.92,95.02,25.09,100.82,32.18,55.7,34.11,32.5,31.21,36.37,30.24,31.53,41.2,25.63,23.28,31.21,32.5,23.63,89.22,23.48,31.53,31.86,99.53,32.5,32.5,32.5,32.18,45.07,23.28,24.86,32.5,32.18,32.5,24.77,29.92,27.34,23.28,32.18,109.2,23.63,30.24,32.18,27.67,23.28,25.09,27.67,24.77,31.53,23.63,32.82,29.92,30.24,47.97,52.8,24.44,30.24,23.63,34.43,32.18,25.09,32.18,25.09,27.34,24.44,30.24,36.37,32.18,32.5,30.24,32.5,25.41,25.09,60.21,24.44,38.95,33.79,32.18,32.18,95.34,32.18,27.34,47.97,36.37,24.44,29.92,27.34,24.44,32.18,32.18,32.18,27.34,24.77,24.44,24.6,32.18,32.18,30.24,24.38,37.01,32.18,31.21,32.5,24.28,28.96,32.18,32.18,24.12,31.21,30.24,32.5,31.86,25.09,27.34,32.5,24.44,32.18,31.21,32.18,35.08,24.77,25.09,157.22,24.44,32.18,32.5,32.18,31.21,88.9,35.72,25.09,64.28,24.77,24.5,24.77,24.44,32.18,30.24,31.86,32.5,23.48,25.09,23.48,30.24,30.24,24.44,31.21,27.34,32.18,25.09,32.5,36.69,29.92,32.5,32.5,24.12,24.44,24.44,81.81,27.34,30.24,27.34,24.12,31.21,32.18,25.09,32.18,23.63,32.18,32.5,34.11,32.5,32.5,32.18,32.18,30.89,115.0,32.5,23.96,32.5,30.24,27.34,64.96,24.14,30.24,32.18,33.14,25.09,25.09,32.18,32.18,32.18,26.7,31.86,32.18,32.18,31.21,24.14,30.89,24.63,32.18,34.43,25.09,32.18,32.18,32.5,27.67,32.18,23.28,23.63,31.21,36.37,32.18,109.52,24.63,32.18,25.09,50.55,25.89,32.5,27.67,32.18,32.18,25.41,32.5,24.44,32.18,32.18,32.18,32.5,96.31,36.37,24.44,27.67,25.89,30.24,31.21,32.18,26.38,32.18,31.86,25.41,32.18,67.63,32.5,25.09,32.5,31.86,32.18,26.38,24.12,65.05,23.8,27.67,24.77,24.77,31.86,32.5,32.5,30.24,82.77,32.18,95.66,25.09,31.21,32.5,32.18,31.53,23.96,25.09,30.24,49.26,24.44,32.18,31.21,32.18,30.89,32.18,32.18,32.18,24.44,24.12,35.08,32.5,24.77,24.77,24.44,24.44,33.14,25.09,29.6,30.24,32.18,32.18,34.11,42.81,31.86,23.48,32.18,25.41,34.43,32.18,31.53,24.77,101.79,25.09,32.18,32.18,30.24,23.96,30.24,24.12,25.09,25.09,32.5,32.18,24.44,30.24,23.28,70.85,24.28,74.07,64.38,25.09,25.41,32.5,24.12,24.38,24.44,24.31,24.63,32.5,76.65,32.18,32.18,32.18,32.5,34.76,25.41,46.68,25.09,31.86,32.18,35.72,24.63,25.09,24.63,30.24,25.09,25.09,32.5,32.18,30.24,32.18,25.09,25.57,23.48,74.72,25.09,27.67,76.65,27.99,30.57,32.18,24.63,32.5,31.21,32.18,24.31,32.18,25.89,24.77,31.86,32.18,32.5,73.11,64.92,32.5,25.09,30.24,24.77,24.77,32.18,32.5,32.18,27.34,30.24,27.34,30.24,27.67,26.38,24.77,23.63,32.5,25.41,32.5,32.5,32.18,32.18,32.18,56.99,31.86,24.12,32.18,24.77,24.77,31.86,23.28,30.24,32.18,30.24,23.48,32.18,25.21,30.24,32.18,94.05,32.5,81.48,50.87,32.18,30.24,32.5,98.24,27.34,25.09,24.77,90.19,24.14,24.77,23.96,25.82,30.24,23.28,44.75,32.5,96.63,26.38,32.18,24.77,32.5,61.5,27.34,88.9,25.09,32.5,24.77,98.24,32.18,63.12,23.48,32.18,55.7,25.09,24.44,32.82,32.18,23.48,27.34,26.38,24.44,24.77,65.37,32.5,32.18,24.44,31.21,30.24,52.8,25.09,31.53,31.86,32.18,36.69,85.67,32.18,30.24,32.5,32.18,24.77,32.18,32.18,32.5,24.77,32.18,32.18,32.18,30.24,27.67,25.41,132.4,27.34,24.28,31.86,84.71,32.5,32.18,30.24,25.09,25.41,75.68,29.92],\"y\":[50.49,4.1,72.27,100.0,12.11,100.0,11.72,45.51,70.31,18.55,12.79,5.86,27.05,35.16,5.08,100.0,100.0,100.0,60.94,28.52,100.0,35.06,5.37,11.91,100.0,100.0,26.56,32.42,100.0,4.1,70.02,100.0,56.35,71.48,100.0,11.91,4.49,52.05,77.83,63.96,100.0,100.0,11.91,73.73,83.59,76.17,100.0,12.3,21.0,14.45,100.0,6.25,48.83,64.16,26.46,100.0,28.32,95.61,12.5,11.82,39.55,100.0,49.32,88.67,83.01,25.49,85.16,12.5,63.77,84.77,56.74,60.16,100.0,100.0,4.39,25.88,73.05,11.04,37.11,12.01,12.5,89.06,100.0,27.44,4.1,34.18,97.46,32.23,79.79,66.8,25.0,22.85,65.62,100.0,35.45,100.0,84.77,70.7,24.41,100.0,5.86,100.0,100.0,4.2,73.14,7.71,12.11,73.54,100.0,95.31,73.54,85.84,100.0,73.24,35.35,61.91,71.88,100.0,11.82,71.48,73.44,25.88,82.32,12.3,66.8,6.15,72.07,75.59,31.74,100.0,16.11,12.6,30.18,100.0,35.94,100.0,4.59,100.0,100.0,28.52,69.14,100.0,29.1,78.03,100.0,4.2,55.57,70.7,88.28,4.1,100.0,90.33,71.09,68.75,100.0,36.82,74.41,54.39,5.66,100.0,60.25,7.03,100.0,4.39,94.14,26.46,30.08,74.02,54.1,41.6,100.0,4.2,54.2,30.08,73.24,26.46,12.01,73.63,25.59,71.58,5.47,64.55,23.63,33.89,100.0,100.0,100.0,27.05,4.1,100.0,6.15,12.11,8.59,12.11,73.63,25.98,29.3,100.0,35.94,28.81,21.97,4.49,11.82,12.11,100.0,25.88,100.0,100.0,6.25,54.39,100.0,4.98,72.95,100.0,100.0,26.46,33.01,70.31,25.78,7.32,4.98,5.86,74.61,69.14,26.56,6.05,4.98,4.88,31.64,19.73,100.0,14.55,87.5,73.93,6.35,6.54,4.49,97.56,79.49,34.67,63.96,59.57,4.2,35.16,71.97,34.67,89.55,57.81,74.9,6.25,100.0,36.62,12.89,100.0,25.98,25.49,100.0,6.05,59.08,100.0,100.0,12.4,100.0,83.3,8.11,11.43,67.58,55.86,11.72,60.06,19.34,87.6,12.11,83.69,26.17,11.13,25.68,5.47,72.27,5.96,12.4,57.03,100.0,25.39,12.6,100.0,69.14,25.49,11.72,100.0,73.34,44.53,71.48,54.79,58.69,18.16,12.21,4.98,4.1,100.0,4.59,100.0,72.66,83.69,68.46,4.49,74.41,100.0,86.33,10.64,22.75,41.7,72.95,100.0,100.0,23.83,12.5,100.0,11.91,34.86,6.64,5.96,18.46,19.14,100.0,6.35,4.69,37.99,50.29,26.86,4.1,7.03,100.0,12.99,6.64,73.54,50.88,71.78,6.93,61.62,4.3,56.64,100.0,6.54,100.0,4.2,6.35,35.84,100.0,27.83,75.78,75.0,4.2,15.04,11.33,19.43,25.49,55.37,48.24,58.2,85.84,100.0,100.0,25.49,76.17,24.9,35.94,36.33,38.96,22.75,4.69,48.54,36.52,6.64,100.0,79.69,35.74,100.0,85.06,5.76,18.36,100.0,100.0,66.41,73.05,26.46,13.96,68.46,95.31,37.89,41.89,100.0,4.88,100.0,12.4,60.16,88.38,6.54,68.07,9.08,12.3,31.35,100.0,26.46,33.11,72.27,5.27,52.44,50.0,4.3,29.79,12.6,24.9,100.0,50.78,64.06,17.48,25.39,80.27,100.0,10.94,10.06,30.96,6.64,24.61,100.0,100.0,4.69,93.16,4.98,36.52,100.0,6.84,86.72,12.21,100.0,12.11,54.3,35.64,41.31,8.98,10.25,25.88,12.21,11.33,64.84,6.05,12.4,29.69,9.08,100.0,100.0,100.0,100.0,12.01,9.28,98.14,25.88,18.26,25.88,18.75,5.37,90.04,100.0,65.72,6.84,12.89,5.96,100.0,11.91,100.0,12.11,49.12,100.0,100.0,4.1,35.94,4.1,21.78,35.84,13.18,91.41,5.76,20.51,50.29,11.91,100.0,87.6,100.0,13.09,75.59,100.0,74.51,25.78,7.62,4.1,72.75,33.89,6.64,37.99,30.96,24.51,12.4,27.93,46.19,69.24,100.0,100.0,72.07,12.21,24.32,68.85,18.55,4.39,43.65,6.74,73.73,44.53,73.83,18.65,75.0,21.58,94.43,4.3,63.96,11.43,100.0,64.94,4.2,100.0,5.08,100.0,9.57,77.05,4.69,10.74,88.38,45.12,57.32,31.64,55.08,29.2,84.77,4.98,33.69,5.18,6.64,100.0,48.83,100.0,100.0,4.39,55.57,56.93,100.0,70.02,12.11,64.06,100.0,62.4,81.35,59.18,48.05,32.71,86.91,88.77,34.47,100.0,21.97,4.3,89.26,60.64,100.0,73.34,100.0,11.91,54.88,82.13,100.0,61.13,100.0,84.18,5.57,100.0,12.6,25.39,100.0,58.2,79.0,75.78,23.44,26.46,12.3,100.0,54.69,4.1,25.49,55.08,32.81,100.0,35.74,59.86,4.98,7.13,100.0,100.0,4.79,11.52,76.76,80.57,8.2,29.59,42.29,54.79,12.5,6.05,5.37,17.68,26.27,73.63,35.06,100.0,75.29,6.54,53.61,100.0,100.0,6.45,34.77,35.45,36.52,100.0,14.36],\"mode\":\"markers\",\"name\":\"Temperature vs Luminosity\"},{\"type\":\"scatter\",\"x\":[24.82,23.96,32.5,47.32,25.09,56.03,32.18,23.28,27.34,24.77,25.09,32.18,32.18,25.09,32.18,94.05,37.01,32.5,24.77,30.24,37.98,25.41,32.18,25.09,48.94,24.14,24.44,31.21,37.33,23.63,27.34,66.98,31.86,27.34,32.18,25.09,32.18,32.18,31.21,24.77,58.6,50.87,24.77,27.34,23.48,27.67,36.69,25.09,26.38,24.28,115.0,32.18,31.21,30.24,24.44,56.03,32.5,24.44,24.77,25.09,32.18,32.5,25.14,23.8,32.5,24.44,32.5,25.09,31.21,24.12,32.5,31.86,36.37,36.37,32.18,24.44,27.67,25.09,32.18,25.09,24.77,32.82,53.77,32.5,32.18,25.89,64.05,32.18,32.5,31.86,32.5,32.18,23.8,109.52,25.09,35.08,24.44,27.34,30.89,153.35,32.18,33.47,102.43,24.63,32.5,23.96,25.09,27.34,88.25,23.48,27.34,32.5,90.83,27.67,32.18,23.8,27.34,90.83,24.77,32.18,30.89,24.44,64.05,25.09,64.05,32.18,32.5,27.67,32.18,87.29,32.5,25.09,29.92,95.02,25.09,100.82,32.18,55.7,34.11,32.5,31.21,36.37,30.24,31.53,41.2,25.63,23.28,31.21,32.5,23.63,89.22,23.48,31.53,31.86,99.53,32.5,32.5,32.5,32.18,45.07,23.28,24.86,32.5,32.18,32.5,24.77,29.92,27.34,23.28,32.18,109.2,23.63,30.24,32.18,27.67,23.28,25.09,27.67,24.77,31.53,23.63,32.82,29.92,30.24,47.97,52.8,24.44,30.24,23.63,34.43,32.18,25.09,32.18,25.09,27.34,24.44,30.24,36.37,32.18,32.5,30.24,32.5,25.41,25.09,60.21,24.44,38.95,33.79,32.18,32.18,95.34,32.18,27.34,47.97,36.37,24.44,29.92,27.34,24.44,32.18,32.18,32.18,27.34,24.77,24.44,24.6,32.18,32.18,30.24,24.38,37.01,32.18,31.21,32.5,24.28,28.96,32.18,32.18,24.12,31.21,30.24,32.5,31.86,25.09,27.34,32.5,24.44,32.18,31.21,32.18,35.08,24.77,25.09,157.22,24.44,32.18,32.5,32.18,31.21,88.9,35.72,25.09,64.28,24.77,24.5,24.77,24.44,32.18,30.24,31.86,32.5,23.48,25.09,23.48,30.24,30.24,24.44,31.21,27.34,32.18,25.09,32.5,36.69,29.92,32.5,32.5,24.12,24.44,24.44,81.81,27.34,30.24,27.34,24.12,31.21,32.18,25.09,32.18,23.63,32.18,32.5,34.11,32.5,32.5,32.18,32.18,30.89,115.0,32.5,23.96,32.5,30.24,27.34,64.96,24.14,30.24,32.18,33.14,25.09,25.09,32.18,32.18,32.18,26.7,31.86,32.18,32.18,31.21,24.14,30.89,24.63,32.18,34.43,25.09,32.18,32.18,32.5,27.67,32.18,23.28,23.63,31.21,36.37,32.18,109.52,24.63,32.18,25.09,50.55,25.89,32.5,27.67,32.18,32.18,25.41,32.5,24.44,32.18,32.18,32.18,32.5,96.31,36.37,24.44,27.67,25.89,30.24,31.21,32.18,26.38,32.18,31.86,25.41,32.18,67.63,32.5,25.09,32.5,31.86,32.18,26.38,24.12,65.05,23.8,27.67,24.77,24.77,31.86,32.5,32.5,30.24,82.77,32.18,95.66,25.09,31.21,32.5,32.18,31.53,23.96,25.09,30.24,49.26,24.44,32.18,31.21,32.18,30.89,32.18,32.18,32.18,24.44,24.12,35.08,32.5,24.77,24.77,24.44,24.44,33.14,25.09,29.6,30.24,32.18,32.18,34.11,42.81,31.86,23.48,32.18,25.41,34.43,32.18,31.53,24.77,101.79,25.09,32.18,32.18,30.24,23.96,30.24,24.12,25.09,25.09,32.5,32.18,24.44,30.24,23.28,70.85,24.28,74.07,64.38,25.09,25.41,32.5,24.12,24.38,24.44,24.31,24.63,32.5,76.65,32.18,32.18,32.18,32.5,34.76,25.41,46.68,25.09,31.86,32.18,35.72,24.63,25.09,24.63,30.24,25.09,25.09,32.5,32.18,30.24,32.18,25.09,25.57,23.48,74.72,25.09,27.67,76.65,27.99,30.57,32.18,24.63,32.5,31.21,32.18,24.31,32.18,25.89,24.77,31.86,32.18,32.5,73.11,64.92,32.5,25.09,30.24,24.77,24.77,32.18,32.5,32.18,27.34,30.24,27.34,30.24,27.67,26.38,24.77,23.63,32.5,25.41,32.5,32.5,32.18,32.18,32.18,56.99,31.86,24.12,32.18,24.77,24.77,31.86,23.28,30.24,32.18,30.24,23.48,32.18,25.21,30.24,32.18,94.05,32.5,81.48,50.87,32.18,30.24,32.5,98.24,27.34,25.09,24.77,90.19,24.14,24.77,23.96,25.82,30.24,23.28,44.75,32.5,96.63,26.38,32.18,24.77,32.5,61.5,27.34,88.9,25.09,32.5,24.77,98.24,32.18,63.12,23.48,32.18,55.7,25.09,24.44,32.82,32.18,23.48,27.34,26.38,24.44,24.77,65.37,32.5,32.18,24.44,31.21,30.24,52.8,25.09,31.53,31.86,32.18,36.69,85.67,32.18,30.24,32.5,32.18,24.77,32.18,32.18,32.5,24.77,32.18,32.18,32.18,30.24,27.67,25.41,132.4,27.34,24.28,31.86,84.71,32.5,32.18,30.24,25.09,25.41,75.68,29.92],\"y\":[0.0,0.0,0.0,94.34,0.0,92.29,15.43,0.0,0.0,0.0,0.0,0.0,93.55,95.31,0.0,49.71,92.87,0.0,0.0,25.68,94.53,95.12,0.0,0.0,93.26,0.0,0.0,0.0,95.41,0.0,0.0,93.07,0.0,0.0,0.0,0.0,0.0,0.0,0.0,0.0,95.21,95.12,0.0,0.0,0.0,0.0,95.41,0.0,51.56,0.0,43.85,0.0,0.0,85.45,0.0,95.31,0.0,0.0,0.0,0.0,0.0,0.0,0.0,0.0,0.0,0.0,0.0,0.0,0.0,0.0,0.0,0.0,0.0,95.21,0.0,0.0,0.0,0.0,0.0,0.0,0.0,0.0,95.21,33.69,0.0,95.51,96.0,0.0,0.0,0.0,33.89,93.65,0.0,49.22,94.92,94.04,0.0,0.0,93.75,94.82,0.0,95.41,93.65,0.0,0.0,0.0,0.0,0.0,42.38,0.0,0.0,0.0,92.48,0.0,30.86,0.0,0.0,93.65,0.0,0.0,0.0,0.0,95.21,0.0,86.72,0.0,0.0,0.0,43.75,93.85,30.86,0.0,26.07,42.38,94.92,95.61,0.0,94.92,92.38,43.85,0.0,94.92,39.06,0.0,0.0,0.0,0.0,0.0,0.0,0.0,93.07,0.0,0.0,0.0,42.97,0.0,0.0,0.0,0.0,95.41,0.0,0.0,93.36,0.0,0.0,0.0,31.93,0.0,0.0,0.0,4.92,0.0,0.0,49.22,0.0,0.0,0.0,0.0,0.0,0.0,0.0,0.0,29.69,23.24,93.26,0.0,0.0,33.2,0.0,0.0,0.0,0.0,2.44,0.0,0.0,0.0,60.55,95.12,86.04,8.98,91.8,0.0,0.0,0.0,95.21,0.0,95.12,93.55,0.0,0.0,94.73,0.0,0.0,94.43,93.65,0.0,34.28,0.0,0.0,0.0,0.0,0.0,0.0,0.0,0.0,0.0,0.0,0.0,0.1,95.21,94.53,0.0,0.0,0.0,0.0,0.0,0.0,0.0,0.0,0.0,93.46,0.0,0.0,95.31,0.0,0.0,0.0,0.0,0.0,0.0,93.55,95.41,0.0,94.53,0.0,31.15,0.0,0.0,0.0,95.41,95.31,0.0,96.78,0.0,0.0,0.0,0.0,0.0,15.53,0.0,91.31,0.0,0.0,0.0,46.29,49.02,0.0,0.0,0.0,0.0,0.0,0.0,92.58,31.64,76.46,95.21,0.0,0.0,0.0,93.65,0.0,27.73,0.0,0.0,0.0,0.0,0.0,0.0,0.0,94.53,0.0,0.0,0.0,0.0,0.0,0.0,0.0,43.85,0.0,0.0,89.94,93.65,0.0,95.7,0.0,27.44,18.75,95.21,0.0,94.92,0.0,0.0,93.55,93.36,0.0,0.0,0.0,0.0,0.0,94.24,0.0,0.0,0.0,0.0,0.0,0.0,57.81,0.0,0.0,0.0,0.0,0.0,93.55,0.0,49.22,0.0,0.0,95.41,91.21,93.07,0.0,0.0,0.0,68.55,0.0,0.0,0.0,0.0,0.0,0.0,0.0,91.41,93.16,0.0,0.0,77.83,11.72,14.94,16.31,93.55,0.0,0.0,95.41,0.0,0.0,0.0,95.02,0.0,0.0,0.0,11.72,0.0,92.97,0.0,0.0,0.0,0.0,0.0,0.0,71.09,12.5,94.14,0.0,42.97,0.0,0.0,0.0,0.0,0.0,0.0,0.0,32.32,95.02,0.0,0.0,0.0,0.0,0.0,0.0,0.0,49.61,0.0,0.0,91.5,0.0,0.0,0.0,0.0,0.0,0.0,0.0,26.17,38.18,0.0,28.81,94.43,93.26,0.0,0.0,0.0,95.41,93.95,0.0,0.0,0.0,45.9,0.0,0.0,26.95,13.87,0.0,49.12,0.0,0.0,0.0,0.0,0.0,0.0,46.88,0.0,95.31,95.9,94.34,96.48,0.0,0.0,0.0,0.0,94.04,0.0,0.0,0.0,0.0,95.31,0.0,0.0,41.31,0.0,94.04,0.0,0.0,0.0,0.0,0.0,91.7,0.0,94.92,0.0,65.92,95.41,0.0,0.0,0.0,31.84,0.0,0.0,96.48,0.0,95.02,0.0,0.0,93.36,0.0,29.3,0.0,0.0,0.0,0.0,0.0,0.0,48.63,93.75,0.0,0.0,0.0,0.0,93.46,96.09,0.0,0.0,30.57,0.0,0.0,0.0,0.0,0.0,0.0,10.74,0.0,36.72,0.0,70.51,0.0,0.0,0.0,0.0,0.0,0.0,0.0,0.0,0.0,0.0,0.0,0.0,0.0,0.0,0.0,0.0,0.0,42.19,94.34,21.88,0.0,0.0,94.63,0.0,0.0,49.71,0.0,93.46,95.31,0.0,50.68,0.0,94.34,0.0,0.0,0.0,95.41,0.0,0.0,0.0,0.0,12.11,0.0,94.92,92.38,45.9,72.27,0.0,0.0,0.0,95.21,0.0,42.38,0.0,0.0,0.0,50.68,0.0,95.51,0.0,0.0,94.82,0.0,0.0,95.02,0.0,0.0,0.0,93.95,0.0,0.0,93.16,0.0,0.0,0.0,0.0,22.56,0.0,95.12,0.0,0.0,0.0,95.21,92.38,0.0,1.95,0.0,0.0,0.0,43.85,0.0,0.0,0.0,0.0,0.0,0.0,32.42,0.0,95.12,41.31,0.0,0.0,0.0,95.51,0.0,0.0,0.0,94.92,95.21,94.63,43.16],\"mode\":\"markers\",\"name\":\"Temperature vs Infrared\"},{\"type\":\"scatter\",\"x\":[24.82,23.96,32.5,47.32,25.09,56.03,32.18,23.28,27.34,24.77,25.09,32.18,32.18,25.09,32.18,94.05,37.01,32.5,24.77,30.24,37.98,25.41,32.18,25.09,48.94,24.14,24.44,31.21,37.33,23.63,27.34,66.98,31.86,27.34,32.18,25.09,32.18,32.18,31.21,24.77,58.6,50.87,24.77,27.34,23.48,27.67,36.69,25.09,26.38,24.28,115.0,32.18,31.21,30.24,24.44,56.03,32.5,24.44,24.77,25.09,32.18,32.5,25.14,23.8,32.5,24.44,32.5,25.09,31.21,24.12,32.5,31.86,36.37,36.37,32.18,24.44,27.67,25.09,32.18,25.09,24.77,32.82,53.77,32.5,32.18,25.89,64.05,32.18,32.5,31.86,32.5,32.18,23.8,109.52,25.09,35.08,24.44,27.34,30.89,153.35,32.18,33.47,102.43,24.63,32.5,23.96,25.09,27.34,88.25,23.48,27.34,32.5,90.83,27.67,32.18,23.8,27.34,90.83,24.77,32.18,30.89,24.44,64.05,25.09,64.05,32.18,32.5,27.67,32.18,87.29,32.5,25.09,29.92,95.02,25.09,100.82,32.18,55.7,34.11,32.5,31.21,36.37,30.24,31.53,41.2,25.63,23.28,31.21,32.5,23.63,89.22,23.48,31.53,31.86,99.53,32.5,32.5,32.5,32.18,45.07,23.28,24.86,32.5,32.18,32.5,24.77,29.92,27.34,23.28,32.18,109.2,23.63,30.24,32.18,27.67,23.28,25.09,27.67,24.77,31.53,23.63,32.82,29.92,30.24,47.97,52.8,24.44,30.24,23.63,34.43,32.18,25.09,32.18,25.09,27.34,24.44,30.24,36.37,32.18,32.5,30.24,32.5,25.41,25.09,60.21,24.44,38.95,33.79,32.18,32.18,95.34,32.18,27.34,47.97,36.37,24.44,29.92,27.34,24.44,32.18,32.18,32.18,27.34,24.77,24.44,24.6,32.18,32.18,30.24,24.38,37.01,32.18,31.21,32.5,24.28,28.96,32.18,32.18,24.12,31.21,30.24,32.5,31.86,25.09,27.34,32.5,24.44,32.18,31.21,32.18,35.08,24.77,25.09,157.22,24.44,32.18,32.5,32.18,31.21,88.9,35.72,25.09,64.28,24.77,24.5,24.77,24.44,32.18,30.24,31.86,32.5,23.48,25.09,23.48,30.24,30.24,24.44,31.21,27.34,32.18,25.09,32.5,36.69,29.92,32.5,32.5,24.12,24.44,24.44,81.81,27.34,30.24,27.34,24.12,31.21,32.18,25.09,32.18,23.63,32.18,32.5,34.11,32.5,32.5,32.18,32.18,30.89,115.0,32.5,23.96,32.5,30.24,27.34,64.96,24.14,30.24,32.18,33.14,25.09,25.09,32.18,32.18,32.18,26.7,31.86,32.18,32.18,31.21,24.14,30.89,24.63,32.18,34.43,25.09,32.18,32.18,32.5,27.67,32.18,23.28,23.63,31.21,36.37,32.18,109.52,24.63,32.18,25.09,50.55,25.89,32.5,27.67,32.18,32.18,25.41,32.5,24.44,32.18,32.18,32.18,32.5,96.31,36.37,24.44,27.67,25.89,30.24,31.21,32.18,26.38,32.18,31.86,25.41,32.18,67.63,32.5,25.09,32.5,31.86,32.18,26.38,24.12,65.05,23.8,27.67,24.77,24.77,31.86,32.5,32.5,30.24,82.77,32.18,95.66,25.09,31.21,32.5,32.18,31.53,23.96,25.09,30.24,49.26,24.44,32.18,31.21,32.18,30.89,32.18,32.18,32.18,24.44,24.12,35.08,32.5,24.77,24.77,24.44,24.44,33.14,25.09,29.6,30.24,32.18,32.18,34.11,42.81,31.86,23.48,32.18,25.41,34.43,32.18,31.53,24.77,101.79,25.09,32.18,32.18,30.24,23.96,30.24,24.12,25.09,25.09,32.5,32.18,24.44,30.24,23.28,70.85,24.28,74.07,64.38,25.09,25.41,32.5,24.12,24.38,24.44,24.31,24.63,32.5,76.65,32.18,32.18,32.18,32.5,34.76,25.41,46.68,25.09,31.86,32.18,35.72,24.63,25.09,24.63,30.24,25.09,25.09,32.5,32.18,30.24,32.18,25.09,25.57,23.48,74.72,25.09,27.67,76.65,27.99,30.57,32.18,24.63,32.5,31.21,32.18,24.31,32.18,25.89,24.77,31.86,32.18,32.5,73.11,64.92,32.5,25.09,30.24,24.77,24.77,32.18,32.5,32.18,27.34,30.24,27.34,30.24,27.67,26.38,24.77,23.63,32.5,25.41,32.5,32.5,32.18,32.18,32.18,56.99,31.86,24.12,32.18,24.77,24.77,31.86,23.28,30.24,32.18,30.24,23.48,32.18,25.21,30.24,32.18,94.05,32.5,81.48,50.87,32.18,30.24,32.5,98.24,27.34,25.09,24.77,90.19,24.14,24.77,23.96,25.82,30.24,23.28,44.75,32.5,96.63,26.38,32.18,24.77,32.5,61.5,27.34,88.9,25.09,32.5,24.77,98.24,32.18,63.12,23.48,32.18,55.7,25.09,24.44,32.82,32.18,23.48,27.34,26.38,24.44,24.77,65.37,32.5,32.18,24.44,31.21,30.24,52.8,25.09,31.53,31.86,32.18,36.69,85.67,32.18,30.24,32.5,32.18,24.77,32.18,32.18,32.5,24.77,32.18,32.18,32.18,30.24,27.67,25.41,132.4,27.34,24.28,31.86,84.71,32.5,32.18,30.24,25.09,25.41,75.68,29.92],\"y\":[8.84,154.09,66.87,41.55,400.0,400.0,60.87,12.08,194.26,400.0,88.81,400.0,60.14,194.23,78.02,193.64,400.0,400.0,78.83,57.68,400.0,193.43,400.0,400.0,7.56,7.13,193.75,23.01,6.76,154.09,193.76,400.0,61.91,193.37,57.64,83.96,75.33,50.82,58.82,242.96,400.0,400.0,400.0,125.81,394.32,194.3,400.0,96.48,400.0,17.49,195.19,400.0,60.7,60.02,193.75,400.0,30.7,69.64,60.24,77.05,56.85,66.92,9.84,325.6,24.47,194.64,66.31,400.0,400.0,67.14,35.34,28.38,400.0,400.0,400.0,193.78,193.34,400.0,49.91,71.82,400.0,54.26,400.0,400.0,67.74,400.0,155.75,31.24,64.22,400.0,56.2,61.23,13.86,194.44,193.33,400.0,66.15,153.31,20.09,400.0,400.0,400.0,4.19,154.91,64.25,155.39,400.0,193.84,193.37,73.24,193.84,62.4,42.0,193.4,400.0,400.0,192.26,152.82,400.0,13.73,24.32,193.79,400.0,86.1,5.12,400.0,66.73,193.34,400.0,154.46,61.79,76.37,400.0,194.23,193.4,45.92,72.21,42.46,7.16,52.37,400.0,46.4,400.0,57.68,59.4,154.49,156.15,400.0,60.42,155.38,400.0,11.61,400.0,27.28,237.28,400.0,57.95,59.16,75.56,400.0,10.11,400.0,400.0,75.51,49.1,194.58,60.96,194.3,156.99,61.0,4.28,155.3,55.05,400.0,193.4,155.8,79.72,193.39,195.03,400.0,155.35,54.29,61.05,61.67,46.13,56.12,10.78,400.0,154.13,400.0,400.0,400.0,60.75,400.0,129.92,194.66,400.0,59.09,57.69,56.18,60.46,51.67,14.01,73.87,43.15,193.79,400.0,43.89,400.0,400.0,7.9,75.65,195.93,48.57,400.0,193.73,17.91,194.26,193.69,29.68,19.46,77.67,146.28,322.63,193.75,154.49,73.51,400.0,400.0,21.85,400.0,400.0,61.45,66.92,154.08,18.78,74.86,19.49,317.08,400.0,400.0,21.35,67.0,194.23,170.5,49.57,68.42,61.76,20.44,76.22,400.0,194.16,88.66,60.76,194.64,400.0,56.06,74.18,61.92,400.0,400.0,400.0,155.74,64.68,400.0,88.91,366.69,400.0,400.0,61.42,400.0,318.49,400.0,63.88,57.48,61.88,194.61,60.47,194.25,70.74,400.0,400.0,70.73,60.43,53.76,400.0,350.8,194.64,400.0,60.81,193.83,58.95,193.37,321.3,22.4,107.1,96.35,28.04,154.06,7.96,400.0,400.0,400.0,58.3,28.33,400.0,400.0,195.19,400.0,154.98,56.2,400.0,195.93,153.66,7.48,59.15,59.74,400.0,83.75,193.4,76.97,70.36,400.0,154.04,20.1,400.0,400.0,400.0,8.52,400.0,155.35,400.0,61.46,97.13,400.0,70.2,52.51,194.28,23.32,10.37,154.9,400.0,7.52,82.61,194.44,153.65,400.0,194.55,400.0,19.04,400.0,194.69,71.72,59.97,14.38,49.02,193.73,63.61,22.17,20.8,66.43,9.47,46.56,193.75,194.3,400.0,62.67,58.61,55.94,154.04,75.87,61.12,194.03,75.12,49.92,65.26,193.76,400.0,25.27,78.88,400.0,364.7,400.0,290.37,193.34,194.58,89.89,60.77,400.0,400.0,57.2,6.25,400.0,194.15,400.0,60.46,400.0,78.08,59.49,154.89,400.0,60.4,56.17,193.73,400.0,400.0,400.0,24.33,43.43,67.65,61.57,89.11,193.25,400.0,400.0,301.72,400.0,194.58,400.0,55.43,82.69,57.48,57.5,73.76,61.26,44.79,5.8,75.16,73.86,78.92,194.03,400.0,400.0,400.0,400.0,194.48,82.12,52.13,400.0,400.0,154.51,57.06,195.05,90.17,93.64,400.0,78.93,400.0,400.0,14.8,153.62,152.3,400.0,154.99,79.96,93.85,65.32,195.05,154.89,193.78,153.61,156.23,64.47,41.3,400.0,28.69,59.06,400.0,10.77,13.28,400.0,400.0,400.0,400.0,41.84,155.74,193.4,153.67,400.0,194.55,400.0,66.28,65.73,400.0,400.0,400.0,152.28,343.57,400.0,400.0,193.34,400.0,182.04,57.5,400.0,400.0,348.63,400.0,65.42,154.1,60.05,18.08,400.0,25.62,50.02,65.89,345.92,400.0,64.47,91.58,59.85,382.72,400.0,66.49,15.9,400.0,125.81,55.44,194.31,60.04,194.69,153.16,68.61,154.92,64.98,400.0,65.28,17.1,400.0,16.5,75.81,51.01,59.47,67.24,65.37,6.13,218.91,400.0,9.62,400.0,400.0,57.16,399.49,400.0,19.56,400.0,75.72,193.64,400.0,400.0,400.0,76.43,400.0,400.0,153.63,193.76,400.0,71.52,400.0,8.8,73.78,9.34,9.85,400.0,6.14,400.0,56.79,193.11,152.37,70.24,67.07,66.07,7.1,193.83,193.35,76.89,400.0,66.19,196.29,400.0,400.0,369.19,400.0,400.0,89.71,194.58,400.0,61.42,399.53,193.93,5.11,193.75,79.42,59.14,58.89,66.13,193.75,64.37,400.0,57.4,193.72,25.22,75.63,74.44,69.47,40.68,400.0,54.18,65.67,400.0,70.65,400.0,25.41,59.11,82.07,57.05,34.18,59.21,400.0,193.39,193.43,195.23,193.44,153.22,60.21,6.34,400.0,65.68,400.0,193.33,193.32,65.17,60.86],\"mode\":\"markers\",\"name\":\"Temperature vs Distance\"},{\"type\":\"scatter\",\"x\":[50.49,4.1,72.27,100.0,12.11,100.0,11.72,45.51,70.31,18.55,12.79,5.86,27.05,35.16,5.08,100.0,100.0,100.0,60.94,28.52,100.0,35.06,5.37,11.91,100.0,100.0,26.56,32.42,100.0,4.1,70.02,100.0,56.35,71.48,100.0,11.91,4.49,52.05,77.83,63.96,100.0,100.0,11.91,73.73,83.59,76.17,100.0,12.3,21.0,14.45,100.0,6.25,48.83,64.16,26.46,100.0,28.32,95.61,12.5,11.82,39.55,100.0,49.32,88.67,83.01,25.49,85.16,12.5,63.77,84.77,56.74,60.16,100.0,100.0,4.39,25.88,73.05,11.04,37.11,12.01,12.5,89.06,100.0,27.44,4.1,34.18,97.46,32.23,79.79,66.8,25.0,22.85,65.62,100.0,35.45,100.0,84.77,70.7,24.41,100.0,5.86,100.0,100.0,4.2,73.14,7.71,12.11,73.54,100.0,95.31,73.54,85.84,100.0,73.24,35.35,61.91,71.88,100.0,11.82,71.48,73.44,25.88,82.32,12.3,66.8,6.15,72.07,75.59,31.74,100.0,16.11,12.6,30.18,100.0,35.94,100.0,4.59,100.0,100.0,28.52,69.14,100.0,29.1,78.03,100.0,4.2,55.57,70.7,88.28,4.1,100.0,90.33,71.09,68.75,100.0,36.82,74.41,54.39,5.66,100.0,60.25,7.03,100.0,4.39,94.14,26.46,30.08,74.02,54.1,41.6,100.0,4.2,54.2,30.08,73.24,26.46,12.01,73.63,25.59,71.58,5.47,64.55,23.63,33.89,100.0,100.0,100.0,27.05,4.1,100.0,6.15,12.11,8.59,12.11,73.63,25.98,29.3,100.0,35.94,28.81,21.97,4.49,11.82,12.11,100.0,25.88,100.0,100.0,6.25,54.39,100.0,4.98,72.95,100.0,100.0,26.46,33.01,70.31,25.78,7.32,4.98,5.86,74.61,69.14,26.56,6.05,4.98,4.88,31.64,19.73,100.0,14.55,87.5,73.93,6.35,6.54,4.49,97.56,79.49,34.67,63.96,59.57,4.2,35.16,71.97,34.67,89.55,57.81,74.9,6.25,100.0,36.62,12.89,100.0,25.98,25.49,100.0,6.05,59.08,100.0,100.0,12.4,100.0,83.3,8.11,11.43,67.58,55.86,11.72,60.06,19.34,87.6,12.11,83.69,26.17,11.13,25.68,5.47,72.27,5.96,12.4,57.03,100.0,25.39,12.6,100.0,69.14,25.49,11.72,100.0,73.34,44.53,71.48,54.79,58.69,18.16,12.21,4.98,4.1,100.0,4.59,100.0,72.66,83.69,68.46,4.49,74.41,100.0,86.33,10.64,22.75,41.7,72.95,100.0,100.0,23.83,12.5,100.0,11.91,34.86,6.64,5.96,18.46,19.14,100.0,6.35,4.69,37.99,50.29,26.86,4.1,7.03,100.0,12.99,6.64,73.54,50.88,71.78,6.93,61.62,4.3,56.64,100.0,6.54,100.0,4.2,6.35,35.84,100.0,27.83,75.78,75.0,4.2,15.04,11.33,19.43,25.49,55.37,48.24,58.2,85.84,100.0,100.0,25.49,76.17,24.9,35.94,36.33,38.96,22.75,4.69,48.54,36.52,6.64,100.0,79.69,35.74,100.0,85.06,5.76,18.36,100.0,100.0,66.41,73.05,26.46,13.96,68.46,95.31,37.89,41.89,100.0,4.88,100.0,12.4,60.16,88.38,6.54,68.07,9.08,12.3,31.35,100.0,26.46,33.11,72.27,5.27,52.44,50.0,4.3,29.79,12.6,24.9,100.0,50.78,64.06,17.48,25.39,80.27,100.0,10.94,10.06,30.96,6.64,24.61,100.0,100.0,4.69,93.16,4.98,36.52,100.0,6.84,86.72,12.21,100.0,12.11,54.3,35.64,41.31,8.98,10.25,25.88,12.21,11.33,64.84,6.05,12.4,29.69,9.08,100.0,100.0,100.0,100.0,12.01,9.28,98.14,25.88,18.26,25.88,18.75,5.37,90.04,100.0,65.72,6.84,12.89,5.96,100.0,11.91,100.0,12.11,49.12,100.0,100.0,4.1,35.94,4.1,21.78,35.84,13.18,91.41,5.76,20.51,50.29,11.91,100.0,87.6,100.0,13.09,75.59,100.0,74.51,25.78,7.62,4.1,72.75,33.89,6.64,37.99,30.96,24.51,12.4,27.93,46.19,69.24,100.0,100.0,72.07,12.21,24.32,68.85,18.55,4.39,43.65,6.74,73.73,44.53,73.83,18.65,75.0,21.58,94.43,4.3,63.96,11.43,100.0,64.94,4.2,100.0,5.08,100.0,9.57,77.05,4.69,10.74,88.38,45.12,57.32,31.64,55.08,29.2,84.77,4.98,33.69,5.18,6.64,100.0,48.83,100.0,100.0,4.39,55.57,56.93,100.0,70.02,12.11,64.06,100.0,62.4,81.35,59.18,48.05,32.71,86.91,88.77,34.47,100.0,21.97,4.3,89.26,60.64,100.0,73.34,100.0,11.91,54.88,82.13,100.0,61.13,100.0,84.18,5.57,100.0,12.6,25.39,100.0,58.2,79.0,75.78,23.44,26.46,12.3,100.0,54.69,4.1,25.49,55.08,32.81,100.0,35.74,59.86,4.98,7.13,100.0,100.0,4.79,11.52,76.76,80.57,8.2,29.59,42.29,54.79,12.5,6.05,5.37,17.68,26.27,73.63,35.06,100.0,75.29,6.54,53.61,100.0,100.0,6.45,34.77,35.45,36.52,100.0,14.36],\"y\":[0.0,0.0,0.0,94.34,0.0,92.29,15.43,0.0,0.0,0.0,0.0,0.0,93.55,95.31,0.0,49.71,92.87,0.0,0.0,25.68,94.53,95.12,0.0,0.0,93.26,0.0,0.0,0.0,95.41,0.0,0.0,93.07,0.0,0.0,0.0,0.0,0.0,0.0,0.0,0.0,95.21,95.12,0.0,0.0,0.0,0.0,95.41,0.0,51.56,0.0,43.85,0.0,0.0,85.45,0.0,95.31,0.0,0.0,0.0,0.0,0.0,0.0,0.0,0.0,0.0,0.0,0.0,0.0,0.0,0.0,0.0,0.0,0.0,95.21,0.0,0.0,0.0,0.0,0.0,0.0,0.0,0.0,95.21,33.69,0.0,95.51,96.0,0.0,0.0,0.0,33.89,93.65,0.0,49.22,94.92,94.04,0.0,0.0,93.75,94.82,0.0,95.41,93.65,0.0,0.0,0.0,0.0,0.0,42.38,0.0,0.0,0.0,92.48,0.0,30.86,0.0,0.0,93.65,0.0,0.0,0.0,0.0,95.21,0.0,86.72,0.0,0.0,0.0,43.75,93.85,30.86,0.0,26.07,42.38,94.92,95.61,0.0,94.92,92.38,43.85,0.0,94.92,39.06,0.0,0.0,0.0,0.0,0.0,0.0,0.0,93.07,0.0,0.0,0.0,42.97,0.0,0.0,0.0,0.0,95.41,0.0,0.0,93.36,0.0,0.0,0.0,31.93,0.0,0.0,0.0,4.92,0.0,0.0,49.22,0.0,0.0,0.0,0.0,0.0,0.0,0.0,0.0,29.69,23.24,93.26,0.0,0.0,33.2,0.0,0.0,0.0,0.0,2.44,0.0,0.0,0.0,60.55,95.12,86.04,8.98,91.8,0.0,0.0,0.0,95.21,0.0,95.12,93.55,0.0,0.0,94.73,0.0,0.0,94.43,93.65,0.0,34.28,0.0,0.0,0.0,0.0,0.0,0.0,0.0,0.0,0.0,0.0,0.0,0.1,95.21,94.53,0.0,0.0,0.0,0.0,0.0,0.0,0.0,0.0,0.0,93.46,0.0,0.0,95.31,0.0,0.0,0.0,0.0,0.0,0.0,93.55,95.41,0.0,94.53,0.0,31.15,0.0,0.0,0.0,95.41,95.31,0.0,96.78,0.0,0.0,0.0,0.0,0.0,15.53,0.0,91.31,0.0,0.0,0.0,46.29,49.02,0.0,0.0,0.0,0.0,0.0,0.0,92.58,31.64,76.46,95.21,0.0,0.0,0.0,93.65,0.0,27.73,0.0,0.0,0.0,0.0,0.0,0.0,0.0,94.53,0.0,0.0,0.0,0.0,0.0,0.0,0.0,43.85,0.0,0.0,89.94,93.65,0.0,95.7,0.0,27.44,18.75,95.21,0.0,94.92,0.0,0.0,93.55,93.36,0.0,0.0,0.0,0.0,0.0,94.24,0.0,0.0,0.0,0.0,0.0,0.0,57.81,0.0,0.0,0.0,0.0,0.0,93.55,0.0,49.22,0.0,0.0,95.41,91.21,93.07,0.0,0.0,0.0,68.55,0.0,0.0,0.0,0.0,0.0,0.0,0.0,91.41,93.16,0.0,0.0,77.83,11.72,14.94,16.31,93.55,0.0,0.0,95.41,0.0,0.0,0.0,95.02,0.0,0.0,0.0,11.72,0.0,92.97,0.0,0.0,0.0,0.0,0.0,0.0,71.09,12.5,94.14,0.0,42.97,0.0,0.0,0.0,0.0,0.0,0.0,0.0,32.32,95.02,0.0,0.0,0.0,0.0,0.0,0.0,0.0,49.61,0.0,0.0,91.5,0.0,0.0,0.0,0.0,0.0,0.0,0.0,26.17,38.18,0.0,28.81,94.43,93.26,0.0,0.0,0.0,95.41,93.95,0.0,0.0,0.0,45.9,0.0,0.0,26.95,13.87,0.0,49.12,0.0,0.0,0.0,0.0,0.0,0.0,46.88,0.0,95.31,95.9,94.34,96.48,0.0,0.0,0.0,0.0,94.04,0.0,0.0,0.0,0.0,95.31,0.0,0.0,41.31,0.0,94.04,0.0,0.0,0.0,0.0,0.0,91.7,0.0,94.92,0.0,65.92,95.41,0.0,0.0,0.0,31.84,0.0,0.0,96.48,0.0,95.02,0.0,0.0,93.36,0.0,29.3,0.0,0.0,0.0,0.0,0.0,0.0,48.63,93.75,0.0,0.0,0.0,0.0,93.46,96.09,0.0,0.0,30.57,0.0,0.0,0.0,0.0,0.0,0.0,10.74,0.0,36.72,0.0,70.51,0.0,0.0,0.0,0.0,0.0,0.0,0.0,0.0,0.0,0.0,0.0,0.0,0.0,0.0,0.0,0.0,0.0,42.19,94.34,21.88,0.0,0.0,94.63,0.0,0.0,49.71,0.0,93.46,95.31,0.0,50.68,0.0,94.34,0.0,0.0,0.0,95.41,0.0,0.0,0.0,0.0,12.11,0.0,94.92,92.38,45.9,72.27,0.0,0.0,0.0,95.21,0.0,42.38,0.0,0.0,0.0,50.68,0.0,95.51,0.0,0.0,94.82,0.0,0.0,95.02,0.0,0.0,0.0,93.95,0.0,0.0,93.16,0.0,0.0,0.0,0.0,22.56,0.0,95.12,0.0,0.0,0.0,95.21,92.38,0.0,1.95,0.0,0.0,0.0,43.85,0.0,0.0,0.0,0.0,0.0,0.0,32.42,0.0,95.12,41.31,0.0,0.0,0.0,95.51,0.0,0.0,0.0,94.92,95.21,94.63,43.16],\"mode\":\"markers\",\"name\":\"Luminosity vs Infrared\"},{\"type\":\"scatter\",\"x\":[50.49,4.1,72.27,100.0,12.11,100.0,11.72,45.51,70.31,18.55,12.79,5.86,27.05,35.16,5.08,100.0,100.0,100.0,60.94,28.52,100.0,35.06,5.37,11.91,100.0,100.0,26.56,32.42,100.0,4.1,70.02,100.0,56.35,71.48,100.0,11.91,4.49,52.05,77.83,63.96,100.0,100.0,11.91,73.73,83.59,76.17,100.0,12.3,21.0,14.45,100.0,6.25,48.83,64.16,26.46,100.0,28.32,95.61,12.5,11.82,39.55,100.0,49.32,88.67,83.01,25.49,85.16,12.5,63.77,84.77,56.74,60.16,100.0,100.0,4.39,25.88,73.05,11.04,37.11,12.01,12.5,89.06,100.0,27.44,4.1,34.18,97.46,32.23,79.79,66.8,25.0,22.85,65.62,100.0,35.45,100.0,84.77,70.7,24.41,100.0,5.86,100.0,100.0,4.2,73.14,7.71,12.11,73.54,100.0,95.31,73.54,85.84,100.0,73.24,35.35,61.91,71.88,100.0,11.82,71.48,73.44,25.88,82.32,12.3,66.8,6.15,72.07,75.59,31.74,100.0,16.11,12.6,30.18,100.0,35.94,100.0,4.59,100.0,100.0,28.52,69.14,100.0,29.1,78.03,100.0,4.2,55.57,70.7,88.28,4.1,100.0,90.33,71.09,68.75,100.0,36.82,74.41,54.39,5.66,100.0,60.25,7.03,100.0,4.39,94.14,26.46,30.08,74.02,54.1,41.6,100.0,4.2,54.2,30.08,73.24,26.46,12.01,73.63,25.59,71.58,5.47,64.55,23.63,33.89,100.0,100.0,100.0,27.05,4.1,100.0,6.15,12.11,8.59,12.11,73.63,25.98,29.3,100.0,35.94,28.81,21.97,4.49,11.82,12.11,100.0,25.88,100.0,100.0,6.25,54.39,100.0,4.98,72.95,100.0,100.0,26.46,33.01,70.31,25.78,7.32,4.98,5.86,74.61,69.14,26.56,6.05,4.98,4.88,31.64,19.73,100.0,14.55,87.5,73.93,6.35,6.54,4.49,97.56,79.49,34.67,63.96,59.57,4.2,35.16,71.97,34.67,89.55,57.81,74.9,6.25,100.0,36.62,12.89,100.0,25.98,25.49,100.0,6.05,59.08,100.0,100.0,12.4,100.0,83.3,8.11,11.43,67.58,55.86,11.72,60.06,19.34,87.6,12.11,83.69,26.17,11.13,25.68,5.47,72.27,5.96,12.4,57.03,100.0,25.39,12.6,100.0,69.14,25.49,11.72,100.0,73.34,44.53,71.48,54.79,58.69,18.16,12.21,4.98,4.1,100.0,4.59,100.0,72.66,83.69,68.46,4.49,74.41,100.0,86.33,10.64,22.75,41.7,72.95,100.0,100.0,23.83,12.5,100.0,11.91,34.86,6.64,5.96,18.46,19.14,100.0,6.35,4.69,37.99,50.29,26.86,4.1,7.03,100.0,12.99,6.64,73.54,50.88,71.78,6.93,61.62,4.3,56.64,100.0,6.54,100.0,4.2,6.35,35.84,100.0,27.83,75.78,75.0,4.2,15.04,11.33,19.43,25.49,55.37,48.24,58.2,85.84,100.0,100.0,25.49,76.17,24.9,35.94,36.33,38.96,22.75,4.69,48.54,36.52,6.64,100.0,79.69,35.74,100.0,85.06,5.76,18.36,100.0,100.0,66.41,73.05,26.46,13.96,68.46,95.31,37.89,41.89,100.0,4.88,100.0,12.4,60.16,88.38,6.54,68.07,9.08,12.3,31.35,100.0,26.46,33.11,72.27,5.27,52.44,50.0,4.3,29.79,12.6,24.9,100.0,50.78,64.06,17.48,25.39,80.27,100.0,10.94,10.06,30.96,6.64,24.61,100.0,100.0,4.69,93.16,4.98,36.52,100.0,6.84,86.72,12.21,100.0,12.11,54.3,35.64,41.31,8.98,10.25,25.88,12.21,11.33,64.84,6.05,12.4,29.69,9.08,100.0,100.0,100.0,100.0,12.01,9.28,98.14,25.88,18.26,25.88,18.75,5.37,90.04,100.0,65.72,6.84,12.89,5.96,100.0,11.91,100.0,12.11,49.12,100.0,100.0,4.1,35.94,4.1,21.78,35.84,13.18,91.41,5.76,20.51,50.29,11.91,100.0,87.6,100.0,13.09,75.59,100.0,74.51,25.78,7.62,4.1,72.75,33.89,6.64,37.99,30.96,24.51,12.4,27.93,46.19,69.24,100.0,100.0,72.07,12.21,24.32,68.85,18.55,4.39,43.65,6.74,73.73,44.53,73.83,18.65,75.0,21.58,94.43,4.3,63.96,11.43,100.0,64.94,4.2,100.0,5.08,100.0,9.57,77.05,4.69,10.74,88.38,45.12,57.32,31.64,55.08,29.2,84.77,4.98,33.69,5.18,6.64,100.0,48.83,100.0,100.0,4.39,55.57,56.93,100.0,70.02,12.11,64.06,100.0,62.4,81.35,59.18,48.05,32.71,86.91,88.77,34.47,100.0,21.97,4.3,89.26,60.64,100.0,73.34,100.0,11.91,54.88,82.13,100.0,61.13,100.0,84.18,5.57,100.0,12.6,25.39,100.0,58.2,79.0,75.78,23.44,26.46,12.3,100.0,54.69,4.1,25.49,55.08,32.81,100.0,35.74,59.86,4.98,7.13,100.0,100.0,4.79,11.52,76.76,80.57,8.2,29.59,42.29,54.79,12.5,6.05,5.37,17.68,26.27,73.63,35.06,100.0,75.29,6.54,53.61,100.0,100.0,6.45,34.77,35.45,36.52,100.0,14.36],\"y\":[8.84,154.09,66.87,41.55,400.0,400.0,60.87,12.08,194.26,400.0,88.81,400.0,60.14,194.23,78.02,193.64,400.0,400.0,78.83,57.68,400.0,193.43,400.0,400.0,7.56,7.13,193.75,23.01,6.76,154.09,193.76,400.0,61.91,193.37,57.64,83.96,75.33,50.82,58.82,242.96,400.0,400.0,400.0,125.81,394.32,194.3,400.0,96.48,400.0,17.49,195.19,400.0,60.7,60.02,193.75,400.0,30.7,69.64,60.24,77.05,56.85,66.92,9.84,325.6,24.47,194.64,66.31,400.0,400.0,67.14,35.34,28.38,400.0,400.0,400.0,193.78,193.34,400.0,49.91,71.82,400.0,54.26,400.0,400.0,67.74,400.0,155.75,31.24,64.22,400.0,56.2,61.23,13.86,194.44,193.33,400.0,66.15,153.31,20.09,400.0,400.0,400.0,4.19,154.91,64.25,155.39,400.0,193.84,193.37,73.24,193.84,62.4,42.0,193.4,400.0,400.0,192.26,152.82,400.0,13.73,24.32,193.79,400.0,86.1,5.12,400.0,66.73,193.34,400.0,154.46,61.79,76.37,400.0,194.23,193.4,45.92,72.21,42.46,7.16,52.37,400.0,46.4,400.0,57.68,59.4,154.49,156.15,400.0,60.42,155.38,400.0,11.61,400.0,27.28,237.28,400.0,57.95,59.16,75.56,400.0,10.11,400.0,400.0,75.51,49.1,194.58,60.96,194.3,156.99,61.0,4.28,155.3,55.05,400.0,193.4,155.8,79.72,193.39,195.03,400.0,155.35,54.29,61.05,61.67,46.13,56.12,10.78,400.0,154.13,400.0,400.0,400.0,60.75,400.0,129.92,194.66,400.0,59.09,57.69,56.18,60.46,51.67,14.01,73.87,43.15,193.79,400.0,43.89,400.0,400.0,7.9,75.65,195.93,48.57,400.0,193.73,17.91,194.26,193.69,29.68,19.46,77.67,146.28,322.63,193.75,154.49,73.51,400.0,400.0,21.85,400.0,400.0,61.45,66.92,154.08,18.78,74.86,19.49,317.08,400.0,400.0,21.35,67.0,194.23,170.5,49.57,68.42,61.76,20.44,76.22,400.0,194.16,88.66,60.76,194.64,400.0,56.06,74.18,61.92,400.0,400.0,400.0,155.74,64.68,400.0,88.91,366.69,400.0,400.0,61.42,400.0,318.49,400.0,63.88,57.48,61.88,194.61,60.47,194.25,70.74,400.0,400.0,70.73,60.43,53.76,400.0,350.8,194.64,400.0,60.81,193.83,58.95,193.37,321.3,22.4,107.1,96.35,28.04,154.06,7.96,400.0,400.0,400.0,58.3,28.33,400.0,400.0,195.19,400.0,154.98,56.2,400.0,195.93,153.66,7.48,59.15,59.74,400.0,83.75,193.4,76.97,70.36,400.0,154.04,20.1,400.0,400.0,400.0,8.52,400.0,155.35,400.0,61.46,97.13,400.0,70.2,52.51,194.28,23.32,10.37,154.9,400.0,7.52,82.61,194.44,153.65,400.0,194.55,400.0,19.04,400.0,194.69,71.72,59.97,14.38,49.02,193.73,63.61,22.17,20.8,66.43,9.47,46.56,193.75,194.3,400.0,62.67,58.61,55.94,154.04,75.87,61.12,194.03,75.12,49.92,65.26,193.76,400.0,25.27,78.88,400.0,364.7,400.0,290.37,193.34,194.58,89.89,60.77,400.0,400.0,57.2,6.25,400.0,194.15,400.0,60.46,400.0,78.08,59.49,154.89,400.0,60.4,56.17,193.73,400.0,400.0,400.0,24.33,43.43,67.65,61.57,89.11,193.25,400.0,400.0,301.72,400.0,194.58,400.0,55.43,82.69,57.48,57.5,73.76,61.26,44.79,5.8,75.16,73.86,78.92,194.03,400.0,400.0,400.0,400.0,194.48,82.12,52.13,400.0,400.0,154.51,57.06,195.05,90.17,93.64,400.0,78.93,400.0,400.0,14.8,153.62,152.3,400.0,154.99,79.96,93.85,65.32,195.05,154.89,193.78,153.61,156.23,64.47,41.3,400.0,28.69,59.06,400.0,10.77,13.28,400.0,400.0,400.0,400.0,41.84,155.74,193.4,153.67,400.0,194.55,400.0,66.28,65.73,400.0,400.0,400.0,152.28,343.57,400.0,400.0,193.34,400.0,182.04,57.5,400.0,400.0,348.63,400.0,65.42,154.1,60.05,18.08,400.0,25.62,50.02,65.89,345.92,400.0,64.47,91.58,59.85,382.72,400.0,66.49,15.9,400.0,125.81,55.44,194.31,60.04,194.69,153.16,68.61,154.92,64.98,400.0,65.28,17.1,400.0,16.5,75.81,51.01,59.47,67.24,65.37,6.13,218.91,400.0,9.62,400.0,400.0,57.16,399.49,400.0,19.56,400.0,75.72,193.64,400.0,400.0,400.0,76.43,400.0,400.0,153.63,193.76,400.0,71.52,400.0,8.8,73.78,9.34,9.85,400.0,6.14,400.0,56.79,193.11,152.37,70.24,67.07,66.07,7.1,193.83,193.35,76.89,400.0,66.19,196.29,400.0,400.0,369.19,400.0,400.0,89.71,194.58,400.0,61.42,399.53,193.93,5.11,193.75,79.42,59.14,58.89,66.13,193.75,64.37,400.0,57.4,193.72,25.22,75.63,74.44,69.47,40.68,400.0,54.18,65.67,400.0,70.65,400.0,25.41,59.11,82.07,57.05,34.18,59.21,400.0,193.39,193.43,195.23,193.44,153.22,60.21,6.34,400.0,65.68,400.0,193.33,193.32,65.17,60.86],\"mode\":\"markers\",\"name\":\"Luminosity vs Distance\"},{\"type\":\"scatter\",\"x\":[0.0,0.0,0.0,94.34,0.0,92.29,15.43,0.0,0.0,0.0,0.0,0.0,93.55,95.31,0.0,49.71,92.87,0.0,0.0,25.68,94.53,95.12,0.0,0.0,93.26,0.0,0.0,0.0,95.41,0.0,0.0,93.07,0.0,0.0,0.0,0.0,0.0,0.0,0.0,0.0,95.21,95.12,0.0,0.0,0.0,0.0,95.41,0.0,51.56,0.0,43.85,0.0,0.0,85.45,0.0,95.31,0.0,0.0,0.0,0.0,0.0,0.0,0.0,0.0,0.0,0.0,0.0,0.0,0.0,0.0,0.0,0.0,0.0,95.21,0.0,0.0,0.0,0.0,0.0,0.0,0.0,0.0,95.21,33.69,0.0,95.51,96.0,0.0,0.0,0.0,33.89,93.65,0.0,49.22,94.92,94.04,0.0,0.0,93.75,94.82,0.0,95.41,93.65,0.0,0.0,0.0,0.0,0.0,42.38,0.0,0.0,0.0,92.48,0.0,30.86,0.0,0.0,93.65,0.0,0.0,0.0,0.0,95.21,0.0,86.72,0.0,0.0,0.0,43.75,93.85,30.86,0.0,26.07,42.38,94.92,95.61,0.0,94.92,92.38,43.85,0.0,94.92,39.06,0.0,0.0,0.0,0.0,0.0,0.0,0.0,93.07,0.0,0.0,0.0,42.97,0.0,0.0,0.0,0.0,95.41,0.0,0.0,93.36,0.0,0.0,0.0,31.93,0.0,0.0,0.0,4.92,0.0,0.0,49.22,0.0,0.0,0.0,0.0,0.0,0.0,0.0,0.0,29.69,23.24,93.26,0.0,0.0,33.2,0.0,0.0,0.0,0.0,2.44,0.0,0.0,0.0,60.55,95.12,86.04,8.98,91.8,0.0,0.0,0.0,95.21,0.0,95.12,93.55,0.0,0.0,94.73,0.0,0.0,94.43,93.65,0.0,34.28,0.0,0.0,0.0,0.0,0.0,0.0,0.0,0.0,0.0,0.0,0.0,0.1,95.21,94.53,0.0,0.0,0.0,0.0,0.0,0.0,0.0,0.0,0.0,93.46,0.0,0.0,95.31,0.0,0.0,0.0,0.0,0.0,0.0,93.55,95.41,0.0,94.53,0.0,31.15,0.0,0.0,0.0,95.41,95.31,0.0,96.78,0.0,0.0,0.0,0.0,0.0,15.53,0.0,91.31,0.0,0.0,0.0,46.29,49.02,0.0,0.0,0.0,0.0,0.0,0.0,92.58,31.64,76.46,95.21,0.0,0.0,0.0,93.65,0.0,27.73,0.0,0.0,0.0,0.0,0.0,0.0,0.0,94.53,0.0,0.0,0.0,0.0,0.0,0.0,0.0,43.85,0.0,0.0,89.94,93.65,0.0,95.7,0.0,27.44,18.75,95.21,0.0,94.92,0.0,0.0,93.55,93.36,0.0,0.0,0.0,0.0,0.0,94.24,0.0,0.0,0.0,0.0,0.0,0.0,57.81,0.0,0.0,0.0,0.0,0.0,93.55,0.0,49.22,0.0,0.0,95.41,91.21,93.07,0.0,0.0,0.0,68.55,0.0,0.0,0.0,0.0,0.0,0.0,0.0,91.41,93.16,0.0,0.0,77.83,11.72,14.94,16.31,93.55,0.0,0.0,95.41,0.0,0.0,0.0,95.02,0.0,0.0,0.0,11.72,0.0,92.97,0.0,0.0,0.0,0.0,0.0,0.0,71.09,12.5,94.14,0.0,42.97,0.0,0.0,0.0,0.0,0.0,0.0,0.0,32.32,95.02,0.0,0.0,0.0,0.0,0.0,0.0,0.0,49.61,0.0,0.0,91.5,0.0,0.0,0.0,0.0,0.0,0.0,0.0,26.17,38.18,0.0,28.81,94.43,93.26,0.0,0.0,0.0,95.41,93.95,0.0,0.0,0.0,45.9,0.0,0.0,26.95,13.87,0.0,49.12,0.0,0.0,0.0,0.0,0.0,0.0,46.88,0.0,95.31,95.9,94.34,96.48,0.0,0.0,0.0,0.0,94.04,0.0,0.0,0.0,0.0,95.31,0.0,0.0,41.31,0.0,94.04,0.0,0.0,0.0,0.0,0.0,91.7,0.0,94.92,0.0,65.92,95.41,0.0,0.0,0.0,31.84,0.0,0.0,96.48,0.0,95.02,0.0,0.0,93.36,0.0,29.3,0.0,0.0,0.0,0.0,0.0,0.0,48.63,93.75,0.0,0.0,0.0,0.0,93.46,96.09,0.0,0.0,30.57,0.0,0.0,0.0,0.0,0.0,0.0,10.74,0.0,36.72,0.0,70.51,0.0,0.0,0.0,0.0,0.0,0.0,0.0,0.0,0.0,0.0,0.0,0.0,0.0,0.0,0.0,0.0,0.0,42.19,94.34,21.88,0.0,0.0,94.63,0.0,0.0,49.71,0.0,93.46,95.31,0.0,50.68,0.0,94.34,0.0,0.0,0.0,95.41,0.0,0.0,0.0,0.0,12.11,0.0,94.92,92.38,45.9,72.27,0.0,0.0,0.0,95.21,0.0,42.38,0.0,0.0,0.0,50.68,0.0,95.51,0.0,0.0,94.82,0.0,0.0,95.02,0.0,0.0,0.0,93.95,0.0,0.0,93.16,0.0,0.0,0.0,0.0,22.56,0.0,95.12,0.0,0.0,0.0,95.21,92.38,0.0,1.95,0.0,0.0,0.0,43.85,0.0,0.0,0.0,0.0,0.0,0.0,32.42,0.0,95.12,41.31,0.0,0.0,0.0,95.51,0.0,0.0,0.0,94.92,95.21,94.63,43.16],\"y\":[8.84,154.09,66.87,41.55,400.0,400.0,60.87,12.08,194.26,400.0,88.81,400.0,60.14,194.23,78.02,193.64,400.0,400.0,78.83,57.68,400.0,193.43,400.0,400.0,7.56,7.13,193.75,23.01,6.76,154.09,193.76,400.0,61.91,193.37,57.64,83.96,75.33,50.82,58.82,242.96,400.0,400.0,400.0,125.81,394.32,194.3,400.0,96.48,400.0,17.49,195.19,400.0,60.7,60.02,193.75,400.0,30.7,69.64,60.24,77.05,56.85,66.92,9.84,325.6,24.47,194.64,66.31,400.0,400.0,67.14,35.34,28.38,400.0,400.0,400.0,193.78,193.34,400.0,49.91,71.82,400.0,54.26,400.0,400.0,67.74,400.0,155.75,31.24,64.22,400.0,56.2,61.23,13.86,194.44,193.33,400.0,66.15,153.31,20.09,400.0,400.0,400.0,4.19,154.91,64.25,155.39,400.0,193.84,193.37,73.24,193.84,62.4,42.0,193.4,400.0,400.0,192.26,152.82,400.0,13.73,24.32,193.79,400.0,86.1,5.12,400.0,66.73,193.34,400.0,154.46,61.79,76.37,400.0,194.23,193.4,45.92,72.21,42.46,7.16,52.37,400.0,46.4,400.0,57.68,59.4,154.49,156.15,400.0,60.42,155.38,400.0,11.61,400.0,27.28,237.28,400.0,57.95,59.16,75.56,400.0,10.11,400.0,400.0,75.51,49.1,194.58,60.96,194.3,156.99,61.0,4.28,155.3,55.05,400.0,193.4,155.8,79.72,193.39,195.03,400.0,155.35,54.29,61.05,61.67,46.13,56.12,10.78,400.0,154.13,400.0,400.0,400.0,60.75,400.0,129.92,194.66,400.0,59.09,57.69,56.18,60.46,51.67,14.01,73.87,43.15,193.79,400.0,43.89,400.0,400.0,7.9,75.65,195.93,48.57,400.0,193.73,17.91,194.26,193.69,29.68,19.46,77.67,146.28,322.63,193.75,154.49,73.51,400.0,400.0,21.85,400.0,400.0,61.45,66.92,154.08,18.78,74.86,19.49,317.08,400.0,400.0,21.35,67.0,194.23,170.5,49.57,68.42,61.76,20.44,76.22,400.0,194.16,88.66,60.76,194.64,400.0,56.06,74.18,61.92,400.0,400.0,400.0,155.74,64.68,400.0,88.91,366.69,400.0,400.0,61.42,400.0,318.49,400.0,63.88,57.48,61.88,194.61,60.47,194.25,70.74,400.0,400.0,70.73,60.43,53.76,400.0,350.8,194.64,400.0,60.81,193.83,58.95,193.37,321.3,22.4,107.1,96.35,28.04,154.06,7.96,400.0,400.0,400.0,58.3,28.33,400.0,400.0,195.19,400.0,154.98,56.2,400.0,195.93,153.66,7.48,59.15,59.74,400.0,83.75,193.4,76.97,70.36,400.0,154.04,20.1,400.0,400.0,400.0,8.52,400.0,155.35,400.0,61.46,97.13,400.0,70.2,52.51,194.28,23.32,10.37,154.9,400.0,7.52,82.61,194.44,153.65,400.0,194.55,400.0,19.04,400.0,194.69,71.72,59.97,14.38,49.02,193.73,63.61,22.17,20.8,66.43,9.47,46.56,193.75,194.3,400.0,62.67,58.61,55.94,154.04,75.87,61.12,194.03,75.12,49.92,65.26,193.76,400.0,25.27,78.88,400.0,364.7,400.0,290.37,193.34,194.58,89.89,60.77,400.0,400.0,57.2,6.25,400.0,194.15,400.0,60.46,400.0,78.08,59.49,154.89,400.0,60.4,56.17,193.73,400.0,400.0,400.0,24.33,43.43,67.65,61.57,89.11,193.25,400.0,400.0,301.72,400.0,194.58,400.0,55.43,82.69,57.48,57.5,73.76,61.26,44.79,5.8,75.16,73.86,78.92,194.03,400.0,400.0,400.0,400.0,194.48,82.12,52.13,400.0,400.0,154.51,57.06,195.05,90.17,93.64,400.0,78.93,400.0,400.0,14.8,153.62,152.3,400.0,154.99,79.96,93.85,65.32,195.05,154.89,193.78,153.61,156.23,64.47,41.3,400.0,28.69,59.06,400.0,10.77,13.28,400.0,400.0,400.0,400.0,41.84,155.74,193.4,153.67,400.0,194.55,400.0,66.28,65.73,400.0,400.0,400.0,152.28,343.57,400.0,400.0,193.34,400.0,182.04,57.5,400.0,400.0,348.63,400.0,65.42,154.1,60.05,18.08,400.0,25.62,50.02,65.89,345.92,400.0,64.47,91.58,59.85,382.72,400.0,66.49,15.9,400.0,125.81,55.44,194.31,60.04,194.69,153.16,68.61,154.92,64.98,400.0,65.28,17.1,400.0,16.5,75.81,51.01,59.47,67.24,65.37,6.13,218.91,400.0,9.62,400.0,400.0,57.16,399.49,400.0,19.56,400.0,75.72,193.64,400.0,400.0,400.0,76.43,400.0,400.0,153.63,193.76,400.0,71.52,400.0,8.8,73.78,9.34,9.85,400.0,6.14,400.0,56.79,193.11,152.37,70.24,67.07,66.07,7.1,193.83,193.35,76.89,400.0,66.19,196.29,400.0,400.0,369.19,400.0,400.0,89.71,194.58,400.0,61.42,399.53,193.93,5.11,193.75,79.42,59.14,58.89,66.13,193.75,64.37,400.0,57.4,193.72,25.22,75.63,74.44,69.47,40.68,400.0,54.18,65.67,400.0,70.65,400.0,25.41,59.11,82.07,57.05,34.18,59.21,400.0,193.39,193.43,195.23,193.44,153.22,60.21,6.34,400.0,65.68,400.0,193.33,193.32,65.17,60.86],\"mode\":\"markers\",\"name\":\"Infrared vs Distance\"}];\n",
       "            var layout = {\"title\":\"All vs All\"};\n",
       "            Plotly.newPlot('9b78379e-d70a-4133-ba17-13406a8cf5bc', data, layout);\n",
       "        \r\n",
       "});\r\n",
       "};\r\n",
       "if ((typeof(requirejs) !==  typeof(Function)) || (typeof(requirejs.config) !== typeof(Function))) { \r\n",
       "    var script = document.createElement(\"script\"); \r\n",
       "    script.setAttribute(\"src\", \"https://cdnjs.cloudflare.com/ajax/libs/require.js/2.3.6/require.min.js\"); \r\n",
       "    script.onload = function(){\r\n",
       "        renderPlotly();\r\n",
       "    };\r\n",
       "    document.getElementsByTagName(\"head\")[0].appendChild(script); \r\n",
       "}\r\n",
       "else {\r\n",
       "    renderPlotly();\r\n",
       "}\r\n",
       "</script>\r\n"
      ]
     },
     "metadata": {},
     "output_type": "display_data"
    }
   ],
   "source": [
    "var daysHistogram = Chart.Plot(new[] {\n",
    "    new Graph.Scatter { x = temperatures, y = luminosities, mode = \"markers\", name = \"Temperature vs Luminosity\" },\n",
    "    new Graph.Scatter { x = temperatures, y = infrareds, mode = \"markers\", name = \"Temperature vs Infrared\" },\n",
    "    new Graph.Scatter { x = temperatures, y = distances, mode = \"markers\", name = \"Temperature vs Distance\" },\n",
    "    new Graph.Scatter { x = luminosities, y = infrareds, mode = \"markers\", name = \"Luminosity vs Infrared\" },\n",
    "    new Graph.Scatter { x = luminosities, y = distances, mode = \"markers\", name = \"Luminosity vs Distance\" },\n",
    "    new Graph.Scatter { x = infrareds, y = distances, mode = \"markers\", name = \"Infrared vs Distance\" },\n",
    "});\n",
    "\n",
    "var layout = new Layout.Layout()\n",
    "{\n",
    "    title = \"All vs All\"\n",
    "};\n",
    "daysHistogram.WithLayout(layout);\n",
    "display(daysHistogram);"
   ]
  },
  {
   "cell_type": "markdown",
   "metadata": {},
   "source": [
    "#### Box plot segmentation"
   ]
  },
  {
   "cell_type": "code",
   "execution_count": 16,
   "metadata": {},
   "outputs": [
    {
     "data": {
      "text/html": [
       "<div id=\"73bf44aa-d556-4e3e-b84b-a4e774a4f673\" style=\"width: 900px; height: 500px;\"></div>\r\n",
       "<script type=\"text/javascript\">\r\n",
       "\r\n",
       "var renderPlotly = function() {\r\n",
       "    var xplotRequire = requirejs.config({context:'xplot-3.0.1',paths:{plotly:'https://cdn.plot.ly/plotly-1.49.2.min'}});\r\n",
       "    xplotRequire(['plotly'], function(Plotly) {\r\n",
       "\n",
       "            var data = [{\"type\":\"box\",\"y\":[24.82,23.96,32.5,47.32,25.09,56.03,32.18,23.28,27.34,24.77,25.09,32.18,32.18,25.09,32.18,94.05,37.01,32.5,24.77,30.24,37.98,25.41,32.18,25.09,48.94,24.14,24.44,31.21,37.33,23.63,27.34,66.98,31.86,27.34,32.18,25.09,32.18,32.18,31.21,24.77,58.6,50.87,24.77,27.34,23.48,27.67,36.69,25.09,26.38,24.28,115.0,32.18,31.21,30.24,24.44,56.03,32.5,24.44,24.77,25.09,32.18,32.5,25.14,23.8,32.5,24.44,32.5,25.09,31.21,24.12,32.5,31.86,36.37,36.37,32.18,24.44,27.67,25.09,32.18,25.09,24.77,32.82,53.77,32.5,32.18,25.89,64.05,32.18,32.5,31.86,32.5,32.18,23.8,109.52,25.09,35.08,24.44,27.34,30.89,153.35,32.18,33.47,102.43,24.63,32.5,23.96,25.09,27.34,88.25,23.48,27.34,32.5,90.83,27.67,32.18,23.8,27.34,90.83,24.77,32.18,30.89,24.44,64.05,25.09,64.05,32.18,32.5,27.67,32.18,87.29,32.5,25.09,29.92,95.02,25.09,100.82,32.18,55.7,34.11,32.5,31.21,36.37,30.24,31.53,41.2,25.63,23.28,31.21,32.5,23.63,89.22,23.48,31.53,31.86,99.53,32.5,32.5,32.5,32.18,45.07,23.28,24.86,32.5,32.18,32.5,24.77,29.92,27.34,23.28,32.18,109.2,23.63,30.24,32.18,27.67,23.28,25.09,27.67,24.77,31.53,23.63,32.82,29.92,30.24,47.97,52.8,24.44,30.24,23.63,34.43,32.18,25.09,32.18,25.09,27.34,24.44,30.24,36.37,32.18,32.5,30.24,32.5,25.41,25.09,60.21,24.44,38.95,33.79,32.18,32.18,95.34,32.18,27.34,47.97,36.37,24.44,29.92,27.34,24.44,32.18,32.18,32.18,27.34,24.77,24.44,24.6,32.18,32.18,30.24,24.38,37.01,32.18,31.21,32.5,24.28,28.96,32.18,32.18,24.12,31.21,30.24,32.5,31.86,25.09,27.34,32.5,24.44,32.18,31.21,32.18,35.08,24.77,25.09,157.22,24.44,32.18,32.5,32.18,31.21,88.9,35.72,25.09,64.28,24.77,24.5,24.77,24.44,32.18,30.24,31.86,32.5,23.48,25.09,23.48,30.24,30.24,24.44,31.21,27.34,32.18,25.09,32.5,36.69,29.92,32.5,32.5,24.12,24.44,24.44,81.81,27.34,30.24,27.34,24.12,31.21,32.18,25.09,32.18,23.63,32.18,32.5,34.11,32.5,32.5,32.18,32.18,30.89,115.0,32.5,23.96,32.5,30.24,27.34,64.96,24.14,30.24,32.18,33.14,25.09,25.09,32.18,32.18,32.18,26.7,31.86,32.18,32.18,31.21,24.14,30.89,24.63,32.18,34.43,25.09,32.18,32.18,32.5,27.67,32.18,23.28,23.63,31.21,36.37,32.18,109.52,24.63,32.18,25.09,50.55,25.89,32.5,27.67,32.18,32.18,25.41,32.5,24.44,32.18,32.18,32.18,32.5,96.31,36.37,24.44,27.67,25.89,30.24,31.21,32.18,26.38,32.18,31.86,25.41,32.18,67.63,32.5,25.09,32.5,31.86,32.18,26.38,24.12,65.05,23.8,27.67,24.77,24.77,31.86,32.5,32.5,30.24,82.77,32.18,95.66,25.09,31.21,32.5,32.18,31.53,23.96,25.09,30.24,49.26,24.44,32.18,31.21,32.18,30.89,32.18,32.18,32.18,24.44,24.12,35.08,32.5,24.77,24.77,24.44,24.44,33.14,25.09,29.6,30.24,32.18,32.18,34.11,42.81,31.86,23.48,32.18,25.41,34.43,32.18,31.53,24.77,101.79,25.09,32.18,32.18,30.24,23.96,30.24,24.12,25.09,25.09,32.5,32.18,24.44,30.24,23.28,70.85,24.28,74.07,64.38,25.09,25.41,32.5,24.12,24.38,24.44,24.31,24.63,32.5,76.65,32.18,32.18,32.18,32.5,34.76,25.41,46.68,25.09,31.86,32.18,35.72,24.63,25.09,24.63,30.24,25.09,25.09,32.5,32.18,30.24,32.18,25.09,25.57,23.48,74.72,25.09,27.67,76.65,27.99,30.57,32.18,24.63,32.5,31.21,32.18,24.31,32.18,25.89,24.77,31.86,32.18,32.5,73.11,64.92,32.5,25.09,30.24,24.77,24.77,32.18,32.5,32.18,27.34,30.24,27.34,30.24,27.67,26.38,24.77,23.63,32.5,25.41,32.5,32.5,32.18,32.18,32.18,56.99,31.86,24.12,32.18,24.77,24.77,31.86,23.28,30.24,32.18,30.24,23.48,32.18,25.21,30.24,32.18,94.05,32.5,81.48,50.87,32.18,30.24,32.5,98.24,27.34,25.09,24.77,90.19,24.14,24.77,23.96,25.82,30.24,23.28,44.75,32.5,96.63,26.38,32.18,24.77,32.5,61.5,27.34,88.9,25.09,32.5,24.77,98.24,32.18,63.12,23.48,32.18,55.7,25.09,24.44,32.82,32.18,23.48,27.34,26.38,24.44,24.77,65.37,32.5,32.18,24.44,31.21,30.24,52.8,25.09,31.53,31.86,32.18,36.69,85.67,32.18,30.24,32.5,32.18,24.77,32.18,32.18,32.5,24.77,32.18,32.18,32.18,30.24,27.67,25.41,132.4,27.34,24.28,31.86,84.71,32.5,32.18,30.24,25.09,25.41,75.68,29.92],\"name\":\"Temperature\"},{\"type\":\"box\",\"y\":[50.49,4.1,72.27,100.0,12.11,100.0,11.72,45.51,70.31,18.55,12.79,5.86,27.05,35.16,5.08,100.0,100.0,100.0,60.94,28.52,100.0,35.06,5.37,11.91,100.0,100.0,26.56,32.42,100.0,4.1,70.02,100.0,56.35,71.48,100.0,11.91,4.49,52.05,77.83,63.96,100.0,100.0,11.91,73.73,83.59,76.17,100.0,12.3,21.0,14.45,100.0,6.25,48.83,64.16,26.46,100.0,28.32,95.61,12.5,11.82,39.55,100.0,49.32,88.67,83.01,25.49,85.16,12.5,63.77,84.77,56.74,60.16,100.0,100.0,4.39,25.88,73.05,11.04,37.11,12.01,12.5,89.06,100.0,27.44,4.1,34.18,97.46,32.23,79.79,66.8,25.0,22.85,65.62,100.0,35.45,100.0,84.77,70.7,24.41,100.0,5.86,100.0,100.0,4.2,73.14,7.71,12.11,73.54,100.0,95.31,73.54,85.84,100.0,73.24,35.35,61.91,71.88,100.0,11.82,71.48,73.44,25.88,82.32,12.3,66.8,6.15,72.07,75.59,31.74,100.0,16.11,12.6,30.18,100.0,35.94,100.0,4.59,100.0,100.0,28.52,69.14,100.0,29.1,78.03,100.0,4.2,55.57,70.7,88.28,4.1,100.0,90.33,71.09,68.75,100.0,36.82,74.41,54.39,5.66,100.0,60.25,7.03,100.0,4.39,94.14,26.46,30.08,74.02,54.1,41.6,100.0,4.2,54.2,30.08,73.24,26.46,12.01,73.63,25.59,71.58,5.47,64.55,23.63,33.89,100.0,100.0,100.0,27.05,4.1,100.0,6.15,12.11,8.59,12.11,73.63,25.98,29.3,100.0,35.94,28.81,21.97,4.49,11.82,12.11,100.0,25.88,100.0,100.0,6.25,54.39,100.0,4.98,72.95,100.0,100.0,26.46,33.01,70.31,25.78,7.32,4.98,5.86,74.61,69.14,26.56,6.05,4.98,4.88,31.64,19.73,100.0,14.55,87.5,73.93,6.35,6.54,4.49,97.56,79.49,34.67,63.96,59.57,4.2,35.16,71.97,34.67,89.55,57.81,74.9,6.25,100.0,36.62,12.89,100.0,25.98,25.49,100.0,6.05,59.08,100.0,100.0,12.4,100.0,83.3,8.11,11.43,67.58,55.86,11.72,60.06,19.34,87.6,12.11,83.69,26.17,11.13,25.68,5.47,72.27,5.96,12.4,57.03,100.0,25.39,12.6,100.0,69.14,25.49,11.72,100.0,73.34,44.53,71.48,54.79,58.69,18.16,12.21,4.98,4.1,100.0,4.59,100.0,72.66,83.69,68.46,4.49,74.41,100.0,86.33,10.64,22.75,41.7,72.95,100.0,100.0,23.83,12.5,100.0,11.91,34.86,6.64,5.96,18.46,19.14,100.0,6.35,4.69,37.99,50.29,26.86,4.1,7.03,100.0,12.99,6.64,73.54,50.88,71.78,6.93,61.62,4.3,56.64,100.0,6.54,100.0,4.2,6.35,35.84,100.0,27.83,75.78,75.0,4.2,15.04,11.33,19.43,25.49,55.37,48.24,58.2,85.84,100.0,100.0,25.49,76.17,24.9,35.94,36.33,38.96,22.75,4.69,48.54,36.52,6.64,100.0,79.69,35.74,100.0,85.06,5.76,18.36,100.0,100.0,66.41,73.05,26.46,13.96,68.46,95.31,37.89,41.89,100.0,4.88,100.0,12.4,60.16,88.38,6.54,68.07,9.08,12.3,31.35,100.0,26.46,33.11,72.27,5.27,52.44,50.0,4.3,29.79,12.6,24.9,100.0,50.78,64.06,17.48,25.39,80.27,100.0,10.94,10.06,30.96,6.64,24.61,100.0,100.0,4.69,93.16,4.98,36.52,100.0,6.84,86.72,12.21,100.0,12.11,54.3,35.64,41.31,8.98,10.25,25.88,12.21,11.33,64.84,6.05,12.4,29.69,9.08,100.0,100.0,100.0,100.0,12.01,9.28,98.14,25.88,18.26,25.88,18.75,5.37,90.04,100.0,65.72,6.84,12.89,5.96,100.0,11.91,100.0,12.11,49.12,100.0,100.0,4.1,35.94,4.1,21.78,35.84,13.18,91.41,5.76,20.51,50.29,11.91,100.0,87.6,100.0,13.09,75.59,100.0,74.51,25.78,7.62,4.1,72.75,33.89,6.64,37.99,30.96,24.51,12.4,27.93,46.19,69.24,100.0,100.0,72.07,12.21,24.32,68.85,18.55,4.39,43.65,6.74,73.73,44.53,73.83,18.65,75.0,21.58,94.43,4.3,63.96,11.43,100.0,64.94,4.2,100.0,5.08,100.0,9.57,77.05,4.69,10.74,88.38,45.12,57.32,31.64,55.08,29.2,84.77,4.98,33.69,5.18,6.64,100.0,48.83,100.0,100.0,4.39,55.57,56.93,100.0,70.02,12.11,64.06,100.0,62.4,81.35,59.18,48.05,32.71,86.91,88.77,34.47,100.0,21.97,4.3,89.26,60.64,100.0,73.34,100.0,11.91,54.88,82.13,100.0,61.13,100.0,84.18,5.57,100.0,12.6,25.39,100.0,58.2,79.0,75.78,23.44,26.46,12.3,100.0,54.69,4.1,25.49,55.08,32.81,100.0,35.74,59.86,4.98,7.13,100.0,100.0,4.79,11.52,76.76,80.57,8.2,29.59,42.29,54.79,12.5,6.05,5.37,17.68,26.27,73.63,35.06,100.0,75.29,6.54,53.61,100.0,100.0,6.45,34.77,35.45,36.52,100.0,14.36],\"name\":\"Luminosity\"},{\"type\":\"box\",\"y\":[0.0,0.0,0.0,94.34,0.0,92.29,15.43,0.0,0.0,0.0,0.0,0.0,93.55,95.31,0.0,49.71,92.87,0.0,0.0,25.68,94.53,95.12,0.0,0.0,93.26,0.0,0.0,0.0,95.41,0.0,0.0,93.07,0.0,0.0,0.0,0.0,0.0,0.0,0.0,0.0,95.21,95.12,0.0,0.0,0.0,0.0,95.41,0.0,51.56,0.0,43.85,0.0,0.0,85.45,0.0,95.31,0.0,0.0,0.0,0.0,0.0,0.0,0.0,0.0,0.0,0.0,0.0,0.0,0.0,0.0,0.0,0.0,0.0,95.21,0.0,0.0,0.0,0.0,0.0,0.0,0.0,0.0,95.21,33.69,0.0,95.51,96.0,0.0,0.0,0.0,33.89,93.65,0.0,49.22,94.92,94.04,0.0,0.0,93.75,94.82,0.0,95.41,93.65,0.0,0.0,0.0,0.0,0.0,42.38,0.0,0.0,0.0,92.48,0.0,30.86,0.0,0.0,93.65,0.0,0.0,0.0,0.0,95.21,0.0,86.72,0.0,0.0,0.0,43.75,93.85,30.86,0.0,26.07,42.38,94.92,95.61,0.0,94.92,92.38,43.85,0.0,94.92,39.06,0.0,0.0,0.0,0.0,0.0,0.0,0.0,93.07,0.0,0.0,0.0,42.97,0.0,0.0,0.0,0.0,95.41,0.0,0.0,93.36,0.0,0.0,0.0,31.93,0.0,0.0,0.0,4.92,0.0,0.0,49.22,0.0,0.0,0.0,0.0,0.0,0.0,0.0,0.0,29.69,23.24,93.26,0.0,0.0,33.2,0.0,0.0,0.0,0.0,2.44,0.0,0.0,0.0,60.55,95.12,86.04,8.98,91.8,0.0,0.0,0.0,95.21,0.0,95.12,93.55,0.0,0.0,94.73,0.0,0.0,94.43,93.65,0.0,34.28,0.0,0.0,0.0,0.0,0.0,0.0,0.0,0.0,0.0,0.0,0.0,0.1,95.21,94.53,0.0,0.0,0.0,0.0,0.0,0.0,0.0,0.0,0.0,93.46,0.0,0.0,95.31,0.0,0.0,0.0,0.0,0.0,0.0,93.55,95.41,0.0,94.53,0.0,31.15,0.0,0.0,0.0,95.41,95.31,0.0,96.78,0.0,0.0,0.0,0.0,0.0,15.53,0.0,91.31,0.0,0.0,0.0,46.29,49.02,0.0,0.0,0.0,0.0,0.0,0.0,92.58,31.64,76.46,95.21,0.0,0.0,0.0,93.65,0.0,27.73,0.0,0.0,0.0,0.0,0.0,0.0,0.0,94.53,0.0,0.0,0.0,0.0,0.0,0.0,0.0,43.85,0.0,0.0,89.94,93.65,0.0,95.7,0.0,27.44,18.75,95.21,0.0,94.92,0.0,0.0,93.55,93.36,0.0,0.0,0.0,0.0,0.0,94.24,0.0,0.0,0.0,0.0,0.0,0.0,57.81,0.0,0.0,0.0,0.0,0.0,93.55,0.0,49.22,0.0,0.0,95.41,91.21,93.07,0.0,0.0,0.0,68.55,0.0,0.0,0.0,0.0,0.0,0.0,0.0,91.41,93.16,0.0,0.0,77.83,11.72,14.94,16.31,93.55,0.0,0.0,95.41,0.0,0.0,0.0,95.02,0.0,0.0,0.0,11.72,0.0,92.97,0.0,0.0,0.0,0.0,0.0,0.0,71.09,12.5,94.14,0.0,42.97,0.0,0.0,0.0,0.0,0.0,0.0,0.0,32.32,95.02,0.0,0.0,0.0,0.0,0.0,0.0,0.0,49.61,0.0,0.0,91.5,0.0,0.0,0.0,0.0,0.0,0.0,0.0,26.17,38.18,0.0,28.81,94.43,93.26,0.0,0.0,0.0,95.41,93.95,0.0,0.0,0.0,45.9,0.0,0.0,26.95,13.87,0.0,49.12,0.0,0.0,0.0,0.0,0.0,0.0,46.88,0.0,95.31,95.9,94.34,96.48,0.0,0.0,0.0,0.0,94.04,0.0,0.0,0.0,0.0,95.31,0.0,0.0,41.31,0.0,94.04,0.0,0.0,0.0,0.0,0.0,91.7,0.0,94.92,0.0,65.92,95.41,0.0,0.0,0.0,31.84,0.0,0.0,96.48,0.0,95.02,0.0,0.0,93.36,0.0,29.3,0.0,0.0,0.0,0.0,0.0,0.0,48.63,93.75,0.0,0.0,0.0,0.0,93.46,96.09,0.0,0.0,30.57,0.0,0.0,0.0,0.0,0.0,0.0,10.74,0.0,36.72,0.0,70.51,0.0,0.0,0.0,0.0,0.0,0.0,0.0,0.0,0.0,0.0,0.0,0.0,0.0,0.0,0.0,0.0,0.0,42.19,94.34,21.88,0.0,0.0,94.63,0.0,0.0,49.71,0.0,93.46,95.31,0.0,50.68,0.0,94.34,0.0,0.0,0.0,95.41,0.0,0.0,0.0,0.0,12.11,0.0,94.92,92.38,45.9,72.27,0.0,0.0,0.0,95.21,0.0,42.38,0.0,0.0,0.0,50.68,0.0,95.51,0.0,0.0,94.82,0.0,0.0,95.02,0.0,0.0,0.0,93.95,0.0,0.0,93.16,0.0,0.0,0.0,0.0,22.56,0.0,95.12,0.0,0.0,0.0,95.21,92.38,0.0,1.95,0.0,0.0,0.0,43.85,0.0,0.0,0.0,0.0,0.0,0.0,32.42,0.0,95.12,41.31,0.0,0.0,0.0,95.51,0.0,0.0,0.0,94.92,95.21,94.63,43.16],\"name\":\"Infrared\"},{\"type\":\"box\",\"y\":[8.84,154.09,66.87,41.55,400.0,400.0,60.87,12.08,194.26,400.0,88.81,400.0,60.14,194.23,78.02,193.64,400.0,400.0,78.83,57.68,400.0,193.43,400.0,400.0,7.56,7.13,193.75,23.01,6.76,154.09,193.76,400.0,61.91,193.37,57.64,83.96,75.33,50.82,58.82,242.96,400.0,400.0,400.0,125.81,394.32,194.3,400.0,96.48,400.0,17.49,195.19,400.0,60.7,60.02,193.75,400.0,30.7,69.64,60.24,77.05,56.85,66.92,9.84,325.6,24.47,194.64,66.31,400.0,400.0,67.14,35.34,28.38,400.0,400.0,400.0,193.78,193.34,400.0,49.91,71.82,400.0,54.26,400.0,400.0,67.74,400.0,155.75,31.24,64.22,400.0,56.2,61.23,13.86,194.44,193.33,400.0,66.15,153.31,20.09,400.0,400.0,400.0,4.19,154.91,64.25,155.39,400.0,193.84,193.37,73.24,193.84,62.4,42.0,193.4,400.0,400.0,192.26,152.82,400.0,13.73,24.32,193.79,400.0,86.1,5.12,400.0,66.73,193.34,400.0,154.46,61.79,76.37,400.0,194.23,193.4,45.92,72.21,42.46,7.16,52.37,400.0,46.4,400.0,57.68,59.4,154.49,156.15,400.0,60.42,155.38,400.0,11.61,400.0,27.28,237.28,400.0,57.95,59.16,75.56,400.0,10.11,400.0,400.0,75.51,49.1,194.58,60.96,194.3,156.99,61.0,4.28,155.3,55.05,400.0,193.4,155.8,79.72,193.39,195.03,400.0,155.35,54.29,61.05,61.67,46.13,56.12,10.78,400.0,154.13,400.0,400.0,400.0,60.75,400.0,129.92,194.66,400.0,59.09,57.69,56.18,60.46,51.67,14.01,73.87,43.15,193.79,400.0,43.89,400.0,400.0,7.9,75.65,195.93,48.57,400.0,193.73,17.91,194.26,193.69,29.68,19.46,77.67,146.28,322.63,193.75,154.49,73.51,400.0,400.0,21.85,400.0,400.0,61.45,66.92,154.08,18.78,74.86,19.49,317.08,400.0,400.0,21.35,67.0,194.23,170.5,49.57,68.42,61.76,20.44,76.22,400.0,194.16,88.66,60.76,194.64,400.0,56.06,74.18,61.92,400.0,400.0,400.0,155.74,64.68,400.0,88.91,366.69,400.0,400.0,61.42,400.0,318.49,400.0,63.88,57.48,61.88,194.61,60.47,194.25,70.74,400.0,400.0,70.73,60.43,53.76,400.0,350.8,194.64,400.0,60.81,193.83,58.95,193.37,321.3,22.4,107.1,96.35,28.04,154.06,7.96,400.0,400.0,400.0,58.3,28.33,400.0,400.0,195.19,400.0,154.98,56.2,400.0,195.93,153.66,7.48,59.15,59.74,400.0,83.75,193.4,76.97,70.36,400.0,154.04,20.1,400.0,400.0,400.0,8.52,400.0,155.35,400.0,61.46,97.13,400.0,70.2,52.51,194.28,23.32,10.37,154.9,400.0,7.52,82.61,194.44,153.65,400.0,194.55,400.0,19.04,400.0,194.69,71.72,59.97,14.38,49.02,193.73,63.61,22.17,20.8,66.43,9.47,46.56,193.75,194.3,400.0,62.67,58.61,55.94,154.04,75.87,61.12,194.03,75.12,49.92,65.26,193.76,400.0,25.27,78.88,400.0,364.7,400.0,290.37,193.34,194.58,89.89,60.77,400.0,400.0,57.2,6.25,400.0,194.15,400.0,60.46,400.0,78.08,59.49,154.89,400.0,60.4,56.17,193.73,400.0,400.0,400.0,24.33,43.43,67.65,61.57,89.11,193.25,400.0,400.0,301.72,400.0,194.58,400.0,55.43,82.69,57.48,57.5,73.76,61.26,44.79,5.8,75.16,73.86,78.92,194.03,400.0,400.0,400.0,400.0,194.48,82.12,52.13,400.0,400.0,154.51,57.06,195.05,90.17,93.64,400.0,78.93,400.0,400.0,14.8,153.62,152.3,400.0,154.99,79.96,93.85,65.32,195.05,154.89,193.78,153.61,156.23,64.47,41.3,400.0,28.69,59.06,400.0,10.77,13.28,400.0,400.0,400.0,400.0,41.84,155.74,193.4,153.67,400.0,194.55,400.0,66.28,65.73,400.0,400.0,400.0,152.28,343.57,400.0,400.0,193.34,400.0,182.04,57.5,400.0,400.0,348.63,400.0,65.42,154.1,60.05,18.08,400.0,25.62,50.02,65.89,345.92,400.0,64.47,91.58,59.85,382.72,400.0,66.49,15.9,400.0,125.81,55.44,194.31,60.04,194.69,153.16,68.61,154.92,64.98,400.0,65.28,17.1,400.0,16.5,75.81,51.01,59.47,67.24,65.37,6.13,218.91,400.0,9.62,400.0,400.0,57.16,399.49,400.0,19.56,400.0,75.72,193.64,400.0,400.0,400.0,76.43,400.0,400.0,153.63,193.76,400.0,71.52,400.0,8.8,73.78,9.34,9.85,400.0,6.14,400.0,56.79,193.11,152.37,70.24,67.07,66.07,7.1,193.83,193.35,76.89,400.0,66.19,196.29,400.0,400.0,369.19,400.0,400.0,89.71,194.58,400.0,61.42,399.53,193.93,5.11,193.75,79.42,59.14,58.89,66.13,193.75,64.37,400.0,57.4,193.72,25.22,75.63,74.44,69.47,40.68,400.0,54.18,65.67,400.0,70.65,400.0,25.41,59.11,82.07,57.05,34.18,59.21,400.0,193.39,193.43,195.23,193.44,153.22,60.21,6.34,400.0,65.68,400.0,193.33,193.32,65.17,60.86],\"name\":\"Distance\"},{\"type\":\"box\",\"y\":[18,21,11,9,10,8,12,10,19,18,7,19,12,22,11,19,21,9,15,12,8,22,19,10,9,18,15,23,21,21,19,8,11,19,8,10,11,9,8,10,7,7,10,21,14,18,21,10,13,15,19,19,23,12,15,7,23,17,7,10,12,11,21,16,23,15,11,10,23,17,23,23,12,21,10,15,19,10,9,10,10,12,7,8,11,18,11,23,11,23,8,12,10,19,22,8,16,18,10,21,10,21,21,10,11,15,10,18,10,15,19,11,8,18,12,14,18,11,10,11,23,15,11,10,11,10,11,21,12,13,12,10,12,10,8,7,19,7,8,8,8,8,12,8,11,21,10,23,9,18,21,14,8,23,19,23,9,12,11,21,10,19,21,10,9,22,12,10,10,23,19,21,8,10,19,10,10,19,22,8,18,12,12,12,7,12,14,8,18,11,19,10,12,10,19,18,8,21,12,8,12,9,10,10,7,18,8,7,11,9,9,11,19,8,7,22,12,18,10,19,19,10,19,10,22,10,10,19,12,21,21,10,8,11,21,15,19,9,14,23,8,9,10,8,19,9,16,9,8,11,8,22,7,21,22,12,12,11,23,21,21,10,11,16,19,10,10,8,12,11,8,15,10,17,8,12,10,8,19,10,10,9,21,12,8,21,10,18,10,21,19,12,18,14,8,10,10,19,11,8,19,9,23,12,9,11,8,22,11,15,8,8,21,11,18,12,12,21,10,22,19,11,12,13,8,10,19,23,18,10,10,19,11,10,10,11,8,18,19,10,18,8,21,11,22,10,19,22,8,19,9,19,10,12,10,9,10,9,9,9,11,21,7,15,19,18,12,12,10,13,11,23,22,10,12,11,10,9,23,11,13,14,7,10,21,15,7,8,9,8,8,9,11,10,7,8,9,11,8,15,10,12,8,15,9,8,19,23,23,11,10,7,15,7,12,10,7,15,18,12,10,12,10,10,12,7,7,19,16,11,8,21,19,23,10,10,10,9,12,10,15,12,15,10,10,10,11,10,8,15,11,21,7,11,10,10,11,22,21,22,13,10,11,7,11,19,12,10,21,10,12,10,23,12,8,10,22,10,8,8,10,11,10,12,23,10,21,15,8,10,19,7,18,12,10,10,12,23,11,10,8,19,10,23,9,11,7,11,11,10,12,10,15,11,11,19,19,8,19,10,18,13,17,18,11,10,11,11,19,11,11,9,8,18,11,10,14,23,10,8,21,12,16,19,19,8,11,22,23,8,7,11,8,11,11,18,10,10,9,18,16,10,21,10,10,21,12,19,13,11,17,11,8,18,10,10,9,16,10,9,21,14,10,8,10,18,7,8,15,10,13,22,10,8,23,11,18,8,12,11,10,23,19,19,21,8,19,8,11,9,7,8,9,12,10,10,19,23,10,21,8,19,19,21,23,11,12,10,8,8,10,21,12],\"name\":\"Hour of Day\"},{\"type\":\"box\",\"y\":[3,155,124,94,94,94,124,34,63,63,94,155,124,63,216,63,155,124,3,124,94,63,155,94,94,3,63,185,155,155,63,94,124,63,185,94,216,124,185,3,94,94,94,63,3,63,155,94,34,34,63,155,185,124,63,94,185,3,94,94,124,124,155,3,185,63,124,94,185,3,185,185,124,155,216,63,63,94,124,94,94,124,94,185,216,3,34,185,124,185,185,124,3,63,63,94,3,63,63,155,216,155,155,34,124,34,94,63,63,3,63,124,94,63,124,3,63,34,94,124,185,63,34,94,34,216,124,63,124,34,124,94,124,63,63,94,155,94,94,185,185,94,124,185,124,155,34,185,124,34,155,3,185,185,63,185,124,124,216,155,34,155,155,216,124,63,124,63,34,185,155,155,185,185,63,34,94,63,63,185,34,124,124,124,94,124,3,185,34,124,155,94,124,94,63,63,185,155,124,185,124,124,94,94,94,63,94,94,216,124,94,216,63,94,94,63,124,63,63,155,155,216,63,3,63,34,216,155,124,155,155,216,185,124,155,34,155,124,3,185,185,124,216,63,63,124,3,124,185,216,94,63,94,155,63,124,124,216,185,155,155,94,34,3,155,94,3,185,124,124,185,3,94,3,185,124,63,185,63,216,94,124,155,124,185,155,3,63,94,155,63,124,63,3,185,216,94,155,34,94,155,124,185,124,124,216,185,63,124,34,185,185,63,34,3,124,124,155,94,63,155,216,124,34,185,216,155,185,3,63,34,155,124,94,216,124,185,63,155,34,34,185,155,216,63,34,155,63,94,155,124,63,216,124,94,124,63,124,124,124,124,155,94,63,63,3,124,124,185,34,216,185,63,216,124,124,63,124,185,216,34,3,94,3,63,63,94,185,124,185,185,94,216,63,94,185,124,216,185,34,94,124,94,63,124,185,155,185,185,216,185,94,63,94,124,3,94,63,3,124,94,124,185,216,124,94,94,155,3,216,63,155,155,185,94,63,94,124,124,185,34,124,63,94,94,124,216,94,185,34,34,155,94,34,94,94,124,63,155,63,34,34,124,94,124,155,124,216,155,94,124,94,185,124,94,34,63,34,185,63,94,124,216,124,185,94,155,3,94,94,63,94,63,124,216,34,124,185,216,34,185,155,94,185,124,124,94,34,124,94,124,3,63,216,124,155,63,185,63,185,63,34,3,34,124,94,124,124,155,124,216,124,185,3,216,94,3,185,34,185,155,124,3,155,155,185,216,63,185,94,94,216,185,124,34,63,94,3,94,3,3,34,155,185,34,155,124,63,34,216,3,124,94,63,63,94,124,3,63,124,155,3,216,94,94,63,94,185,3,63,34,63,94,94,185,216,63,185,124,124,63,185,155,155,155,94,155,185,124,124,94,185,124,124,94,216,155,185,185,63,63,63,63,155,185,34,124,216,185,63,63,155,124],\"name\":\"Day of Year\"}];\n",
       "            var layout = {\"title\":\"Box plot segmentation\"};\n",
       "            Plotly.newPlot('73bf44aa-d556-4e3e-b84b-a4e774a4f673', data, layout);\n",
       "        \r\n",
       "});\r\n",
       "};\r\n",
       "if ((typeof(requirejs) !==  typeof(Function)) || (typeof(requirejs.config) !== typeof(Function))) { \r\n",
       "    var script = document.createElement(\"script\"); \r\n",
       "    script.setAttribute(\"src\", \"https://cdnjs.cloudflare.com/ajax/libs/require.js/2.3.6/require.min.js\"); \r\n",
       "    script.onload = function(){\r\n",
       "        renderPlotly();\r\n",
       "    };\r\n",
       "    document.getElementsByTagName(\"head\")[0].appendChild(script); \r\n",
       "}\r\n",
       "else {\r\n",
       "    renderPlotly();\r\n",
       "}\r\n",
       "</script>\r\n"
      ]
     },
     "metadata": {},
     "output_type": "display_data"
    }
   ],
   "source": [
    "var segmentationDiagram = Chart.Plot(new[] {\n",
    "    new Graph.Box { y = temperatures, name = \"Temperature\" },\n",
    "    new Graph.Box { y = luminosities, name = \"Luminosity\" },\n",
    "    new Graph.Box { y = infrareds, name = \"Infrared\" },\n",
    "    new Graph.Box { y = distances, name = \"Distance\" },\n",
    "    new Graph.Box { y = hours, name = \"Hour of Day\" },\n",
    "    new Graph.Box { y = days, name = \"Day of Year\" }\n",
    "});\n",
    "\n",
    "var layout = new Layout.Layout()\n",
    "{\n",
    "    title = \"Box plot segmentation\"\n",
    "};\n",
    "segmentationDiagram.WithLayout(layout);\n",
    "\n",
    "display(segmentationDiagram);"
   ]
  },
  {
   "cell_type": "markdown",
   "metadata": {},
   "source": [
    "#### Correlation matrix"
   ]
  },
  {
   "cell_type": "code",
   "execution_count": 17,
   "metadata": {},
   "outputs": [
    {
     "data": {
      "text/html": [
       "Installed package MathNet.Numerics version 4.11.0"
      ]
     },
     "metadata": {},
     "output_type": "display_data"
    }
   ],
   "source": [
    "#r \"nuget:MathNet.Numerics\""
   ]
  },
  {
   "cell_type": "markdown",
   "metadata": {},
   "source": [
    "#### Load helpers (see file Helpers.cs)"
   ]
  },
  {
   "cell_type": "code",
   "execution_count": 18,
   "metadata": {},
   "outputs": [],
   "source": [
    "#load \"C:\\Users\\dcost\\source\\repos\\SmartFireAlarm\\SmartFireAlarm\\Jupyter\\Helpers.cs\""
   ]
  },
  {
   "cell_type": "code",
   "execution_count": 19,
   "metadata": {},
   "outputs": [
    {
     "data": {
      "text/html": [
       "<div id=\"e98e5d93-f164-440b-9d6a-a66465fa9b90\" style=\"width: 900px; height: 500px;\"></div>\r\n",
       "<script type=\"text/javascript\">\r\n",
       "\r\n",
       "var renderPlotly = function() {\r\n",
       "    var xplotRequire = requirejs.config({context:'xplot-3.0.1',paths:{plotly:'https://cdn.plot.ly/plotly-1.49.2.min'}});\r\n",
       "    xplotRequire(['plotly'], function(Plotly) {\r\n",
       "\n",
       "            var data = [{\"type\":\"heatmap\",\"z\":[[0.013510473892923754,0.0021818843580179623,0.00770005049549575,0.4597171190586256,0.48681622861117535,1.0],[-0.26044121504192,0.044568339880474955,0.01159003999452998,0.3814070169144242,1.0,0.48681622861117535],[-0.05964550619176604,-0.058632648772714874,0.07973791419837234,1.0,0.3814070169144242,0.4597171190586256],[0.003777216310648385,0.009008807493699653,1.0,0.07973791419837234,0.01159003999452998,0.00770005049549575],[-0.025422177257598457,1.0,0.009008807493699653,-0.058632648772714874,0.044568339880474955,0.0021818843580179623],[1.0,-0.025422177257598457,0.003777216310648385,-0.05964550619176604,-0.26044121504192,0.013510473892923754]],\"x\":[\"Temperature\",\"Luminosity\",\"Infrared\",\"Distance\",\"Hour\",\"Day\"],\"y\":[\"Day\",\"Hour\",\"Distance\",\"Infrared\",\"Luminosity\",\"Temperature\"],\"zmin\":-1.0,\"zmax\":1.0}];\n",
       "            var layout = {\"title\":\"Features Correlation Matrix\",\"autosize\":\"true\",\"margin\":{\"l\":90.0}};\n",
       "            Plotly.newPlot('e98e5d93-f164-440b-9d6a-a66465fa9b90', data, layout);\n",
       "        \r\n",
       "});\r\n",
       "};\r\n",
       "if ((typeof(requirejs) !==  typeof(Function)) || (typeof(requirejs.config) !== typeof(Function))) { \r\n",
       "    var script = document.createElement(\"script\"); \r\n",
       "    script.setAttribute(\"src\", \"https://cdnjs.cloudflare.com/ajax/libs/require.js/2.3.6/require.min.js\"); \r\n",
       "    script.onload = function(){\r\n",
       "        renderPlotly();\r\n",
       "    };\r\n",
       "    document.getElementsByTagName(\"head\")[0].appendChild(script); \r\n",
       "}\r\n",
       "else {\r\n",
       "    renderPlotly();\r\n",
       "}\r\n",
       "</script>\r\n"
      ]
     },
     "metadata": {},
     "output_type": "display_data"
    }
   ],
   "source": [
    "var featureColumns = new string[] { \"Temperature\", \"Luminosity\", \"Infrared\", \"Distance\", \"Hour\", \"Day\" };\n",
    "\n",
    "var featureMatrix = new List<List<double>>();\n",
    "\n",
    "featureMatrix.Add(temperatures.Select(Convert.ToDouble).ToList());\n",
    "featureMatrix.Add(luminosities.Select(Convert.ToDouble).ToList());\n",
    "featureMatrix.Add(infrareds.Select(Convert.ToDouble).ToList());\n",
    "featureMatrix.Add(distances.Select(Convert.ToDouble).ToList());\n",
    "featureMatrix.Add(hours.Select(Convert.ToDouble).ToList());\n",
    "featureMatrix.Add(days.Select(Convert.ToDouble).ToList());\n",
    "\n",
    "var correlationMatrix = Chart.Plot(\n",
    "    new Graph.Heatmap \n",
    "    {\n",
    "        x = featureColumns,\n",
    "        y = featureColumns.Reverse(),\n",
    "        z = Helpers.GetPearsonCorrelation(featureMatrix),\n",
    "        zmin = -1,\n",
    "        zmax = 1\n",
    "    }\n",
    ");\n",
    "\n",
    "var layout = new Layout.Layout()\n",
    "{\n",
    "    autosize = \"true\", \n",
    "    margin =  new Graph.Margin{ l = 90 }, // fix left margin to accomodate longer labels\n",
    "    title = \"Features Correlation Matrix\"\n",
    "};\n",
    "correlationMatrix.WithLayout(layout);\n",
    "display(correlationMatrix);"
   ]
  },
  {
   "cell_type": "markdown",
   "metadata": {},
   "source": [
    "# 2. PREPROCESSING PIPELINE\n",
    "> Map value (string) to key (number)   \n",
    "> Custom mapping  \n",
    "> Concatenate features  \n",
    "> Normalize features  \n",
    "> Drop unused columns "
   ]
  },
  {
   "cell_type": "markdown",
   "metadata": {},
   "source": [
    "#### Selected features for building the model "
   ]
  },
  {
   "cell_type": "code",
   "execution_count": 20,
   "metadata": {},
   "outputs": [],
   "source": [
    "var featureColumns = new[] { \"Temperature\", \"Luminosity\", \"Infrared\", \"Distance\", \"Hour\", \"Day\" };"
   ]
  },
  {
   "cell_type": "markdown",
   "metadata": {},
   "source": [
    "#### Build the preprocessing pipeline"
   ]
  },
  {
   "cell_type": "code",
   "execution_count": 21,
   "metadata": {},
   "outputs": [],
   "source": [
    "var preprocessingPipeline = mlContext.Transforms.Conversion.MapValueToKey(\"Label\")\n",
    "    .Append(mlContext.Transforms.CustomMapping<CustomInputRow, CustomOutputRow>\n",
    "        (CustomMappings.IncomeMapping, nameof(CustomMappings.IncomeMapping)))\n",
    "    .Append(mlContext.Transforms.Concatenate(\"Features\", featureColumns))\n",
    "    .Append(mlContext.Transforms.NormalizeMinMax(\"Features\"));"
   ]
  },
  {
   "cell_type": "markdown",
   "metadata": {},
   "source": [
    "#### Box plot segmentation for normalized data"
   ]
  },
  {
   "cell_type": "code",
   "execution_count": 22,
   "metadata": {},
   "outputs": [],
   "source": [
    "var normalizedData = preprocessingPipeline.Fit(trainingData).Transform(trainingData);\n",
    "var normalizedFeatures = normalizedData.GetColumn<float[]>(\"Features\").ToArray();\n",
    "\n",
    "var normalizedTemperatures = normalizedFeatures.Select(f => f[0]);\n",
    "var normalizedLuminosities = normalizedFeatures.Select(f => f[1]);\n",
    "var normalizedInfrareds = normalizedFeatures.Select(f => f[2]);\n",
    "var normalizedDistances = normalizedFeatures.Select(f => f[3]);\n",
    "var normalizedHours = normalizedFeatures.Select(f => f[4]);\n",
    "var normalizedDays = normalizedFeatures.Select(f => f[5]);"
   ]
  },
  {
   "cell_type": "code",
   "execution_count": 23,
   "metadata": {},
   "outputs": [
    {
     "data": {
      "text/html": [
       "<div id=\"7088b00e-e1fb-4a38-9b38-3cecb0b4016c\" style=\"width: 900px; height: 500px;\"></div>\r\n",
       "<script type=\"text/javascript\">\r\n",
       "\r\n",
       "var renderPlotly = function() {\r\n",
       "    var xplotRequire = requirejs.config({context:'xplot-3.0.1',paths:{plotly:'https://cdn.plot.ly/plotly-1.49.2.min'}});\r\n",
       "    xplotRequire(['plotly'], function(Plotly) {\r\n",
       "\n",
       "            var data = [{\"type\":\"box\",\"y\":[0.15786795,0.15239792,0.2067167,0.30097952,0.1595853,0.3563796,0.20468135,0.14807278,0.17389646,0.15754993,0.1595853,0.20468135,0.20468135,0.1595853,0.20468135,0.59820634,0.23540261,0.2067167,0.15754993,0.19234194,0.24157232,0.16162066,0.20468135,0.1595853,0.31128356,0.1535428,0.15545097,0.19851165,0.23743801,0.15029894,0.17389646,0.42602727,0.20264599,0.17389646,0.20468135,0.1595853,0.20468135,0.20468135,0.19851165,0.15754993,0.3727261,0.32355934,0.15754993,0.17389646,0.14934486,0.17599542,0.23336725,0.1595853,0.16779035,0.15443328,0.73145914,0.20468135,0.19851165,0.19234194,0.15545097,0.3563796,0.2067167,0.15545097,0.15754993,0.1595853,0.20468135,0.2067167,0.15990332,0.15138023,0.2067167,0.15545097,0.2067167,0.1595853,0.19851165,0.1534156,0.2067167,0.20264599,0.23133188,0.23133188,0.20468135,0.15545097,0.17599542,0.1595853,0.20468135,0.1595853,0.15754993,0.20875207,0.34200484,0.2067167,0.20468135,0.1646737,0.40739095,0.20468135,0.2067167,0.20264599,0.2067167,0.20468135,0.15138023,0.6966035,0.1595853,0.22312684,0.15545097,0.17389646,0.19647628,0.9753849,0.20468135,0.21288641,0.65150744,0.15665945,0.2067167,0.15239792,0.1595853,0.17389646,0.56131536,0.14934486,0.17389646,0.2067167,0.5777255,0.17599542,0.20468135,0.15138023,0.17389646,0.5777255,0.15754993,0.20468135,0.19647628,0.15545097,0.40739095,0.1595853,0.40739095,0.20468135,0.2067167,0.17599542,0.20468135,0.5552093,0.2067167,0.1595853,0.19030659,0.604376,0.1595853,0.641267,0.20468135,0.35428065,0.21695714,0.2067167,0.19851165,0.23133188,0.19234194,0.20054701,0.2620532,0.16301997,0.14807278,0.19851165,0.2067167,0.15029894,0.5674851,0.14934486,0.20054701,0.20264599,0.63306195,0.2067167,0.2067167,0.2067167,0.20468135,0.28666836,0.14807278,0.15812239,0.2067167,0.20468135,0.2067167,0.15754993,0.19030659,0.17389646,0.14807278,0.20468135,0.6945681,0.15029894,0.19234194,0.20468135,0.17599542,0.14807278,0.1595853,0.17599542,0.15754993,0.20054701,0.15029894,0.20875207,0.19030659,0.19234194,0.30511388,0.33583513,0.15545097,0.19234194,0.15029894,0.2189925,0.20468135,0.1595853,0.20468135,0.1595853,0.17389646,0.15545097,0.19234194,0.23133188,0.20468135,0.2067167,0.19234194,0.2067167,0.16162066,0.1595853,0.38296655,0.15545097,0.24774203,0.21492177,0.20468135,0.20468135,0.6064114,0.20468135,0.17389646,0.30511388,0.23133188,0.15545097,0.19030659,0.17389646,0.15545097,0.20468135,0.20468135,0.20468135,0.17389646,0.15754993,0.15545097,0.15646864,0.20468135,0.20468135,0.19234194,0.15506932,0.23540261,0.20468135,0.19851165,0.2067167,0.15443328,0.18420048,0.20468135,0.20468135,0.1534156,0.19851165,0.19234194,0.2067167,0.20264599,0.1595853,0.17389646,0.2067167,0.15545097,0.20468135,0.19851165,0.20468135,0.22312684,0.15754993,0.1595853,1.0,0.15545097,0.20468135,0.2067167,0.20468135,0.19851165,0.5654497,0.22719757,0.1595853,0.40885383,0.15754993,0.15583259,0.15754993,0.15545097,0.20468135,0.19234194,0.20264599,0.2067167,0.14934486,0.1595853,0.14934486,0.19234194,0.19234194,0.15545097,0.19851165,0.17389646,0.20468135,0.1595853,0.2067167,0.23336725,0.19030659,0.2067167,0.2067167,0.1534156,0.15545097,0.15545097,0.5203536,0.17389646,0.19234194,0.17389646,0.1534156,0.19851165,0.20468135,0.1595853,0.20468135,0.15029894,0.20468135,0.2067167,0.21695714,0.2067167,0.2067167,0.20468135,0.20468135,0.19647628,0.73145914,0.2067167,0.15239792,0.2067167,0.19234194,0.17389646,0.41317898,0.1535428,0.19234194,0.20468135,0.21078743,0.1595853,0.1595853,0.20468135,0.20468135,0.20468135,0.16982573,0.20264599,0.20468135,0.20468135,0.19851165,0.1535428,0.19647628,0.15665945,0.20468135,0.2189925,0.1595853,0.20468135,0.20468135,0.2067167,0.17599542,0.20468135,0.14807278,0.15029894,0.19851165,0.23133188,0.20468135,0.6966035,0.15665945,0.20468135,0.1595853,0.321524,0.1646737,0.2067167,0.17599542,0.20468135,0.20468135,0.16162066,0.2067167,0.15545097,0.20468135,0.20468135,0.20468135,0.2067167,0.6125811,0.23133188,0.15545097,0.17599542,0.1646737,0.19234194,0.19851165,0.20468135,0.16779035,0.20468135,0.20264599,0.16162066,0.20468135,0.43016154,0.2067167,0.1595853,0.2067167,0.20264599,0.20468135,0.16779035,0.1534156,0.41375145,0.15138023,0.17599542,0.15754993,0.15754993,0.20264599,0.2067167,0.2067167,0.19234194,0.52645975,0.20468135,0.6084468,0.1595853,0.19851165,0.2067167,0.20468135,0.20054701,0.15239792,0.1595853,0.19234194,0.3133189,0.15545097,0.20468135,0.19851165,0.20468135,0.19647628,0.20468135,0.20468135,0.20468135,0.15545097,0.1534156,0.22312684,0.2067167,0.15754993,0.15754993,0.15545097,0.15545097,0.21078743,0.1595853,0.18827122,0.19234194,0.20468135,0.20468135,0.21695714,0.27229363,0.20264599,0.14934486,0.20468135,0.16162066,0.2189925,0.20468135,0.20054701,0.15754993,0.64743674,0.1595853,0.20468135,0.20468135,0.19234194,0.15239792,0.19234194,0.1534156,0.1595853,0.1595853,0.2067167,0.20468135,0.15545097,0.19234194,0.14807278,0.4506424,0.15443328,0.47112328,0.40948987,0.1595853,0.16162066,0.2067167,0.1534156,0.15506932,0.15545097,0.15462409,0.15665945,0.2067167,0.48753342,0.20468135,0.20468135,0.20468135,0.2067167,0.22109146,0.16162066,0.2969088,0.1595853,0.20264599,0.20468135,0.22719757,0.15665945,0.1595853,0.15665945,0.19234194,0.1595853,0.1595853,0.2067167,0.20468135,0.19234194,0.20468135,0.1595853,0.16263834,0.14934486,0.47525764,0.1595853,0.17599542,0.48753342,0.17803079,0.19444092,0.20468135,0.15665945,0.2067167,0.19851165,0.20468135,0.15462409,0.20468135,0.1646737,0.15754993,0.20264599,0.20468135,0.2067167,0.4650172,0.41292456,0.2067167,0.1595853,0.19234194,0.15754993,0.15754993,0.20468135,0.2067167,0.20468135,0.17389646,0.19234194,0.17389646,0.19234194,0.17599542,0.16779035,0.15754993,0.15029894,0.2067167,0.16162066,0.2067167,0.2067167,0.20468135,0.20468135,0.20468135,0.3624857,0.20264599,0.1534156,0.20468135,0.15754993,0.15754993,0.20264599,0.14807278,0.19234194,0.20468135,0.19234194,0.14934486,0.20468135,0.16034855,0.19234194,0.20468135,0.59820634,0.2067167,0.5182547,0.32355934,0.20468135,0.19234194,0.2067167,0.6248569,0.17389646,0.1595853,0.15754993,0.5736548,0.1535428,0.15754993,0.15239792,0.16422847,0.19234194,0.14807278,0.284633,0.2067167,0.61461645,0.16779035,0.20468135,0.15754993,0.2067167,0.3911716,0.17389646,0.5654497,0.1595853,0.2067167,0.15754993,0.6248569,0.20468135,0.40147564,0.14934486,0.20468135,0.35428065,0.1595853,0.15545097,0.20875207,0.20468135,0.14934486,0.17389646,0.16779035,0.15545097,0.15754993,0.41578683,0.2067167,0.20468135,0.15545097,0.19851165,0.19234194,0.33583513,0.1595853,0.20054701,0.20264599,0.20468135,0.23336725,0.54490525,0.20468135,0.19234194,0.2067167,0.20468135,0.15754993,0.20468135,0.20468135,0.2067167,0.15754993,0.20468135,0.20468135,0.20468135,0.19234194,0.17599542,0.16162066,0.84213203,0.17389646,0.15443328,0.20264599,0.53879917,0.2067167,0.20468135,0.19234194,0.1595853,0.16162066,0.4813637,0.19030659],\"name\":\"Temperature\"},{\"type\":\"box\",\"y\":[0.5049,0.040999997,0.72269994,1.0,0.12109999,1.0,0.1172,0.45509997,0.70309997,0.18549998,0.12789999,0.0586,0.27049997,0.3516,0.0508,1.0,1.0,1.0,0.6094,0.2852,1.0,0.3506,0.053699996,0.1191,1.0,1.0,0.2656,0.32419997,1.0,0.040999997,0.70019996,1.0,0.5635,0.7148,1.0,0.1191,0.044899996,0.5205,0.7783,0.6396,1.0,1.0,0.1191,0.73730004,0.83589995,0.7617,1.0,0.122999996,0.21,0.1445,1.0,0.0625,0.4883,0.6416,0.26459998,1.0,0.2832,0.9561,0.125,0.1182,0.39549997,1.0,0.49319997,0.8867,0.8301,0.25489998,0.8516,0.125,0.63769996,0.84769994,0.5674,0.6016,1.0,1.0,0.043899998,0.2588,0.73050004,0.1104,0.3711,0.1201,0.125,0.89059997,1.0,0.2744,0.040999997,0.3418,0.97459996,0.3223,0.7979,0.66800004,0.25,0.2285,0.6562,1.0,0.3545,1.0,0.84769994,0.70699996,0.24409999,1.0,0.0586,1.0,1.0,0.041999996,0.73139995,0.0771,0.12109999,0.7354,1.0,0.95309997,0.7354,0.8583999,1.0,0.73239994,0.35349998,0.6191,0.71879995,1.0,0.1182,0.7148,0.73440003,0.2588,0.8232,0.122999996,0.66800004,0.061499998,0.72069997,0.75589997,0.31739998,1.0,0.1611,0.126,0.30179998,1.0,0.35939997,1.0,0.045900002,1.0,1.0,0.2852,0.6914,1.0,0.291,0.78029996,1.0,0.041999996,0.5557,0.70699996,0.8828,0.040999997,1.0,0.9033,0.71089995,0.6875,1.0,0.36819997,0.74410003,0.54389995,0.056599997,1.0,0.60249996,0.0703,1.0,0.043899998,0.9414,0.26459998,0.3008,0.7401999,0.54099995,0.41599998,1.0,0.041999996,0.542,0.3008,0.73239994,0.26459998,0.1201,0.73629993,0.2559,0.7158,0.0547,0.6455,0.23629999,0.3389,1.0,1.0,1.0,0.27049997,0.040999997,1.0,0.061499998,0.12109999,0.0859,0.12109999,0.73629993,0.2598,0.29299998,1.0,0.35939997,0.28809997,0.2197,0.044899996,0.1182,0.12109999,1.0,0.2588,1.0,1.0,0.0625,0.54389995,1.0,0.049799997,0.72949994,1.0,1.0,0.26459998,0.33009997,0.70309997,0.2578,0.0732,0.049799997,0.0586,0.7461,0.6914,0.2656,0.0605,0.049799997,0.0488,0.3164,0.19729999,1.0,0.1455,0.875,0.7393,0.063499995,0.0654,0.044899996,0.97559994,0.79489994,0.34669998,0.6396,0.59569997,0.041999996,0.3516,0.7197,0.34669998,0.8955,0.5781,0.749,0.0625,1.0,0.36619997,0.1289,1.0,0.2598,0.25489998,1.0,0.0605,0.5908,1.0,1.0,0.12399999,1.0,0.833,0.081099994,0.1143,0.6758,0.5586,0.1172,0.6006,0.1934,0.876,0.12109999,0.8369,0.2617,0.1113,0.2568,0.0547,0.72269994,0.0596,0.12399999,0.5703,1.0,0.2539,0.126,1.0,0.6914,0.25489998,0.1172,1.0,0.7333999,0.44529998,0.7148,0.5479,0.5869,0.18159999,0.122099996,0.049799997,0.040999997,1.0,0.045900002,1.0,0.7266,0.8369,0.6846,0.044899996,0.74410003,1.0,0.8633,0.1064,0.22749999,0.417,0.72949994,1.0,1.0,0.2383,0.125,1.0,0.1191,0.3486,0.0664,0.0596,0.18459998,0.19139999,1.0,0.063499995,0.0469,0.3799,0.5029,0.2686,0.040999997,0.0703,1.0,0.1299,0.0664,0.7354,0.50879997,0.71779996,0.069299996,0.6162,0.043,0.5664,1.0,0.0654,1.0,0.041999996,0.063499995,0.3584,1.0,0.2783,0.7578,0.75,0.041999996,0.1504,0.113299996,0.1943,0.25489998,0.5537,0.4824,0.582,0.8583999,1.0,1.0,0.25489998,0.7617,0.249,0.35939997,0.3633,0.38959998,0.22749999,0.0469,0.4854,0.36519998,0.0664,1.0,0.79690003,0.3574,1.0,0.85059994,0.057600003,0.18360001,1.0,1.0,0.66410005,0.73050004,0.26459998,0.1396,0.6846,0.95309997,0.3789,0.41889998,1.0,0.0488,1.0,0.12399999,0.6016,0.88379997,0.0654,0.6807,0.090799995,0.122999996,0.3135,1.0,0.26459998,0.3311,0.72269994,0.052699998,0.5244,0.5,0.043,0.2979,0.126,0.249,1.0,0.5078,0.64059997,0.1748,0.2539,0.8026999,1.0,0.1094,0.100600004,0.3096,0.0664,0.2461,1.0,1.0,0.0469,0.93160003,0.049799997,0.36519998,1.0,0.0684,0.8672,0.122099996,1.0,0.12109999,0.543,0.35639998,0.4131,0.08979999,0.1025,0.2588,0.122099996,0.113299996,0.64839995,0.0605,0.12399999,0.2969,0.090799995,1.0,1.0,1.0,1.0,0.1201,0.0928,0.98139995,0.2588,0.18259999,0.2588,0.1875,0.053699996,0.9004,1.0,0.6572,0.0684,0.1289,0.0596,1.0,0.1191,1.0,0.12109999,0.49119997,1.0,1.0,0.040999997,0.35939997,0.040999997,0.2178,0.3584,0.1318,0.9141,0.057600003,0.2051,0.5029,0.1191,1.0,0.876,1.0,0.1309,0.75589997,1.0,0.7451,0.2578,0.07619999,0.040999997,0.72749996,0.3389,0.0664,0.3799,0.3096,0.24509999,0.12399999,0.2793,0.46189997,0.6924,1.0,1.0,0.72069997,0.122099996,0.24319999,0.6885,0.18549998,0.043899998,0.4365,0.06739999,0.73730004,0.44529998,0.7383,0.1865,0.75,0.21579999,0.9443,0.043,0.6396,0.1143,1.0,0.6494,0.041999996,1.0,0.0508,1.0,0.095699996,0.7705,0.0469,0.10739999,0.88379997,0.45119998,0.5732,0.3164,0.5508,0.292,0.84769994,0.049799997,0.33689997,0.051799998,0.0664,1.0,0.4883,1.0,1.0,0.043899998,0.5557,0.5693,1.0,0.70019996,0.12109999,0.64059997,1.0,0.624,0.8135,0.5918,0.48049998,0.32709998,0.86910003,0.88769996,0.3447,1.0,0.2197,0.043,0.8926,0.60639995,1.0,0.7333999,1.0,0.1191,0.5488,0.82129997,1.0,0.6113,1.0,0.8418,0.0557,1.0,0.126,0.2539,1.0,0.582,0.78999996,0.7578,0.2344,0.26459998,0.122999996,1.0,0.5469,0.040999997,0.25489998,0.5508,0.3281,1.0,0.3574,0.5986,0.049799997,0.0713,1.0,1.0,0.0479,0.115200005,0.7676,0.8057,0.081999995,0.2959,0.4229,0.5479,0.125,0.0605,0.053699996,0.1768,0.2627,0.73629993,0.3506,1.0,0.7529,0.0654,0.5361,1.0,1.0,0.0645,0.3477,0.3545,0.36519998,1.0,0.14359999],\"name\":\"Luminosity\"},{\"type\":\"box\",\"y\":[0.0,0.0,0.0,0.9747882,0.0,0.9536062,0.15943378,0.0,0.0,0.0,0.0,0.0,0.9666254,0.98481095,0.0,0.5136392,0.95959914,0.0,0.0,0.26534408,0.97675145,0.98284775,0.0,0.0,0.9636289,0.0,0.0,0.0,0.98584425,0.0,0.0,0.9616657,0.0,0.0,0.0,0.0,0.0,0.0,0.0,0.0,0.9837777,0.98284775,0.0,0.0,0.0,0.0,0.98584425,0.0,0.5327547,0.0,0.45308948,0.0,0.0,0.88293034,0.0,0.98481095,0.0,0.0,0.0,0.0,0.0,0.0,0.0,0.0,0.0,0.0,0.0,0.0,0.0,0.0,0.0,0.0,0.0,0.9837777,0.0,0.0,0.0,0.0,0.0,0.0,0.0,0.0,0.9837777,0.34810913,0.0,0.9868775,0.9919405,0.0,0.0,0.0,0.35017568,0.96765864,0.0,0.5085762,0.9807812,0.9716884,0.0,0.0,0.96869195,0.97974795,0.0,0.98584425,0.96765864,0.0,0.0,0.0,0.0,0.0,0.43790042,0.0,0.0,0.0,0.9555694,0.0,0.31886756,0.0,0.0,0.96765864,0.0,0.0,0.0,0.0,0.9837777,0.0,0.89605296,0.0,0.0,0.0,0.45205623,0.9697252,0.31886756,0.0,0.26937383,0.43790042,0.9807812,0.98791075,0.0,0.9807812,0.9545361,0.45308948,0.0,0.9807812,0.4035958,0.0,0.0,0.0,0.0,0.0,0.0,0.0,0.9616657,0.0,0.0,0.0,0.44399673,0.0,0.0,0.0,0.0,0.98584425,0.0,0.0,0.9646622,0.0,0.0,0.0,0.32992357,0.0,0.0,0.0,0.050836954,0.0,0.0,0.5085762,0.0,0.0,0.0,0.0,0.0,0.0,0.0,0.0,0.30677828,0.24013227,0.9636289,0.0,0.0,0.3430461,0.0,0.0,0.0,0.0,0.025211822,0.0,0.0,0.0,0.6256458,0.98284775,0.8890267,0.092787765,0.9485432,0.0,0.0,0.0,0.9837777,0.0,0.98284775,0.9666254,0.0,0.0,0.978818,0.0,0.0,0.9757182,0.96765864,0.0,0.35420543,0.0,0.0,0.0,0.0,0.0,0.0,0.0,0.0,0.0,0.0,0.0,0.0010332714,0.9837777,0.97675145,0.0,0.0,0.0,0.0,0.0,0.0,0.0,0.0,0.0,0.96569544,0.0,0.0,0.98481095,0.0,0.0,0.0,0.0,0.0,0.0,0.9666254,0.98584425,0.0,0.97675145,0.0,0.32186404,0.0,0.0,0.0,0.98584425,0.98481095,0.0,1.0,0.0,0.0,0.0,0.0,0.0,0.16046704,0.0,0.9434801,0.0,0.0,0.0,0.47830135,0.50650966,0.0,0.0,0.0,0.0,0.0,0.0,0.9566027,0.32692707,0.7900393,0.9837777,0.0,0.0,0.0,0.96765864,0.0,0.28652614,0.0,0.0,0.0,0.0,0.0,0.0,0.0,0.97675145,0.0,0.0,0.0,0.0,0.0,0.0,0.0,0.45308948,0.0,0.0,0.9293243,0.96765864,0.0,0.9888407,0.0,0.28352967,0.19373839,0.9837777,0.0,0.9807812,0.0,0.0,0.9666254,0.9646622,0.0,0.0,0.0,0.0,0.0,0.97375494,0.0,0.0,0.0,0.0,0.0,0.0,0.5973342,0.0,0.0,0.0,0.0,0.0,0.9666254,0.0,0.5085762,0.0,0.0,0.98584425,0.9424468,0.9616657,0.0,0.0,0.0,0.70830756,0.0,0.0,0.0,0.0,0.0,0.0,0.0,0.9445134,0.96259564,0.0,0.0,0.80419517,0.12109941,0.15437074,0.16852656,0.9666254,0.0,0.0,0.98584425,0.0,0.0,0.0,0.98181444,0.0,0.0,0.0,0.12109941,0.0,0.96063244,0.0,0.0,0.0,0.0,0.0,0.0,0.73455256,0.12915893,0.9727217,0.0,0.44399673,0.0,0.0,0.0,0.0,0.0,0.0,0.0,0.33395332,0.98181444,0.0,0.0,0.0,0.0,0.0,0.0,0.0,0.51260597,0.0,0.0,0.94544333,0.0,0.0,0.0,0.0,0.0,0.0,0.0,0.2704071,0.39450303,0.0,0.29768547,0.9757182,0.9636289,0.0,0.0,0.0,0.98584425,0.97075844,0.0,0.0,0.0,0.4742716,0.0,0.0,0.27846664,0.14331473,0.0,0.5075429,0.0,0.0,0.0,0.0,0.0,0.0,0.48439765,0.0,0.98481095,0.99090725,0.9747882,0.99690026,0.0,0.0,0.0,0.0,0.9716884,0.0,0.0,0.0,0.0,0.98481095,0.0,0.0,0.42684442,0.0,0.9716884,0.0,0.0,0.0,0.0,0.0,0.9475098,0.0,0.9807812,0.0,0.6811325,0.98584425,0.0,0.0,0.0,0.32899362,0.0,0.0,0.99690026,0.0,0.98181444,0.0,0.0,0.9646622,0.0,0.3027485,0.0,0.0,0.0,0.0,0.0,0.0,0.5024799,0.96869195,0.0,0.0,0.0,0.0,0.96569544,0.99287045,0.0,0.0,0.31587106,0.0,0.0,0.0,0.0,0.0,0.0,0.11097334,0.0,0.37941727,0.0,0.7285597,0.0,0.0,0.0,0.0,0.0,0.0,0.0,0.0,0.0,0.0,0.0,0.0,0.0,0.0,0.0,0.0,0.0,0.4359372,0.9747882,0.22607978,0.0,0.0,0.9777847,0.0,0.0,0.5136392,0.0,0.96569544,0.98481095,0.0,0.5236619,0.0,0.9747882,0.0,0.0,0.0,0.98584425,0.0,0.0,0.0,0.0,0.12512916,0.0,0.9807812,0.9545361,0.4742716,0.74674517,0.0,0.0,0.0,0.9837777,0.0,0.43790042,0.0,0.0,0.0,0.5236619,0.0,0.9868775,0.0,0.0,0.97974795,0.0,0.0,0.98181444,0.0,0.0,0.0,0.97075844,0.0,0.0,0.96259564,0.0,0.0,0.0,0.0,0.23310602,0.0,0.98284775,0.0,0.0,0.0,0.9837777,0.9545361,0.0,0.020148793,0.0,0.0,0.0,0.45308948,0.0,0.0,0.0,0.0,0.0,0.0,0.33498657,0.0,0.98284775,0.42684442,0.0,0.0,0.0,0.9868775,0.0,0.0,0.0,0.9807812,0.9837777,0.9777847,0.44595993],\"name\":\"Infrared\"},{\"type\":\"box\",\"y\":[0.0221,0.38522497,0.16717501,0.103875,1.0,1.0,0.152175,0.030199999,0.48564997,1.0,0.22202499,1.0,0.15034999,0.485575,0.19504999,0.48409998,1.0,1.0,0.197075,0.1442,1.0,0.48357496,1.0,1.0,0.0189,0.017825,0.484375,0.057524998,0.016900001,0.38522497,0.48439997,1.0,0.154775,0.483425,0.1441,0.20989999,0.188325,0.12705,0.14705,0.6074,1.0,1.0,1.0,0.31452498,0.98579997,0.48575,1.0,0.2412,1.0,0.043725,0.487975,1.0,0.15175,0.15005,0.484375,1.0,0.07675,0.1741,0.1506,0.192625,0.142125,0.16729999,0.0246,0.814,0.061174996,0.48659998,0.16577499,1.0,1.0,0.16784999,0.08835,0.070949994,1.0,1.0,1.0,0.48444998,0.48334998,1.0,0.124775,0.17954999,1.0,0.13565,1.0,1.0,0.16935,1.0,0.389375,0.078099996,0.16055,1.0,0.1405,0.153075,0.034649998,0.4861,0.483325,1.0,0.165375,0.38327497,0.050225,1.0,1.0,1.0,0.010475,0.387275,0.160625,0.388475,1.0,0.48459998,0.483425,0.18309999,0.48459998,0.156,0.105,0.48349997,1.0,1.0,0.48064998,0.38205,1.0,0.034325,0.060799997,0.484475,1.0,0.21524999,0.0128,1.0,0.16682501,0.48334998,1.0,0.38615,0.154475,0.190925,1.0,0.485575,0.48349997,0.11479999,0.18052499,0.106149994,0.0179,0.130925,1.0,0.116000004,1.0,0.1442,0.1485,0.38622501,0.390375,1.0,0.15104999,0.38845,1.0,0.029024998,1.0,0.0682,0.59319997,1.0,0.144875,0.1479,0.1889,1.0,0.025275,1.0,1.0,0.188775,0.12274999,0.48645,0.15239999,0.48575,0.392475,0.1525,0.0107,0.38825,0.137625,1.0,0.48349997,0.3895,0.1993,0.483475,0.487575,1.0,0.388375,0.135725,0.152625,0.154175,0.115325,0.14029999,0.026949998,1.0,0.385325,1.0,1.0,1.0,0.15187499,1.0,0.32479998,0.48665,1.0,0.147725,0.14422499,0.14045,0.15114999,0.12917499,0.035025,0.18467501,0.107875004,0.484475,1.0,0.109725,1.0,1.0,0.019749999,0.189125,0.48982498,0.121424995,1.0,0.484325,0.044774998,0.48564997,0.484225,0.0742,0.048649997,0.19417499,0.36569998,0.806575,0.484375,0.38622501,0.18377501,1.0,1.0,0.054625,1.0,1.0,0.153625,0.16729999,0.3852,0.04695,0.18715,0.048724998,0.79269993,1.0,1.0,0.053375,0.16749999,0.485575,0.42624998,0.12392499,0.17105,0.15439999,0.0511,0.19055,1.0,0.4854,0.22165,0.1519,0.48659998,1.0,0.14015,0.18545,0.1548,1.0,1.0,1.0,0.38935,0.1617,1.0,0.222275,0.916725,1.0,1.0,0.15355,1.0,0.79622495,1.0,0.1597,0.14369999,0.1547,0.486525,0.15117499,0.485625,0.17684999,1.0,1.0,0.176825,0.15107499,0.1344,1.0,0.877,0.48659998,1.0,0.152025,0.484575,0.147375,0.483425,0.80324996,0.055999998,0.26775,0.24087499,0.0701,0.38515,0.0199,1.0,1.0,1.0,0.14575,0.070824996,1.0,1.0,0.487975,1.0,0.38744998,0.1405,1.0,0.48982498,0.38415,0.0187,0.147875,0.14935,1.0,0.209375,0.48349997,0.192425,0.1759,1.0,0.38509998,0.05025,1.0,1.0,1.0,0.021300001,1.0,0.388375,1.0,0.15365,0.24282499,1.0,0.17549999,0.131275,0.48569998,0.0583,0.025925,0.38724998,1.0,0.0188,0.206525,0.4861,0.38412496,1.0,0.486375,1.0,0.0476,1.0,0.486725,0.1793,0.149925,0.03595,0.122549996,0.484325,0.159025,0.055425,0.051999997,0.16607499,0.023675,0.1164,0.484375,0.48575,1.0,0.156675,0.146525,0.13984999,0.38509998,0.189675,0.1528,0.485075,0.1878,0.12479999,0.16315,0.48439997,1.0,0.063175,0.19719999,1.0,0.91175,1.0,0.72592497,0.48334998,0.48645,0.224725,0.151925,1.0,1.0,0.14299999,0.015625,1.0,0.485375,1.0,0.15114999,1.0,0.1952,0.148725,0.387225,1.0,0.151,0.140425,0.484325,1.0,1.0,1.0,0.060824998,0.108575,0.169125,0.153925,0.222775,0.483125,1.0,1.0,0.7543,1.0,0.48645,1.0,0.138575,0.206725,0.14369999,0.14375,0.1844,0.15314999,0.111975,0.0145000005,0.1879,0.18465,0.19729999,0.485075,1.0,1.0,1.0,1.0,0.48619998,0.2053,0.130325,1.0,1.0,0.38627496,0.14265,0.487625,0.22542499,0.2341,1.0,0.19732499,1.0,1.0,0.037,0.38404998,0.38075,1.0,0.387475,0.19989999,0.234625,0.1633,0.487625,0.387225,0.48444998,0.384025,0.390575,0.161175,0.10325,1.0,0.071725,0.14765,1.0,0.026925001,0.0332,1.0,1.0,1.0,1.0,0.1046,0.38935,0.48349997,0.38417497,1.0,0.486375,1.0,0.16569999,0.164325,1.0,1.0,1.0,0.3807,0.858925,1.0,1.0,0.48334998,1.0,0.45509997,0.14375,1.0,1.0,0.871575,1.0,0.16354999,0.38525,0.150125,0.045199998,1.0,0.064050004,0.12505,0.16472499,0.86480004,1.0,0.161175,0.22895,0.14962499,0.9568,1.0,0.16622499,0.03975,1.0,0.31452498,0.13859999,0.485775,0.1501,0.486725,0.3829,0.171525,0.38729998,0.16245,1.0,0.16319999,0.04275,1.0,0.041249998,0.189525,0.12752499,0.148675,0.16809998,0.163425,0.015325,0.547275,1.0,0.02405,1.0,1.0,0.14289999,0.99872494,1.0,0.048899997,1.0,0.1893,0.48409998,1.0,1.0,1.0,0.191075,1.0,1.0,0.38407502,0.48439997,1.0,0.17879999,1.0,0.022,0.18444999,0.02335,0.024625,1.0,0.015349999,1.0,0.141975,0.482775,0.38092497,0.17559999,0.16767499,0.16517499,0.017749999,0.484575,0.483375,0.192225,1.0,0.165475,0.49072498,1.0,1.0,0.922975,1.0,1.0,0.224275,0.48645,1.0,0.15355,0.99882495,0.484825,0.012775,0.484375,0.19854999,0.14784999,0.14722499,0.16532499,0.484375,0.160925,1.0,0.1435,0.4843,0.063049994,0.189075,0.1861,0.173675,0.1017,1.0,0.13544999,0.16417499,1.0,0.176625,1.0,0.063525,0.147775,0.205175,0.14262499,0.08545,0.14802499,1.0,0.483475,0.48357496,0.488075,0.4836,0.38305,0.15052499,0.01585,1.0,0.1642,1.0,0.483325,0.4833,0.16292499,0.15215],\"name\":\"Distance\"},{\"type\":\"box\",\"y\":[0.7826087,0.9130435,0.47826087,0.39130434,0.43478262,0.3478261,0.5217391,0.43478262,0.826087,0.7826087,0.30434784,0.826087,0.5217391,0.95652175,0.47826087,0.826087,0.9130435,0.39130434,0.65217394,0.5217391,0.3478261,0.95652175,0.826087,0.43478262,0.39130434,0.7826087,0.65217394,1.0,0.9130435,0.9130435,0.826087,0.3478261,0.47826087,0.826087,0.3478261,0.43478262,0.47826087,0.39130434,0.3478261,0.43478262,0.30434784,0.30434784,0.43478262,0.9130435,0.6086957,0.7826087,0.9130435,0.43478262,0.5652174,0.65217394,0.826087,0.826087,1.0,0.5217391,0.65217394,0.30434784,1.0,0.73913044,0.30434784,0.43478262,0.5217391,0.47826087,0.9130435,0.6956522,1.0,0.65217394,0.47826087,0.43478262,1.0,0.73913044,1.0,1.0,0.5217391,0.9130435,0.43478262,0.65217394,0.826087,0.43478262,0.39130434,0.43478262,0.43478262,0.5217391,0.30434784,0.3478261,0.47826087,0.7826087,0.47826087,1.0,0.47826087,1.0,0.3478261,0.5217391,0.43478262,0.826087,0.95652175,0.3478261,0.6956522,0.7826087,0.43478262,0.9130435,0.43478262,0.9130435,0.9130435,0.43478262,0.47826087,0.65217394,0.43478262,0.7826087,0.43478262,0.65217394,0.826087,0.47826087,0.3478261,0.7826087,0.5217391,0.6086957,0.7826087,0.47826087,0.43478262,0.47826087,1.0,0.65217394,0.47826087,0.43478262,0.47826087,0.43478262,0.47826087,0.9130435,0.5217391,0.5652174,0.5217391,0.43478262,0.5217391,0.43478262,0.3478261,0.30434784,0.826087,0.30434784,0.3478261,0.3478261,0.3478261,0.3478261,0.5217391,0.3478261,0.47826087,0.9130435,0.43478262,1.0,0.39130434,0.7826087,0.9130435,0.6086957,0.3478261,1.0,0.826087,1.0,0.39130434,0.5217391,0.47826087,0.9130435,0.43478262,0.826087,0.9130435,0.43478262,0.39130434,0.95652175,0.5217391,0.43478262,0.43478262,1.0,0.826087,0.9130435,0.3478261,0.43478262,0.826087,0.43478262,0.43478262,0.826087,0.95652175,0.3478261,0.7826087,0.5217391,0.5217391,0.5217391,0.30434784,0.5217391,0.6086957,0.3478261,0.7826087,0.47826087,0.826087,0.43478262,0.5217391,0.43478262,0.826087,0.7826087,0.3478261,0.9130435,0.5217391,0.3478261,0.5217391,0.39130434,0.43478262,0.43478262,0.30434784,0.7826087,0.3478261,0.30434784,0.47826087,0.39130434,0.39130434,0.47826087,0.826087,0.3478261,0.30434784,0.95652175,0.5217391,0.7826087,0.43478262,0.826087,0.826087,0.43478262,0.826087,0.43478262,0.95652175,0.43478262,0.43478262,0.826087,0.5217391,0.9130435,0.9130435,0.43478262,0.3478261,0.47826087,0.9130435,0.65217394,0.826087,0.39130434,0.6086957,1.0,0.3478261,0.39130434,0.43478262,0.3478261,0.826087,0.39130434,0.6956522,0.39130434,0.3478261,0.47826087,0.3478261,0.95652175,0.30434784,0.9130435,0.95652175,0.5217391,0.5217391,0.47826087,1.0,0.9130435,0.9130435,0.43478262,0.47826087,0.6956522,0.826087,0.43478262,0.43478262,0.3478261,0.5217391,0.47826087,0.3478261,0.65217394,0.43478262,0.73913044,0.3478261,0.5217391,0.43478262,0.3478261,0.826087,0.43478262,0.43478262,0.39130434,0.9130435,0.5217391,0.3478261,0.9130435,0.43478262,0.7826087,0.43478262,0.9130435,0.826087,0.5217391,0.7826087,0.6086957,0.3478261,0.43478262,0.43478262,0.826087,0.47826087,0.3478261,0.826087,0.39130434,1.0,0.5217391,0.39130434,0.47826087,0.3478261,0.95652175,0.47826087,0.65217394,0.3478261,0.3478261,0.9130435,0.47826087,0.7826087,0.5217391,0.5217391,0.9130435,0.43478262,0.95652175,0.826087,0.47826087,0.5217391,0.5652174,0.3478261,0.43478262,0.826087,1.0,0.7826087,0.43478262,0.43478262,0.826087,0.47826087,0.43478262,0.43478262,0.47826087,0.3478261,0.7826087,0.826087,0.43478262,0.7826087,0.3478261,0.9130435,0.47826087,0.95652175,0.43478262,0.826087,0.95652175,0.3478261,0.826087,0.39130434,0.826087,0.43478262,0.5217391,0.43478262,0.39130434,0.43478262,0.39130434,0.39130434,0.39130434,0.47826087,0.9130435,0.30434784,0.65217394,0.826087,0.7826087,0.5217391,0.5217391,0.43478262,0.5652174,0.47826087,1.0,0.95652175,0.43478262,0.5217391,0.47826087,0.43478262,0.39130434,1.0,0.47826087,0.5652174,0.6086957,0.30434784,0.43478262,0.9130435,0.65217394,0.30434784,0.3478261,0.39130434,0.3478261,0.3478261,0.39130434,0.47826087,0.43478262,0.30434784,0.3478261,0.39130434,0.47826087,0.3478261,0.65217394,0.43478262,0.5217391,0.3478261,0.65217394,0.39130434,0.3478261,0.826087,1.0,1.0,0.47826087,0.43478262,0.30434784,0.65217394,0.30434784,0.5217391,0.43478262,0.30434784,0.65217394,0.7826087,0.5217391,0.43478262,0.5217391,0.43478262,0.43478262,0.5217391,0.30434784,0.30434784,0.826087,0.6956522,0.47826087,0.3478261,0.9130435,0.826087,1.0,0.43478262,0.43478262,0.43478262,0.39130434,0.5217391,0.43478262,0.65217394,0.5217391,0.65217394,0.43478262,0.43478262,0.43478262,0.47826087,0.43478262,0.3478261,0.65217394,0.47826087,0.9130435,0.30434784,0.47826087,0.43478262,0.43478262,0.47826087,0.95652175,0.9130435,0.95652175,0.5652174,0.43478262,0.47826087,0.30434784,0.47826087,0.826087,0.5217391,0.43478262,0.9130435,0.43478262,0.5217391,0.43478262,1.0,0.5217391,0.3478261,0.43478262,0.95652175,0.43478262,0.3478261,0.3478261,0.43478262,0.47826087,0.43478262,0.5217391,1.0,0.43478262,0.9130435,0.65217394,0.3478261,0.43478262,0.826087,0.30434784,0.7826087,0.5217391,0.43478262,0.43478262,0.5217391,1.0,0.47826087,0.43478262,0.3478261,0.826087,0.43478262,1.0,0.39130434,0.47826087,0.30434784,0.47826087,0.47826087,0.43478262,0.5217391,0.43478262,0.65217394,0.47826087,0.47826087,0.826087,0.826087,0.3478261,0.826087,0.43478262,0.7826087,0.5652174,0.73913044,0.7826087,0.47826087,0.43478262,0.47826087,0.47826087,0.826087,0.47826087,0.47826087,0.39130434,0.3478261,0.7826087,0.47826087,0.43478262,0.6086957,1.0,0.43478262,0.3478261,0.9130435,0.5217391,0.6956522,0.826087,0.826087,0.3478261,0.47826087,0.95652175,1.0,0.3478261,0.30434784,0.47826087,0.3478261,0.47826087,0.47826087,0.7826087,0.43478262,0.43478262,0.39130434,0.7826087,0.6956522,0.43478262,0.9130435,0.43478262,0.43478262,0.9130435,0.5217391,0.826087,0.5652174,0.47826087,0.73913044,0.47826087,0.3478261,0.7826087,0.43478262,0.43478262,0.39130434,0.6956522,0.43478262,0.39130434,0.9130435,0.6086957,0.43478262,0.3478261,0.43478262,0.7826087,0.30434784,0.3478261,0.65217394,0.43478262,0.5652174,0.95652175,0.43478262,0.3478261,1.0,0.47826087,0.7826087,0.3478261,0.5217391,0.47826087,0.43478262,1.0,0.826087,0.826087,0.9130435,0.3478261,0.826087,0.3478261,0.47826087,0.39130434,0.30434784,0.3478261,0.39130434,0.5217391,0.43478262,0.43478262,0.826087,1.0,0.43478262,0.9130435,0.3478261,0.826087,0.826087,0.9130435,1.0,0.47826087,0.5217391,0.43478262,0.3478261,0.3478261,0.43478262,0.9130435,0.5217391],\"name\":\"Hour of Day\"},{\"type\":\"box\",\"y\":[0.013888889,0.7175926,0.5740741,0.4351852,0.4351852,0.4351852,0.5740741,0.1574074,0.29166666,0.29166666,0.4351852,0.7175926,0.5740741,0.29166666,1.0,0.29166666,0.7175926,0.5740741,0.013888889,0.5740741,0.4351852,0.29166666,0.7175926,0.4351852,0.4351852,0.013888889,0.29166666,0.8564815,0.7175926,0.7175926,0.29166666,0.4351852,0.5740741,0.29166666,0.8564815,0.4351852,1.0,0.5740741,0.8564815,0.013888889,0.4351852,0.4351852,0.4351852,0.29166666,0.013888889,0.29166666,0.7175926,0.4351852,0.1574074,0.1574074,0.29166666,0.7175926,0.8564815,0.5740741,0.29166666,0.4351852,0.8564815,0.013888889,0.4351852,0.4351852,0.5740741,0.5740741,0.7175926,0.013888889,0.8564815,0.29166666,0.5740741,0.4351852,0.8564815,0.013888889,0.8564815,0.8564815,0.5740741,0.7175926,1.0,0.29166666,0.29166666,0.4351852,0.5740741,0.4351852,0.4351852,0.5740741,0.4351852,0.8564815,1.0,0.013888889,0.1574074,0.8564815,0.5740741,0.8564815,0.8564815,0.5740741,0.013888889,0.29166666,0.29166666,0.4351852,0.013888889,0.29166666,0.29166666,0.7175926,1.0,0.7175926,0.7175926,0.1574074,0.5740741,0.1574074,0.4351852,0.29166666,0.29166666,0.013888889,0.29166666,0.5740741,0.4351852,0.29166666,0.5740741,0.013888889,0.29166666,0.1574074,0.4351852,0.5740741,0.8564815,0.29166666,0.1574074,0.4351852,0.1574074,1.0,0.5740741,0.29166666,0.5740741,0.1574074,0.5740741,0.4351852,0.5740741,0.29166666,0.29166666,0.4351852,0.7175926,0.4351852,0.4351852,0.8564815,0.8564815,0.4351852,0.5740741,0.8564815,0.5740741,0.7175926,0.1574074,0.8564815,0.5740741,0.1574074,0.7175926,0.013888889,0.8564815,0.8564815,0.29166666,0.8564815,0.5740741,0.5740741,1.0,0.7175926,0.1574074,0.7175926,0.7175926,1.0,0.5740741,0.29166666,0.5740741,0.29166666,0.1574074,0.8564815,0.7175926,0.7175926,0.8564815,0.8564815,0.29166666,0.1574074,0.4351852,0.29166666,0.29166666,0.8564815,0.1574074,0.5740741,0.5740741,0.5740741,0.4351852,0.5740741,0.013888889,0.8564815,0.1574074,0.5740741,0.7175926,0.4351852,0.5740741,0.4351852,0.29166666,0.29166666,0.8564815,0.7175926,0.5740741,0.8564815,0.5740741,0.5740741,0.4351852,0.4351852,0.4351852,0.29166666,0.4351852,0.4351852,1.0,0.5740741,0.4351852,1.0,0.29166666,0.4351852,0.4351852,0.29166666,0.5740741,0.29166666,0.29166666,0.7175926,0.7175926,1.0,0.29166666,0.013888889,0.29166666,0.1574074,1.0,0.7175926,0.5740741,0.7175926,0.7175926,1.0,0.8564815,0.5740741,0.7175926,0.1574074,0.7175926,0.5740741,0.013888889,0.8564815,0.8564815,0.5740741,1.0,0.29166666,0.29166666,0.5740741,0.013888889,0.5740741,0.8564815,1.0,0.4351852,0.29166666,0.4351852,0.7175926,0.29166666,0.5740741,0.5740741,1.0,0.8564815,0.7175926,0.7175926,0.4351852,0.1574074,0.013888889,0.7175926,0.4351852,0.013888889,0.8564815,0.5740741,0.5740741,0.8564815,0.013888889,0.4351852,0.013888889,0.8564815,0.5740741,0.29166666,0.8564815,0.29166666,1.0,0.4351852,0.5740741,0.7175926,0.5740741,0.8564815,0.7175926,0.013888889,0.29166666,0.4351852,0.7175926,0.29166666,0.5740741,0.29166666,0.013888889,0.8564815,1.0,0.4351852,0.7175926,0.1574074,0.4351852,0.7175926,0.5740741,0.8564815,0.5740741,0.5740741,1.0,0.8564815,0.29166666,0.5740741,0.1574074,0.8564815,0.8564815,0.29166666,0.1574074,0.013888889,0.5740741,0.5740741,0.7175926,0.4351852,0.29166666,0.7175926,1.0,0.5740741,0.1574074,0.8564815,1.0,0.7175926,0.8564815,0.013888889,0.29166666,0.1574074,0.7175926,0.5740741,0.4351852,1.0,0.5740741,0.8564815,0.29166666,0.7175926,0.1574074,0.1574074,0.8564815,0.7175926,1.0,0.29166666,0.1574074,0.7175926,0.29166666,0.4351852,0.7175926,0.5740741,0.29166666,1.0,0.5740741,0.4351852,0.5740741,0.29166666,0.5740741,0.5740741,0.5740741,0.5740741,0.7175926,0.4351852,0.29166666,0.29166666,0.013888889,0.5740741,0.5740741,0.8564815,0.1574074,1.0,0.8564815,0.29166666,1.0,0.5740741,0.5740741,0.29166666,0.5740741,0.8564815,1.0,0.1574074,0.013888889,0.4351852,0.013888889,0.29166666,0.29166666,0.4351852,0.8564815,0.5740741,0.8564815,0.8564815,0.4351852,1.0,0.29166666,0.4351852,0.8564815,0.5740741,1.0,0.8564815,0.1574074,0.4351852,0.5740741,0.4351852,0.29166666,0.5740741,0.8564815,0.7175926,0.8564815,0.8564815,1.0,0.8564815,0.4351852,0.29166666,0.4351852,0.5740741,0.013888889,0.4351852,0.29166666,0.013888889,0.5740741,0.4351852,0.5740741,0.8564815,1.0,0.5740741,0.4351852,0.4351852,0.7175926,0.013888889,1.0,0.29166666,0.7175926,0.7175926,0.8564815,0.4351852,0.29166666,0.4351852,0.5740741,0.5740741,0.8564815,0.1574074,0.5740741,0.29166666,0.4351852,0.4351852,0.5740741,1.0,0.4351852,0.8564815,0.1574074,0.1574074,0.7175926,0.4351852,0.1574074,0.4351852,0.4351852,0.5740741,0.29166666,0.7175926,0.29166666,0.1574074,0.1574074,0.5740741,0.4351852,0.5740741,0.7175926,0.5740741,1.0,0.7175926,0.4351852,0.5740741,0.4351852,0.8564815,0.5740741,0.4351852,0.1574074,0.29166666,0.1574074,0.8564815,0.29166666,0.4351852,0.5740741,1.0,0.5740741,0.8564815,0.4351852,0.7175926,0.013888889,0.4351852,0.4351852,0.29166666,0.4351852,0.29166666,0.5740741,1.0,0.1574074,0.5740741,0.8564815,1.0,0.1574074,0.8564815,0.7175926,0.4351852,0.8564815,0.5740741,0.5740741,0.4351852,0.1574074,0.5740741,0.4351852,0.5740741,0.013888889,0.29166666,1.0,0.5740741,0.7175926,0.29166666,0.8564815,0.29166666,0.8564815,0.29166666,0.1574074,0.013888889,0.1574074,0.5740741,0.4351852,0.5740741,0.5740741,0.7175926,0.5740741,1.0,0.5740741,0.8564815,0.013888889,1.0,0.4351852,0.013888889,0.8564815,0.1574074,0.8564815,0.7175926,0.5740741,0.013888889,0.7175926,0.7175926,0.8564815,1.0,0.29166666,0.8564815,0.4351852,0.4351852,1.0,0.8564815,0.5740741,0.1574074,0.29166666,0.4351852,0.013888889,0.4351852,0.013888889,0.013888889,0.1574074,0.7175926,0.8564815,0.1574074,0.7175926,0.5740741,0.29166666,0.1574074,1.0,0.013888889,0.5740741,0.4351852,0.29166666,0.29166666,0.4351852,0.5740741,0.013888889,0.29166666,0.5740741,0.7175926,0.013888889,1.0,0.4351852,0.4351852,0.29166666,0.4351852,0.8564815,0.013888889,0.29166666,0.1574074,0.29166666,0.4351852,0.4351852,0.8564815,1.0,0.29166666,0.8564815,0.5740741,0.5740741,0.29166666,0.8564815,0.7175926,0.7175926,0.7175926,0.4351852,0.7175926,0.8564815,0.5740741,0.5740741,0.4351852,0.8564815,0.5740741,0.5740741,0.4351852,1.0,0.7175926,0.8564815,0.8564815,0.29166666,0.29166666,0.29166666,0.29166666,0.7175926,0.8564815,0.1574074,0.5740741,1.0,0.8564815,0.29166666,0.29166666,0.7175926,0.5740741],\"name\":\"Day of Year\"}];\n",
       "            var layout = {\"title\":\"Box plot segmentation\"};\n",
       "            Plotly.newPlot('7088b00e-e1fb-4a38-9b38-3cecb0b4016c', data, layout);\n",
       "        \r\n",
       "});\r\n",
       "};\r\n",
       "if ((typeof(requirejs) !==  typeof(Function)) || (typeof(requirejs.config) !== typeof(Function))) { \r\n",
       "    var script = document.createElement(\"script\"); \r\n",
       "    script.setAttribute(\"src\", \"https://cdnjs.cloudflare.com/ajax/libs/require.js/2.3.6/require.min.js\"); \r\n",
       "    script.onload = function(){\r\n",
       "        renderPlotly();\r\n",
       "    };\r\n",
       "    document.getElementsByTagName(\"head\")[0].appendChild(script); \r\n",
       "}\r\n",
       "else {\r\n",
       "    renderPlotly();\r\n",
       "}\r\n",
       "</script>\r\n"
      ]
     },
     "metadata": {},
     "output_type": "display_data"
    }
   ],
   "source": [
    "var segmentationNormalizedFeatures = Chart.Plot(new[] {\n",
    "    new Graph.Box { y = normalizedTemperatures, name = \"Temperature\" },\n",
    "    new Graph.Box { y = normalizedLuminosities, name = \"Luminosity\" },\n",
    "    new Graph.Box { y = normalizedInfrareds, name = \"Infrared\" },\n",
    "    new Graph.Box { y = normalizedDistances, name = \"Distance\" },\n",
    "    new Graph.Box { y = normalizedHours, name = \"Hour of Day\" },\n",
    "    new Graph.Box { y = normalizedDays, name = \"Day of Year\" }\n",
    "});\n",
    "\n",
    "var layout = new Layout.Layout()\n",
    "{\n",
    "    title = \"Box plot segmentation\"\n",
    "};\n",
    "segmentationNormalizedFeatures.WithLayout(layout);\n",
    "\n",
    "display(segmentationNormalizedFeatures);"
   ]
  },
  {
   "cell_type": "markdown",
   "metadata": {},
   "source": [
    "#### Build the preprocessing pipeline"
   ]
  },
  {
   "cell_type": "code",
   "execution_count": 24,
   "metadata": {},
   "outputs": [],
   "source": [
    "var trainingPipeline = preprocessingPipeline\n",
    "    .Append(mlContext.MulticlassClassification.Trainers.SdcaNonCalibrated(\"Label\", \"Features\"));"
   ]
  },
  {
   "cell_type": "markdown",
   "metadata": {},
   "source": [
    "#### Build the postprocessing pipeline"
   ]
  },
  {
   "cell_type": "code",
   "execution_count": 25,
   "metadata": {},
   "outputs": [],
   "source": [
    "var postprocessingPipeline = trainingPipeline\n",
    "    .Append(mlContext.Transforms.Conversion.MapKeyToValue(\"PredictedLabel\"));"
   ]
  },
  {
   "cell_type": "markdown",
   "metadata": {},
   "source": [
    "# 3. VALIDATE DATA"
   ]
  },
  {
   "cell_type": "code",
   "execution_count": 26,
   "metadata": {},
   "outputs": [
    {
     "data": {
      "text/html": [
       "Installed package Microsoft.Data.Analysis version 0.4.0"
      ]
     },
     "metadata": {},
     "output_type": "display_data"
    }
   ],
   "source": [
    "#r \"nuget:Microsoft.Data.Analysis\"\n",
    "using Microsoft.AspNetCore.Html;\n",
    "using Microsoft.Data.Analysis;\n",
    "using Microsoft.ML;\n",
    "using Microsoft.ML.Data;\n",
    "using Microsoft.ML.Trainers;\n",
    "using System.Collections.Generic;\n",
    "using static Microsoft.ML.TrainCatalogBase;"
   ]
  },
  {
   "cell_type": "markdown",
   "metadata": {},
   "source": [
    "#### Loads Confusion Matrix Formatter (see Formatters.cs)"
   ]
  },
  {
   "cell_type": "code",
   "execution_count": 27,
   "metadata": {},
   "outputs": [],
   "source": [
    "#load \"C:\\Users\\dcost\\source\\repos\\SmartFireAlarm\\SmartFireAlarm\\Jupyter\\Formatters.cs\"\n",
    "var categories = new string[] { \"FlashLight\", \"Infrared\", \"Day\", \"Lighter\" };\n",
    "Formatters.Load(categories);"
   ]
  },
  {
   "cell_type": "code",
   "execution_count": 32,
   "metadata": {},
   "outputs": [
    {
     "data": {
      "text/html": [
       "<table><thead><th><b>CROSS-VALIDATION: multi-class classification</b></th><th><b>Average</b></th><th><b>Standard deviation</b></th><th><b>Confidence interval (95%)</b></th></thead><tbody><tr><td><b>MacroAccuracy</b></td><td>0.952</td><td>0.020</td><td>0.020</td></tr><tr><td><b>MicroAccuracy</b></td><td>0.949</td><td>0.019</td><td>0.018</td></tr><tr><td><b>LogLoss</b></td><td>17.039</td><td>9.949</td><td>9.750</td></tr><tr><td><b>LogLossReduction</b></td><td>-11.946</td><td>7.458</td><td>7.309</td></tr></tbody></table>"
      ]
     },
     "metadata": {},
     "output_type": "display_data"
    }
   ],
   "source": [
    "var crossValidationResults = mlContext.MulticlassClassification.CrossValidate(trainingData, postprocessingPipeline, numberOfFolds: 5, labelColumnName: \"Label\");\n",
    "display(crossValidationResults.ToList())"
   ]
  },
  {
   "cell_type": "markdown",
   "metadata": {},
   "source": [
    "#### Permuation Feature Importance (PFI)"
   ]
  },
  {
   "cell_type": "markdown",
   "metadata": {},
   "source": [
    "#### Model weights and biases"
   ]
  },
  {
   "cell_type": "code",
   "execution_count": 33,
   "metadata": {},
   "outputs": [
    {
     "data": {
      "text/html": [
       "<table><thead><tr><th><i>key</i></th><th></th></tr></thead><tbody><tr><td>FlashLight</td><td>[ -2.0155115, 3.0598867, -14.910331, -3.1781929, 0.21523052, -2.1322143 ]</td></tr><tr><td>Infrared</td><td>[ -7.99422, -11.5135, -15.14083, -1.429365, -1.376484, -2.1999965 ]</td></tr><tr><td>Day</td><td>[ 8.283228, 8.215717, 15.1907215, -1.644344, -1.5923918, -1.9654037 ]</td></tr><tr><td>Lighter</td><td>[ -2.4089074, -4.931906, 13.934696, -1.4483268, -5.540555, -0.9592686 ]</td></tr></tbody></table>"
      ]
     },
     "metadata": {},
     "output_type": "display_data"
    },
    {
     "data": {
      "text/html": [
       "<table><thead><tr><th><i>key</i></th><th>value</th></tr></thead><tbody><tr><td>FlashLight</td><td>-0.6820978</td></tr><tr><td>Infrared</td><td>5.051454</td></tr><tr><td>Day</td><td>-12.5575285</td></tr><tr><td>Lighter</td><td>1.4842105</td></tr></tbody></table>"
      ]
     },
     "metadata": {},
     "output_type": "display_data"
    }
   ],
   "source": [
    "var categories = new string[] { \"FlashLight\", \"Infrared\", \"Day\", \"Lighter\" };\n",
    "\n",
    "var modelForContributions = trainingPipeline.Fit(trainingData);\n",
    "var parameters = Helpers.GetModelParameters(modelForContributions, categories);\n",
    "display(parameters.Item1);\n",
    "display(parameters.Item2);"
   ]
  },
  {
   "cell_type": "markdown",
   "metadata": {},
   "source": [
    "#### Permuation Feature Importance (PFI)"
   ]
  },
  {
   "cell_type": "code",
   "execution_count": 34,
   "metadata": {},
   "outputs": [],
   "source": [
    "var transformedData = modelForContributions.Transform(trainingData);\n",
    "var linearPredictor = modelForContributions.LastTransformer;\n",
    "var pfi = mlContext.MulticlassClassification.PermutationFeatureImportance(linearPredictor, transformedData, permutationCount: 3);\n",
    "var sortedMetrics = pfi.Select((metrics, index) => new { index, metrics.MacroAccuracy })\n",
    "    .OrderBy(feature => Math.Abs(feature.MacroAccuracy.Mean)).Select(feature => feature.MacroAccuracy.Mean);"
   ]
  },
  {
   "cell_type": "code",
   "execution_count": 35,
   "metadata": {},
   "outputs": [
    {
     "data": {
      "text/html": [
       "<div id=\"03e0bd81-4446-4aff-871e-55d9ab6ab2b9\" style=\"width: 900px; height: 500px;\"></div>\r\n",
       "<script type=\"text/javascript\">\r\n",
       "\r\n",
       "var renderPlotly = function() {\r\n",
       "    var xplotRequire = requirejs.config({context:'xplot-3.0.1',paths:{plotly:'https://cdn.plot.ly/plotly-1.49.2.min'}});\r\n",
       "    xplotRequire(['plotly'], function(Plotly) {\r\n",
       "\n",
       "            var data = [{\"type\":\"bar\",\"x\":[0.002272727272727315,-0.006636881636881624,-0.00908215908215911,-0.016447172697172736,-0.43420885920885927,-0.4828338828338829],\"y\":[\"Day\",\"Hour\",\"Distance\",\"Infrared\",\"Luminosity\",\"Temperature\"],\"orientation\":\"h\"}];\n",
       "            var layout = {\"title\":\"Permuation Feature Importance (PFI)\"};\n",
       "            Plotly.newPlot('03e0bd81-4446-4aff-871e-55d9ab6ab2b9', data, layout);\n",
       "        \r\n",
       "});\r\n",
       "};\r\n",
       "if ((typeof(requirejs) !==  typeof(Function)) || (typeof(requirejs.config) !== typeof(Function))) { \r\n",
       "    var script = document.createElement(\"script\"); \r\n",
       "    script.setAttribute(\"src\", \"https://cdnjs.cloudflare.com/ajax/libs/require.js/2.3.6/require.min.js\"); \r\n",
       "    script.onload = function(){\r\n",
       "        renderPlotly();\r\n",
       "    };\r\n",
       "    document.getElementsByTagName(\"head\")[0].appendChild(script); \r\n",
       "}\r\n",
       "else {\r\n",
       "    renderPlotly();\r\n",
       "}\r\n",
       "</script>\r\n"
      ]
     },
     "metadata": {},
     "output_type": "display_data"
    }
   ],
   "source": [
    "var pfiDiagram = Chart.Plot(new Graph.Bar\n",
    "    {\n",
    "        x = sortedMetrics,\n",
    "        y = featureColumns.Reverse(), \n",
    "        orientation = \"h\"\n",
    "    });\n",
    "var layout = new Layout.Layout()\n",
    "{\n",
    "    title = \"Permuation Feature Importance (PFI)\"\n",
    "};\n",
    "pfiDiagram.WithLayout(layout);\n",
    "display(pfiDiagram);"
   ]
  },
  {
   "cell_type": "markdown",
   "metadata": {},
   "source": [
    "# 4. TRAIN THE MODEL"
   ]
  },
  {
   "cell_type": "code",
   "execution_count": 36,
   "metadata": {},
   "outputs": [],
   "source": [
    "var model = postprocessingPipeline.Fit(trainingData);"
   ]
  },
  {
   "cell_type": "markdown",
   "metadata": {},
   "source": [
    "# 5. EVALUATE THE MODEL"
   ]
  },
  {
   "cell_type": "code",
   "execution_count": 37,
   "metadata": {},
   "outputs": [],
   "source": [
    "var predictions = model.Transform(testingData);\n",
    "var metrics = mlContext.MulticlassClassification.Evaluate(predictions, \"Label\", \"Score\", \"PredictedLabel\");"
   ]
  },
  {
   "cell_type": "code",
   "execution_count": 38,
   "metadata": {},
   "outputs": [
    {
     "data": {
      "text/html": [
       "<table><thead><th><b>EVALUATION: multi-class classification</b></th><th><b>Class</b></th><th><b>Value</b></th><th><b>Note</b></th></thead><tbody><tr><td><b>MacroAccuracy</b></td><td></td><td>0.978</td><td>the closer to 1, the better</td></tr><tr><td><b>MicroAccuracy</b></td><td></td><td>0.982</td><td>the closer to 1, the better</td></tr><tr><td><b>LogLoss</b></td><td></td><td>24.030</td><td>the closer to 0, the better</td></tr><tr><td rowspan=\"5\"><b>LogLoss per Class</b></td></tr><tr><td>FlashLight</td><td>29.942</td><td>the closer to 0, the better</td></tr><tr><td>Infrared</td><td>30.395</td><td>the closer to 0, the better</td></tr><tr><td>Day</td><td>2.382</td><td>the closer to 0, the better</td></tr><tr><td>Lighter</td><td>20.821</td><td>the closer to 0, the better</td></tr></tbody></table>"
      ]
     },
     "metadata": {},
     "output_type": "display_data"
    }
   ],
   "source": [
    "display(metrics)"
   ]
  },
  {
   "cell_type": "code",
   "execution_count": 39,
   "metadata": {},
   "outputs": [
    {
     "data": {
      "text/html": [
       "<table style=\"margin: 50px; \"><tbody><tr style=\"background-color: transparent\"><td colspan=\"2\" rowspan=\"2\" style=\"padding: 8px; background-color: lightsteelblue; text-align: center; \">Confusion Matrix</td><td colspan=\"4\" style=\"padding: 8px; background-color: lightsteelblue; text-align: center; \">Predicted</td><td style=\"padding: 8px; background-color: lightsteelblue; \"></td></tr><tr style=\"background-color: transparent\"><td style=\"padding: 8px; font-weight: bold; background-color: #E3EAF3; \">FlashLight</td><td style=\"padding: 8px; font-weight: bold; background-color: #E3EAF3; \">Infrared</td><td style=\"padding: 8px; font-weight: bold; background-color: #E3EAF3; \">Day</td><td style=\"padding: 8px; font-weight: bold; background-color: #E3EAF3; \">Lighter</td><td style=\"padding: 8px; background-color: lightsteelblue; \">Recall</td></tr><tr style=\"background-color: transparent\"><td rowspan=\"4\" style=\"padding: 8px; background-color: lightsteelblue; \">Truth</td><td style=\"padding: 8px; font-weight: bold; background-color: #E3EAF3; \">FlashLight</td><td style=\"padding: 8px; \">66</td><td style=\"padding: 8px; \">1</td><td style=\"padding: 8px; \">0</td><td style=\"padding: 8px; \">0</td><td style=\"padding: 8px; background-color: #E3EAF3; \">0.9851</td></tr><tr style=\"background-color: transparent\"><td style=\"padding: 8px; font-weight: bold; background-color: #E3EAF3; \">Infrared</td><td style=\"padding: 8px; \">0</td><td style=\"padding: 8px; \">49</td><td style=\"padding: 8px; \">0</td><td style=\"padding: 8px; \">0</td><td style=\"padding: 8px; background-color: #E3EAF3; \">1</td></tr><tr style=\"background-color: transparent\"><td style=\"padding: 8px; font-weight: bold; background-color: #E3EAF3; \">Day</td><td style=\"padding: 8px; \">1</td><td style=\"padding: 8px; \">0</td><td style=\"padding: 8px; \">28</td><td style=\"padding: 8px; \">0</td><td style=\"padding: 8px; background-color: #E3EAF3; \">0.9655</td></tr><tr style=\"background-color: transparent\"><td style=\"padding: 8px; font-weight: bold; background-color: #E3EAF3; \">Lighter</td><td style=\"padding: 8px; \">1</td><td style=\"padding: 8px; \">0</td><td style=\"padding: 8px; \">0</td><td style=\"padding: 8px; \">24</td><td style=\"padding: 8px; background-color: #E3EAF3; \">0.96</td></tr><tr style=\"background-color: transparent\"><td colspan=\"2\" style=\"padding: 8px; background-color: lightsteelblue; \">Precision</td><td style=\"padding: 8px; background-color: #E3EAF3; \">0.9706</td><td style=\"padding: 8px; background-color: #E3EAF3; \">0.98</td><td style=\"padding: 8px; background-color: #E3EAF3; \">1</td><td style=\"padding: 8px; background-color: #E3EAF3; \">1</td><td style=\"padding: 8px; background-color: #E3EAF3; \">total = 170</td></tr></tbody></table>"
      ]
     },
     "metadata": {},
     "output_type": "display_data"
    }
   ],
   "source": [
    "display(metrics.ConfusionMatrix);"
   ]
  },
  {
   "cell_type": "markdown",
   "metadata": {},
   "source": [
    "#### Save the trained model"
   ]
  },
  {
   "cell_type": "code",
   "execution_count": 40,
   "metadata": {},
   "outputs": [],
   "source": [
    "mlContext.Model.Save(model, trainingData.Schema, \"model.zip\");"
   ]
  }
 ],
 "metadata": {
  "kernelspec": {
   "display_name": ".NET (C#)",
   "language": "C#",
   "name": ".net-csharp"
  },
  "language_info": {
   "file_extension": ".cs",
   "mimetype": "text/x-csharp",
   "name": "C#",
   "pygments_lexer": "csharp",
   "version": "8.0"
  }
 },
 "nbformat": 4,
 "nbformat_minor": 4
}
