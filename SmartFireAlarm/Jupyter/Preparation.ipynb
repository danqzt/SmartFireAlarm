{
 "cells": [
  {
   "cell_type": "markdown",
   "metadata": {},
   "source": [
    "# B. Prepare data (build data preparation pipeline and training pipeline)"
   ]
  },
  {
   "cell_type": "markdown",
   "metadata": {},
   "source": [
    "### Install packages / import namespaces"
   ]
  },
  {
   "cell_type": "code",
   "execution_count": 1,
   "metadata": {},
   "outputs": [
    {
     "data": {
      "text/html": [
       "<script type=\"text/javascript\">#!javascript\r\n",
       "if ((typeof(requirejs) !==  typeof(Function)) || (typeof(requirejs.config) !== typeof(Function))) { \r\n",
       "    let script = document.createElement(\"script\"); \r\n",
       "    script.setAttribute(\"src\", \"https://cdnjs.cloudflare.com/ajax/libs/require.js/2.3.6/require.min.js\"); \r\n",
       "    script.onload = function(){\r\n",
       "        loadDotnetInteractiveApi();\r\n",
       "    };\r\n",
       "    document.getElementsByTagName(\"head\")[0].appendChild(script); \r\n",
       "}\r\n",
       "else {\r\n",
       "    loadDotnetInteractiveApi();\r\n",
       "}\r\n",
       "\r\n",
       "function loadDotnetInteractiveApi(){\r\n",
       "    let apiRequire = requirejs.config({context:\"dotnet-interactive.6336.64062\",paths:{dotnetInteractive:\"http://localhost:64062/resources/dotnet-interactive\"}});\r\n",
       "    apiRequire(['dotnetInteractive'], \r\n",
       "    function(api) {       \r\n",
       "        api.createDotnetInteractiveClient(\"http://localhost:64062/\", window);\r\n",
       "    },\r\n",
       "    function(error){\r\n",
       "        console.log(error);\r\n",
       "    });\r\n",
       "}</script>"
      ]
     },
     "metadata": {},
     "output_type": "display_data"
    },
    {
     "data": {
      "text/html": [
       "Installed package Microsoft.ML version 1.4.0"
      ]
     },
     "metadata": {},
     "output_type": "display_data"
    }
   ],
   "source": [
    "#r \"nuget:Microsoft.ML\"\n",
    "using XPlot.Plotly;\n",
    "using System.Linq;\n",
    "using Microsoft.ML;\n",
    "using Microsoft.ML.Data;"
   ]
  },
  {
   "cell_type": "markdown",
   "metadata": {},
   "source": [
    "### Load data models from Models.cs file "
   ]
  },
  {
   "cell_type": "code",
   "execution_count": null,
   "metadata": {},
   "outputs": [],
   "source": [
    "#load \"C:\\Users\\dcost\\source\\repos\\SmartFireAlarm\\SmartFireAlarm\\Jupyter\\Models.cs\""
   ]
  },
  {
   "cell_type": "markdown",
   "metadata": {},
   "source": [
    "### Initialize the ML context (we need it for building the data and training pipelines)  "
   ]
  },
  {
   "cell_type": "code",
   "execution_count": null,
   "metadata": {},
   "outputs": [],
   "source": [
    "MLContext mlContext = new MLContext(0);"
   ]
  },
  {
   "cell_type": "markdown",
   "metadata": {},
   "source": [
    "### Load data from csv file into a dataview"
   ]
  },
  {
   "cell_type": "code",
   "execution_count": null,
   "metadata": {},
   "outputs": [],
   "source": [
    "const string DATASET_PATH = \"./sensors_data.csv\";\n",
    "IDataView data = mlContext.Data.LoadFromTextFile<ModelInput>(\n",
    "    path: DATASET_PATH,\n",
    "    hasHeader: true,\n",
    "    separatorChar: ',');"
   ]
  },
  {
   "cell_type": "markdown",
   "metadata": {},
   "source": [
    "### Shuffle and split data to _trainingData_ and _testingData_ by a fraction of 0.2"
   ]
  },
  {
   "cell_type": "code",
   "execution_count": null,
   "metadata": {},
   "outputs": [],
   "source": [
    "var shuffledData = mlContext.Data.ShuffleRows(data, seed: 0);\n",
    "var split = mlContext.Data.TrainTestSplit(shuffledData, testFraction: 0.2);\n",
    "var trainingData = split.TrainSet;\n",
    "var testingData = split.TestSet;"
   ]
  },
  {
   "cell_type": "markdown",
   "metadata": {},
   "source": [
    "\n",
    "### Convert data to collection"
   ]
  },
  {
   "cell_type": "code",
   "execution_count": null,
   "metadata": {},
   "outputs": [],
   "source": [
    "// rename features to smth more appropriate\n",
    "var features = mlContext.Data.CreateEnumerable<ModelInput>(trainingData, true);\n",
    "\n",
    "display(features.Take(10));"
   ]
  },
  {
   "cell_type": "markdown",
   "metadata": {},
   "source": [
    "### _Source_ feature is the label of the observation. Let's see the histogram of the categories."
   ]
  },
  {
   "cell_type": "code",
   "execution_count": null,
   "metadata": {},
   "outputs": [],
   "source": [
    "var sources = features.Select(f => f.Source);\n",
    "var categoriesHistogram = Chart.Plot(\n",
    "    new Graph.Histogram \n",
    "    {\n",
    "        x = sources\n",
    "    }\n",
    ");\n",
    "\n",
    "var layout = new Layout.Layout()\n",
    "{\n",
    "    title = \"Categories histogram\"\n",
    "};\n",
    "categoriesHistogram.WithLayout(layout);\n",
    "display(categoriesHistogram);"
   ]
  },
  {
   "cell_type": "markdown",
   "metadata": {},
   "source": [
    "### Plot diagram is a rich diagram showing count, quartiles, min, max and mean of data"
   ]
  },
  {
   "cell_type": "code",
   "execution_count": null,
   "metadata": {},
   "outputs": [],
   "source": [
    "var temperatures = features.Select(f => f.Temperature);\n",
    "var luminosities = features.Select(f => f.Luminosity);\n",
    "var infrareds = features.Select(f => f.Infrared);\n",
    "var distances = features.Select(f => f.Distance);\n",
    "var hours = features.Select(f => DateTime.Parse(f.CreatedAt).Hour);\n",
    "var days = features.Select(f => DateTime.Parse(f.CreatedAt).DayOfYear);"
   ]
  },
  {
   "cell_type": "code",
   "execution_count": null,
   "metadata": {},
   "outputs": [],
   "source": [
    "var categoriesDiagram = Chart.Plot(new[] {\n",
    "    new Graph.Box { y = temperatures, name = \"Temperature\" },\n",
    "    new Graph.Box { y = luminosities, name = \"Luminosity\" },\n",
    "    new Graph.Box { y = infrareds, name = \"Infrared\" },\n",
    "    new Graph.Box { y = distances, name = \"Distance\" },\n",
    "    new Graph.Box { y = hours, name = \"Hour of Day\" },\n",
    "    new Graph.Box { y = days, name = \"Day of Year\" }\n",
    "});\n",
    "\n",
    "var layout = new Layout.Layout()\n",
    "{\n",
    "    title = \"Segmentation box plot\"\n",
    "};\n",
    "categoriesDiagram.WithLayout(layout);\n",
    "display(categoriesDiagram);"
   ]
  },
  {
   "cell_type": "markdown",
   "metadata": {},
   "source": [
    "---\n",
    "### Correlation matrix show how correlated the features are"
   ]
  },
  {
   "cell_type": "code",
   "execution_count": null,
   "metadata": {},
   "outputs": [],
   "source": [
    "#r \"nuget:MathNet.Numerics\""
   ]
  },
  {
   "cell_type": "code",
   "execution_count": null,
   "metadata": {},
   "outputs": [],
   "source": [
    "#load \"C:\\Users\\dcost\\source\\repos\\SmartFireAlarm\\SmartFireAlarm\\Jupyter\\Helpers.cs\""
   ]
  },
  {
   "cell_type": "code",
   "execution_count": null,
   "metadata": {},
   "outputs": [],
   "source": [
    "var featureColumns = new string[] { \"Temperature\", \"Luminosity\", \"Infrared\", \"Distance\", \"Hour\", \"Day\" };\n",
    "\n",
    "var correlationMatrix = new List<List<double>>();\n",
    "\n",
    "correlationMatrix.Add(temperatures.Select(Convert.ToDouble).ToList());\n",
    "correlationMatrix.Add(luminosities.Select(Convert.ToDouble).ToList());\n",
    "correlationMatrix.Add(infrareds.Select(Convert.ToDouble).ToList());\n",
    "correlationMatrix.Add(distances.Select(Convert.ToDouble).ToList());\n",
    "correlationMatrix.Add(hours.Select(Convert.ToDouble).ToList());\n",
    "correlationMatrix.Add(days.Select(Convert.ToDouble).ToList());\n",
    "\n",
    "var correlationMatrixHeatmap = Chart.Plot(\n",
    "    new Graph.Heatmap \n",
    "    {\n",
    "        x = featureColumns,\n",
    "        y = featureColumns.Reverse(),\n",
    "        z = Helpers.GetZAxis(correlationMatrix),\n",
    "        zmin = -1,\n",
    "        zmax = 1\n",
    "    }\n",
    ");\n",
    "\n",
    "var layout = new Layout.Layout()\n",
    "{\n",
    "    autosize = \"true\", \n",
    "    margin =  new Graph.Margin{ l = 90 }, // fix left margin to accomodate longer labels\n",
    "    title = \"Correlation Matrix\"\n",
    "};\n",
    "correlationMatrixHeatmap.WithLayout(layout);\n",
    "display(correlationMatrixHeatmap);"
   ]
  },
  {
   "cell_type": "markdown",
   "metadata": {},
   "source": [
    "### Pre-processing pipeline\n",
    "> Map value (string) to key (number)   \n",
    "> Custom mapping  \n",
    "> Concatenate features  \n",
    "> Normalize features  \n",
    "> Drop unused columns "
   ]
  },
  {
   "cell_type": "code",
   "execution_count": null,
   "metadata": {},
   "outputs": [],
   "source": [
    "var featureColumns = new string[] { \"Temperature\", \"Luminosity\", \"Infrared\", \"Distance\", \"Hour\", \"Day\" };\n",
    "\n",
    "var preprocessingPipeline = mlContext.Transforms.Conversion.MapValueToKey(\"Label\")\n",
    "    .Append(mlContext.Transforms.CustomMapping<CustomInputRow, CustomOutputRow>\n",
    "        (CustomMappings.IncomeMapping, nameof(CustomMappings.IncomeMapping)))\n",
    "    .Append(mlContext.Transforms.Concatenate(\"Features\", featureColumns))\n",
    "    .Append(mlContext.Transforms.NormalizeMinMax(\"Features\"));"
   ]
  },
  {
   "cell_type": "markdown",
   "metadata": {},
   "source": [
    "### Model builder pipeline"
   ]
  },
  {
   "cell_type": "code",
   "execution_count": null,
   "metadata": {},
   "outputs": [],
   "source": [
    "var modelPipeline = preprocessingPipeline\n",
    "    .Append(mlContext.MulticlassClassification.Trainers.SdcaNonCalibrated(\"Label\", \"Features\"));"
   ]
  },
  {
   "cell_type": "markdown",
   "metadata": {},
   "source": [
    "### Post-processing pipeline"
   ]
  },
  {
   "cell_type": "code",
   "execution_count": null,
   "metadata": {},
   "outputs": [],
   "source": [
    "var postprocessingPipeline = modelPipeline\n",
    "    .Append(mlContext.Transforms.Conversion.MapKeyToValue(\"PredictedLabel\"));"
   ]
  },
  {
   "cell_type": "markdown",
   "metadata": {},
   "source": [
    "### Train the model"
   ]
  },
  {
   "cell_type": "code",
   "execution_count": null,
   "metadata": {},
   "outputs": [],
   "source": [
    "var model = postprocessingPipeline.Fit(trainingData);"
   ]
  },
  {
   "cell_type": "markdown",
   "metadata": {},
   "source": [
    "### Plot segmentation for normalized data"
   ]
  },
  {
   "cell_type": "code",
   "execution_count": null,
   "metadata": {},
   "outputs": [],
   "source": [
    "var normalizedData = preprocessingPipeline.Fit(trainingData).Transform(trainingData);\n",
    "var normalizedFeatures = normalizedData.GetColumn<float[]>(\"Features\").ToArray();\n",
    "\n",
    "var normalizedTemperatures = normalizedFeatures.Select(f => f[0]);\n",
    "var normalizedLuminosities = normalizedFeatures.Select(f => f[1]);\n",
    "var normalizedInfrareds = normalizedFeatures.Select(f => f[2]);\n",
    "var normalizedDistances = normalizedFeatures.Select(f => f[3]);\n",
    "var normalizedHours = normalizedFeatures.Select(f => f[4]);\n",
    "var normalizedDays = normalizedFeatures.Select(f => f[5]);\n",
    "\n",
    "var histogramNormalizedFeatures = Chart.Plot(new[] {\n",
    "    new Graph.Box { y = normalizedTemperatures, name = \"Temperature\" },\n",
    "    new Graph.Box { y = normalizedLuminosities, name = \"Luminosity\" },\n",
    "    new Graph.Box { y = normalizedInfrareds, name = \"Infrared\" },\n",
    "    new Graph.Box { y = normalizedDistances, name = \"Distance\" },\n",
    "    new Graph.Box { y = normalizedHours, name = \"Hour of Day\" },\n",
    "    new Graph.Box { y = normalizedDays, name = \"Day of Year\" }\n",
    "});\n",
    "\n",
    "display(histogramNormalizedFeatures);"
   ]
  },
  {
   "cell_type": "markdown",
   "metadata": {},
   "source": [
    "### Cross validate"
   ]
  },
  {
   "cell_type": "code",
   "execution_count": null,
   "metadata": {},
   "outputs": [],
   "source": [
    "#r \"nuget:Microsoft.Data.Analysis\"\n",
    "using Microsoft.AspNetCore.Html;\n",
    "using Microsoft.Data.Analysis;\n",
    "using Microsoft.ML;\n",
    "using Microsoft.ML.Data;\n",
    "using Microsoft.ML.Trainers;\n",
    "using System.Collections.Generic;\n",
    "using static Microsoft.ML.TrainCatalogBase;"
   ]
  },
  {
   "cell_type": "markdown",
   "metadata": {},
   "source": [
    "### Loads Confusion Matrix Formatter"
   ]
  },
  {
   "cell_type": "code",
   "execution_count": null,
   "metadata": {},
   "outputs": [],
   "source": [
    "#load \"C:\\Users\\dcost\\source\\repos\\SmartFireAlarm\\SmartFireAlarm\\Jupyter\\Formatters.cs\"\n",
    "var categories = new string[] { \"FlashLight\", \"Infrared\", \"Day\", \"Lighter\" };\n",
    "Formatters.Load(categories);"
   ]
  },
  {
   "cell_type": "code",
   "execution_count": null,
   "metadata": {},
   "outputs": [],
   "source": [
    "var crossValidationResults = mlContext.MulticlassClassification.CrossValidate(trainingData, postprocessingPipeline, numberOfFolds: 5, labelColumnName: \"Label\");\n",
    "crossValidationResults.ToList()"
   ]
  },
  {
   "cell_type": "markdown",
   "metadata": {},
   "source": [
    "### Evaluate the model against the testing data (measure the model performance)"
   ]
  },
  {
   "cell_type": "code",
   "execution_count": null,
   "metadata": {},
   "outputs": [],
   "source": [
    "var predictions = model.Transform(testingData);\n",
    "var metrics = mlContext.MulticlassClassification.Evaluate(predictions, \"Label\", \"Score\", \"PredictedLabel\");"
   ]
  },
  {
   "cell_type": "code",
   "execution_count": null,
   "metadata": {},
   "outputs": [],
   "source": [
    "metrics"
   ]
  },
  {
   "cell_type": "markdown",
   "metadata": {},
   "source": [
    "### Save Trained Model"
   ]
  },
  {
   "cell_type": "code",
   "execution_count": null,
   "metadata": {},
   "outputs": [],
   "source": [
    "mlContext.Model.Save(model, trainingData.Schema, \"model.zip\");"
   ]
  },
  {
   "cell_type": "code",
   "execution_count": null,
   "metadata": {},
   "outputs": [],
   "source": []
  }
 ],
 "metadata": {
  "kernelspec": {
   "display_name": ".NET (C#)",
   "language": "C#",
   "name": ".net-csharp"
  },
  "language_info": {
   "file_extension": ".cs",
   "mimetype": "text/x-csharp",
   "name": "C#",
   "pygments_lexer": "csharp",
   "version": "8.0"
  }
 },
 "nbformat": 4,
 "nbformat_minor": 4
}
