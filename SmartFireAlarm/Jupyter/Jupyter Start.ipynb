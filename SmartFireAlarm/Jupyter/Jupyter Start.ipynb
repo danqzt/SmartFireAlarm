{
 "cells": [
  {
   "cell_type": "markdown",
   "metadata": {},
   "source": [
    "# magic commands"
   ]
  },
  {
   "cell_type": "code",
   "execution_count": null,
   "metadata": {},
   "outputs": [],
   "source": [
    "#!lsmagic"
   ]
  },
  {
   "cell_type": "code",
   "execution_count": null,
   "metadata": {},
   "outputs": [],
   "source": [
    "#!about"
   ]
  },
  {
   "cell_type": "code",
   "execution_count": null,
   "metadata": {},
   "outputs": [],
   "source": [
    "var x = 10;\n",
    "var q = 0;"
   ]
  },
  {
   "cell_type": "code",
   "execution_count": null,
   "metadata": {},
   "outputs": [],
   "source": [
    "#!who"
   ]
  },
  {
   "cell_type": "code",
   "execution_count": null,
   "metadata": {},
   "outputs": [],
   "source": [
    "#!whos"
   ]
  },
  {
   "cell_type": "markdown",
   "metadata": {},
   "source": [
    "# display"
   ]
  },
  {
   "cell_type": "code",
   "execution_count": null,
   "metadata": {},
   "outputs": [],
   "source": [
    "Console.WriteLine(\"Hello world\");"
   ]
  },
  {
   "cell_type": "code",
   "execution_count": null,
   "metadata": {},
   "outputs": [],
   "source": [
    "Console.WriteLine(h2(\"hello world\"));"
   ]
  },
  {
   "cell_type": "code",
   "execution_count": null,
   "metadata": {},
   "outputs": [],
   "source": [
    "display(\"hello world\");"
   ]
  },
  {
   "cell_type": "code",
   "execution_count": null,
   "metadata": {},
   "outputs": [],
   "source": [
    "display(h2(\"hello world\"))"
   ]
  },
  {
   "cell_type": "code",
   "execution_count": null,
   "metadata": {},
   "outputs": [],
   "source": [
    "h2[style: \"color: red\"](\"hello world\")"
   ]
  },
  {
   "cell_type": "code",
   "execution_count": null,
   "metadata": {},
   "outputs": [],
   "source": [
    "h2[style: \"color: red\"](\"hello world\")"
   ]
  },
  {
   "cell_type": "code",
   "execution_count": null,
   "metadata": {},
   "outputs": [],
   "source": [
    "var pocketViewTagMethods = typeof(PocketViewTags).GetProperties().Select(m => m.Name);\n",
    "    \n",
    "string.Join(\",\", pocketViewTagMethods)"
   ]
  },
  {
   "cell_type": "code",
   "execution_count": null,
   "metadata": {},
   "outputs": [],
   "source": [
    "select(option(\"first\"), option(\"second\"))"
   ]
  },
  {
   "cell_type": "markdown",
   "metadata": {},
   "source": [
    "# #load"
   ]
  },
  {
   "cell_type": "code",
   "execution_count": null,
   "metadata": {},
   "outputs": [],
   "source": [
    "#load \"C:\\Users\\dcost\\source\\repos\\JupyterNotebooks\\start.csx\""
   ]
  },
  {
   "cell_type": "code",
   "execution_count": null,
   "metadata": {},
   "outputs": [],
   "source": [
    "Add(100, 200)"
   ]
  },
  {
   "cell_type": "markdown",
   "metadata": {},
   "source": [
    "# object formatter"
   ]
  },
  {
   "cell_type": "code",
   "execution_count": null,
   "metadata": {},
   "outputs": [],
   "source": [
    "class Student { public string FirstName { get; set; } public string LastName { get; set; }}"
   ]
  },
  {
   "cell_type": "code",
   "execution_count": null,
   "metadata": {},
   "outputs": [],
   "source": [
    "var student = new Student { FirstName = \"John\", LastName = \"Smith\" };\n",
    "display(student)"
   ]
  },
  {
   "cell_type": "code",
   "execution_count": null,
   "metadata": {},
   "outputs": [],
   "source": [
    "Formatter.Register<Student>((student, writer) =>\n",
    "{\n",
    "    writer.Write(b[style: \"color: green\"]($\"First name: {student.FirstName}, last name: {student.LastName}\"));\n",
    "}, \"text/html\");"
   ]
  },
  {
   "cell_type": "code",
   "execution_count": null,
   "metadata": {},
   "outputs": [],
   "source": [
    "display(student)"
   ]
  },
  {
   "cell_type": "code",
   "execution_count": null,
   "metadata": {},
   "outputs": [],
   "source": [
    "//Formatter.ResetToDefault(); // this resets all object formatters (inclusing charts objects!), not recommended"
   ]
  },
  {
   "cell_type": "markdown",
   "metadata": {},
   "source": [
    "# charts"
   ]
  },
  {
   "cell_type": "code",
   "execution_count": null,
   "metadata": {},
   "outputs": [],
   "source": [
    "using XPlot.Plotly;"
   ]
  },
  {
   "cell_type": "code",
   "execution_count": null,
   "metadata": {},
   "outputs": [],
   "source": [
    "var numbers = Enumerable.Range(1, 100).ToList();"
   ]
  },
  {
   "cell_type": "code",
   "execution_count": null,
   "metadata": {},
   "outputs": [],
   "source": [
    "numbers"
   ]
  },
  {
   "cell_type": "code",
   "execution_count": null,
   "metadata": {},
   "outputs": [],
   "source": [
    "Random rnd = new Random();\n",
    "var randomNumbersA = numbers.Select(_ => rnd.Next(100));\n",
    "var randomNumbersB = numbers.Select(_ => rnd.Next(50));"
   ]
  },
  {
   "cell_type": "code",
   "execution_count": null,
   "metadata": {},
   "outputs": [],
   "source": [
    "randomNumbersA.ToList()"
   ]
  },
  {
   "cell_type": "markdown",
   "metadata": {},
   "source": [
    "#### object formatter for list of ints"
   ]
  },
  {
   "cell_type": "code",
   "execution_count": null,
   "metadata": {},
   "outputs": [],
   "source": [
    "static string BuildHideRowsScript(long uniqueId)\n",
    "{\n",
    "    var script = $\"var allRows = document.querySelectorAll('#table_{uniqueId} tbody tr:nth-child(n)'); \";\n",
    "    script += \"for (let i = 0; i < allRows.length; i++) { allRows[i].style.display='none'; } \";\n",
    "    return script;\n",
    "}\n",
    "\n",
    "static string BuildPageScript(long uniqueId, int size)\n",
    "{\n",
    "    var script = $\"var page = parseInt(document.querySelector('#page_{uniqueId}').innerHTML) - 1; \";\n",
    "    script += $\"var pageRows = document.querySelectorAll(`#table_{uniqueId} tbody tr:nth-child(n + ${{page * {size} + 1 }})`); \";\n",
    "    script += $\"for (let j = 0; j < {size}; j++) {{ pageRows[j].style.display='table-row'; }} \";\n",
    "    return script;\n",
    "}\n",
    "\n",
    "static string GotoPageIndex(long uniqueId, long page)\n",
    "{\n",
    "    var script = $\"document.querySelector('#page_{uniqueId}').innerHTML = {page + 1}; \";\n",
    "    return script;\n",
    "}\n",
    "\n",
    "static string UpdatePageIndex(long uniqueId, int step, long maxPage)\n",
    "{\n",
    "    var script = $\"var page = parseInt(document.querySelector('#page_{uniqueId}').innerHTML) - 1; \";\n",
    "    script += $\"page = parseInt(page) + parseInt({step}); \";\n",
    "    script += $\"page = page < 0 ? 0 : page; \";\n",
    "    script += $\"page = page > {maxPage} ? {maxPage} : page; \";\n",
    "    script += $\"document.querySelector('#page_{uniqueId}').innerHTML = page + 1; \";\n",
    "    return script;\n",
    "}"
   ]
  },
  {
   "cell_type": "code",
   "execution_count": null,
   "metadata": {},
   "outputs": [],
   "source": [
    "using Microsoft.AspNetCore.Html;\n",
    "\n",
    "Formatter.Register<List<int>>((ints, writer) =>\n",
    "            {\n",
    "                const int MAX = 10000;\n",
    "                const int SIZE = 10;\n",
    "\n",
    "                var uniqueId = DateTime.Now.Ticks;\n",
    "\n",
    "                if (ints.Count > SIZE)\n",
    "                {\n",
    "                    var maxMessage = ints.Count > MAX ? $\" (showing a max of {MAX} rows)\" : string.Empty;\n",
    "                    var title = h3[style: \"text-align: center;\"]($\"List of ints - {ints.Count} rows {maxMessage}\");\n",
    "\n",
    "                    //var header = new List<IHtmlContent>\n",
    "                    //{\n",
    "                    //    th(i(\"index\"))\n",
    "                    //};\n",
    "                    //header.AddRange(df.Columns.Select(c => (IHtmlContent)th(c.Name)));\n",
    "\n",
    "                    // table body\n",
    "                    var maxRows = Math.Min(MAX, ints.Count);\n",
    "                    var rows = new List<List<IHtmlContent>>();\n",
    "                    for (var index = 0; index < Math.Min(MAX, ints.Count); index++)\n",
    "                    {\n",
    "                        var cells = new List<IHtmlContent>\n",
    "                        {\n",
    "                            td(i((index)))\n",
    "                        };\n",
    "                        //foreach (var obj in ints[index])\n",
    "                        //{\n",
    "                        //    cells.Add(td(obj));\n",
    "                        //}\n",
    "                        cells.Add(td(ints[index]));\n",
    "                        rows.Add(cells);\n",
    "                    }\n",
    "\n",
    "                    //navigator      \n",
    "                    var footer = new List<IHtmlContent>();\n",
    "                    BuildHideRowsScript(uniqueId);\n",
    "\n",
    "                    if (ints.Count > SIZE)\n",
    "                    {\n",
    "                        var paginateScriptFirst = BuildHideRowsScript(uniqueId) + GotoPageIndex(uniqueId, 0) + BuildPageScript(uniqueId, SIZE);\n",
    "                        footer.Add(button[style: \"margin: 2px;\", onclick: paginateScriptFirst](\"⏮\"));\n",
    "\n",
    "                        var paginateScriptPrevTen = BuildHideRowsScript(uniqueId) + UpdatePageIndex(uniqueId, -10, (maxRows - 1) / SIZE) + BuildPageScript(uniqueId, SIZE);\n",
    "                        footer.Add(button[style: \"margin: 2px;\", onclick: paginateScriptPrevTen](\"⏪\"));\n",
    "\n",
    "                        var paginateScriptPrev = BuildHideRowsScript(uniqueId) + UpdatePageIndex(uniqueId, -1, (maxRows - 1) / SIZE) + BuildPageScript(uniqueId, SIZE);\n",
    "                        footer.Add(button[style: \"margin: 2px;\", onclick: paginateScriptPrev](\"◀️\"));\n",
    "\n",
    "                        footer.Add(b[style: \"margin: 2px;\"](\"Page\"));\n",
    "                        footer.Add(b[id: $\"page_{uniqueId}\", style: \"margin: 2px;\"](\"1\"));\n",
    "\n",
    "                        var paginateScriptNext = BuildHideRowsScript(uniqueId) + UpdatePageIndex(uniqueId, 1, (maxRows - 1) / SIZE) + BuildPageScript(uniqueId, SIZE);\n",
    "                        footer.Add(button[style: \"margin: 2px;\", onclick: paginateScriptNext](\"▶️\"));\n",
    "\n",
    "                        var paginateScriptNextTen = BuildHideRowsScript(uniqueId) + UpdatePageIndex(uniqueId, 10, (maxRows - 1) / SIZE) + BuildPageScript(uniqueId, SIZE);\n",
    "                        footer.Add(button[style: \"margin: 2px;\", onclick: paginateScriptNextTen](\"⏩\"));\n",
    "\n",
    "                        var paginateScriptLast = BuildHideRowsScript(uniqueId) + GotoPageIndex(uniqueId, (maxRows - 1) / SIZE) + BuildPageScript(uniqueId, SIZE);\n",
    "                        footer.Add(button[style: \"margin: 2px;\", onclick: paginateScriptLast](\"⏭️\"));\n",
    "                    }\n",
    "                    else\n",
    "                    {\n",
    "                        BuildHideRowsScript(uniqueId);\n",
    "                        footer.Add(b[style: \"margin: 2px;\"](\"Page\"));\n",
    "                        footer.Add(b[id: $\"page_{uniqueId}\", style: \"margin: 2px;\"](\"0\"));\n",
    "                    }\n",
    "\n",
    "                    //table\n",
    "                    var t = table[id: $\"table_{uniqueId}\"](\n",
    "                        caption(title),\n",
    "                        thead(tr(header)),\n",
    "                        tbody(rows.Select(r => tr[style: \"display: none\"](r))),\n",
    "                        tfoot(tr(td[style: \"text-align: center;\"](footer)))\n",
    "                    );\n",
    "                    writer.Write(t);\n",
    "\n",
    "                }\n",
    "                else\n",
    "                {\n",
    "                    var rows = new List<List<IHtmlContent>>();\n",
    "                    for (var index = 0; index < ints.Count; index++)\n",
    "                    {\n",
    "                        var cells = new List<IHtmlContent>\n",
    "                        {\n",
    "                            td(i((index)))\n",
    "                        };\n",
    "                        //foreach (var obj in ints[index])\n",
    "                        //{\n",
    "                            //cells.Add(td(obj));\n",
    "                        //}\n",
    "                        cells.Add(td(ints[index]));\n",
    "                        rows.Add(cells);\n",
    "                    }\n",
    "\n",
    "                    //table\n",
    "                    var t = table[id: $\"table_{uniqueId}\"](\n",
    "                        thead(tr(header)),\n",
    "                        tbody(rows.Select(r => tr(r)))\n",
    "                    );\n",
    "                    writer.Write(t);\n",
    "                }\n",
    "\n",
    "                //show first page\n",
    "                writer.Write($\"<script>{BuildPageScript(uniqueId, SIZE)}</script>\");\n",
    "\n",
    "            }, \"text/html\");"
   ]
  },
  {
   "cell_type": "code",
   "execution_count": null,
   "metadata": {},
   "outputs": [],
   "source": [
    "randomNumbersA.ToList()"
   ]
  },
  {
   "cell_type": "markdown",
   "metadata": {},
   "source": [
    "#### box plot segmentation"
   ]
  },
  {
   "cell_type": "code",
   "execution_count": null,
   "metadata": {},
   "outputs": [],
   "source": [
    "var segmentationDiagram = Chart.Plot(new[] {\n",
    "    new Graph.Box { y = randomNumbersA, name = \"First set of numbers\" },\n",
    "    new Graph.Box { y = randomNumbersB, name = \"Second set of numbers\" }\n",
    "});\n",
    "\n",
    "var layout = new Layout.Layout()\n",
    "{\n",
    "    title = \"Box plot segmentation\"\n",
    "};\n",
    "segmentationDiagram.WithLayout(layout);\n",
    "\n",
    "display(segmentationDiagram);"
   ]
  },
  {
   "cell_type": "code",
   "execution_count": null,
   "metadata": {},
   "outputs": [],
   "source": []
  }
 ],
 "metadata": {
  "kernelspec": {
   "display_name": ".NET (C#)",
   "language": "C#",
   "name": ".net-csharp"
  },
  "language_info": {
   "file_extension": ".cs",
   "mimetype": "text/x-csharp",
   "name": "C#",
   "pygments_lexer": "csharp",
   "version": "8.0"
  }
 },
 "nbformat": 4,
 "nbformat_minor": 4
}
