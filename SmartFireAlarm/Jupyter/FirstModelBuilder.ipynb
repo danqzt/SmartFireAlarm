{
 "cells": [
  {
   "cell_type": "markdown",
   "metadata": {},
   "source": [
    "# A. Build First Model (no data preparation)"
   ]
  },
  {
   "cell_type": "markdown",
   "metadata": {},
   "source": [
    "### Install packages / import namespaces"
   ]
  },
  {
   "cell_type": "code",
   "execution_count": 13,
   "metadata": {},
   "outputs": [],
   "source": [
    "#r \"nuget:Microsoft.ML\"\n",
    "using Microsoft.ML;\n",
    "using Microsoft.ML.Data;"
   ]
  },
  {
   "cell_type": "markdown",
   "metadata": {},
   "source": [
    "### Load data models from Models.cs file "
   ]
  },
  {
   "cell_type": "code",
   "execution_count": 14,
   "metadata": {},
   "outputs": [],
   "source": [
    "#load \"C:\\Users\\dcost\\source\\repos\\SmartFireAlarm\\SmartFireAlarm\\Jupyter\\Models.cs\""
   ]
  },
  {
   "cell_type": "markdown",
   "metadata": {},
   "source": [
    "### Initialize the ML context (we need it for building the data and training pipelines)  "
   ]
  },
  {
   "cell_type": "code",
   "execution_count": 15,
   "metadata": {},
   "outputs": [],
   "source": [
    "MLContext mlContext = new MLContext(0);"
   ]
  },
  {
   "cell_type": "markdown",
   "metadata": {},
   "source": [
    "### Load data from csv file into a dataview"
   ]
  },
  {
   "cell_type": "code",
   "execution_count": 16,
   "metadata": {},
   "outputs": [],
   "source": [
    "const string DATASET_PATH = \"./sensors_data.csv\";\n",
    "IDataView data = mlContext.Data.LoadFromTextFile<ModelInput>(\n",
    "    path: DATASET_PATH,\n",
    "    hasHeader: true,\n",
    "    separatorChar: ',');"
   ]
  },
  {
   "cell_type": "markdown",
   "metadata": {},
   "source": [
    "### Shuffle and split data to _trainingData_ and _testingData_ by a fraction of 0.2"
   ]
  },
  {
   "cell_type": "code",
   "execution_count": 17,
   "metadata": {},
   "outputs": [],
   "source": [
    "var shuffledData = mlContext.Data.ShuffleRows(data, seed: 0);\n",
    "var split = mlContext.Data.TrainTestSplit(shuffledData, testFraction: 0.2);\n",
    "var trainingData = split.TrainSet;\n",
    "var testingData = split.TestSet;"
   ]
  },
  {
   "cell_type": "markdown",
   "metadata": {},
   "source": [
    "### Model builder pipeline"
   ]
  },
  {
   "cell_type": "code",
   "execution_count": 18,
   "metadata": {},
   "outputs": [],
   "source": [
    "var featureColumns = new string[] { \"Temperature\", \"Luminosity\", \"Infrared\" };\n",
    "\n",
    "var pipeline = mlContext.Transforms.Conversion.MapValueToKey(\"Label\")\n",
    "    .Append(mlContext.Transforms.Concatenate(\"Features\", featureColumns))\n",
    "    .Append(mlContext.Transforms.NormalizeMinMax(\"Features\"))\n",
    "    .Append(mlContext.MulticlassClassification.Trainers.SdcaNonCalibrated(\"Label\", \"Features\"))\n",
    "    .Append(mlContext.Transforms.Conversion.MapKeyToValue(\"PredictedLabel\"));"
   ]
  },
  {
   "cell_type": "markdown",
   "metadata": {},
   "source": [
    "### Train the model"
   ]
  },
  {
   "cell_type": "code",
   "execution_count": 19,
   "metadata": {},
   "outputs": [],
   "source": [
    "var model = pipeline.Fit(trainingData);"
   ]
  },
  {
   "cell_type": "code",
   "execution_count": 20,
   "metadata": {},
   "outputs": [],
   "source": [
    "var predictions = model.Transform(testingData);\n",
    "var metrics = mlContext.MulticlassClassification.Evaluate(predictions, \"Label\", \"Score\", \"PredictedLabel\");"
   ]
  },
  {
   "cell_type": "code",
   "execution_count": 21,
   "metadata": {},
   "outputs": [],
   "source": [
    "#r \"nuget:Microsoft.Data.Analysis\"\n",
    "using Microsoft.AspNetCore.Html;\n",
    "using Microsoft.Data.Analysis;"
   ]
  },
  {
   "cell_type": "markdown",
   "metadata": {},
   "source": [
    "#### Load formatter for metrics"
   ]
  },
  {
   "cell_type": "code",
   "execution_count": 22,
   "metadata": {},
   "outputs": [],
   "source": [
    "#load \"C:\\Users\\dcost\\source\\repos\\SmartFireAlarm\\SmartFireAlarm\\Jupyter\\Formatters.cs\"\n",
    "var categories = new string[] { \"FlashLight\", \"Infrared\", \"Day\", \"Lighter\" };\n",
    "Formatters.Load(categories);"
   ]
  },
  {
   "cell_type": "code",
   "execution_count": 23,
   "metadata": {},
   "outputs": [
    {
     "data": {
      "text/html": [
       "<table><thead><th><b>EVALUATION: multi-class classification</b></th><th><b>Class</b></th><th><b>Value</b></th><th><b>Note</b></th></thead><tbody><tr><td><b>MacroAccuracy</b></td><td></td><td>0.968</td><td>the closer to 1, the better</td></tr><tr><td><b>MicroAccuracy</b></td><td></td><td>0.960</td><td>the closer to 1, the better</td></tr><tr><td><b>LogLoss</b></td><td></td><td>0.937</td><td>the closer to 0, the better</td></tr><tr><td rowspan=\"5\"><b>LogLoss per Class</b></td></tr><tr><td>FlashLight</td><td>1.877</td><td>the closer to 0, the better</td></tr><tr><td>Infrared</td><td>0.000</td><td>the closer to 0, the better</td></tr><tr><td>Day</td><td>0.000</td><td>the closer to 0, the better</td></tr><tr><td>Lighter</td><td>1.309</td><td>the closer to 0, the better</td></tr></tbody></table>"
      ]
     },
     "execution_count": 23,
     "metadata": {},
     "output_type": "execute_result"
    }
   ],
   "source": [
    "metrics"
   ]
  },
  {
   "cell_type": "code",
   "execution_count": 24,
   "metadata": {},
   "outputs": [
    {
     "data": {
      "text/html": [
       "<p style=\"font-size: 24px\">FlashLight</p>"
      ]
     },
     "metadata": {},
     "output_type": "display_data"
    }
   ],
   "source": [
    "var sampleData = new ModelInput\n",
    "{\n",
    "    Luminosity = 92F,\n",
    "    Temperature = 122F,\n",
    "    Infrared = 0F\n",
    "};\n",
    "\n",
    "var predictor = mlContext.Model.CreatePredictionEngine<ModelInput, ModelOutput>(model);\n",
    "var predicted = predictor.Predict(sampleData);\n",
    "\n",
    "display(p[style: \"font-size: 24px\"]($\"{predicted.PredictedLabel}\"));"
   ]
  }
 ],
 "metadata": {
  "kernelspec": {
   "display_name": ".NET (C#)",
   "language": "C#",
   "name": ".net-csharp"
  },
  "language_info": {
   "file_extension": ".cs",
   "mimetype": "text/x-csharp",
   "name": "C#",
   "pygments_lexer": "csharp",
   "version": "8.0"
  }
 },
 "nbformat": 4,
 "nbformat_minor": 4
}
