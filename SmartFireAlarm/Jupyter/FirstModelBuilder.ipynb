{
 "cells": [
  {
   "cell_type": "markdown",
   "metadata": {},
   "source": [
    "# A. Build First Model (no data preparation)"
   ]
  },
  {
   "cell_type": "markdown",
   "metadata": {},
   "source": [
    "### Install packages / import namespaces"
   ]
  },
  {
   "cell_type": "code",
   "execution_count": 1,
   "metadata": {},
   "outputs": [
    {
     "data": {
      "text/html": [
       "<script type=\"text/javascript\">#!javascript\r\n",
       "if ((typeof(requirejs) !==  typeof(Function)) || (typeof(requirejs.config) !== typeof(Function))) { \r\n",
       "    let script = document.createElement(\"script\"); \r\n",
       "    script.setAttribute(\"src\", \"https://cdnjs.cloudflare.com/ajax/libs/require.js/2.3.6/require.min.js\"); \r\n",
       "    script.onload = function(){\r\n",
       "        loadDotnetInteractiveApi();\r\n",
       "    };\r\n",
       "    document.getElementsByTagName(\"head\")[0].appendChild(script); \r\n",
       "}\r\n",
       "else {\r\n",
       "    loadDotnetInteractiveApi();\r\n",
       "}\r\n",
       "\r\n",
       "function loadDotnetInteractiveApi(){\r\n",
       "    let apiRequire = requirejs.config({context:\"dotnet-interactive.25536.61603\",paths:{dotnetInteractive:\"http://localhost:61603/resources/dotnet-interactive\"}});\r\n",
       "    apiRequire(['dotnetInteractive'], \r\n",
       "    function(api) {       \r\n",
       "        api.createDotnetInteractiveClient(\"http://localhost:61603/\", window);\r\n",
       "    },\r\n",
       "    function(error){\r\n",
       "        console.log(error);\r\n",
       "    });\r\n",
       "}</script>"
      ]
     },
     "metadata": {},
     "output_type": "display_data"
    },
    {
     "data": {
      "text/html": [
       "Installed package Microsoft.ML version 1.4.0"
      ]
     },
     "metadata": {},
     "output_type": "display_data"
    }
   ],
   "source": [
    "#r \"nuget:Microsoft.ML\"\n",
    "using Microsoft.ML;\n",
    "using Microsoft.ML.Data;"
   ]
  },
  {
   "cell_type": "markdown",
   "metadata": {},
   "source": [
    "### Load data models from Models.cs file "
   ]
  },
  {
   "cell_type": "code",
   "execution_count": 2,
   "metadata": {},
   "outputs": [],
   "source": [
    "#load \"C:\\Users\\dcost\\source\\repos\\SmartFireAlarm\\SmartFireAlarm\\Jupyter\\Models.cs\""
   ]
  },
  {
   "cell_type": "markdown",
   "metadata": {},
   "source": [
    "### Initialize the ML context (we need it for building the data and training pipelines)  "
   ]
  },
  {
   "cell_type": "code",
   "execution_count": 3,
   "metadata": {},
   "outputs": [],
   "source": [
    "MLContext mlContext = new MLContext(0);"
   ]
  },
  {
   "cell_type": "markdown",
   "metadata": {},
   "source": [
    "### Load data from csv file into a dataview"
   ]
  },
  {
   "cell_type": "code",
   "execution_count": 4,
   "metadata": {},
   "outputs": [],
   "source": [
    "const string DATASET_PATH = \"./sensors_data.csv\";\n",
    "IDataView data = mlContext.Data.LoadFromTextFile<ModelInput>(\n",
    "    path: DATASET_PATH,\n",
    "    hasHeader: true,\n",
    "    separatorChar: ',');"
   ]
  },
  {
   "cell_type": "markdown",
   "metadata": {},
   "source": [
    "### Shuffle and split data to _trainingData_ and _testingData_ by a fraction of 0.2"
   ]
  },
  {
   "cell_type": "code",
   "execution_count": 5,
   "metadata": {},
   "outputs": [],
   "source": [
    "var shuffledData = mlContext.Data.ShuffleRows(data, seed: 0);\n",
    "var split = mlContext.Data.TrainTestSplit(shuffledData, testFraction: 0.2);\n",
    "var trainingData = split.TrainSet;\n",
    "var testingData = split.TestSet;"
   ]
  },
  {
   "cell_type": "markdown",
   "metadata": {},
   "source": [
    "### Model builder pipeline"
   ]
  },
  {
   "cell_type": "code",
   "execution_count": 6,
   "metadata": {},
   "outputs": [],
   "source": [
    "var featureColumns = new string[] { \"Temperature\", \"Luminosity\", \"Infrared\" };\n",
    "\n",
    "var pipeline = mlContext.Transforms.Conversion.MapValueToKey(\"Label\")\n",
    "    .Append(mlContext.Transforms.Concatenate(\"Features\", featureColumns))\n",
    "    .Append(mlContext.Transforms.NormalizeMinMax(\"Features\"))\n",
    "    .Append(mlContext.MulticlassClassification.Trainers.SdcaNonCalibrated(\"Label\", \"Features\"))\n",
    "    .Append(mlContext.Transforms.Conversion.MapKeyToValue(\"PredictedLabel\"));"
   ]
  },
  {
   "cell_type": "markdown",
   "metadata": {},
   "source": [
    "### Train the model"
   ]
  },
  {
   "cell_type": "code",
   "execution_count": 7,
   "metadata": {},
   "outputs": [],
   "source": [
    "var model = pipeline.Fit(trainingData);"
   ]
  },
  {
   "cell_type": "code",
   "execution_count": 8,
   "metadata": {},
   "outputs": [],
   "source": [
    "var predictions = model.Transform(testingData);\n",
    "var metrics = mlContext.MulticlassClassification.Evaluate(predictions, \"Label\", \"Score\", \"PredictedLabel\");"
   ]
  },
  {
   "cell_type": "code",
   "execution_count": 9,
   "metadata": {},
   "outputs": [
    {
     "data": {
      "text/html": [
       "Installed package Microsoft.Data.Analysis version 0.4.0"
      ]
     },
     "metadata": {},
     "output_type": "display_data"
    }
   ],
   "source": [
    "#r \"nuget:Microsoft.Data.Analysis\"\n",
    "using Microsoft.AspNetCore.Html;\n",
    "using Microsoft.Data.Analysis;\n",
    "using Microsoft.ML;\n",
    "using Microsoft.ML.Data;\n",
    "using Microsoft.ML.Trainers;\n",
    "using System.Collections.Generic;\n",
    "using static Microsoft.ML.TrainCatalogBase;"
   ]
  },
  {
   "cell_type": "code",
   "execution_count": 10,
   "metadata": {},
   "outputs": [
    {
     "data": {
      "text/html": [
       "<table><thead><th>EVALUATION: Metrics for multi-class classification model</th></thead><tbody><tr><td><b>Metric</b></td><td><b>Class</b></td><td><b>Value</b></td><td><b>Note</b></td></tr><tr><td><b>MacroAccuracy</b></td><td></td><td>0.968</td><td>the closer to 1, the better</td></tr><tr><td><b>MicroAccuracy</b></td><td></td><td>0.960</td><td>the closer to 1, the better</td></tr><tr><td><b>LogLoss</b></td><td></td><td>0.034</td><td>the closer to 0, the better</td></tr><tr><td rowspan=\"5\"><b>LogLoss by Class</b></td></tr><tr><td>FlashLight</td><td>0.071</td><td>the closer to 0, the better</td></tr><tr><td>Infrared</td><td>0.000</td><td>the closer to 0, the better</td></tr><tr><td>Day</td><td>0.000</td><td>the closer to 0, the better</td></tr><tr><td>Lighter</td><td>0.043</td><td>the closer to 0, the better</td></tr></tbody></table>"
      ]
     },
     "execution_count": 10,
     "metadata": {},
     "output_type": "execute_result"
    }
   ],
   "source": [
    "Formatter<MulticlassClassificationMetrics>.Register((m, writer) =>\n",
    "{\n",
    "    var oneMessage = \"the closer to 1, the better\";\n",
    "    var zeroMessage = \"the closer to 0, the better\";\n",
    "    var categories = new string[] { \"FlashLight\", \"Infrared\", \"Day\", \"Lighter\" };\n",
    "\n",
    "    var headers = new List<IHtmlContent>\n",
    "    {\n",
    "        th(\"EVALUATION: Metrics for multi-class classification model\")\n",
    "    };\n",
    "\n",
    "    var rows = new List<List<IHtmlContent>>();\n",
    "\n",
    "    var cells = new List<IHtmlContent>\n",
    "    {\n",
    "        td(b(\"Metric\")),\n",
    "        td(b(\"Class\")),\n",
    "        td(b(\"Value\")),\n",
    "        td(b(\"Note\"))\n",
    "    };\n",
    "    rows.Add(cells);\n",
    "\n",
    "    cells = new List<IHtmlContent>\n",
    "    {\n",
    "        td(b(\"MacroAccuracy\")),\n",
    "        td(\"\"),\n",
    "        td($\"{m.MacroAccuracy:0.000}\"),\n",
    "        td(oneMessage)\n",
    "    };\n",
    "    rows.Add(cells);\n",
    "\n",
    "    cells = new List<IHtmlContent>\n",
    "    {\n",
    "        td(b(\"MicroAccuracy\")),\n",
    "        td(\"\"),\n",
    "        td($\"{m.MicroAccuracy:0.000}\"),\n",
    "        td(oneMessage)\n",
    "    };\n",
    "    rows.Add(cells);\n",
    "\n",
    "    cells = new List<IHtmlContent>\n",
    "    {\n",
    "        td(b(\"LogLoss\")),\n",
    "        td(\"\"),\n",
    "        td($\"{m.LogLoss:0.000}\"),\n",
    "        td(zeroMessage)\n",
    "    };\n",
    "    rows.Add(cells);\n",
    "\n",
    "    cells = new List<IHtmlContent>\n",
    "    {\n",
    "        td[rowspan: $\"{m.PerClassLogLoss.Count + 1}\"](b(\"LogLoss by Class\"))\n",
    "    };\n",
    "    rows.Add(cells);\n",
    "\n",
    "    for (int i = 0; i < m.PerClassLogLoss.Count; i++)\n",
    "    {\n",
    "        cells = new List<IHtmlContent>\n",
    "        {\n",
    "            td($\"{categories[i]}\"),\n",
    "            td($\"{m.PerClassLogLoss[i]:0.000}\"),\n",
    "            td(zeroMessage)\n",
    "        };\n",
    "        rows.Add(cells);\n",
    "    }\n",
    "\n",
    "    var t = table(\n",
    "        thead(\n",
    "            headers),\n",
    "        tbody(\n",
    "            rows.Select(\n",
    "                r => tr(r))));\n",
    "    writer.Write(t);\n",
    "}, \"text/html\");\n",
    "\n",
    "metrics"
   ]
  },
  {
   "cell_type": "code",
   "execution_count": 11,
   "metadata": {},
   "outputs": [
    {
     "data": {
      "text/html": [
       "<p style=\"font-size: 24px\">FlashLight</p>"
      ]
     },
     "metadata": {},
     "output_type": "display_data"
    }
   ],
   "source": [
    "var sampleData = new ModelInput\n",
    "{\n",
    "    Luminosity = 92F,\n",
    "    Temperature = 122F,\n",
    "    Infrared = 0F\n",
    "};\n",
    "\n",
    "var predictor = mlContext.Model.CreatePredictionEngine<ModelInput, ModelOutput>(model);\n",
    "var predicted = predictor.Predict(sampleData);\n",
    "\n",
    "display(p[style: \"font-size: 24px\"]($\"{predicted.PredictedLabel}\"));"
   ]
  },
  {
   "cell_type": "code",
   "execution_count": null,
   "metadata": {},
   "outputs": [],
   "source": []
  }
 ],
 "metadata": {
  "kernelspec": {
   "display_name": ".NET (C#)",
   "language": "C#",
   "name": ".net-csharp"
  },
  "language_info": {
   "file_extension": ".cs",
   "mimetype": "text/x-csharp",
   "name": "C#",
   "pygments_lexer": "csharp",
   "version": "8.0"
  }
 },
 "nbformat": 4,
 "nbformat_minor": 4
}
