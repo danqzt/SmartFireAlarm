{
 "cells": [
  {
   "cell_type": "markdown",
   "metadata": {},
   "source": [
    "# BUILD FIRST MODEL\r\n",
    "(we build here a model with no data preparation!)"
   ]
  },
  {
   "cell_type": "code",
   "execution_count": 1,
   "metadata": {},
   "source": [
    "#r \"nuget:Microsoft.ML,1.5.2\"\r\n",
    "using Microsoft.ML;\r\n",
    "using Microsoft.ML.Data;\r\n",
    "\r\n",
    "MLContext mlContext = new MLContext(seed: 123);"
   ],
   "outputs": [
    {
     "output_type": "execute_result",
     "data": {
      "text/plain": "Installed package Microsoft.ML version 1.5.2"
     },
     "execution_count": 1,
     "metadata": {}
    }
   ]
  },
  {
   "cell_type": "code",
   "execution_count": 1,
   "metadata": {},
   "source": [
    "public class ModelInput\r\n",
    "{\r\n",
    "    [LoadColumn(0)]\r\n",
    "    public float Temperature { get; set; }\r\n",
    "\r\n",
    "    [LoadColumn(1)]\r\n",
    "    public float Luminosity { get; set; }\r\n",
    "\r\n",
    "    [LoadColumn(2)]\r\n",
    "    public float Infrared { get; set; }\r\n",
    "\r\n",
    "    [LoadColumn(3)]\r\n",
    "    public float Distance { get; set; }\r\n",
    "\r\n",
    "    [LoadColumn(4)]\r\n",
    "    public string CreatedAt { get; set; }\r\n",
    "\r\n",
    "    [ColumnName(\"Label\"), LoadColumn(5)]\r\n",
    "    public string Source { get; set; }\r\n",
    "}"
   ],
   "outputs": []
  },
  {
   "cell_type": "code",
   "execution_count": 1,
   "metadata": {},
   "source": [
    "const string TRAIN_DATASET_PATH = \"./sensors_data_train.csv\";\r\n",
    "IDataView trainingData = mlContext.Data.LoadFromTextFile<ModelInput>(\r\n",
    "    path: TRAIN_DATASET_PATH,\r\n",
    "    hasHeader: true,\r\n",
    "    separatorChar: ',');\r\n",
    "\r\n",
    "const string TEST_DATASET_PATH = \"./sensors_data_test.csv\";\r\n",
    "IDataView testingData = mlContext.Data.LoadFromTextFile<ModelInput>(\r\n",
    "    path: TEST_DATASET_PATH,\r\n",
    "    hasHeader: true,\r\n",
    "    separatorChar: ',');    "
   ],
   "outputs": []
  },
  {
   "cell_type": "code",
   "execution_count": 1,
   "metadata": {},
   "source": [
    "var featureColumns = new string[] { \"Temperature\", \"Luminosity\", \"Infrared\", \"Distance\" };\r\n",
    "\r\n",
    "var trainingPipeline = mlContext.Transforms.Conversion.MapValueToKey(\"Label\")\r\n",
    "    .Append(mlContext.Transforms.Concatenate(\"Features\", featureColumns))\r\n",
    "    .Append(mlContext.MulticlassClassification.Trainers.SdcaMaximumEntropy(\"Label\", \"Features\"))\r\n",
    "    .Append(mlContext.Transforms.Conversion.MapKeyToValue(\"PredictedLabel\"));"
   ],
   "outputs": []
  },
  {
   "cell_type": "code",
   "execution_count": 1,
   "metadata": {},
   "source": [
    "var model = trainingPipeline.Fit(trainingData);"
   ],
   "outputs": []
  },
  {
   "cell_type": "code",
   "execution_count": 1,
   "metadata": {},
   "source": [
    "var predictions = model.Transform(testingData);\r\n",
    "var metrics = mlContext.MulticlassClassification.Evaluate(predictions, \"Label\", \"Score\", \"PredictedLabel\");"
   ],
   "outputs": []
  },
  {
   "cell_type": "code",
   "execution_count": 1,
   "metadata": {},
   "source": [
    "display(p[@style:\"font-size: 40px;\"]($\"MicroAccuracy: {metrics.MicroAccuracy:P2}, MacroAccuracy: {metrics.MacroAccuracy:P2}\"));"
   ],
   "outputs": [
    {
     "output_type": "execute_result",
     "data": {
      "text/html": "<p style=\"font-size: 40px;\">MicroAccuracy: 91.93%, MacroAccuracy: 91.82%</p>"
     },
     "execution_count": 1,
     "metadata": {}
    }
   ]
  },
  {
   "cell_type": "code",
   "execution_count": 1,
   "metadata": {},
   "source": [
    ""
   ],
   "outputs": []
  }
 ],
 "metadata": {
  "kernelspec": {
   "display_name": ".NET (C#)",
   "language": "C#",
   "name": ".net-csharp"
  },
  "language_info": {
   "file_extension": ".cs",
   "mimetype": "text/x-csharp",
   "name": "C#",
   "pygments_lexer": "csharp",
   "version": "8.0"
  }
 },
 "nbformat": 4,
 "nbformat_minor": 4
}