{
 "cells": [
  {
   "cell_type": "markdown",
   "metadata": {},
   "source": [
    "# BUILD FIRST MODEL\r\n",
    "(we build here a model with no data preparation!)"
   ]
  },
  {
   "cell_type": "markdown",
   "metadata": {},
   "source": [
    "### Load ML.NET libraries and initialize the ML context"
   ]
  },
  {
   "cell_type": "code",
   "execution_count": 1,
   "metadata": {},
   "source": [
    "#r \"nuget:Microsoft.ML,1.4.0\"\r\n",
    "using Microsoft.ML;\r\n",
    "using Microsoft.ML.Data;\r\n",
    "\r\n",
    "MLContext mlContext = new MLContext(seed: 123);"
   ],
   "outputs": [
    {
     "output_type": "execute_result",
     "data": {
      "text/plain": "Installed package Microsoft.ML version 1.4.0"
     },
     "execution_count": 1,
     "metadata": {}
    }
   ]
  },
  {
   "cell_type": "markdown",
   "metadata": {},
   "source": [
    "### Load data models from Models.csx file "
   ]
  },
  {
   "cell_type": "code",
   "execution_count": 1,
   "metadata": {},
   "source": [
    "#load \"C:\\Users\\dcost\\source\\repos\\SmartFireAlarm\\SmartFireAlarm\\Jupyter\\Models.csx\""
   ],
   "outputs": []
  },
  {
   "cell_type": "markdown",
   "metadata": {},
   "source": [
    "### Load data from csv file into a dataview"
   ]
  },
  {
   "cell_type": "code",
   "execution_count": 1,
   "metadata": {},
   "source": [
    "const string TRAIN_DATASET_PATH = \"./sensors_data_train.csv\";\r\n",
    "IDataView trainingData = mlContext.Data.LoadFromTextFile<ModelInput>(\r\n",
    "    path: TRAIN_DATASET_PATH,\r\n",
    "    hasHeader: true,\r\n",
    "    separatorChar: ',');\r\n",
    "\r\n",
    "const string TEST_DATASET_PATH = \"./sensors_data_test.csv\";\r\n",
    "IDataView testingData = mlContext.Data.LoadFromTextFile<ModelInput>(\r\n",
    "    path: TEST_DATASET_PATH,\r\n",
    "    hasHeader: true,\r\n",
    "    separatorChar: ',');    "
   ],
   "outputs": []
  },
  {
   "cell_type": "markdown",
   "metadata": {},
   "source": [
    "### Model builder pipeline"
   ]
  },
  {
   "cell_type": "code",
   "execution_count": 1,
   "metadata": {},
   "source": [
    "var featureColumns = new string[] { \"Temperature\", \"Luminosity\", \"Infrared\", \"Distance\" };\r\n",
    "\r\n",
    "var trainingPipeline = mlContext.Transforms.Conversion.MapValueToKey(\"Label\")\r\n",
    "    .Append(mlContext.Transforms.Concatenate(\"Features\", featureColumns))\r\n",
    "    .Append(mlContext.MulticlassClassification.Trainers.SdcaMaximumEntropy(\"Label\", \"Features\"))\r\n",
    "    .Append(mlContext.Transforms.Conversion.MapKeyToValue(\"PredictedLabel\"));"
   ],
   "outputs": []
  },
  {
   "cell_type": "markdown",
   "metadata": {},
   "source": [
    "### Train the model"
   ]
  },
  {
   "cell_type": "code",
   "execution_count": 1,
   "metadata": {},
   "source": [
    "var model = trainingPipeline.Fit(trainingData);"
   ],
   "outputs": []
  },
  {
   "cell_type": "markdown",
   "metadata": {},
   "source": [
    "### Evaluate the model"
   ]
  },
  {
   "cell_type": "code",
   "execution_count": 1,
   "metadata": {},
   "source": [
    "var predictions = model.Transform(testingData);\r\n",
    "var metrics = mlContext.MulticlassClassification.Evaluate(predictions, \"Label\", \"Score\", \"PredictedLabel\");"
   ],
   "outputs": []
  },
  {
   "cell_type": "markdown",
   "metadata": {},
   "source": [
    "### Load formatter for metrics"
   ]
  },
  {
   "cell_type": "code",
   "execution_count": 1,
   "metadata": {},
   "source": [
    "//#r \"nuget:ApexCode.Interactive.Formatting,0.0.1-beta.5\"\r\n",
    "//using ApexCode.Interactive.Formatting;\r\n",
    "#load \"C:\\Users\\dcost\\source\\repos\\SmartFireAlarm\\SmartFireAlarm\\Jupyter\\Formatters.csx\"\r\n",
    "#r \"nuget:Microsoft.Data.Analysis\"\r\n",
    "using Microsoft.Data.Analysis;\r\n",
    ""
   ],
   "outputs": [
    {
     "output_type": "execute_result",
     "data": {
      "text/plain": "Installed package Microsoft.Data.Analysis version 0.4.0"
     },
     "execution_count": 1,
     "metadata": {}
    }
   ]
  },
  {
   "cell_type": "code",
   "execution_count": 1,
   "metadata": {},
   "source": [
    "\r\n",
    "Formatters.Categories = new string[] { \"FlashLight\", \"Infrared\", \"Day\", \"Lighter\" };\r\n",
    "Formatters.Register<ConfusionMatrix>();"
   ],
   "outputs": []
  },
  {
   "cell_type": "markdown",
   "metadata": {},
   "source": [
    "### See the model quality"
   ]
  },
  {
   "cell_type": "code",
   "execution_count": 1,
   "metadata": {},
   "source": [
    "Formatters.Register<MulticlassClassificationMetrics>();\r\n",
    "display(metrics)"
   ],
   "outputs": [
    {
     "output_type": "execute_result",
     "data": {
      "text/html": "<table><thead><th><b>EVALUATION: multi-class classification</b></th><th><b>Class</b></th><th><b>Value</b></th><th><b>Note</b></th></thead><tbody><tr><td><b>MacroAccuracy</b></td><td></td><td>0.911</td><td>the closer to 1, the better</td></tr><tr><td><b>MicroAccuracy</b></td><td></td><td>0.928</td><td>the closer to 1, the better</td></tr><tr><td><b>LogLoss</b></td><td></td><td>0.320</td><td>the closer to 0, the better</td></tr><tr><td rowspan=\"5\"><b>LogLoss per Class</b></td></tr><tr><td>FlashLight</td><td>0.174</td><td>the closer to 0, the better</td></tr><tr><td>Infrared</td><td>0.658</td><td>the closer to 0, the better</td></tr><tr><td>Day</td><td>0.261</td><td>the closer to 0, the better</td></tr><tr><td>Lighter</td><td>0.382</td><td>the closer to 0, the better</td></tr></tbody></table>"
     },
     "execution_count": 1,
     "metadata": {}
    }
   ]
  },
  {
   "cell_type": "code",
   "execution_count": 1,
   "metadata": {},
   "source": [
    "display(p[@style:\"font-size: 40px;\"]($\"MicroAccuracy: {metrics.MicroAccuracy:P2}, MacroAccuracy: {metrics.MacroAccuracy:P2}\"));"
   ],
   "outputs": [
    {
     "output_type": "execute_result",
     "data": {
      "text/html": "<p style=\"font-size: 40px;\">MicroAccuracy: 92.83%, MacroAccuracy: 91.09%</p>"
     },
     "execution_count": 1,
     "metadata": {}
    }
   ]
  },
  {
   "cell_type": "markdown",
   "metadata": {},
   "source": [
    "### Predict data"
   ]
  },
  {
   "cell_type": "code",
   "execution_count": 1,
   "metadata": {},
   "source": [
    "var sampleData = new ModelInput\r\n",
    "{\r\n",
    "    Luminosity = 12F,\r\n",
    "    Temperature = 22F,\r\n",
    "    Infrared = 40F,\r\n",
    "    Distance = 0F,\r\n",
    "    CreatedAt = \"01/03/2020 10:22:08\"\r\n",
    "};\r\n",
    "\r\n",
    "var predictor = mlContext.Model.CreatePredictionEngine<ModelInput, ModelOutput>(model);\r\n",
    "var predicted = predictor.Predict(sampleData);"
   ],
   "outputs": []
  },
  {
   "cell_type": "code",
   "execution_count": 1,
   "metadata": {},
   "source": [
    "display(p[@style:\"font-size: 40px;\"]($\"{predicted.PredictedLabel}\"));\r\n",
    ""
   ],
   "outputs": []
  },
  {
   "cell_type": "code",
   "execution_count": 1,
   "metadata": {},
   "source": [
    "\r\n",
    "#r \"nuget:MathNet.Numerics\"\r\n",
    "#load \"C:\\Users\\dcost\\source\\repos\\SmartFireAlarm\\SmartFireAlarm\\Jupyter\\Helpers.csx\"\r\n",
    "display(Helpers.GetPredictionPerClass(predicted, predictor.OutputSchema));"
   ],
   "outputs": []
  },
  {
   "cell_type": "markdown",
   "metadata": {},
   "source": [
    "### Save the model"
   ]
  },
  {
   "cell_type": "code",
   "execution_count": 1,
   "metadata": {},
   "source": [
    "mlContext.Model.Save(model, trainingData.Schema, \"model.zip\");"
   ],
   "outputs": []
  },
  {
   "cell_type": "code",
   "execution_count": 1,
   "metadata": {},
   "source": [
    ""
   ],
   "outputs": []
  }
 ],
 "metadata": {
  "kernelspec": {
   "display_name": ".NET (C#)",
   "language": "C#",
   "name": ".net-csharp"
  },
  "language_info": {
   "file_extension": ".cs",
   "mimetype": "text/x-csharp",
   "name": "C#",
   "pygments_lexer": "csharp",
   "version": "8.0"
  }
 },
 "nbformat": 4,
 "nbformat_minor": 4
}