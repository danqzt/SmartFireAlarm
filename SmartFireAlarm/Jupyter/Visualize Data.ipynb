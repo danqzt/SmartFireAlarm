{
 "cells": [
  {
   "cell_type": "markdown",
   "metadata": {},
   "source": [
    "# VISUALIZE DATA\r\n",
    "(collections and DataFrame)"
   ]
  },
  {
   "cell_type": "code",
   "execution_count": 1,
   "metadata": {},
   "source": [
    "#r \"nuget:Microsoft.ML,1.5.2\"\r\n",
    "using XPlot.Plotly;\r\n",
    "using Microsoft.ML;\r\n",
    "using Microsoft.ML.Data;\r\n",
    "\r\n",
    "Microsoft.ML.MLContext mlContext = new Microsoft.ML.MLContext(seed: 1);"
   ],
   "outputs": []
  },
  {
   "cell_type": "markdown",
   "metadata": {},
   "source": [
    "## 1. Load Data"
   ]
  },
  {
   "cell_type": "code",
   "execution_count": 1,
   "metadata": {},
   "source": [
    "#load \"C:\\Users\\dcost\\source\\repos\\SmartFireAlarm\\SmartFireAlarm\\Jupyter\\Models.csx\"\r\n",
    "\r\n",
    "const string DATASET_PATH = \"./sensors_data.csv\";\r\n",
    "IDataView data = mlContext.Data.LoadFromTextFile<ModelInput>(\r\n",
    "    path: DATASET_PATH,\r\n",
    "    hasHeader: true,\r\n",
    "    separatorChar: ',');"
   ],
   "outputs": []
  },
  {
   "cell_type": "markdown",
   "metadata": {},
   "source": [
    "## 2. DataFrame\r\n",
    "(explore data with Microsoft.Data.Analysis)"
   ]
  },
  {
   "cell_type": "code",
   "execution_count": 1,
   "metadata": {},
   "source": [
    "#r \"nuget:Microsoft.Data.Analysis\"\r\n",
    "using Microsoft.AspNetCore.Html;\r\n",
    "using Microsoft.Data.Analysis;"
   ],
   "outputs": [
    {
     "output_type": "execute_result",
     "data": {
      "text/plain": "Installed package Microsoft.Data.Analysis version 0.4.0"
     },
     "execution_count": 1,
     "metadata": {}
    }
   ]
  },
  {
   "cell_type": "markdown",
   "metadata": {},
   "source": [
    "### Load data into data frame"
   ]
  },
  {
   "cell_type": "code",
   "execution_count": 1,
   "metadata": {},
   "source": [
    "//const string DATASET_PATH = \"./taxi.csv\";\r\n",
    "const string DATASET_PATH = \"./sensors_data.csv\";\r\n",
    "var dataFrame = DataFrame.LoadCsv(DATASET_PATH);"
   ],
   "outputs": []
  },
  {
   "cell_type": "code",
   "execution_count": 1,
   "metadata": {},
   "source": [
    "//#r \"nuget:ApexCode.Interactive.Formatting,0.0.1-beta.5\"\r\n",
    "//using ApexCode.Interactive.Formatting;\r\n",
    "\r\n",
    "#load \"C:\\Users\\dcost\\source\\repos\\SmartFireAlarm\\SmartFireAlarm\\Jupyter\\Formatters.csx\"\r\n",
    "Formatters.Categories = new string[] { \"FlashLight\", \"Infrared\", \"Day\", \"Lighter\" };\r\n",
    "Formatters.Register<DataFrame>();"
   ],
   "outputs": []
  },
  {
   "cell_type": "code",
   "execution_count": 1,
   "metadata": {},
   "source": [
    "dataFrame"
   ],
   "outputs": [
    {
     "output_type": "execute_result",
     "data": {
      "text/html": "<table><thead><th><i>index</i></th><th>Temperature</th><th>Luminosity</th><th>Infrared</th><th>Distance</th><th>CreatedAt</th><th>Source</th></thead><tbody><tr><td><div class=\"dni-plaintext\">0</div></td><td><div class=\"dni-plaintext\">24.77</div></td><td><div class=\"dni-plaintext\">63.96</div></td><td><div class=\"dni-plaintext\">0</div></td><td><div class=\"dni-plaintext\">242.96</div></td><td>01/03/2020 10:22:01</td><td>FlashLight</td></tr><tr><td><div class=\"dni-plaintext\">1</div></td><td><div class=\"dni-plaintext\">24.77</div></td><td><div class=\"dni-plaintext\">64.06</div></td><td><div class=\"dni-plaintext\">0</div></td><td><div class=\"dni-plaintext\">301.72</div></td><td>01/03/2020 10:22:02</td><td>FlashLight</td></tr><tr><td><div class=\"dni-plaintext\">2</div></td><td><div class=\"dni-plaintext\">24.77</div></td><td><div class=\"dni-plaintext\">64.06</div></td><td><div class=\"dni-plaintext\">0</div></td><td><div class=\"dni-plaintext\">71.52</div></td><td>01/03/2020 10:22:03</td><td>FlashLight</td></tr><tr><td><div class=\"dni-plaintext\">3</div></td><td><div class=\"dni-plaintext\">24.44</div></td><td><div class=\"dni-plaintext\">63.18</div></td><td><div class=\"dni-plaintext\">0</div></td><td><div class=\"dni-plaintext\">366.22</div></td><td>01/03/2020 10:22:04</td><td>FlashLight</td></tr><tr><td><div class=\"dni-plaintext\">4</div></td><td><div class=\"dni-plaintext\">24.12</div></td><td><div class=\"dni-plaintext\">69.14</div></td><td><div class=\"dni-plaintext\">0</div></td><td><div class=\"dni-plaintext\">350.8</div></td><td>01/03/2020 10:22:05</td><td>FlashLight</td></tr><tr><td><div class=\"dni-plaintext\">5</div></td><td><div class=\"dni-plaintext\">23.8</div></td><td><div class=\"dni-plaintext\">65.62</div></td><td><div class=\"dni-plaintext\">0</div></td><td><div class=\"dni-plaintext\">13.86</div></td><td>01/03/2020 10:22:06</td><td>FlashLight</td></tr><tr><td><div class=\"dni-plaintext\">6</div></td><td><div class=\"dni-plaintext\">23.8</div></td><td><div class=\"dni-plaintext\">66.41</div></td><td><div class=\"dni-plaintext\">0</div></td><td><div class=\"dni-plaintext\">290.37</div></td><td>01/03/2020 10:22:07</td><td>FlashLight</td></tr><tr><td><div class=\"dni-plaintext\">7</div></td><td><div class=\"dni-plaintext\">24.77</div></td><td><div class=\"dni-plaintext\">68.85</div></td><td><div class=\"dni-plaintext\">0</div></td><td><div class=\"dni-plaintext\">382.72</div></td><td>01/03/2020 10:22:08</td><td>FlashLight</td></tr><tr><td><div class=\"dni-plaintext\">8</div></td><td><div class=\"dni-plaintext\">24.77</div></td><td><div class=\"dni-plaintext\">69.14</div></td><td><div class=\"dni-plaintext\">0</div></td><td><div class=\"dni-plaintext\">322.63</div></td><td>01/03/2020 10:22:09</td><td>FlashLight</td></tr><tr><td><div class=\"dni-plaintext\">9</div></td><td><div class=\"dni-plaintext\">24.44</div></td><td><div class=\"dni-plaintext\">67.58</div></td><td><div class=\"dni-plaintext\">0</div></td><td><div class=\"dni-plaintext\">366.69</div></td><td>01/03/2020 10:22:10</td><td>FlashLight</td></tr></tbody></table>"
     },
     "execution_count": 1,
     "metadata": {}
    }
   ]
  },
  {
   "cell_type": "code",
   "execution_count": 1,
   "metadata": {},
   "source": [
    "dataFrame.Description()"
   ],
   "outputs": [
    {
     "output_type": "execute_result",
     "data": {
      "text/html": "<table><thead><th><i>index</i></th><th>Description</th><th>Temperature</th><th>Luminosity</th><th>Infrared</th><th>Distance</th></thead><tbody><tr><td><div class=\"dni-plaintext\">0</div></td><td>Length (excluding null values)</td><td><div class=\"dni-plaintext\">803</div></td><td><div class=\"dni-plaintext\">803</div></td><td><div class=\"dni-plaintext\">803</div></td><td><div class=\"dni-plaintext\">803</div></td></tr><tr><td><div class=\"dni-plaintext\">1</div></td><td>Max</td><td><div class=\"dni-plaintext\">157.22</div></td><td><div class=\"dni-plaintext\">100</div></td><td><div class=\"dni-plaintext\">96.78</div></td><td><div class=\"dni-plaintext\">400</div></td></tr><tr><td><div class=\"dni-plaintext\">2</div></td><td>Min</td><td><div class=\"dni-plaintext\">23.28</div></td><td><div class=\"dni-plaintext\">3.91</div></td><td><div class=\"dni-plaintext\">0</div></td><td><div class=\"dni-plaintext\">4.19</div></td></tr><tr><td><div class=\"dni-plaintext\">3</div></td><td>Mean</td><td><div class=\"dni-plaintext\">35.101135</div></td><td><div class=\"dni-plaintext\">49.95586</div></td><td><div class=\"dni-plaintext\">23.036049</div></td><td><div class=\"dni-plaintext\">185.35147</div></td></tr></tbody></table>"
     },
     "execution_count": 1,
     "metadata": {}
    }
   ]
  },
  {
   "cell_type": "code",
   "execution_count": 1,
   "metadata": {},
   "source": [
    ""
   ],
   "outputs": []
  }
 ],
 "metadata": {
  "kernelspec": {
   "display_name": ".NET (C#)",
   "language": "C#",
   "name": ".net-csharp"
  },
  "language_info": {
   "file_extension": ".cs",
   "mimetype": "text/x-csharp",
   "name": "C#",
   "pygments_lexer": "csharp",
   "version": "8.0"
  }
 },
 "nbformat": 4,
 "nbformat_minor": 4
}