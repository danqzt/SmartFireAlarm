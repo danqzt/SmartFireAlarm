{
 "cells": [
  {
   "cell_type": "markdown",
   "metadata": {},
   "source": [
    "# PREPARE DATA\n",
    "## (build data preparation pipeline and training pipeline)"
   ]
  },
  {
   "cell_type": "markdown",
   "metadata": {},
   "source": [
    "#### Install packages / import namespaces"
   ]
  },
  {
   "cell_type": "code",
   "execution_count": null,
   "metadata": {},
   "outputs": [],
   "source": [
    "#r \"nuget:Microsoft.ML,1.5.0\"\n",
    "using XPlot.Plotly;\n",
    "using System.Linq;\n",
    "using Microsoft.ML;\n",
    "using Microsoft.ML.Data;"
   ]
  },
  {
   "cell_type": "markdown",
   "metadata": {},
   "source": [
    "# 1. LOAD DATA"
   ]
  },
  {
   "cell_type": "markdown",
   "metadata": {},
   "source": [
    "#### Load data models from Models.csx file "
   ]
  },
  {
   "cell_type": "code",
   "execution_count": null,
   "metadata": {},
   "outputs": [],
   "source": [
    "#load \"C:\\Users\\dcost\\source\\repos\\SmartFireAlarm\\SmartFireAlarm\\Jupyter\\Models.csx\""
   ]
  },
  {
   "cell_type": "markdown",
   "metadata": {},
   "source": [
    "#### Initialize the ML context (we need it for building the data and training pipelines)  "
   ]
  },
  {
   "cell_type": "code",
   "execution_count": null,
   "metadata": {},
   "outputs": [],
   "source": [
    "MLContext mlContext = new MLContext(0);"
   ]
  },
  {
   "cell_type": "markdown",
   "metadata": {},
   "source": [
    "#### Load data from csv file into a dataview"
   ]
  },
  {
   "cell_type": "code",
   "execution_count": null,
   "metadata": {},
   "outputs": [],
   "source": [
    "const string DATASET_PATH = \"./sensors_data.csv\";\n",
    "IDataView data = mlContext.Data.LoadFromTextFile<ModelInput>(\n",
    "    path: DATASET_PATH,\n",
    "    hasHeader: true,\n",
    "    separatorChar: ',');"
   ]
  },
  {
   "cell_type": "markdown",
   "metadata": {},
   "source": [
    "#### Shuffle and split data to _trainingData_ and _testingData_ by a fraction of 0.2"
   ]
  },
  {
   "cell_type": "code",
   "execution_count": null,
   "metadata": {},
   "outputs": [],
   "source": [
    "var shuffledData = mlContext.Data.ShuffleRows(data, seed: 0);\n",
    "var split = mlContext.Data.TrainTestSplit(shuffledData, testFraction: 0.2);\n",
    "var trainingData = split.TrainSet;\n",
    "var testingData = split.TestSet;"
   ]
  },
  {
   "cell_type": "markdown",
   "metadata": {},
   "source": [
    "\n",
    "#### Convert data to collection (examine data)"
   ]
  },
  {
   "cell_type": "code",
   "execution_count": null,
   "metadata": {},
   "outputs": [],
   "source": [
    "var features = mlContext.Data.CreateEnumerable<ModelInput>(trainingData, true);\n",
    "\n",
    "display(features.Take(10));"
   ]
  },
  {
   "cell_type": "markdown",
   "metadata": {},
   "source": [
    "#### Categorical distribution"
   ]
  },
  {
   "cell_type": "code",
   "execution_count": null,
   "metadata": {},
   "outputs": [],
   "source": [
    "var sources = features.Select(f => f.Source);\n",
    "var temperatures = features.Select(f => f.Temperature);\n",
    "var luminosities = features.Select(f => f.Luminosity);\n",
    "var infrareds = features.Select(f => f.Infrared);\n",
    "var distances = features.Select(f => f.Distance);\n",
    "var hours = features.Select(f => DateTime.Parse(f.CreatedAt).Hour);\n",
    "var days = features.Select(f => DateTime.Parse(f.CreatedAt).DayOfYear);"
   ]
  },
  {
   "cell_type": "code",
   "execution_count": null,
   "metadata": {},
   "outputs": [],
   "source": [
    "var categoriesHistogram = Chart.Plot(\n",
    "    new Graph.Histogram { x = sources }\n",
    ");\n",
    "\n",
    "var layout = new Layout.Layout()\n",
    "{\n",
    "    title = \"Categories distribution\"\n",
    "};\n",
    "categoriesHistogram.WithLayout(layout);\n",
    "\n",
    "display(categoriesHistogram);"
   ]
  },
  {
   "cell_type": "code",
   "execution_count": null,
   "metadata": {},
   "outputs": [],
   "source": [
    "var testingFeatures = mlContext.Data.CreateEnumerable<ModelInput>(testingData, true);\n",
    "var testingSources = testingFeatures.Select(f => f.Source);\n",
    "\n",
    "var categoriesHistogram = Chart.Plot(\n",
    "    new Graph.Histogram { x = testingSources }\n",
    ");\n",
    "\n",
    "var layout = new Layout.Layout()\n",
    "{\n",
    "    title = \"Categories distribution (testing data)\"\n",
    "};\n",
    "categoriesHistogram.WithLayout(layout);\n",
    "\n",
    "display(categoriesHistogram);"
   ]
  },
  {
   "cell_type": "markdown",
   "metadata": {},
   "source": [
    "#### Numerical distribution - temperature"
   ]
  },
  {
   "cell_type": "code",
   "execution_count": null,
   "metadata": {},
   "outputs": [],
   "source": [
    "var temperaturesHistogram = Chart.Plot(\n",
    "    new Graph.Histogram { x = temperatures }\n",
    ");\n",
    "\n",
    "var layout = new Layout.Layout()\n",
    "{\n",
    "    title = \"Temperature histogram\"\n",
    "};\n",
    "temperaturesHistogram.WithLayout(layout);\n",
    "\n",
    "display(temperaturesHistogram);"
   ]
  },
  {
   "cell_type": "code",
   "execution_count": null,
   "metadata": {},
   "outputs": [],
   "source": [
    "var luminositiesHistogram = Chart.Plot(\n",
    "    new Graph.Histogram { x = luminosities }\n",
    ");\n",
    "\n",
    "var layout = new Layout.Layout()\n",
    "{\n",
    "    title = \"Luminosity histogram\"\n",
    "};\n",
    "luminositiesHistogram.WithLayout(layout);\n",
    "\n",
    "display(luminositiesHistogram);"
   ]
  },
  {
   "cell_type": "code",
   "execution_count": null,
   "metadata": {},
   "outputs": [],
   "source": [
    "var infraredsHistogram = Chart.Plot(\n",
    "    new Graph.Histogram { x = infrareds }\n",
    ");\n",
    "\n",
    "var layout = new Layout.Layout()\n",
    "{\n",
    "    title = \"Infrared histogram\"\n",
    "};\n",
    "infraredsHistogram.WithLayout(layout);\n",
    "\n",
    "display(infraredsHistogram);"
   ]
  },
  {
   "cell_type": "code",
   "execution_count": null,
   "metadata": {},
   "outputs": [],
   "source": [
    "var distancesHistogram = Chart.Plot(\n",
    "    new Graph.Histogram { x = distances }\n",
    ");\n",
    "\n",
    "var layout = new Layout.Layout()\n",
    "{\n",
    "    title = \"Distance histogram\"\n",
    "};\n",
    "distancesHistogram.WithLayout(layout);\n",
    "\n",
    "display(distancesHistogram);"
   ]
  },
  {
   "cell_type": "code",
   "execution_count": null,
   "metadata": {},
   "outputs": [],
   "source": [
    "var hoursHistogram = Chart.Plot(\n",
    "    new Graph.Histogram { x = hours }\n",
    ");\n",
    "\n",
    "var layout = new Layout.Layout()\n",
    "{\n",
    "    title = \"Hour histogram\"\n",
    "};\n",
    "hoursHistogram.WithLayout(layout);\n",
    "\n",
    "display(hoursHistogram);"
   ]
  },
  {
   "cell_type": "code",
   "execution_count": null,
   "metadata": {},
   "outputs": [],
   "source": [
    "var daysHistogram = Chart.Plot(\n",
    "    new Graph.Histogram { x = days }\n",
    ");\n",
    "\n",
    "var layout = new Layout.Layout()\n",
    "{\n",
    "    title = \"Day histogram\"\n",
    "};\n",
    "daysHistogram.WithLayout(layout);\n",
    "\n",
    "display(daysHistogram);"
   ]
  },
  {
   "cell_type": "markdown",
   "metadata": {},
   "source": [
    "#### Box plot segmentation"
   ]
  },
  {
   "cell_type": "code",
   "execution_count": null,
   "metadata": {},
   "outputs": [],
   "source": [
    "var segmentationDiagram = Chart.Plot(new[] {\n",
    "    new Graph.Box { y = temperatures, name = \"Temperature\" },\n",
    "    new Graph.Box { y = luminosities, name = \"Luminosity\" },\n",
    "    new Graph.Box { y = infrareds, name = \"Infrared\" },\n",
    "    new Graph.Box { y = distances, name = \"Distance\" },\n",
    "    new Graph.Box { y = hours, name = \"Hour of Day\" },\n",
    "    new Graph.Box { y = days, name = \"Day of Year\" }\n",
    "});\n",
    "\n",
    "var layout = new Layout.Layout()\n",
    "{\n",
    "    title = \"Box plot segmentation\"\n",
    "};\n",
    "segmentationDiagram.WithLayout(layout);\n",
    "\n",
    "display(segmentationDiagram);"
   ]
  },
  {
   "cell_type": "markdown",
   "metadata": {},
   "source": [
    "#### Correlation matrix"
   ]
  },
  {
   "cell_type": "code",
   "execution_count": null,
   "metadata": {},
   "outputs": [],
   "source": [
    "#r \"nuget:MathNet.Numerics\""
   ]
  },
  {
   "cell_type": "markdown",
   "metadata": {},
   "source": [
    "#### Load helpers (see file Helpers.csx)"
   ]
  },
  {
   "cell_type": "code",
   "execution_count": null,
   "metadata": {},
   "outputs": [],
   "source": [
    "#load \"C:\\Users\\dcost\\source\\repos\\SmartFireAlarm\\SmartFireAlarm\\Jupyter\\Helpers.csx\""
   ]
  },
  {
   "cell_type": "code",
   "execution_count": null,
   "metadata": {},
   "outputs": [],
   "source": [
    "var featureColumns = new string[] { \"Temperature\", \"Luminosity\", \"Infrared\", \"Distance\", \"Hour\", \"Day\" };\n",
    "\n",
    "var featureMatrix = new List<List<double>>();\n",
    "\n",
    "featureMatrix.Add(temperatures.Select(Convert.ToDouble).ToList());\n",
    "featureMatrix.Add(luminosities.Select(Convert.ToDouble).ToList());\n",
    "featureMatrix.Add(infrareds.Select(Convert.ToDouble).ToList());\n",
    "featureMatrix.Add(distances.Select(Convert.ToDouble).ToList());\n",
    "featureMatrix.Add(hours.Select(Convert.ToDouble).ToList());\n",
    "featureMatrix.Add(days.Select(Convert.ToDouble).ToList());\n",
    "\n",
    "var correlationMatrix = Chart.Plot(\n",
    "    new Graph.Heatmap \n",
    "    {\n",
    "        x = featureColumns,\n",
    "        y = featureColumns.Reverse(),\n",
    "        z = Helpers.GetPearsonCorrelation(featureMatrix),\n",
    "        zmin = -1,\n",
    "        zmax = 1\n",
    "    }\n",
    ");\n",
    "\n",
    "var layout = new Layout.Layout()\n",
    "{\n",
    "    autosize = \"true\", \n",
    "    margin =  new Graph.Margin{ l = 90 }, // fix left margin to accomodate longer labels\n",
    "    title = \"Features Correlation Matrix\"\n",
    "};\n",
    "correlationMatrix.WithLayout(layout);\n",
    "display(correlationMatrix);"
   ]
  },
  {
   "cell_type": "markdown",
   "metadata": {},
   "source": [
    "# 2. PREPROCESSING PIPELINE\n",
    "> Map value (string) to key (number)   \n",
    "> Custom mapping  \n",
    "> Concatenate features  \n",
    "> Normalize features  \n",
    "> Drop unused columns "
   ]
  },
  {
   "cell_type": "markdown",
   "metadata": {},
   "source": [
    "#### Selected features for building the model "
   ]
  },
  {
   "cell_type": "code",
   "execution_count": null,
   "metadata": {},
   "outputs": [],
   "source": [
    "var featureColumns = new[] { \"Temperature\", \"Luminosity\", \"Infrared\", \"Distance\", \"Hour\", \"Day\" };"
   ]
  },
  {
   "cell_type": "markdown",
   "metadata": {},
   "source": [
    "#### Build the preprocessing pipeline"
   ]
  },
  {
   "cell_type": "code",
   "execution_count": null,
   "metadata": {},
   "outputs": [],
   "source": [
    "var preprocessingPipeline = mlContext.Transforms.Conversion.MapValueToKey(\"Label\")\n",
    "    .Append(mlContext.Transforms.CustomMapping<CustomInputRow, CustomOutputRow>\n",
    "        (CustomMappings.IncomeMapping, nameof(CustomMappings.IncomeMapping)))\n",
    "    .Append(mlContext.Transforms.Concatenate(\"Features\", featureColumns))\n",
    "    .Append(mlContext.Transforms.NormalizeMinMax(\"Features\"));"
   ]
  },
  {
   "cell_type": "markdown",
   "metadata": {},
   "source": [
    "#### Box plot segmentation for normalized data"
   ]
  },
  {
   "cell_type": "code",
   "execution_count": null,
   "metadata": {},
   "outputs": [],
   "source": [
    "var normalizedData = preprocessingPipeline.Fit(trainingData).Transform(trainingData);\n",
    "var normalizedFeatures = normalizedData.GetColumn<float[]>(\"Features\").ToArray();\n",
    "\n",
    "var normalizedTemperatures = normalizedFeatures.Select(f => f[0]);\n",
    "var normalizedLuminosities = normalizedFeatures.Select(f => f[1]);\n",
    "var normalizedInfrareds = normalizedFeatures.Select(f => f[2]);\n",
    "var normalizedDistances = normalizedFeatures.Select(f => f[3]);\n",
    "var normalizedHours = normalizedFeatures.Select(f => f[4]);\n",
    "var normalizedDays = normalizedFeatures.Select(f => f[5]);"
   ]
  },
  {
   "cell_type": "code",
   "execution_count": null,
   "metadata": {},
   "outputs": [],
   "source": [
    "var segmentationNormalizedFeatures = Chart.Plot(new[] {\n",
    "    new Graph.Box { y = normalizedTemperatures, name = \"Temperature\" },\n",
    "    new Graph.Box { y = normalizedLuminosities, name = \"Luminosity\" },\n",
    "    new Graph.Box { y = normalizedInfrareds, name = \"Infrared\" },\n",
    "    new Graph.Box { y = normalizedDistances, name = \"Distance\" },\n",
    "    new Graph.Box { y = normalizedHours, name = \"Hour of Day\" },\n",
    "    new Graph.Box { y = normalizedDays, name = \"Day of Year\" }\n",
    "});\n",
    "\n",
    "var layout = new Layout.Layout()\n",
    "{\n",
    "    title = \"Box plot segmentation\"\n",
    "};\n",
    "segmentationNormalizedFeatures.WithLayout(layout);\n",
    "\n",
    "display(segmentationNormalizedFeatures);"
   ]
  },
  {
   "cell_type": "markdown",
   "metadata": {},
   "source": [
    "#### Build the pre-processing pipeline"
   ]
  },
  {
   "cell_type": "code",
   "execution_count": null,
   "metadata": {},
   "outputs": [],
   "source": [
    "var trainingPipeline = preprocessingPipeline\n",
    "    .Append(mlContext.MulticlassClassification.Trainers.SdcaNonCalibrated(\"Label\", \"Features\"));"
   ]
  },
  {
   "cell_type": "markdown",
   "metadata": {},
   "source": [
    "#### Build the post-processing pipeline"
   ]
  },
  {
   "cell_type": "code",
   "execution_count": null,
   "metadata": {},
   "outputs": [],
   "source": [
    "var postprocessingPipeline = trainingPipeline\n",
    "    .Append(mlContext.Transforms.Conversion.MapKeyToValue(\"PredictedLabel\"));"
   ]
  },
  {
   "cell_type": "markdown",
   "metadata": {},
   "source": [
    "# 3. VALIDATE MODEL"
   ]
  },
  {
   "cell_type": "code",
   "execution_count": null,
   "metadata": {},
   "outputs": [],
   "source": [
    "#r \"nuget:Microsoft.Data.Analysis\"\n",
    "using Microsoft.AspNetCore.Html;\n",
    "using Microsoft.Data.Analysis;\n",
    "using Microsoft.ML;\n",
    "using Microsoft.ML.Data;\n",
    "using Microsoft.ML.Trainers;\n",
    "using System.Collections.Generic;\n",
    "using static Microsoft.ML.TrainCatalogBase;"
   ]
  },
  {
   "cell_type": "markdown",
   "metadata": {},
   "source": [
    "#### Loads Confusion Matrix Formatter (see Formatters.csx)"
   ]
  },
  {
   "cell_type": "code",
   "execution_count": null,
   "metadata": {},
   "outputs": [],
   "source": [
    "#load \"C:\\Users\\dcost\\source\\repos\\SmartFireAlarm\\SmartFireAlarm\\Jupyter\\Formatters.csx\"\n",
    "var categories = new string[] { \"FlashLight\", \"Infrared\", \"Day\", \"Lighter\" };\n",
    "Formatters.Load(categories);"
   ]
  },
  {
   "cell_type": "code",
   "execution_count": null,
   "metadata": {},
   "outputs": [],
   "source": [
    "var crossValidationResults = mlContext.MulticlassClassification.CrossValidate(trainingData, postprocessingPipeline, numberOfFolds: 5, labelColumnName: \"Label\");\n",
    "display(crossValidationResults.ToList())"
   ]
  },
  {
   "cell_type": "markdown",
   "metadata": {},
   "source": [
    "#### Permuation Feature Importance (PFI)"
   ]
  },
  {
   "cell_type": "markdown",
   "metadata": {},
   "source": [
    "#### Model weights and biases"
   ]
  },
  {
   "cell_type": "code",
   "execution_count": null,
   "metadata": {},
   "outputs": [],
   "source": [
    "var categories = new string[] { \"FlashLight\", \"Infrared\", \"Day\", \"Lighter\" };\n",
    "\n",
    "var modelForContributions = trainingPipeline.Fit(testingData);\n",
    "var parameters = Helpers.GetModelParameters(modelForContributions, categories);\n",
    "display(parameters.Item1);\n",
    "display(parameters.Item2);"
   ]
  },
  {
   "cell_type": "markdown",
   "metadata": {},
   "source": [
    "#### Permuation Feature Importance (PFI)"
   ]
  },
  {
   "cell_type": "code",
   "execution_count": null,
   "metadata": {},
   "outputs": [],
   "source": [
    "var transformedData = modelForContributions.Transform(testingData); // never do the PFI on training data!\n",
    "var linearPredictor = modelForContributions.LastTransformer;\n",
    "var pfi = mlContext.MulticlassClassification.PermutationFeatureImportance(linearPredictor, transformedData, permutationCount: 3);\n",
    "var sortedMetrics = pfi.Select((metrics, index) => new { index, metrics.MacroAccuracy })\n",
    "    .OrderBy(feature => Math.Abs(feature.MacroAccuracy.Mean)).Select(feature => feature.MacroAccuracy.Mean);"
   ]
  },
  {
   "cell_type": "code",
   "execution_count": null,
   "metadata": {},
   "outputs": [],
   "source": [
    "var pfiDiagram = Chart.Plot(new Graph.Bar\n",
    "    {\n",
    "        x = sortedMetrics,\n",
    "        y = featureColumns.Reverse(), \n",
    "        orientation = \"h\"\n",
    "    });\n",
    "var layout = new Layout.Layout()\n",
    "{\n",
    "    title = \"Permuation Feature Importance (PFI)\"\n",
    "};\n",
    "pfiDiagram.WithLayout(layout);\n",
    "display(pfiDiagram);"
   ]
  },
  {
   "cell_type": "markdown",
   "metadata": {},
   "source": [
    "# 4. TRAIN THE MODEL"
   ]
  },
  {
   "cell_type": "code",
   "execution_count": null,
   "metadata": {},
   "outputs": [],
   "source": [
    "var model = postprocessingPipeline.Fit(trainingData);"
   ]
  },
  {
   "cell_type": "markdown",
   "metadata": {},
   "source": [
    "# 5. EVALUATE THE MODEL"
   ]
  },
  {
   "cell_type": "code",
   "execution_count": null,
   "metadata": {},
   "outputs": [],
   "source": [
    "var predictions = model.Transform(testingData);\n",
    "var metrics = mlContext.MulticlassClassification.Evaluate(predictions, \"Label\", \"Score\", \"PredictedLabel\");"
   ]
  },
  {
   "cell_type": "code",
   "execution_count": null,
   "metadata": {},
   "outputs": [],
   "source": [
    "display(metrics)"
   ]
  },
  {
   "cell_type": "code",
   "execution_count": null,
   "metadata": {},
   "outputs": [],
   "source": [
    "display(metrics.ConfusionMatrix);"
   ]
  },
  {
   "cell_type": "markdown",
   "metadata": {},
   "source": [
    "#### Save the trained model"
   ]
  },
  {
   "cell_type": "code",
   "execution_count": null,
   "metadata": {},
   "outputs": [],
   "source": [
    "mlContext.Model.Save(model, trainingData.Schema, \"model.zip\");"
   ]
  }
 ],
 "metadata": {
  "kernelspec": {
   "display_name": ".NET (C#)",
   "language": "C#",
   "name": ".net-csharp"
  },
  "language_info": {
   "file_extension": ".cs",
   "mimetype": "text/x-csharp",
   "name": "C#",
   "pygments_lexer": "csharp",
   "version": "8.0"
  }
 },
 "nbformat": 4,
 "nbformat_minor": 4
}
