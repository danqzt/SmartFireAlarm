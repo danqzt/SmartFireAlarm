{
 "cells": [
  {
   "cell_type": "markdown",
   "metadata": {},
   "source": [
    "# DATAFRAME\r\n",
    "### (DataFrame)"
   ]
  },
  {
   "cell_type": "markdown",
   "metadata": {},
   "source": [
    "# 1. DataFrame"
   ]
  },
  {
   "cell_type": "markdown",
   "metadata": {},
   "source": [
    "### Load DataFrame formatter (probably will be included in the next release of Microsoft.Data.Analysis)"
   ]
  },
  {
   "cell_type": "code",
   "execution_count": 1,
   "metadata": {},
   "source": [
    "#r \"nuget:Microsoft.Data.Analysis\"\r\n",
    "using Microsoft.AspNetCore.Html;\r\n",
    "using Microsoft.Data.Analysis;"
   ],
   "outputs": [
    {
     "output_type": "execute_result",
     "data": {
      "text/plain": "Installed package Microsoft.Data.Analysis version 0.4.0"
     },
     "execution_count": 1,
     "metadata": {}
    }
   ]
  },
  {
   "cell_type": "code",
   "execution_count": 1,
   "metadata": {},
   "source": [
    "#load \"C:\\Users\\dcost\\source\\repos\\SmartFireAlarm\\SmartFireAlarm\\Jupyter\\Formatters.csx\"\r\n",
    "Formatters.Categories = new string[] { \"FlashLight\", \"Infrared\", \"DayLight\", \"Lighter\" };\r\n",
    "Formatters.Register<DataFrame>();"
   ],
   "outputs": [
    {
     "output_type": "error",
     "ename": "Error",
     "evalue": "C:\\Users\\dcost\\source\\repos\\SmartFireAlarm\\SmartFireAlarm\\Jupyter\\Formatters.csx(23,52): error CS0246: The type or namespace name 'ConfusionMatrix' could not be found (are you missing a using directive or an assembly reference?)\r\nC:\\Users\\dcost\\source\\repos\\SmartFireAlarm\\SmartFireAlarm\\Jupyter\\Formatters.csx(27,54): error CS0246: The type or namespace name 'MulticlassClassificationMetrics' could not be found (are you missing a using directive or an assembly reference?)\r\nC:\\Users\\dcost\\source\\repos\\SmartFireAlarm\\SmartFireAlarm\\Jupyter\\Formatters.csx(31,61): error CS0246: The type or namespace name 'TrainCatalogBase' could not be found (are you missing a using directive or an assembly reference?)\r\nC:\\Users\\dcost\\source\\repos\\SmartFireAlarm\\SmartFireAlarm\\Jupyter\\Formatters.csx(31,100): error CS0246: The type or namespace name 'MulticlassClassificationMetrics' could not be found (are you missing a using directive or an assembly reference?)\r\nC:\\Users\\dcost\\source\\repos\\SmartFireAlarm\\SmartFireAlarm\\Jupyter\\Formatters.csx(77,33): error CS0246: The type or namespace name 'TrainCatalogBase' could not be found (are you missing a using directive or an assembly reference?)\r\nC:\\Users\\dcost\\source\\repos\\SmartFireAlarm\\SmartFireAlarm\\Jupyter\\Formatters.csx(77,72): error CS0246: The type or namespace name 'MulticlassClassificationMetrics' could not be found (are you missing a using directive or an assembly reference?)\r\nC:\\Users\\dcost\\source\\repos\\SmartFireAlarm\\SmartFireAlarm\\Jupyter\\Formatters.csx(143,28): error CS0246: The type or namespace name 'MulticlassClassificationMetrics' could not be found (are you missing a using directive or an assembly reference?)\r\nC:\\Users\\dcost\\source\\repos\\SmartFireAlarm\\SmartFireAlarm\\Jupyter\\Formatters.csx(223,28): error CS0246: The type or namespace name 'ConfusionMatrix' could not be found (are you missing a using directive or an assembly reference?)",
     "traceback": []
    }
   ]
  },
  {
   "cell_type": "code",
   "execution_count": 1,
   "metadata": {},
   "source": [
    "\r\n",
    "using Microsoft.Data.Analysis;\r\n",
    "using Microsoft.AspNetCore.Html;\r\n",
    "using ApexCode.Interactive.Formatting;\r\n",
    ""
   ],
   "outputs": []
  },
  {
   "cell_type": "code",
   "execution_count": 1,
   "metadata": {},
   "source": [
    "\r\n",
    "Formatters.Register<DataFrame>();"
   ],
   "outputs": [
    {
     "output_type": "execute_result",
     "data": {
      "text/plain": "DataFrame formatter loaded.\r\n"
     },
     "execution_count": 1,
     "metadata": {}
    }
   ]
  },
  {
   "cell_type": "code",
   "execution_count": 1,
   "metadata": {},
   "source": [
    "using System.Globalization;\r\n",
    "using System.IO;\r\n",
    "\r\n",
    "private const int DefaultStreamReaderBufferSize = 1024;\r\n",
    "\r\n",
    "public static void WriteCsv(DataFrame dataFrame, Stream csvStream,\r\n",
    "                           char separator = ',', bool header = true,\r\n",
    "                           Encoding encoding = null, CultureInfo cultureInfo = null)\r\n",
    "        {\r\n",
    "            if (cultureInfo is null)\r\n",
    "            {\r\n",
    "                cultureInfo = CultureInfo.CurrentCulture;\r\n",
    "            }\r\n",
    "\r\n",
    "            if (cultureInfo.NumberFormat.NumberDecimalSeparator.Equals(separator.ToString()))\r\n",
    "            {\r\n",
    "                throw new ArgumentException(\"Decimal separator cannot match the column separator\");\r\n",
    "            }\r\n",
    "\r\n",
    "            if (encoding is null)\r\n",
    "            {\r\n",
    "                encoding = Encoding.ASCII;\r\n",
    "            }\r\n",
    "\r\n",
    "            using (StreamWriter csvFile = new StreamWriter(csvStream, encoding, bufferSize: DefaultStreamReaderBufferSize, leaveOpen: true))\r\n",
    "            {\r\n",
    "                if (dataFrame != null)\r\n",
    "                {\r\n",
    "                    var columnNames = new List<string>();\r\n",
    "                    \r\n",
    "                    foreach (var col in dataFrame.Columns)\r\n",
    "                    {\r\n",
    "                        columnNames.Add(col.Name);\r\n",
    "                    }\r\n",
    "\r\n",
    "                    if (header)\r\n",
    "                    {\r\n",
    "                        var headerColumns = string.Join(separator.ToString(), columnNames);\r\n",
    "                        csvFile.WriteLine(headerColumns);\r\n",
    "                    }\r\n",
    "\r\n",
    "                    var record = new StringBuilder();\r\n",
    "\r\n",
    "                    foreach (var row in dataFrame.Rows)\r\n",
    "                    {\r\n",
    "                        bool firstRow = true;\r\n",
    "                        foreach (var cell in row)\r\n",
    "                        {\r\n",
    "                            if (!firstRow)\r\n",
    "                            {\r\n",
    "                                record.Append(separator);\r\n",
    "                            }\r\n",
    "                            else\r\n",
    "                            {\r\n",
    "                                firstRow = false;\r\n",
    "                            }\r\n",
    "\r\n",
    "                            Type t = cell?.GetType();\r\n",
    "\r\n",
    "                            if (t == typeof(bool))\r\n",
    "                            {\r\n",
    "                                record.AppendFormat(cultureInfo, \"{0}\", cell);\r\n",
    "                                continue;\r\n",
    "                            }\r\n",
    "\r\n",
    "                            if (t == typeof(float))\r\n",
    "                            {\r\n",
    "                                record.AppendFormat(cultureInfo, \"{0:G9}\", cell);\r\n",
    "                                continue;\r\n",
    "                            }\r\n",
    "\r\n",
    "                            if (t == typeof(double))\r\n",
    "                            {\r\n",
    "                                record.AppendFormat(cultureInfo, \"{0:G17}\", cell);\r\n",
    "                                continue;\r\n",
    "                            }\r\n",
    "\r\n",
    "                            if (t == typeof(decimal))\r\n",
    "                            {\r\n",
    "                                record.AppendFormat(cultureInfo, \"{0:G31}\", cell);\r\n",
    "                                continue;\r\n",
    "                            }\r\n",
    "\r\n",
    "                            record.Append(cell);\r\n",
    "                        }\r\n",
    "\r\n",
    "                        csvFile.WriteLine(record);\r\n",
    "\r\n",
    "                        record.Clear();\r\n",
    "                    }\r\n",
    "                }\r\n",
    "            }\r\n",
    "        }"
   ],
   "outputs": []
  },
  {
   "cell_type": "code",
   "execution_count": 1,
   "metadata": {},
   "source": [
    "public static void WriteCsv(DataFrame dataFrame, string path,\r\n",
    "                                   char separator = ',', bool header = true,\r\n",
    "                                   Encoding encoding = null, CultureInfo cultureInfo = null)\r\n",
    "        {\r\n",
    "            using (System.IO.FileStream csvStream = new FileStream(path, FileMode.Create))\r\n",
    "            {\r\n",
    "                WriteCsv(dataFrame: dataFrame, csvStream: csvStream,\r\n",
    "                           separator: separator, header: header,\r\n",
    "                           encoding: encoding, cultureInfo: cultureInfo);\r\n",
    "            }\r\n",
    "        }"
   ],
   "outputs": []
  },
  {
   "cell_type": "markdown",
   "metadata": {},
   "source": [
    "### Load data into data frame"
   ]
  },
  {
   "cell_type": "code",
   "execution_count": 1,
   "metadata": {},
   "source": [
    "const string SENSORS_DATASET_PATH = \"./sensors.csv\";\r\n",
    "const string LABELS_DATASET_PATH = \"./labels.csv\";\r\n",
    "var df1 = DataFrame.LoadCsv(SENSORS_DATASET_PATH);\r\n",
    "var df2 = DataFrame.LoadCsv(LABELS_DATASET_PATH);"
   ],
   "outputs": []
  },
  {
   "cell_type": "markdown",
   "metadata": {},
   "source": [
    "### prepare sensors new df\r\n",
    ""
   ]
  },
  {
   "cell_type": "code",
   "execution_count": 1,
   "metadata": {},
   "source": [
    "var sensorsCreatedAt = df1.Columns[\"CreatedAt\"] as IEnumerable<string>;\r\n",
    "var sensorsTicksList = sensorsCreatedAt.ToList().Select(d => DateTime.Parse(d.ToString()).Ticks / 10000000);"
   ],
   "outputs": []
  },
  {
   "cell_type": "code",
   "execution_count": 1,
   "metadata": {},
   "source": [
    "var sensorsTicks = new PrimitiveDataFrameColumn<long>(\"Id\", sensorsTicksList);\r\n",
    "var df11 = new DataFrame(df1.Columns[\"Temperature\"], df1.Columns[\"Luminosity\"], df1.Columns[\"Infrared\"], df1.Columns[\"Distance\"], df1.Columns[\"CreatedAt\"], sensorsTicks);"
   ],
   "outputs": []
  },
  {
   "cell_type": "markdown",
   "metadata": {},
   "source": [
    "### prepare labels new df"
   ]
  },
  {
   "cell_type": "code",
   "execution_count": 1,
   "metadata": {},
   "source": [
    "var labelsCreatedAt = df2.Columns[\"CreatedAt\"] as IEnumerable<string>;\r\n",
    "var labelsTicksList = labelsCreatedAt.ToList().Select(d => DateTime.Parse(d.ToString()).Ticks / 10000000);"
   ],
   "outputs": []
  },
  {
   "cell_type": "code",
   "execution_count": 1,
   "metadata": {},
   "source": [
    "using System.Linq;\r\n",
    "\r\n",
    "var labelsTicks = new PrimitiveDataFrameColumn<long>(\"Id\", labelsTicksList);\r\n",
    "var df22 = new DataFrame(labelsTicks, df2.Columns[\"CreatedAt\"], df2.Columns[\"Label\"], df2.Columns[\"Score\"]);"
   ],
   "outputs": []
  },
  {
   "cell_type": "markdown",
   "metadata": {},
   "source": [
    "### merging df1 and df2 into df"
   ]
  },
  {
   "cell_type": "code",
   "execution_count": 1,
   "metadata": {},
   "source": [
    "var df = df11.Merge<long>(df22, \"Id\", \"Id\", \"_sensor\", \"_label\", JoinAlgorithm.FullOuter);"
   ],
   "outputs": []
  },
  {
   "cell_type": "code",
   "execution_count": 1,
   "metadata": {},
   "source": [
    "var cleaned = df.DropNulls();\r\n",
    "WriteCsv(cleaned, \"merged.csv\");"
   ],
   "outputs": []
  },
  {
   "cell_type": "code",
   "execution_count": 1,
   "metadata": {},
   "source": [
    "using XPlot.Plotly;\r\n",
    "\r\n",
    "display(Chart.Plot(\r\n",
    "    new Graph.Histogram()\r\n",
    "    {\r\n",
    "        x = df22.Columns[\"Label\"]\r\n",
    "        \r\n",
    "    }\r\n",
    "));"
   ],
   "outputs": [
    {
     "output_type": "execute_result",
     "data": {
      "text/html": "<div id=\"49ddfc10-3421-405a-9c8d-356fbac2bed0\" style=\"width: 900px; height: 500px;\"></div>\r\n<script type=\"text/javascript\">\r\n\r\nvar renderPlotly = function() {\r\n    var xplotRequire = require.config({context:'xplot-3.0.1',paths:{plotly:'https://cdn.plot.ly/plotly-1.49.2.min'}}) || require;\r\n    xplotRequire(['plotly'], function(Plotly) {\r\n\n            var data = [{\"type\":\"histogram\",\"x\":[\"FlashLight\",\"FlashLight\",\"FlashLight\",\"FlashLight\",\"FlashLight\",\"Day\",\"Day\",\"Day\",\"Lighter\",\"Lighter\",\"Lighter\",\"Lighter\",\"Lighter\",\"Lighter\",\"Lighter\",\"Infrared\",\"Infrared\",\"Infrared\",\"Infrared\",\"Infrared\",\"Infrared\",\"Infrared\",\"Infrared\",\"Infrared\",\"Infrared\",\"FlashLight\",\"FlashLight\",\"FlashLight\",\"FlashLight\",\"FlashLight\",\"FlashLight\",\"FlashLight\",\"FlashLight\"]}];\n            var layout = \"\";\n            Plotly.newPlot('49ddfc10-3421-405a-9c8d-356fbac2bed0', data, layout);\n        \r\n});\r\n};\r\nif ((typeof(require) !==  typeof(Function)) || (typeof(require.config) !== typeof(Function))) {\r\n    var script = document.createElement(\"script\"); \r\n    script.setAttribute(\"src\", \"https://cdnjs.cloudflare.com/ajax/libs/require.js/2.3.6/require.min.js\");\r\n    script.onload = function(){\r\n        renderPlotly();\r\n    };\r\n    document.getElementsByTagName(\"head\")[0].appendChild(script); \r\n}\r\nelse {\r\n    renderPlotly();\r\n}\r\n</script>\r\n"
     },
     "execution_count": 1,
     "metadata": {}
    }
   ]
  },
  {
   "cell_type": "code",
   "execution_count": 1,
   "metadata": {},
   "source": [
    ""
   ],
   "outputs": []
  }
 ],
 "metadata": {
  "kernelspec": {
   "display_name": ".NET (C#)",
   "language": "C#",
   "name": ".net-csharp"
  },
  "language_info": {
   "file_extension": ".cs",
   "mimetype": "text/x-csharp",
   "name": "C#",
   "pygments_lexer": "csharp",
   "version": "8.0"
  }
 },
 "nbformat": 4,
 "nbformat_minor": 4
}