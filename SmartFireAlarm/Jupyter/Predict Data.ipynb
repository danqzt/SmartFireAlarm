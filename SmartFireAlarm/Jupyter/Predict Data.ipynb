{
 "cells": [
  {
   "cell_type": "markdown",
   "metadata": {},
   "source": [
    "# PREDICT DATA"
   ]
  },
  {
   "cell_type": "code",
   "execution_count": 1,
   "metadata": {},
   "source": [
    "#r \"nuget:Microsoft.ML,1.5.2\"\r\n",
    "#r \"nuget:Microsoft.ML.LightGBM,1.5.2\"\r\n",
    "using Microsoft.ML;\r\n",
    "using Microsoft.ML.Data;\r\n",
    "using Microsoft.ML.Trainers.LightGbm;\r\n",
    "\r\n",
    "MLContext mlContext = new MLContext(seed: 1);"
   ],
   "outputs": []
  },
  {
   "cell_type": "code",
   "execution_count": 1,
   "metadata": {},
   "source": [
    "#load \"C:\\Users\\dcost\\source\\repos\\SmartFireAlarm\\SmartFireAlarm\\Jupyter\\Models.csx\" \r\n",
    "\r\n",
    "const string DATASET_PATH = \"./sensors_data.csv\";\r\n",
    "IDataView data = mlContext.Data.LoadFromTextFile<ModelInput>(\r\n",
    "    path: DATASET_PATH,\r\n",
    "    hasHeader: true,\r\n",
    "    separatorChar: ',');\r\n",
    "\r\n",
    "var shuffledData = mlContext.Data.ShuffleRows(data, seed: 1);\r\n",
    "var split = mlContext.Data.TrainTestSplit(shuffledData, testFraction: 0.3);\r\n",
    "var trainingData = split.TrainSet;\r\n",
    "var testingData = split.TestSet; "
   ],
   "outputs": []
  },
  {
   "cell_type": "code",
   "execution_count": 1,
   "metadata": {},
   "source": [
    "var featureColumns = new[] { \"Temperature\", \"Luminosity\", \"Infrared\", \"Distance\"};\r\n",
    "\r\n",
    "var trainingPipeline = mlContext.Transforms.Conversion.MapValueToKey(\"Label\")\r\n",
    "    .Append(mlContext.Transforms.Concatenate(\"Features\", featureColumns))\r\n",
    "    //.Append(mlContext.Transforms.NormalizeMinMax(\"Features\")) // https://docs.microsoft.com/en-us/dotnet/api/microsoft.ml.trainers.lightgbm.lightgbmmulticlasstrainer?view=ml-dotnet\r\n",
    "    .Append(mlContext.MulticlassClassification.Trainers.LightGbm(\"Label\", \"Features\"))\r\n",
    "    .Append(mlContext.Transforms.Conversion.MapKeyToValue(\"PredictedLabel\"));\r\n",
    "\r\n",
    "var model = trainingPipeline.Fit(trainingData);"
   ],
   "outputs": []
  },
  {
   "cell_type": "markdown",
   "metadata": {},
   "source": [
    "### Evaluate the model "
   ]
  },
  {
   "cell_type": "code",
   "execution_count": 1,
   "metadata": {},
   "source": [
    "#load \"C:\\Users\\dcost\\source\\repos\\SmartFireAlarm\\SmartFireAlarm\\Jupyter\\Formatters.csx\"\r\n",
    "#r \"nuget:Microsoft.Data.Analysis\"\r\n",
    "using Microsoft.Data.Analysis;\r\n",
    "\r\n",
    "Formatters.Categories = new string[] { \"FlashLight\", \"Infrared\", \"DayLight\", \"Lighter\" };\r\n",
    "Formatters.Register<ConfusionMatrix>();\r\n",
    "Formatters.Register<MulticlassClassificationMetrics>();\r\n",
    "\r\n",
    "var predictions = model.Transform(testingData);\r\n",
    "var metrics = mlContext.MulticlassClassification.Evaluate(predictions, \"Label\", \"Score\", \"PredictedLabel\");\r\n",
    "\r\n",
    "display(metrics);\r\n",
    "\r\n",
    "display(metrics.ConfusionMatrix);\r\n",
    "\r\n",
    "display(p[@style:\"font-size: 40px\"]($\"MicroAccuracy: {metrics.MicroAccuracy:P2}, MacroAccuracy: {metrics.MacroAccuracy:P2}\"));"
   ],
   "outputs": [
    {
     "output_type": "execute_result",
     "data": {
      "text/html": "<table><thead><th><b>EVALUATION: multi-class classification</b></th><th><b>Class</b></th><th><b>Value</b></th><th><b>Note</b></th></thead><tbody><tr><td><b>MacroAccuracy</b></td><td></td><td>0.918</td><td>the closer to 1, the better</td></tr><tr><td><b>MicroAccuracy</b></td><td></td><td>0.923</td><td>the closer to 1, the better</td></tr><tr><td><b>LogLoss</b></td><td></td><td>0.323</td><td>the closer to 0, the better</td></tr><tr><td rowspan=\"5\"><b>LogLoss per Class</b></td></tr><tr><td>FlashLight</td><td>0.353</td><td>the closer to 0, the better</td></tr><tr><td>Infrared</td><td>0.620</td><td>the closer to 0, the better</td></tr><tr><td>DayLight</td><td>0.194</td><td>the closer to 0, the better</td></tr><tr><td>Lighter</td><td>0.213</td><td>the closer to 0, the better</td></tr></tbody></table>"
     },
     "execution_count": 1,
     "metadata": {}
    },
    {
     "output_type": "execute_result",
     "data": {
      "text/html": "<table style=\"margin: 50px; \"><tbody><tr style=\"background-color: transparent\"><td colspan=\"2\" rowspan=\"2\" style=\"padding: 8px; background-color: lightsteelblue; text-align: center; \">Confusion Matrix</td><td colspan=\"4\" style=\"padding: 8px; background-color: lightsteelblue; text-align: center; \">Predicted</td><td style=\"padding: 8px; background-color: lightsteelblue; \"></td></tr><tr style=\"background-color: transparent\"><td style=\"padding: 8px; font-weight: bold; background-color: #E3EAF3; \">FlashLight</td><td style=\"padding: 8px; font-weight: bold; background-color: #E3EAF3; \">Infrared</td><td style=\"padding: 8px; font-weight: bold; background-color: #E3EAF3; \">DayLight</td><td style=\"padding: 8px; font-weight: bold; background-color: #E3EAF3; \">Lighter</td><td style=\"padding: 8px; background-color: lightsteelblue; \">Recall</td></tr><tr style=\"background-color: transparent\"><td rowspan=\"4\" style=\"padding: 8px; background-color: lightsteelblue; \">Truth</td><td style=\"padding: 8px; font-weight: bold; background-color: #E3EAF3; \">FlashLight</td><td style=\"padding: 8px; \"><div class=\"dni-plaintext\">70</div></td><td style=\"padding: 8px; \"><div class=\"dni-plaintext\">1</div></td><td style=\"padding: 8px; \"><div class=\"dni-plaintext\">2</div></td><td style=\"padding: 8px; \"><div class=\"dni-plaintext\">2</div></td><td style=\"padding: 8px; background-color: #E3EAF3; \"><div class=\"dni-plaintext\">0.9333</div></td></tr><tr style=\"background-color: transparent\"><td style=\"padding: 8px; font-weight: bold; background-color: #E3EAF3; \">Infrared</td><td style=\"padding: 8px; \"><div class=\"dni-plaintext\">0</div></td><td style=\"padding: 8px; \"><div class=\"dni-plaintext\">52</div></td><td style=\"padding: 8px; \"><div class=\"dni-plaintext\">6</div></td><td style=\"padding: 8px; \"><div class=\"dni-plaintext\">2</div></td><td style=\"padding: 8px; background-color: #E3EAF3; \"><div class=\"dni-plaintext\">0.8667</div></td></tr><tr style=\"background-color: transparent\"><td style=\"padding: 8px; font-weight: bold; background-color: #E3EAF3; \">DayLight</td><td style=\"padding: 8px; \"><div class=\"dni-plaintext\">0</div></td><td style=\"padding: 8px; \"><div class=\"dni-plaintext\">1</div></td><td style=\"padding: 8px; \"><div class=\"dni-plaintext\">103</div></td><td style=\"padding: 8px; \"><div class=\"dni-plaintext\">5</div></td><td style=\"padding: 8px; background-color: #E3EAF3; \"><div class=\"dni-plaintext\">0.945</div></td></tr><tr style=\"background-color: transparent\"><td style=\"padding: 8px; font-weight: bold; background-color: #E3EAF3; \">Lighter</td><td style=\"padding: 8px; \"><div class=\"dni-plaintext\">1</div></td><td style=\"padding: 8px; \"><div class=\"dni-plaintext\">0</div></td><td style=\"padding: 8px; \"><div class=\"dni-plaintext\">3</div></td><td style=\"padding: 8px; \"><div class=\"dni-plaintext\">51</div></td><td style=\"padding: 8px; background-color: #E3EAF3; \"><div class=\"dni-plaintext\">0.9273</div></td></tr><tr style=\"background-color: transparent\"><td colspan=\"2\" style=\"padding: 8px; background-color: lightsteelblue; \">Precision</td><td style=\"padding: 8px; background-color: #E3EAF3; \"><div class=\"dni-plaintext\">0.9859</div></td><td style=\"padding: 8px; background-color: #E3EAF3; \"><div class=\"dni-plaintext\">0.963</div></td><td style=\"padding: 8px; background-color: #E3EAF3; \"><div class=\"dni-plaintext\">0.9035</div></td><td style=\"padding: 8px; background-color: #E3EAF3; \"><div class=\"dni-plaintext\">0.85</div></td><td style=\"padding: 8px; background-color: #E3EAF3; \">total = 299</td></tr></tbody></table>"
     },
     "execution_count": 1,
     "metadata": {}
    },
    {
     "output_type": "execute_result",
     "data": {
      "text/html": "<p style=\"font-size: 40px\">MicroAccuracy: 92.31%, MacroAccuracy: 91.81%</p>"
     },
     "execution_count": 1,
     "metadata": {}
    }
   ]
  },
  {
   "cell_type": "markdown",
   "metadata": {},
   "source": [
    "## Predict data"
   ]
  },
  {
   "cell_type": "code",
   "execution_count": 1,
   "metadata": {},
   "source": [
    "#r \"nuget:MathNet.Numerics\"\r\n",
    "#load \"C:\\Users\\dcost\\source\\repos\\SmartFireAlarm\\SmartFireAlarm\\Jupyter\\Helpers.csx\"\r\n",
    "\r\n",
    "var sampleData = new ModelInput\r\n",
    "{\r\n",
    "    Temperature = 32F,\r\n",
    "    Luminosity = 22F,\r\n",
    "    Infrared = 0F,\r\n",
    "    Distance = 20F,\r\n",
    "    PIR = 1F,\r\n",
    "    Humidity = 13F,\r\n",
    "    CreatedAt = \"01/03/2020 10:22:08\"\r\n",
    "};\r\n",
    "\r\n",
    "var predictor = mlContext.Model.CreatePredictionEngine<ModelInput, ModelOutput>(model);\r\n",
    "var predicted = predictor.Predict(sampleData);\r\n",
    "\r\n",
    "display(p[@style:\"font-size: 40px\"]($\"{predicted.PredictedLabel}\"));\r\n",
    "\r\n",
    "display(Helpers.GetPredictionPerClass(predicted, predictor.OutputSchema));"
   ],
   "outputs": [
    {
     "output_type": "execute_result",
     "data": {
      "text/html": "<p style=\"font-size: 40px\">FlashLight</p>"
     },
     "execution_count": 1,
     "metadata": {}
    },
    {
     "output_type": "execute_result",
     "data": {
      "text/html": "<table><thead><th><b>Prediction per class</b></th><th><b>Class</b></th></thead><tbody><tr><td>0.9320</td><td>FlashLight</td></tr><tr><td>0.0625</td><td>DayLight</td></tr><tr><td>0.0051</td><td>Infrared</td></tr><tr><td>0.0003</td><td>Lighter</td></tr></tbody></table>"
     },
     "execution_count": 1,
     "metadata": {}
    }
   ]
  },
  {
   "cell_type": "code",
   "execution_count": 1,
   "metadata": {},
   "source": [
    ""
   ],
   "outputs": []
  }
 ],
 "metadata": {
  "kernelspec": {
   "display_name": ".NET (C#)",
   "language": "C#",
   "name": ".net-csharp"
  },
  "language_info": {
   "file_extension": ".cs",
   "mimetype": "text/x-csharp",
   "name": "C#",
   "pygments_lexer": "csharp",
   "version": "8.0"
  }
 },
 "nbformat": 4,
 "nbformat_minor": 4
}