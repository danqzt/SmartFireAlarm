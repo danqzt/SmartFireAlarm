{
 "cells": [
  {
   "cell_type": "markdown",
   "metadata": {},
   "source": [
    "# PREDICT DATA"
   ]
  },
  {
   "cell_type": "code",
   "execution_count": 1,
   "metadata": {},
   "source": [
    "#r \"nuget:Microsoft.ML,1.5.2\"\r\n",
    "using Microsoft.ML;\r\n",
    "using Microsoft.ML.Data;"
   ],
   "outputs": [
    {
     "output_type": "execute_result",
     "data": {
      "text/plain": "Installed package Microsoft.ML version 1.5.2"
     },
     "execution_count": 1,
     "metadata": {}
    }
   ]
  },
  {
   "cell_type": "markdown",
   "metadata": {},
   "source": [
    "### Load data models from Models.cs file "
   ]
  },
  {
   "cell_type": "code",
   "execution_count": 1,
   "metadata": {},
   "source": [
    "#load \"C:\\Users\\dcost\\source\\repos\\SmartFireAlarm\\SmartFireAlarm\\Jupyter\\Models.csx\" "
   ],
   "outputs": []
  },
  {
   "cell_type": "markdown",
   "metadata": {},
   "source": [
    "### Initialize the ML context (we need it for building the data and training pipelines)  "
   ]
  },
  {
   "cell_type": "code",
   "execution_count": 1,
   "metadata": {},
   "source": [
    "MLContext mlContext = new MLContext(seed: 123);"
   ],
   "outputs": []
  },
  {
   "cell_type": "code",
   "execution_count": 1,
   "metadata": {},
   "source": [
    "const string DATASET_PATH = \"./sensors_data.csv\";\r\n",
    "IDataView data = mlContext.Data.LoadFromTextFile<ModelInput>(\r\n",
    "    path: DATASET_PATH,\r\n",
    "    hasHeader: true,\r\n",
    "    separatorChar: ',');"
   ],
   "outputs": []
  },
  {
   "cell_type": "code",
   "execution_count": 1,
   "metadata": {},
   "source": [
    "var shuffledData = mlContext.Data.ShuffleRows(data, seed: 1);\r\n",
    "var split = mlContext.Data.TrainTestSplit(shuffledData, testFraction: 0.2);\r\n",
    "var trainingData = split.TrainSet;\r\n",
    "var testingData = split.TestSet;"
   ],
   "outputs": []
  },
  {
   "cell_type": "code",
   "execution_count": 1,
   "metadata": {},
   "source": [
    "var featureColumns = new[] { \"Temperature\", \"Luminosity\", \"Infrared\", \"Distance\", \"Hour\", \"Day\" };\r\n",
    "\r\n",
    "var trainingPipeline = mlContext.Transforms.Conversion.MapValueToKey(\"Label\")\r\n",
    "    .Append(mlContext.Transforms.CustomMapping<CustomInputRow, CustomOutputRow>\r\n",
    "        (CustomMappings.IncomeMapping, nameof(CustomMappings.IncomeMapping)))\r\n",
    "    .Append(mlContext.Transforms.Concatenate(\"Features\", featureColumns))\r\n",
    "    .Append(mlContext.Transforms.NormalizeMinMax(\"Features\"))\r\n",
    "    .Append(mlContext.MulticlassClassification.Trainers.SdcaNonCalibrated(\"Label\", \"Features\"))\r\n",
    "    .Append(mlContext.Transforms.Conversion.MapKeyToValue(\"PredictedLabel\"));"
   ],
   "outputs": []
  },
  {
   "cell_type": "markdown",
   "metadata": {},
   "source": [
    "### Train the model "
   ]
  },
  {
   "cell_type": "code",
   "execution_count": 1,
   "metadata": {},
   "source": [
    "var model = trainingPipeline.Fit(trainingData);"
   ],
   "outputs": []
  },
  {
   "cell_type": "markdown",
   "metadata": {},
   "source": [
    "### Evaluate the model "
   ]
  },
  {
   "cell_type": "code",
   "execution_count": 1,
   "metadata": {},
   "source": [
    "var predictions = model.Transform(testingData);\r\n",
    "var metrics = mlContext.MulticlassClassification.Evaluate(predictions, \"Label\", \"Score\", \"PredictedLabel\");\r\n",
    "display(p[@style:\"font-size: 40px\"]($\"MicroAccuracy: {metrics.MicroAccuracy:P2}, MacroAccuracy: {metrics.MacroAccuracy:P2}\"));"
   ],
   "outputs": [
    {
     "output_type": "execute_result",
     "data": {
      "text/html": "<p style=\"font-size: 40px\">MicroAccuracy: 98.20%, MacroAccuracy: 97.41%</p>"
     },
     "execution_count": 1,
     "metadata": {}
    }
   ]
  },
  {
   "cell_type": "markdown",
   "metadata": {},
   "source": [
    "### Generate a sample input"
   ]
  },
  {
   "cell_type": "code",
   "execution_count": 1,
   "metadata": {},
   "source": [
    "var sampleData = new ModelInput\r\n",
    "{\r\n",
    "    Luminosity = 92F,\r\n",
    "    Temperature = 22F,\r\n",
    "    Infrared = 0F,\r\n",
    "    Distance = 0F,\r\n",
    "    CreatedAt = \"01/03/2020 10:22:08\"\r\n",
    "};"
   ],
   "outputs": []
  },
  {
   "cell_type": "markdown",
   "metadata": {},
   "source": [
    "## Predict data"
   ]
  },
  {
   "cell_type": "code",
   "execution_count": 1,
   "metadata": {},
   "source": [
    "#r \"nuget:MathNet.Numerics\"\r\n",
    "#load \"C:\\Users\\dcost\\source\\repos\\SmartFireAlarm\\SmartFireAlarm\\Jupyter\\Helpers.csx\""
   ],
   "outputs": [
    {
     "output_type": "execute_result",
     "data": {
      "text/plain": "Installed package MathNet.Numerics version 4.12.0"
     },
     "execution_count": 1,
     "metadata": {}
    }
   ]
  },
  {
   "cell_type": "code",
   "execution_count": 1,
   "metadata": {},
   "source": [
    "var predictor = mlContext.Model.CreatePredictionEngine<ModelInput, ModelOutput>(model);\r\n",
    "var predicted = predictor.Predict(sampleData);\r\n",
    "\r\n",
    "display(p[@style:\"font-size: 40px\"]($\"{predicted.PredictedLabel}\"));\r\n",
    "\r\n",
    "display(Helpers.GetPredictionPerClass(predicted, predictor.OutputSchema));"
   ],
   "outputs": [
    {
     "output_type": "execute_result",
     "data": {
      "text/html": "<p style=\"font-size: 40px\">FlashLight</p>"
     },
     "execution_count": 1,
     "metadata": {}
    },
    {
     "output_type": "execute_result",
     "data": {
      "text/html": "<table><thead><th><b>Prediction per class</b></th><th><b>Class</b></th></thead><tbody><tr><td>5.8467</td><td>FlashLight</td></tr><tr><td>-0.1722</td><td>Lighter</td></tr><tr><td>-1.2180</td><td>Infrared</td></tr><tr><td>-4.1925</td><td>Day</td></tr></tbody></table>"
     },
     "execution_count": 1,
     "metadata": {}
    }
   ]
  },
  {
   "cell_type": "code",
   "execution_count": 1,
   "metadata": {},
   "source": [
    ""
   ],
   "outputs": []
  }
 ],
 "metadata": {
  "kernelspec": {
   "display_name": ".NET (C#)",
   "language": "C#",
   "name": ".net-csharp"
  },
  "language_info": {
   "file_extension": ".cs",
   "mimetype": "text/x-csharp",
   "name": "C#",
   "pygments_lexer": "csharp",
   "version": "8.0"
  }
 },
 "nbformat": 4,
 "nbformat_minor": 4
}